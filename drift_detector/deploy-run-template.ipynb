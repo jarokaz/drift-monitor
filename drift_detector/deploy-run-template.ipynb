{
 "cells": [
  {
   "cell_type": "markdown",
   "metadata": {},
   "source": [
    "# Deploying and invoking Drift Detector Dataflow Flex template"
   ]
  },
  {
   "cell_type": "code",
   "execution_count": 1,
   "metadata": {},
   "outputs": [],
   "source": [
    "import json\n",
    "from datetime import datetime\n",
    "import time"
   ]
  },
  {
   "cell_type": "markdown",
   "metadata": {},
   "source": [
    "## Build the Flex template docker image"
   ]
  },
  {
   "cell_type": "code",
   "execution_count": 2,
   "metadata": {
    "tags": [
     "outputPrepend",
     "outputPrepend",
     "outputPrepend",
     "outputPrepend",
     "outputPrepend",
     "outputPrepend",
     "outputPrepend",
     "outputPrepend",
     "outputPrepend",
     "outputPrepend",
     "outputPrepend"
    ]
   },
   "outputs": [],
   "source": [
    "template_name = 'drift-detector'\n",
    "\n",
    "project_id = !(gcloud config get-value core/project)\n",
    "project_id = project_id[0]\n",
    "template_image = 'gcr.io/{}/{}:latest'.format(project_id, template_name)\n",
    "location = 'us-central1'"
   ]
  },
  {
   "cell_type": "code",
   "execution_count": 3,
   "metadata": {
    "tags": [
     "outputPrepend",
     "outputPrepend",
     "outputPrepend",
     "outputPrepend",
     "outputPrepend",
     "outputPrepend",
     "outputPrepend",
     "outputPrepend",
     "outputPrepend",
     "outputPrepend",
     "outputPrepend"
    ]
   },
   "outputs": [
    {
     "output_type": "stream",
     "name": "stdout",
     "text": "g fastavro-0.21.24-cp35-cp35m-manylinux1_x86_64.whl (1.2 MB)\nRequirement already satisfied, skipping upgrade: oauth2client<4,>=2.0.1 in /usr/local/lib/python3.5/site-packages (from apache-beam[gcp]<3,>=2.20->tensorflow_data_validation[visualization]==0.22.0) (3.0.0)\nRequirement already satisfied, skipping upgrade: crcmod<2.0,>=1.7 in /usr/local/lib/python3.5/site-packages (from apache-beam[gcp]<3,>=2.20->tensorflow_data_validation[visualization]==0.22.0) (1.7)\nRequirement already satisfied, skipping upgrade: typing-extensions<3.8.0,>=3.7.0 in /usr/local/lib/python3.5/site-packages (from apache-beam[gcp]<3,>=2.20->tensorflow_data_validation[visualization]==0.22.0) (3.7.4.1)\nRequirement already satisfied, skipping upgrade: google-cloud-spanner<1.14.0,>=1.13.0; extra == \"gcp\" in /usr/local/lib/python3.5/site-packages (from apache-beam[gcp]<3,>=2.20->tensorflow_data_validation[visualization]==0.22.0) (1.13.0)\nRequirement already satisfied, skipping upgrade: grpcio-gcp<1,>=0.2.2; extra == \"gcp\" in /usr/local/lib/python3.5/site-packages (from apache-beam[gcp]<3,>=2.20->tensorflow_data_validation[visualization]==0.22.0) (0.2.2)\nRequirement already satisfied, skipping upgrade: google-cloud-language<2,>=1.3.0; extra == \"gcp\" in /usr/local/lib/python3.5/site-packages (from apache-beam[gcp]<3,>=2.20->tensorflow_data_validation[visualization]==0.22.0) (1.3.0)\nRequirement already satisfied, skipping upgrade: google-cloud-core<2,>=0.28.1; extra == \"gcp\" in /usr/local/lib/python3.5/site-packages (from apache-beam[gcp]<3,>=2.20->tensorflow_data_validation[visualization]==0.22.0) (1.1.0)\nRequirement already satisfied, skipping upgrade: google-apitools<0.5.29,>=0.5.28; extra == \"gcp\" in /usr/local/lib/python3.5/site-packages (from apache-beam[gcp]<3,>=2.20->tensorflow_data_validation[visualization]==0.22.0) (0.5.28)\nRequirement already satisfied, skipping upgrade: google-cloud-bigtable<1.1.0,>=0.31.1; extra == \"gcp\" in /usr/local/lib/python3.5/site-packages (from apache-beam[gcp]<3,>=2.20->tensorflow_data_validation[visualization]==0.22.0) (1.0.0)\nRequirement already satisfied, skipping upgrade: google-cloud-vision<0.43.0,>=0.38.0; extra == \"gcp\" in /usr/local/lib/python3.5/site-packages (from apache-beam[gcp]<3,>=2.20->tensorflow_data_validation[visualization]==0.22.0) (0.42.0)\nRequirement already satisfied, skipping upgrade: google-cloud-pubsub<1.1.0,>=0.39.0; extra == \"gcp\" in /usr/local/lib/python3.5/site-packages (from apache-beam[gcp]<3,>=2.20->tensorflow_data_validation[visualization]==0.22.0) (1.0.2)\nRequirement already satisfied, skipping upgrade: google-cloud-videointelligence<1.14.0,>=1.8.0; extra == \"gcp\" in /usr/local/lib/python3.5/site-packages (from apache-beam[gcp]<3,>=2.20->tensorflow_data_validation[visualization]==0.22.0) (1.13.0)\nRequirement already satisfied, skipping upgrade: google-cloud-datastore<1.8.0,>=1.7.1; extra == \"gcp\" in /usr/local/lib/python3.5/site-packages (from apache-beam[gcp]<3,>=2.20->tensorflow_data_validation[visualization]==0.22.0) (1.7.4)\nRequirement already satisfied, skipping upgrade: cachetools<4,>=3.1.0; extra == \"gcp\" in /usr/local/lib/python3.5/site-packages (from apache-beam[gcp]<3,>=2.20->tensorflow_data_validation[visualization]==0.22.0) (3.1.1)\nRequirement already satisfied, skipping upgrade: google-cloud-bigquery<=1.24.0,>=1.6.0; extra == \"gcp\" in /usr/local/lib/python3.5/site-packages (from apache-beam[gcp]<3,>=2.20->tensorflow_data_validation[visualization]==0.22.0) (1.24.0)\nRequirement already satisfied, skipping upgrade: google-cloud-dlp<=0.13.0,>=0.12.0; extra == \"gcp\" in /usr/local/lib/python3.5/site-packages (from apache-beam[gcp]<3,>=2.20->tensorflow_data_validation[visualization]==0.22.0) (0.13.0)\nCollecting google-api-python-client<2,>=1.7.11\n  Downloading google_api_python_client-1.8.3-py3-none-any.whl (58 kB)\nCollecting tensorflow-serving-api<3,>=1.15\n  Downloading tensorflow_serving_api-2.1.0-py2.py3-none-any.whl (38 kB)\nRequirement already satisfied, skipping upgrade: scipy==1.4.1; python_version >= \"3\" in /usr/local/lib/python3.5/site-packages (from tensorflow!=2.0.*,<3,>=1.15->tensorflow_data_validation[visualization]==0.22.0) (1.4.1)\nRequirement already satisfied, skipping upgrade: keras-preprocessing>=1.1.0 in /usr/local/lib/python3.5/site-packages (from tensorflow!=2.0.*,<3,>=1.15->tensorflow_data_validation[visualization]==0.22.0) (1.1.1)\nRequirement already satisfied, skipping upgrade: astunparse==1.6.3 in /usr/local/lib/python3.5/site-packages (from tensorflow!=2.0.*,<3,>=1.15->tensorflow_data_validation[visualization]==0.22.0) (1.6.3)\nRequirement already satisfied, skipping upgrade: wrapt>=1.11.1 in /usr/local/lib/python3.5/site-packages (from tensorflow!=2.0.*,<3,>=1.15->tensorflow_data_validation[visualization]==0.22.0) (1.12.1)\nRequirement already satisfied, skipping upgrade: termcolor>=1.1.0 in /usr/local/lib/python3.5/site-packages (from tensorflow!=2.0.*,<3,>=1.15->tensorflow_data_validation[visualization]==0.22.0) (1.1.0)\nRequirement already satisfied, skipping upgrade: gast==0.3.3 in /usr/local/lib/python3.5/site-packages (from tensorflow!=2.0.*,<3,>=1.15->tensorflow_data_validation[visualization]==0.22.0) (0.3.3)\nRequirement already satisfied, skipping upgrade: wheel>=0.26; python_version >= \"3\" in /usr/local/lib/python3.5/site-packages (from tensorflow!=2.0.*,<3,>=1.15->tensorflow_data_validation[visualization]==0.22.0) (0.34.2)\nRequirement already satisfied, skipping upgrade: opt-einsum>=2.3.2 in /usr/local/lib/python3.5/site-packages (from tensorflow!=2.0.*,<3,>=1.15->tensorflow_data_validation[visualization]==0.22.0) (3.2.1)\nRequirement already satisfied, skipping upgrade: tensorboard<2.3.0,>=2.2.0 in /usr/local/lib/python3.5/site-packages (from tensorflow!=2.0.*,<3,>=1.15->tensorflow_data_validation[visualization]==0.22.0) (2.2.1)\nRequirement already satisfied, skipping upgrade: h5py<2.11.0,>=2.10.0 in /usr/local/lib/python3.5/site-packages (from tensorflow!=2.0.*,<3,>=1.15->tensorflow_data_validation[visualization]==0.22.0) (2.10.0)\nRequirement already satisfied, skipping upgrade: tensorflow-estimator<2.3.0,>=2.2.0 in /usr/local/lib/python3.5/site-packages (from tensorflow!=2.0.*,<3,>=1.15->tensorflow_data_validation[visualization]==0.22.0) (2.2.0)\nRequirement already satisfied, skipping upgrade: google-pasta>=0.1.8 in /usr/local/lib/python3.5/site-packages (from tensorflow!=2.0.*,<3,>=1.15->tensorflow_data_validation[visualization]==0.22.0) (0.2.0)\nRequirement already satisfied, skipping upgrade: googleapis-common-protos in /usr/local/lib/python3.5/site-packages (from tensorflow-metadata<0.23,>=0.22->tensorflow_data_validation[visualization]==0.22.0) (1.51.0)\nCollecting jedi>=0.10\n  Downloading jedi-0.17.0-py2.py3-none-any.whl (1.1 MB)\nCollecting pickleshare\n  Downloading pickleshare-0.7.5-py2.py3-none-any.whl (6.9 kB)\nCollecting backcall\n  Downloading backcall-0.1.0.tar.gz (9.7 kB)\nCollecting decorator\n  Downloading decorator-4.4.2-py2.py3-none-any.whl (9.2 kB)\nCollecting pexpect; sys_platform != \"win32\"\n  Downloading pexpect-4.8.0-py2.py3-none-any.whl (59 kB)\nCollecting pygments\n  Downloading Pygments-2.6.1-py3-none-any.whl (914 kB)\nCollecting prompt-toolkit<2.1.0,>=2.0.0\n  Downloading prompt_toolkit-2.0.10-py3-none-any.whl (340 kB)\nCollecting traitlets>=4.2\n  Downloading traitlets-4.3.3-py2.py3-none-any.whl (75 kB)\nRequirement already satisfied, skipping upgrade: pyparsing>=2.1.4 in /usr/local/lib/python3.5/site-packages (from pydot<2,>=1.2.0->apache-beam[gcp]<3,>=2.20->tensorflow_data_validation[visualization]==0.22.0) (2.4.7)\nRequirement already satisfied, skipping upgrade: docopt in /usr/local/lib/python3.5/site-packages (from hdfs<3.0.0,>=2.1.0->apache-beam[gcp]<3,>=2.20->tensorflow_data_validation[visualization]==0.22.0) (0.6.2)\nRequirement already satisfied, skipping upgrade: requests>=2.7.0 in /usr/local/lib/python3.5/site-packages (from hdfs<3.0.0,>=2.1.0->apache-beam[gcp]<3,>=2.20->tensorflow_data_validation[visualization]==0.22.0) (2.23.0)\nRequirement already satisfied, skipping upgrade: pbr>=0.11 in /usr/local/lib/python3.5/site-packages (from mock<3.0.0,>=1.0.1->apache-beam[gcp]<3,>=2.20->tensorflow_data_validation[visualization]==0.22.0) (5.4.5)\nRequirement already satisfied, skipping upgrade: rsa>=3.1.4 in /usr/local/lib/python3.5/site-packages (from oauth2client<4,>=2.0.1->apache-beam[gcp]<3,>=2.20->tensorflow_data_validation[visualization]==0.22.0) (4.0)\nRequirement already satisfied, skipping upgrade: pyasn1-modules>=0.0.5 in /usr/local/lib/python3.5/site-packages (from oauth2client<4,>=2.0.1->apache-beam[gcp]<3,>=2.20->tensorflow_data_validation[visualization]==0.22.0) (0.2.8)\nRequirement already satisfied, skipping upgrade: pyasn1>=0.1.7 in /usr/local/lib/python3.5/site-packages (from oauth2client<4,>=2.0.1->apache-beam[gcp]<3,>=2.20->tensorflow_data_validation[visualization]==0.22.0) (0.4.8)\nRequirement already satisfied, skipping upgrade: google-api-core[grpc,grpcgcp]<2.0.0dev,>=1.14.0 in /usr/local/lib/python3.5/site-packages (from google-cloud-spanner<1.14.0,>=1.13.0; extra == \"gcp\"->apache-beam[gcp]<3,>=2.20->tensorflow_data_validation[visualization]==0.22.0) (1.17.0)\nRequirement already satisfied, skipping upgrade: grpc-google-iam-v1<0.13dev,>=0.12.3 in /usr/local/lib/python3.5/site-packages (from google-cloud-spanner<1.14.0,>=1.13.0; extra == \"gcp\"->apache-beam[gcp]<3,>=2.20->tensorflow_data_validation[visualization]==0.22.0) (0.12.3)\nRequirement already satisfied, skipping upgrade: fasteners>=0.14 in /usr/local/lib/python3.5/site-packages (from google-apitools<0.5.29,>=0.5.28; extra == \"gcp\"->apache-beam[gcp]<3,>=2.20->tensorflow_data_validation[visualization]==0.22.0) (0.15)\nRequirement already satisfied, skipping upgrade: google-resumable-media<0.6dev,>=0.5.0 in /usr/local/lib/python3.5/site-packages (from google-cloud-bigquery<=1.24.0,>=1.6.0; extra == \"gcp\"->apache-beam[gcp]<3,>=2.20->tensorflow_data_validation[visualization]==0.22.0) (0.5.0)\nRequirement already satisfied, skipping upgrade: google-auth<2.0dev,>=1.9.0 in /usr/local/lib/python3.5/site-packages (from google-cloud-bigquery<=1.24.0,>=1.6.0; extra == \"gcp\"->apache-beam[gcp]<3,>=2.20->tensorflow_data_validation[visualization]==0.22.0) (1.14.3)\nCollecting uritemplate<4dev,>=3.0.0\n  Downloading uritemplate-3.0.1-py2.py3-none-any.whl (15 kB)\nCollecting google-auth-httplib2>=0.0.3\n  Downloading google_auth_httplib2-0.0.3-py2.py3-none-any.whl (6.3 kB)\nRequirement already satisfied, skipping upgrade: markdown>=2.6.8 in /usr/local/lib/python3.5/site-packages (from tensorboard<2.3.0,>=2.2.0->tensorflow!=2.0.*,<3,>=1.15->tensorflow_data_validation[visualization]==0.22.0) (3.2.2)\nRequirement already satisfied, skipping upgrade: google-auth-oauthlib<0.5,>=0.4.1 in /usr/local/lib/python3.5/site-packages (from tensorboard<2.3.0,>=2.2.0->tensorflow!=2.0.*,<3,>=1.15->tensorflow_data_validation[visualization]==0.22.0) (0.4.1)\nRequirement already satisfied, skipping upgrade: tensorboard-plugin-wit>=1.6.0 in /usr/local/lib/python3.5/site-packages (from tensorboard<2.3.0,>=2.2.0->tensorflow!=2.0.*,<3,>=1.15->tensorflow_data_validation[visualization]==0.22.0) (1.6.0.post3)\nRequirement already satisfied, skipping upgrade: werkzeug>=0.11.15 in /usr/local/lib/python3.5/site-packages (from tensorboard<2.3.0,>=2.2.0->tensorflow!=2.0.*,<3,>=1.15->tensorflow_data_validation[visualization]==0.22.0) (1.0.1)\nCollecting parso>=0.7.0\n  Downloading parso-0.7.0-py2.py3-none-any.whl (100 kB)\nCollecting ptyprocess>=0.5\n  Downloading ptyprocess-0.6.0-py2.py3-none-any.whl (39 kB)\nRequirement already satisfied, skipping upgrade: wcwidth in /usr/local/lib/python3.5/site-packages (from prompt-toolkit<2.1.0,>=2.0.0->ipython<8,>=7; python_version >= \"3\" and extra == \"visualization\"->tensorflow_data_validation[visualization]==0.22.0) (0.1.9)\nCollecting ipython-genutils\n  Downloading ipython_genutils-0.2.0-py2.py3-none-any.whl (26 kB)\nRequirement already satisfied, skipping upgrade: certifi>=2017.4.17 in /usr/local/lib/python3.5/site-packages (from requests>=2.7.0->hdfs<3.0.0,>=2.1.0->apache-beam[gcp]<3,>=2.20->tensorflow_data_validation[visualization]==0.22.0) (2020.4.5.1)\nRequirement already satisfied, skipping upgrade: urllib3!=1.25.0,!=1.25.1,<1.26,>=1.21.1 in /usr/local/lib/python3.5/site-packages (from requests>=2.7.0->hdfs<3.0.0,>=2.1.0->apache-beam[gcp]<3,>=2.20->tensorflow_data_validation[visualization]==0.22.0) (1.25.9)\nRequirement already satisfied, skipping upgrade: chardet<4,>=3.0.2 in /usr/local/lib/python3.5/site-packages (from requests>=2.7.0->hdfs<3.0.0,>=2.1.0->apache-beam[gcp]<3,>=2.20->tensorflow_data_validation[visualization]==0.22.0) (3.0.4)\nRequirement already satisfied, skipping upgrade: idna<3,>=2.5 in /usr/local/lib/python3.5/site-packages (from requests>=2.7.0->hdfs<3.0.0,>=2.1.0->apache-beam[gcp]<3,>=2.20->tensorflow_data_validation[visualization]==0.22.0) (2.9)\nRequirement already satisfied, skipping upgrade: monotonic>=0.1 in /usr/local/lib/python3.5/site-packages (from fasteners>=0.14->google-apitools<0.5.29,>=0.5.28; extra == \"gcp\"->apache-beam[gcp]<3,>=2.20->tensorflow_data_validation[visualization]==0.22.0) (1.5)\nRequirement already satisfied, skipping upgrade: importlib-metadata; python_version < \"3.8\" in /usr/local/lib/python3.5/site-packages (from markdown>=2.6.8->tensorboard<2.3.0,>=2.2.0->tensorflow!=2.0.*,<3,>=1.15->tensorflow_data_validation[visualization]==0.22.0) (1.6.0)\nRequirement already satisfied, skipping upgrade: requests-oauthlib>=0.7.0 in /usr/local/lib/python3.5/site-packages (from google-auth-oauthlib<0.5,>=0.4.1->tensorboard<2.3.0,>=2.2.0->tensorflow!=2.0.*,<3,>=1.15->tensorflow_data_validation[visualization]==0.22.0) (1.3.0)\nRequirement already satisfied, skipping upgrade: zipp>=0.5 in /usr/local/lib/python3.5/site-packages (from importlib-metadata; python_version < \"3.8\"->markdown>=2.6.8->tensorboard<2.3.0,>=2.2.0->tensorflow!=2.0.*,<3,>=1.15->tensorflow_data_validation[visualization]==0.22.0) (1.2.0)\nRequirement already satisfied, skipping upgrade: oauthlib>=3.0.0 in /usr/local/lib/python3.5/site-packages (from requests-oauthlib>=0.7.0->google-auth-oauthlib<0.5,>=0.4.1->tensorboard<2.3.0,>=2.2.0->tensorflow!=2.0.*,<3,>=1.15->tensorflow_data_validation[visualization]==0.22.0) (3.1.0)\nBuilding wheels for collected packages: absl-py, httplib2, backcall\n  Building wheel for absl-py (setup.py): started\n  Building wheel for absl-py (setup.py): finished with status 'done'\n  Created wheel for absl-py: filename=absl_py-0.8.1-py3-none-any.whl size=121165 sha256=1bc56fde30cc3aea2e6c7fe1ae15c01d835620ccb127fa683754bb15c9e46ddd\n  Stored in directory: /root/.cache/pip/wheels/0c/fa/af/c3217c654740d2cffc40ab4eca9da558be4bb94dd593ef0d74\n  Building wheel for httplib2 (setup.py): started\n  Building wheel for httplib2 (setup.py): finished with status 'done'\n  Created wheel for httplib2: filename=httplib2-0.12.0-py3-none-any.whl size=93464 sha256=071e2afb3b6d73fe1df169c8a30179e7d927770d9582fecace1bc551cd4a5282\n  Stored in directory: /root/.cache/pip/wheels/2f/d8/97/b0a618545428f3602f565ccc1309f7cdeb8b4916ad8ec43685\n  Building wheel for backcall (setup.py): started\n  Building wheel for backcall (setup.py): finished with status 'done'\n  Created wheel for backcall: filename=backcall-0.1.0-py3-none-any.whl size=10413 sha256=fd4b828ec328769df85e61a2f84d2798d5f097a5e268063d2e95d7e7ce9f1b1f\n  Stored in directory: /root/.cache/pip/wheels/cb/6f/5c/9b66a87adeb46fed2babb14407bae1271f5e41b6b34b642411\nSuccessfully built absl-py httplib2 backcall\n\u001b[91mERROR: tensorflow-serving-api 2.1.0 has requirement tensorflow~=2.1.0, but you'll have tensorflow 2.2.0 which is incompatible.\n\u001b[0mInstalling collected packages: httplib2, pyarrow, typing, fastavro, apache-beam, uritemplate, google-auth-httplib2, google-api-python-client, tensorflow-serving-api, absl-py, tensorflow-metadata, tfx-bsl, tensorflow-transform, parso, jedi, pickleshare, backcall, decorator, ptyprocess, pexpect, pygments, prompt-toolkit, ipython-genutils, traitlets, ipython, tensorflow-data-validation, MarkupSafe, jinja2\n  Attempting uninstall: httplib2\n    Found existing installation: httplib2 0.15.0\n    Uninstalling httplib2-0.15.0:\n      Successfully uninstalled httplib2-0.15.0\n  Attempting uninstall: pyarrow\n    Found existing installation: pyarrow 0.15.1\n    Uninstalling pyarrow-0.15.1:\n      Successfully uninstalled pyarrow-0.15.1\n  Attempting uninstall: fastavro\n    Found existing installation: fastavro 0.23.2\n    Uninstalling fastavro-0.23.2:\n      Successfully uninstalled fastavro-0.23.2\n  Attempting uninstall: absl-py\n    Found existing installation: absl-py 0.9.0\n    Uninstalling absl-py-0.9.0:\n      Successfully uninstalled absl-py-0.9.0\nSuccessfully installed MarkupSafe-1.1.1 absl-py-0.8.1 apache-beam-2.20.0 backcall-0.1.0 decorator-4.4.2 fastavro-0.21.24 google-api-python-client-1.8.3 google-auth-httplib2-0.0.3 httplib2-0.12.0 ipython-7.9.0 ipython-genutils-0.2.0 jedi-0.17.0 jinja2-2.11.2 parso-0.7.0 pexpect-4.8.0 pickleshare-0.7.5 prompt-toolkit-2.0.10 ptyprocess-0.6.0 pyarrow-0.16.0 pygments-2.6.1 tensorflow-data-validation-0.22.0 tensorflow-metadata-0.22.0 tensorflow-serving-api-2.1.0 tensorflow-transform-0.22.0 tfx-bsl-0.22.0 traitlets-4.3.3 typing-3.7.4.1 uritemplate-3.0.1\n\u001b[91mWARNING: You are using pip version 20.1; however, version 20.1.1 is available.\nYou should consider upgrading via the '/usr/local/bin/python3 -m pip install --upgrade pip' command.\n\u001b[0mRemoving intermediate container 0f2f6ed308df\n ---> e83a635ee063\nStep 9/9 : ENV FLEX_TEMPLATE_PYTHON_PY_FILE=\"${WORKDIR}/run.py\"\n ---> Running in 46144eba5312\nRemoving intermediate container 46144eba5312\n ---> 6826174ce559\nSuccessfully built 6826174ce559\nSuccessfully tagged gcr.io/mlops-dev-env/drift-detector:latest\nPUSH\nPushing gcr.io/mlops-dev-env/drift-detector:latest\nThe push refers to repository [gcr.io/mlops-dev-env/drift-detector]\n01c4edded9e8: Preparing\n98c30970f427: Preparing\n433f3a83a44b: Preparing\n47770b9d1cb8: Preparing\ne6d7aee5cfec: Preparing\ne79f36699e73: Preparing\n6a12fa4d914e: Preparing\n1ce0040f863b: Preparing\n3675d66e7522: Preparing\nd3a113fccc59: Preparing\n2b86258e1b71: Preparing\nf452b5bc63df: Preparing\n068b225f752a: Preparing\n8cbfea2bb995: Preparing\n20e664294b6d: Preparing\n0f830ef5c7c8: Preparing\nbbc8022f845d: Preparing\n70ebc7c7332c: Preparing\n52149e55b0c5: Preparing\n3a7a156915f7: Preparing\ncde96efde55e: Preparing\ne79f36699e73: Waiting\n6a12fa4d914e: Waiting\n1ce0040f863b: Waiting\n3675d66e7522: Waiting\nd3a113fccc59: Waiting\n2b86258e1b71: Waiting\nf452b5bc63df: Waiting\n068b225f752a: Waiting\n8cbfea2bb995: Waiting\n20e664294b6d: Waiting\n0f830ef5c7c8: Waiting\nbbc8022f845d: Waiting\n70ebc7c7332c: Waiting\n52149e55b0c5: Waiting\n3a7a156915f7: Waiting\ncde96efde55e: Waiting\ne6d7aee5cfec: Pushed\n98c30970f427: Pushed\n47770b9d1cb8: Pushed\n433f3a83a44b: Pushed\n6a12fa4d914e: Layer already exists\ne79f36699e73: Layer already exists\n1ce0040f863b: Layer already exists\n3675d66e7522: Layer already exists\nf452b5bc63df: Layer already exists\n2b86258e1b71: Layer already exists\nd3a113fccc59: Layer already exists\n068b225f752a: Layer already exists\n0f830ef5c7c8: Layer already exists\n20e664294b6d: Layer already exists\n8cbfea2bb995: Layer already exists\nbbc8022f845d: Layer already exists\n70ebc7c7332c: Layer already exists\n3a7a156915f7: Layer already exists\n52149e55b0c5: Layer already exists\ncde96efde55e: Layer already exists\n01c4edded9e8: Pushed\nlatest: digest: sha256:1ac47ec8169d698ac05bfc211d27c771496b2501d1f322e8ffeda3cd446e5b1f size: 4728\nDONE\n--------------------------------------------------------------------------------\n\nID                                    CREATE_TIME                DURATION  SOURCE                                                                                   IMAGES                                         STATUS\n090ba3d7-bbdd-428a-8dbd-3edad184e4b5  2020-05-25T16:55:09+00:00  2M7S      gs://mlops-dev-env_cloudbuild/source/1590425708.41-7f06415c312945e194a495e83519b413.tgz  gcr.io/mlops-dev-env/drift-detector (+1 more)  SUCCESS\n"
    }
   ],
   "source": [
    "!gcloud builds submit --tag {template_image} ."
   ]
  },
  {
   "cell_type": "markdown",
   "metadata": {},
   "source": [
    "## Deploy the Flex template using `gcloud`"
   ]
  },
  {
   "cell_type": "code",
   "execution_count": 4,
   "metadata": {},
   "outputs": [],
   "source": [
    "flex_templates_location = 'gs://mlops-dev-workspace/flex-templates'\n",
    "template_path = '{}/{}.json'.format(flex_templates_location, template_name)\n",
    "metadata_file = 'metadata.json'"
   ]
  },
  {
   "cell_type": "code",
   "execution_count": 5,
   "metadata": {},
   "outputs": [
    {
     "output_type": "stream",
     "name": "stdout",
     "text": "Successfully saved container spec in flex template file.\nTemplate File GCS Location: gs://mlops-dev-workspace/flex-templates/drift-detector.json\nContainer Spec:\n\n{\n    \"image\": \"gcr.io/mlops-dev-env/drift-detector:latest\",\n    \"metadata\": {\n        \"description\": \"Data drift detector Python flex template.\",\n        \"name\": \"Data drift detector Python flex template\",\n        \"parameters\": [\n            {\n                \"helpText\": \"A full name of the BQ request-response log table\",\n                \"label\": \"Request response log table.\",\n                \"name\": \"request_response_log_table\",\n                \"regexes\": [\n                    \"[-_.a-zA-Z0-9]+\"\n                ]\n            },\n            {\n                \"helpText\": \"A time window start time in YYYY-MM-DDTHH:MM:SS format.\",\n                \"label\": \"Start time.\",\n                \"name\": \"start_time\",\n                \"regexes\": [\n                    \"[-:T0-9]+\"\n                ]\n            },\n            {\n                \"helpText\": \"A time window end time in YYYY-MM-DDTHH:MM:SS format.\",\n                \"label\": \"End time.\",\n                \"name\": \"end_time\",\n                \"regexes\": [\n                    \"[-:T0-9]+\"\n                ]\n            },\n            {\n                \"helpText\": \"The output path for stats and anomalies protobufs.\",\n                \"label\": \"Output path.\",\n                \"name\": \"output_path\",\n                \"regexes\": [\n                    \"gs://[-:_./a-zA-Z0-9]+\"\n                ]\n            },\n            {\n                \"helpText\": \"Setup file.\",\n                \"label\": \"Setup file.\",\n                \"name\": \"setup_file\",\n                \"regexes\": [\n                    \"[-_./a-zA-Z0-9]+\"\n                ]\n            },\n            {\n                \"helpText\": \"A GCS path to schema file.\",\n                \"label\": \"Schema file.\",\n                \"name\": \"schema_file\",\n                \"regexes\": [\n                    \"gs://[-_./a-zA-Z0-9]+\"\n                ]\n            },\n            {\n                \"helpText\": \"A GCS path to a baseline statistics file.\",\n                \"is_optional\": true,\n                \"label\": \"Baseline stats file.\",\n                \"name\": \"baseline_stats_file\",\n                \"regexes\": [\n                    \"gs://[-_./a-zA-Z0-9]+\"\n                ]\n            }\n        ]\n    },\n    \"sdkInfo\": {\n        \"language\": \"PYTHON\"\n    }\n}\n"
    }
   ],
   "source": [
    "!gcloud beta dataflow flex-template build {template_path} \\\n",
    "  --image {template_image} \\\n",
    "  --sdk-language \"PYTHON\" \\\n",
    "  --metadata-file {metadata_file} \\\n",
    "  --image {template_image} \\\n",
    "  --sdk-language \"PYTHON\" \\\n",
    "  --metadata-file {metadata_file}"
   ]
  },
  {
   "cell_type": "markdown",
   "metadata": {},
   "source": [
    "## Trigger a run of the template using REST API"
   ]
  },
  {
   "cell_type": "code",
   "execution_count": 6,
   "metadata": {},
   "outputs": [
    {
     "output_type": "execute_result",
     "data": {
      "text/plain": "{'job': {'id': '2020-05-25_09_57_41-859961482217949224',\n  'projectId': 'mlops-dev-env',\n  'name': 'data-drift-20200525-165741',\n  'currentStateTime': '1970-01-01T00:00:00Z',\n  'createTime': '2020-05-25T16:57:42.643623Z',\n  'location': 'us-central1',\n  'startTime': '2020-05-25T16:57:42.643623Z'}}"
     },
     "metadata": {},
     "execution_count": 6
    }
   ],
   "source": [
    "import googleapiclient.discovery\n",
    "\n",
    "service = googleapiclient.discovery.build('dataflow', 'v1b3')\n",
    "\n",
    "parameters = {\n",
    "    'request_response_log_table': 'mlops-dev-env.data_validation.covertype_classifier_logs_tf',\n",
    "    'start_time': '2020-05-25T16:00:00',\n",
    "    'end_time': '2020-05-25T22:00:00',\n",
    "    'output_path': 'gs://mlops-dev-workspace/drift_monitor/output/tf/test1',\n",
    "    'schema_file': 'gs://mlops-dev-workspace/drift_monitor/schema/schema.pbtxt',\n",
    "    'setup_file': './setup.py',\n",
    "\n",
    "}\n",
    "job_name = \"data-drift-{}\".format(time.strftime(\"%Y%m%d-%H%M%S\"))\n",
    "body = {\n",
    "    'launch_parameter': \n",
    "         {\n",
    "             'jobName': job_name,\n",
    "             'parameters' : parameters,\n",
    "             'containerSpecGcsPath': template_path\n",
    "         }}\n",
    "\n",
    "request = service.projects().locations().flexTemplates().launch(\n",
    "    location=location,\n",
    "    projectId=project_id,\n",
    "    body=body)\n",
    "\n",
    "response = request.execute()\n",
    "response"
   ]
  },
  {
   "cell_type": "markdown",
   "metadata": {},
   "source": [
    "## Trigger a run of the template using REST API - Curl"
   ]
  },
  {
   "cell_type": "code",
   "execution_count": 7,
   "metadata": {},
   "outputs": [],
   "source": [
    "service_url = 'https://dataflow.googleapis.com/v1b3/projects/{}/locations/us-central1/flexTemplates:launch'.format(project_id)\n",
    "headers_content = 'Content-Type: application/json'\n",
    "access_token = !(gcloud auth print-access-token) \n",
    "headers_auth = 'Authorization: Bearer {}'.format(access_token[0])\n",
    "parameters = {\n",
    "    'request_response_log_table': 'mlops-dev-env.data_validation.covertype_classifier_logs_tf',\n",
    "    'start_time': '2020-05-15T00:15:00',\n",
    "    'end_time': '2020-05-15T05:51:00',\n",
    "    'output_path': 'gs://mlops-dev-workspace/drift_monitor/output/tf/test2',\n",
    "    'schema_file': 'gs://mlops-dev-workspace/drift_monitor/schema/schema.pbtxt',\n",
    "    'setup_file': './setup.py',\n",
    "\n",
    "}\n",
    "job_name = \"data-drift-{}\".format(time.strftime(\"%Y%m%d-%H%M%S\"))\n",
    "body = {\n",
    "    'launch_parameter': \n",
    "         {\n",
    "             'jobName': job_name,\n",
    "             'parameters' : parameters,\n",
    "             'containerSpecGcsPath': template_path\n",
    "         }}\n",
    "\n",
    "json_body = json.dumps(body)"
   ]
  },
  {
   "cell_type": "code",
   "execution_count": 8,
   "metadata": {},
   "outputs": [
    {
     "output_type": "stream",
     "name": "stdout",
     "text": "{\n  \"job\": {\n    \"id\": \"2020-05-25_10_02_12-10856269937757314054\",\n    \"projectId\": \"mlops-dev-env\",\n    \"name\": \"data-drift-20200525-170210\",\n    \"currentStateTime\": \"1970-01-01T00:00:00Z\",\n    \"createTime\": \"2020-05-25T17:02:13.459065Z\",\n    \"location\": \"us-central1\",\n    \"startTime\": \"2020-05-25T17:02:13.459065Z\"\n  }\n}\n"
    }
   ],
   "source": [
    "!curl -X POST \\\n",
    "  \"{service_url}\" \\\n",
    "  -H \"{headers_content}\" \\\n",
    "  -H \"{headers_auth}\" \\\n",
    "  -d '{json_body}'"
   ]
  },
  {
   "cell_type": "markdown",
   "metadata": {},
   "source": [
    "## Trigger a run of the template using `gcloud`"
   ]
  },
  {
   "cell_type": "code",
   "execution_count": null,
   "metadata": {},
   "outputs": [],
   "source": [
    "job_name = \"data-drift-{}\".format(time.strftime(\"%Y%m%d-%H%M%S\"))\n",
    "g_parameters = ','.join(['{}={}'.format(key,value) for key, value in parameters.items()])\n",
    "\n",
    "!gcloud beta dataflow flex-template run {job_name} \\\n",
    "--template-file-gcs-location {template_path} \\\n",
    "--parameters {g_parameters}"
   ]
  },
  {
   "cell_type": "code",
   "execution_count": null,
   "metadata": {},
   "outputs": [],
   "source": []
  }
 ],
 "metadata": {
  "environment": {
   "name": "common-cpu.m47",
   "type": "gcloud",
   "uri": "gcr.io/deeplearning-platform-release/base-cpu:m47"
  },
  "kernelspec": {
   "display_name": "Python 3",
   "language": "python",
   "name": "python3"
  },
  "language_info": {
   "codemirror_mode": {
    "name": "ipython",
    "version": 3
   },
   "file_extension": ".py",
   "mimetype": "text/x-python",
   "name": "python",
   "nbconvert_exporter": "python",
   "pygments_lexer": "ipython3",
   "version": "3.7.6-final"
  }
 },
 "nbformat": 4,
 "nbformat_minor": 4
}