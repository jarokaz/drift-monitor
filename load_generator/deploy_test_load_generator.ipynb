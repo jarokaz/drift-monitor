{
 "cells": [
  {
   "cell_type": "markdown",
   "metadata": {},
   "source": [
    "# Predict generator"
   ]
  },
  {
   "cell_type": "code",
   "execution_count": 1,
   "metadata": {},
   "outputs": [
    {
     "output_type": "stream",
     "name": "stdout",
     "text": "NAME             STATUS  TRIGGER        REGION\nrun_predictions  ACTIVE  Event Trigger  us-central1\n"
    }
   ],
   "source": [
    "!gcloud functions list"
   ]
  },
  {
   "cell_type": "code",
   "execution_count": 2,
   "metadata": {},
   "outputs": [
    {
     "output_type": "stream",
     "name": "stdout",
     "text": "---\nname: projects/mlops-dev-env/topics/container-analysis-notes-v1\n---\nname: projects/mlops-dev-env/topics/container-analysis-notes-v1beta1\n---\nname: projects/mlops-dev-env/topics/container-analysis-occurrences-v1\n---\nname: projects/mlops-dev-env/topics/container-analysis-occurrences-v1beta1\n---\nname: projects/mlops-dev-env/topics/cloud-builds\n---\nname: projects/mlops-dev-env/topics/messages\n---\nname: projects/mlops-dev-env/topics/predict_trigger\n---\nname: projects/mlops-dev-env/topics/test_topic\n"
    }
   ],
   "source": [
    "!gcloud pubsub topics list"
   ]
  },
  {
   "cell_type": "code",
   "execution_count": 3,
   "metadata": {},
   "outputs": [],
   "source": [
    "FUNCTION = 'run_predictions'\n",
    "TOPIC = 'predict_trigger'"
   ]
  },
  {
   "cell_type": "code",
   "execution_count": 52,
   "metadata": {},
   "outputs": [
    {
     "name": "stdout",
     "output_type": "stream",
     "text": [
      "Deploying function (may take a while - up to 2 minutes)...failed.              \n",
      "\u001b[1;31mERROR:\u001b[0m (gcloud.functions.deploy) OperationError: code=3, message=Build failed: {\"error\": {\"canonicalCode\": \"INTERNAL\", \"errorMessage\": \"gzip_tar_runtime_package gzip /tmp/tmppaIZZV.tar -1\\nexited with error [Errno 12] Cannot allocate memory\\ngzip_tar_runtime_package is likely not on the path\", \"errorType\": \"InternalError\", \"errorId\": \"9717973F\"}}\n"
     ]
    }
   ],
   "source": [
    "!gcloud functions deploy {FUNCTION} --runtime python37 --trigger-topic {TOPIC}"
   ]
  },
  {
   "cell_type": "code",
   "execution_count": 4,
   "metadata": {},
   "outputs": [
    {
     "output_type": "execute_result",
     "data": {
      "text/plain": "'{\"data_file\": \"gs://workshop-datasets/covertype/small/dataset.csv\", \"num_examples\": 3, \"service_name\": \"projects/mlops-dev-env/models/covertype_classifier_tf/versions/v2\", \"signature_name\": \"serving_default\", \"model_output_key\": \"output_1\"}'"
     },
     "metadata": {},
     "execution_count": 4
    }
   ],
   "source": [
    "import json\n",
    "\n",
    "params = {\n",
    "        'data_file': 'gs://workshop-datasets/covertype/small/dataset.csv',\n",
    "        'num_examples': 3,\n",
    "        'service_name': 'projects/mlops-dev-env/models/covertype_classifier_tf/versions/v2',\n",
    "        'signature_name': 'serving_default',\n",
    "        'model_output_key': 'output_1'\n",
    "    }\n",
    "\n",
    "MESSAGE = json.dumps(params)\n",
    "MESSAGE"
   ]
  },
  {
   "cell_type": "code",
   "execution_count": 12,
   "metadata": {},
   "outputs": [
    {
     "output_type": "stream",
     "name": "stdout",
     "text": "messageIds:\n- '1187179829319926'\n"
    }
   ],
   "source": [
    "!gcloud pubsub topics publish {TOPIC} --message '{MESSAGE}'"
   ]
  },
  {
   "cell_type": "code",
   "execution_count": 13,
   "metadata": {},
   "outputs": [
    {
     "output_type": "stream",
     "name": "stdout",
     "text": "LEVEL  NAME             EXECUTION_ID  TIME_UTC                 LOG\nE      run_predictions  58tzx8vsntln  2020-05-13 21:20:03.073  During handling of the above exception, another exception occurred:\nE      run_predictions  58tzx8vsntln  2020-05-13 21:20:03.073\nE      run_predictions  58tzx8vsntln  2020-05-13 21:20:03.073  Traceback (most recent call last):\nE      run_predictions  58tzx8vsntln  2020-05-13 21:20:03.073    File \"/env/local/lib/python3.7/site-packages/googleapiclient/discovery_cache/file_cache.py\", line 37, in <module>\nE      run_predictions  58tzx8vsntln  2020-05-13 21:20:03.073      from oauth2client.locked_file import LockedFile\nE      run_predictions  58tzx8vsntln  2020-05-13 21:20:03.073  ModuleNotFoundError: No module named 'oauth2client'\nE      run_predictions  58tzx8vsntln  2020-05-13 21:20:03.073\nE      run_predictions  58tzx8vsntln  2020-05-13 21:20:03.073  During handling of the above exception, another exception occurred:\nE      run_predictions  58tzx8vsntln  2020-05-13 21:20:03.073\nE      run_predictions  58tzx8vsntln  2020-05-13 21:20:03.073  Traceback (most recent call last):\nE      run_predictions  58tzx8vsntln  2020-05-13 21:20:03.073    File \"/env/local/lib/python3.7/site-packages/googleapiclient/discovery_cache/__init__.py\", line 42, in autodetect\nE      run_predictions  58tzx8vsntln  2020-05-13 21:20:03.073      from . import file_cache\nE      run_predictions  58tzx8vsntln  2020-05-13 21:20:03.073    File \"/env/local/lib/python3.7/site-packages/googleapiclient/discovery_cache/file_cache.py\", line 41, in <module>\nE      run_predictions  58tzx8vsntln  2020-05-13 21:20:03.073      \"file_cache is unavailable when using oauth2client >= 4.0.0 or google-auth\"\nE      run_predictions  58tzx8vsntln  2020-05-13 21:20:03.073  ImportError: file_cache is unavailable when using oauth2client >= 4.0.0 or google-auth\nI      run_predictions  58tzx8vsntln  2020-05-13 21:20:03.074  URL being requested: GET https://www.googleapis.com/discovery/v1/apis/ml/v1/rest\nI      run_predictions  58tzx8vsntln  2020-05-13 21:20:03.361  URL being requested: POST https://ml.googleapis.com/v1/projects/mlops-dev-env/models/covertype_classifier_tf/versions/v2:predict?alt=json\nD      run_predictions  58tzx8vsntln  2020-05-13 21:20:04.653  Function execution took 3627 ms, finished with status: 'ok'\nD      run_predictions  58tz6ntn8z1t  2020-05-13 21:25:01.748  Function execution started\nE      run_predictions  58tz6ntn8z1t  2020-05-13 21:25:03.762  file_cache is unavailable when using oauth2client >= 4.0.0 or google-auth\nE      run_predictions  58tz6ntn8z1t  2020-05-13 21:25:03.762  Traceback (most recent call last):\nE      run_predictions  58tz6ntn8z1t  2020-05-13 21:25:03.762    File \"/env/local/lib/python3.7/site-packages/googleapiclient/discovery_cache/__init__.py\", line 36, in autodetect\nE      run_predictions  58tz6ntn8z1t  2020-05-13 21:25:03.762      from google.appengine.api import memcache\nE      run_predictions  58tz6ntn8z1t  2020-05-13 21:25:03.762  ModuleNotFoundError: No module named 'google.appengine'\nE      run_predictions  58tz6ntn8z1t  2020-05-13 21:25:03.762\nE      run_predictions  58tz6ntn8z1t  2020-05-13 21:25:03.762  During handling of the above exception, another exception occurred:\nErun_predictions  58tz6ntn8z1t  2020-05-13 21:25:03.762\nE      run_predictions  58tz6ntn8z1t  2020-05-13 21:25:03.762  Traceback (most recent call last):\nE      run_predictions  58tz6ntn8z1t  2020-05-13 21:25:03.762    File \"/env/local/lib/python3.7/site-packages/googleapiclient/discovery_cache/file_cache.py\", line 33, in <module>\nE      run_predictions  58tz6ntn8z1t  2020-05-13 21:25:03.762      from oauth2client.contrib.locked_file import LockedFile\nE      run_predictions  58tz6ntn8z1t  2020-05-13 21:25:03.762  ModuleNotFoundError: No module named 'oauth2client'\nE      run_predictions  58tz6ntn8z1t  2020-05-13 21:25:03.762\nE      run_predictions  58tz6ntn8z1t  2020-05-13 21:25:03.762  During handling of the above exception, another exception occurred:\nE      run_predictions  58tz6ntn8z1t  2020-05-13 21:25:03.762\nE      run_predictions  58tz6ntn8z1t  2020-05-13 21:25:03.762  Traceback (most recent call last):\nE      run_predictions  58tz6ntn8z1t  2020-05-13 21:25:03.762    File \"/env/local/lib/python3.7/site-packages/googleapiclient/discovery_cache/file_cache.py\", line 37, in <module>\nE      run_predictions  58tz6ntn8z1t  2020-05-13 21:25:03.762      from oauth2client.locked_file import LockedFile\nE      run_predictions  58tz6ntn8z1t  2020-05-13 21:25:03.762  ModuleNotFoundError: No module named 'oauth2client'\nE      run_predictions  58tz6ntn8z1t  2020-05-13 21:25:03.762\nE      run_predictions  58tz6ntn8z1t  2020-05-13 21:25:03.762  During handling of the above exception, another exception occurred:\nE      run_predictions  58tz6ntn8z1t  2020-05-13 21:25:03.762\nE      run_predictions  58tz6ntn8z1t  2020-05-13 21:25:03.762  Traceback (most recent call last):\nE      run_predictions  58tz6ntn8z1t  2020-05-13 21:25:03.762    File \"/env/local/lib/python3.7/site-packages/googleapiclient/discovery_cache/__init__.py\", line 42, in autodetect\nE      run_predictions  58tz6ntn8z1t  2020-05-13 21:25:03.762      from . import file_cache\nE      run_predictions  58tz6ntn8z1t  2020-05-13 21:25:03.762    File \"/env/local/lib/python3.7/site-packages/googleapiclient/discovery_cache/file_cache.py\", line 41, in <module>\nE      run_predictions  58tz6ntn8z1t  2020-05-13 21:25:03.762      \"file_cache is unavailable when using oauth2client >= 4.0.0 or google-auth\"\nE      run_predictions  58tz6ntn8z1t  2020-05-13 21:25:03.762  ImportError: file_cache is unavailable when using oauth2client >= 4.0.0 or google-auth\nI      run_predictions  58tz6ntn8z1t  2020-05-13 21:25:03.762  URL being requested: GET https://www.googleapis.com/discovery/v1/apis/ml/v1/rest\nI      run_predictions  58tz6ntn8z1t  2020-05-13 21:25:03.952  URL being requested: POST https://ml.googleapis.com/v1/projects/mlops-dev-env/models/covertype_classifier_tf/versions/v2:predict?alt=json\nD      run_predictions  58tz6ntn8z1t  2020-05-13 21:25:05.284  Function execution took 3537 ms, finished with status: 'ok'\n"
    }
   ],
   "source": [
    "!gcloud functions logs read {FUNCTION} --limit 50"
   ]
  },
  {
   "cell_type": "code",
   "execution_count": null,
   "metadata": {},
   "outputs": [],
   "source": []
  }
 ],
 "metadata": {
  "environment": {
   "name": "tf2-gpu.2-1.m46",
   "type": "gcloud",
   "uri": "gcr.io/deeplearning-platform-release/tf2-gpu.2-1:m46"
  },
  "kernelspec": {
   "display_name": "Python 3",
   "language": "python",
   "name": "python3"
  },
  "language_info": {
   "codemirror_mode": {
    "name": "ipython",
    "version": 3
   },
   "file_extension": ".py",
   "mimetype": "text/x-python",
   "name": "python",
   "nbconvert_exporter": "python",
   "pygments_lexer": "ipython3",
   "version": "3.7.6-final"
  }
 },
 "nbformat": 4,
 "nbformat_minor": 4
}