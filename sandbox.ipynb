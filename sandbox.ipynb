{
 "cells": [
  {
   "cell_type": "code",
   "execution_count": 4,
   "metadata": {},
   "outputs": [],
   "source": [
    "import googleapiclient.discovery"
   ]
  },
  {
   "cell_type": "code",
   "execution_count": 5,
   "metadata": {},
   "outputs": [],
   "source": [
    "PROJECT = 'mlops-dev-env'\n",
    "BUCKET =  'mlops-dev-workspace'\n",
    "GCS_DATA_LOCATION = 'gs://workshop-datasets/covertype/data_validation'\n",
    "REGION = 'us-central1'\n",
    "LOCAL_WORKSPACE = '/home/jupyter/workspace'\n",
    "LOCAL_DATA_DIR = os.path.join(LOCAL_WORKSPACE, 'data')\n",
    "BQ_DATASET_NAME = 'data_validation'\n",
    "BQ_TABLE_NAME = 'covertype_classifier_logs_tf'\n",
    "MODEL_NAME = 'covertype_classifier_tf'\n",
    "VERSION_NAME = 'v2'\n",
    "TRAINING_DIR = os.path.join(LOCAL_WORKSPACE, 'training')\n",
    "MODEL_DIR = os.path.join(TRAINING_DIR, 'exported_model')"
   ]
  },
  {
   "cell_type": "code",
   "execution_count": 6,
   "metadata": {},
   "outputs": [
    {
     "output_type": "stream",
     "name": "stdout",
     "text": "Service name: projects/mlops-dev-env/models/covertype_classifier_tf/versions/v2\n"
    }
   ],
   "source": [
    "service = googleapiclient.discovery.build('ml', 'v1')\n",
    "name = 'projects/{}/models/{}/versions/{}'.format(PROJECT, MODEL_NAME, VERSION_NAME)\n",
    "print(\"Service name: {}\".format(name))"
   ]
  },
  {
   "cell_type": "code",
   "execution_count": 7,
   "metadata": {},
   "outputs": [],
   "source": [
    "instances = [\n",
    "      { \n",
    "        'Soil_Type': ['7202'],\n",
    "        'Wilderness_Area': ['Commanche'],\n",
    "        'Aspect': [61],\n",
    "        'Elevation': [3091],\n",
    "        'Hillshade_3pm': [129],\n",
    "        'Hillshade_9am': [227],\n",
    "        'Hillshade_Noon': [223],\n",
    "        'Horizontal_Distance_To_Fire_Points': [2868],\n",
    "        'Horizontal_Distance_To_Hydrology': [134],\n",
    "        'Horizontal_Distance_To_Roadways': [0], \n",
    "        'Slope': [8], \n",
    "        'Vertical_Distance_To_Hydrology': [10],\n",
    "    }\n",
    "]\n",
    "\n",
    "\n",
    "request_body={\n",
    "      'signature_name': 'serving_default',\n",
    "      'instances': instances}"
   ]
  },
  {
   "cell_type": "code",
   "execution_count": 8,
   "metadata": {},
   "outputs": [
    {
     "output_type": "execute_result",
     "data": {
      "text/plain": "{'signature_name': 'serving_default',\n 'instances': [{'Soil_Type': ['7202'],\n   'Wilderness_Area': ['Commanche'],\n   'Aspect': [61],\n   'Elevation': [3091],\n   'Hillshade_3pm': [129],\n   'Hillshade_9am': [227],\n   'Hillshade_Noon': [223],\n   'Horizontal_Distance_To_Fire_Points': [2868],\n   'Horizontal_Distance_To_Hydrology': [134],\n   'Horizontal_Distance_To_Roadways': [0],\n   'Slope': [8],\n   'Vertical_Distance_To_Hydrology': [10]}]}"
     },
     "metadata": {},
     "execution_count": 8
    }
   ],
   "source": [
    "request_body"
   ]
  },
  {
   "cell_type": "code",
   "execution_count": 9,
   "metadata": {},
   "outputs": [],
   "source": [
    "request = service.projects().predict(\n",
    "      name=name,\n",
    "      body=request_body\n",
    ")"
   ]
  },
  {
   "cell_type": "code",
   "execution_count": 10,
   "metadata": {},
   "outputs": [
    {
     "output_type": "execute_result",
     "data": {
      "text/plain": "<googleapiclient.http.HttpRequest at 0x7f4fbcabc590>"
     },
     "metadata": {},
     "execution_count": 10
    }
   ],
   "source": [
    "request"
   ]
  },
  {
   "cell_type": "code",
   "execution_count": 11,
   "metadata": {},
   "outputs": [
    {
     "output_type": "execute_result",
     "data": {
      "text/plain": "['__class__',\n '__delattr__',\n '__dict__',\n '__dir__',\n '__doc__',\n '__eq__',\n '__format__',\n '__ge__',\n '__getattribute__',\n '__gt__',\n '__hash__',\n '__init__',\n '__init_subclass__',\n '__le__',\n '__lt__',\n '__module__',\n '__ne__',\n '__new__',\n '__reduce__',\n '__reduce_ex__',\n '__repr__',\n '__setattr__',\n '__sizeof__',\n '__str__',\n '__subclasshook__',\n '__weakref__',\n '_in_error_state',\n '_process_response',\n '_rand',\n '_sleep',\n 'add_response_callback',\n 'body',\n 'body_size',\n 'execute',\n 'from_json',\n 'headers',\n 'http',\n 'method',\n 'methodId',\n 'next_chunk',\n 'postproc',\n 'response_callbacks',\n 'resumable',\n 'resumable_progress',\n 'resumable_uri',\n 'to_json',\n 'uri']"
     },
     "metadata": {},
     "execution_count": 11
    }
   ],
   "source": [
    "dir(request)"
   ]
  },
  {
   "cell_type": "code",
   "execution_count": 12,
   "metadata": {},
   "outputs": [
    {
     "output_type": "execute_result",
     "data": {
      "text/plain": "'POST'"
     },
     "metadata": {},
     "execution_count": 12
    }
   ],
   "source": [
    "request.method"
   ]
  },
  {
   "cell_type": "code",
   "execution_count": 22,
   "metadata": {},
   "outputs": [
    {
     "output_type": "execute_result",
     "data": {
      "text/plain": "'{\"signature_name\": \"serving_default\", \"instances\": [{\"Soil_Type\": [\"7202\"], \"Wilderness_Area\": [\"Commanche\"], \"Aspect\": [61], \"Elevation\": [3091], \"Hillshade_3pm\": [129], \"Hillshade_9am\": [227], \"Hillshade_Noon\": [223], \"Horizontal_Distance_To_Fire_Points\": [2868], \"Horizontal_Distance_To_Hydrology\": [134], \"Horizontal_Distance_To_Roadways\": [0], \"Slope\": [8], \"Vertical_Distance_To_Hydrology\": [10]}]}'"
     },
     "metadata": {},
     "execution_count": 22
    }
   ],
   "source": [
    "request.body"
   ]
  },
  {
   "cell_type": "code",
   "execution_count": 20,
   "metadata": {},
   "outputs": [
    {
     "output_type": "execute_result",
     "data": {
      "text/plain": "{'accept': 'application/json',\n 'accept-encoding': 'gzip, deflate',\n 'user-agent': '(gzip)',\n 'x-goog-api-client': 'gdcl/1.8.0 gl-python/3.7.6',\n 'content-type': 'application/json'}"
     },
     "metadata": {},
     "execution_count": 20
    }
   ],
   "source": [
    "request.headers"
   ]
  },
  {
   "cell_type": "code",
   "execution_count": 16,
   "metadata": {},
   "outputs": [
    {
     "output_type": "execute_result",
     "data": {
      "text/plain": "'https://ml.googleapis.com/v1/projects/mlops-dev-env/models/covertype_classifier_tf/versions/v2:predict?alt=json'"
     },
     "metadata": {},
     "execution_count": 16
    }
   ],
   "source": [
    "request.uri"
   ]
  },
  {
   "cell_type": "code",
   "execution_count": 17,
   "metadata": {},
   "outputs": [
    {
     "output_type": "execute_result",
     "data": {
      "text/plain": "'{\"uri\": \"https://ml.googleapis.com/v1/projects/mlops-dev-env/models/covertype_classifier_tf/versions/v2:predict?alt=json\", \"method\": \"POST\", \"body\": \"{\\\\\"signature_name\\\\\": \\\\\"serving_default\\\\\", \\\\\"instances\\\\\": [{\\\\\"Soil_Type\\\\\": [\\\\\"7202\\\\\"], \\\\\"Wilderness_Area\\\\\": [\\\\\"Commanche\\\\\"], \\\\\"Aspect\\\\\": [61], \\\\\"Elevation\\\\\": [3091], \\\\\"Hillshade_3pm\\\\\": [129], \\\\\"Hillshade_9am\\\\\": [227], \\\\\"Hillshade_Noon\\\\\": [223], \\\\\"Horizontal_Distance_To_Fire_Points\\\\\": [2868], \\\\\"Horizontal_Distance_To_Hydrology\\\\\": [134], \\\\\"Horizontal_Distance_To_Roadways\\\\\": [0], \\\\\"Slope\\\\\": [8], \\\\\"Vertical_Distance_To_Hydrology\\\\\": [10]}]}\", \"headers\": {\"accept\": \"application/json\", \"accept-encoding\": \"gzip, deflate\", \"user-agent\": \"(gzip)\", \"x-goog-api-client\": \"gdcl/1.8.0 gl-python/3.7.6\", \"content-type\": \"application/json\"}, \"methodId\": \"ml.projects.predict\", \"resumable\": null, \"response_callbacks\": [], \"_in_error_state\": false, \"body_size\": 404, \"resumable_uri\": null, \"resumable_progress\": 0}'"
     },
     "metadata": {},
     "execution_count": 17
    }
   ],
   "source": [
    "request.to_json()"
   ]
  },
  {
   "cell_type": "code",
   "execution_count": 23,
   "metadata": {},
   "outputs": [],
   "source": [
    "uri = 'https://ml.googleapis.com/v1/projects/mlops-dev-env/models/covertype_classifier_tf/versions/v2:predict'"
   ]
  },
  {
   "cell_type": "code",
   "execution_count": 24,
   "metadata": {},
   "outputs": [
    {
     "output_type": "execute_result",
     "data": {
      "text/plain": "'https://ml.googleapis.com/v1/projects/mlops-dev-env/models/covertype_classifier_tf/versions/v2:predict'"
     },
     "metadata": {},
     "execution_count": 24
    }
   ],
   "source": [
    "uri"
   ]
  },
  {
   "cell_type": "code",
   "execution_count": 25,
   "metadata": {},
   "outputs": [
    {
     "output_type": "execute_result",
     "data": {
      "text/plain": "[{'Soil_Type': ['7202'],\n  'Wilderness_Area': ['Commanche'],\n  'Aspect': [61],\n  'Elevation': [3091],\n  'Hillshade_3pm': [129],\n  'Hillshade_9am': [227],\n  'Hillshade_Noon': [223],\n  'Horizontal_Distance_To_Fire_Points': [2868],\n  'Horizontal_Distance_To_Hydrology': [134],\n  'Horizontal_Distance_To_Roadways': [0],\n  'Slope': [8],\n  'Vertical_Distance_To_Hydrology': [10]}]"
     },
     "metadata": {},
     "execution_count": 25
    }
   ],
   "source": [
    "instances"
   ]
  },
  {
   "cell_type": "code",
   "execution_count": 29,
   "metadata": {},
   "outputs": [
    {
     "output_type": "execute_result",
     "data": {
      "text/plain": "'{\"instances\": [{\"Soil_Type\": [\"7202\"], \"Wilderness_Area\": [\"Commanche\"], \"Aspect\": [61], \"Elevation\": [3091], \"Hillshade_3pm\": [129], \"Hillshade_9am\": [227], \"Hillshade_Noon\": [223], \"Horizontal_Distance_To_Fire_Points\": [2868], \"Horizontal_Distance_To_Hydrology\": [134], \"Horizontal_Distance_To_Roadways\": [0], \"Slope\": [8], \"Vertical_Distance_To_Hydrology\": [10]}]}'"
     },
     "metadata": {},
     "execution_count": 29
    }
   ],
   "source": [
    "import json\n",
    "body = {'instances': instances}\n",
    "body = json.dumps(body)\n",
    "body"
   ]
  },
  {
   "cell_type": "code",
   "execution_count": 28,
   "metadata": {},
   "outputs": [
    {
     "output_type": "execute_result",
     "data": {
      "text/plain": "'[{\"Soil_Type\": [\"7202\"], \"Wilderness_Area\": [\"Commanche\"], \"Aspect\": [61], \"Elevation\": [3091], \"Hillshade_3pm\": [129], \"Hillshade_9am\": [227], \"Hillshade_Noon\": [223], \"Horizontal_Distance_To_Fire_Points\": [2868], \"Horizontal_Distance_To_Hydrology\": [134], \"Horizontal_Distance_To_Roadways\": [0], \"Slope\": [8], \"Vertical_Distance_To_Hydrology\": [10]}]'"
     },
     "metadata": {},
     "execution_count": 28
    }
   ],
   "source": [
    "body"
   ]
  },
  {
   "cell_type": "code",
   "execution_count": 33,
   "metadata": {},
   "outputs": [],
   "source": [
    "access_token = 'ya29.c.KmrKByXEIg-7pap2Rbcz_rAbmSw07f9x-cyLTwtYVnjDgR5Kd9iWhX0XazHq3dCpmry29g8wUdQVZLZRIM2QNafPrwxMROaLc--FvhnRa0U_4oI-1WzPEQTFfojCp84gXoxhZeV50kIgqGzl'"
   ]
  },
  {
   "cell_type": "code",
   "execution_count": 34,
   "metadata": {},
   "outputs": [
    {
     "output_type": "stream",
     "name": "stdout",
     "text": "{\n    \"predictions\": [[0.0150350109, 0.984959543, 3.12629332e-11, 2.11159345e-12, 3.97847816e-06, 1.53301283e-09, 1.38615292e-06]\n    ]\n}"
    }
   ],
   "source": [
    "!curl -X POST -d '{body}' {uri}\\?access_token\\={access_token}"
   ]
  },
  {
   "cell_type": "code",
   "execution_count": 31,
   "metadata": {},
   "outputs": [],
   "source": [
    "access_token = 'ya29.c.KmrKByXEIg-7pap2Rbcz_rAbmSw07f9x-cyLTwtYVnjDgR5Kd9iWhX0XazHq3dCpmry29g8wUdQVZLZRIM2QNafPrwxMROaLc--FvhnRa0U_4oI-1WzPEQTFfojCp84gXoxhZeV50kIgqGzl'"
   ]
  },
  {
   "cell_type": "code",
   "execution_count": 32,
   "metadata": {},
   "outputs": [
    {
     "output_type": "execute_result",
     "data": {
      "text/plain": "'ya29.c.KmrKByXEIg-7pap2Rbcz_rAbmSw07f9x-cyLTwtYVnjDgR5Kd9iWhX0XazHq3dCpmry29g8wUdQVZLZRIM2QNafPrwxMROaLc--FvhnRa0U_4oI-1WzPEQTFfojCp84gXoxhZeV50kIgqGzl'"
     },
     "metadata": {},
     "execution_count": 32
    }
   ],
   "source": [
    "access_token"
   ]
  },
  {
   "cell_type": "code",
   "execution_count": null,
   "metadata": {},
   "outputs": [],
   "source": []
  }
 ],
 "metadata": {
  "language_info": {
   "codemirror_mode": {
    "name": "ipython",
    "version": 3
   },
   "file_extension": ".py",
   "mimetype": "text/x-python",
   "name": "python",
   "nbconvert_exporter": "python",
   "pygments_lexer": "ipython3",
   "version": "3.7.6-final"
  },
  "orig_nbformat": 2,
  "kernelspec": {
   "name": "python3",
   "display_name": "Python 3"
  }
 },
 "nbformat": 4,
 "nbformat_minor": 2
}