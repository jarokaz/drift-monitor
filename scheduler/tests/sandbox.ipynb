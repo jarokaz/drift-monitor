{
 "cells": [
  {
   "cell_type": "markdown",
   "metadata": {},
   "source": [
    "# Sandbox - using Cloud Datastore to manage metadata for drift monitor runs"
   ]
  },
  {
   "cell_type": "code",
   "execution_count": 2,
   "metadata": {},
   "outputs": [],
   "source": [
    "import datetime\n",
    "from google.cloud import datastore"
   ]
  },
  {
   "cell_type": "code",
   "execution_count": 1,
   "metadata": {},
   "outputs": [],
   "source": [
    "project_id = 'mlops-dev-env'\n",
    "monitor_namespace = 'ModelMonitors'\n",
    "monitor_entity_kind = 'DataDriftMonitor'\n",
    "model_name = 'covertype_tf'\n",
    "model_version = 'v3' \n",
    "monitor_entity_name = '{}-{}'.format(model_name, model_version)\n",
    "schema_location = 'gs://mlops-dev-workspace/drift_monitor/schema/schema.pbtxt'\n",
    "reports_location = 'gs://mlops-dev-workspace/drift_monitor/output/tf/test'\n",
    "baseline_stats_location = None"
   ]
  },
  {
   "cell_type": "code",
   "execution_count": 3,
   "metadata": {},
   "outputs": [],
   "source": [
    "client = datastore.Client(project_id)\n",
    "\n",
    "monitor_key = client.key(monitor_entity_kind, monitor_entity_name, namespace=monitor_namespace)\n",
    "value = {\n",
    "    'model_name': model_name,\n",
    "    'model_version': model_version,\n",
    "    'schema_path': schema_location,\n",
    "    'reports_location': reports_location,\n",
    "    'baseline_stats_location': baseline_stats_location,\n",
    "    'created': datetime.datetime.now()\n",
    "}\n",
    "\n",
    "monitor = datastore.Entity(\n",
    "    monitor_key, exclude_from_indexes=['schema_path', 'reports_location', 'baseline_stats_location'])\n",
    "\n",
    "monitor.update(value)\n",
    "\n",
    "monitor"
   ]
  },
  {
   "cell_type": "code",
   "execution_count": 7,
   "metadata": {},
   "outputs": [],
   "source": [
    "client.put(monitor)"
   ]
  },
  {
   "cell_type": "code",
   "execution_count": 8,
   "metadata": {},
   "outputs": [],
   "source": [
    "query = client.query(kind=monitor_entity_kind, namespace=monitor_namespace)\n",
    "query.order = ['created']\n",
    "list(query.fetch())"
   ]
  },
  {
   "cell_type": "code",
   "execution_count": 18,
   "metadata": {},
   "outputs": [
    {
     "output_type": "execute_result",
     "data": {
      "text/plain": "<Entity('DataDriftMonitor', 'covertype_tf-v3', 'DriftReports') {'start_time': datetime.datetime(2020, 5, 23, 19, 0), 'end_time': datetime.datetime(2020, 5, 23, 20, 0), 'report_path': 'gs://mlops-dev-workspace/drift_monitor/output/tf/test', 'status': 'scheduled', 'scheduled_time': datetime.datetime(2020, 5, 27, 20, 0), 'created_time': datetime.datetime(2020, 5, 28, 20, 0)}>"
     },
     "metadata": {},
     "execution_count": 18
    }
   ],
   "source": [
    "report_entity_kind = 'DriftReports'\n",
    "report_key = client.key(report_entity_kind, namespace=monitor_namespace, parent=monitor_key)\n",
    "value = {\n",
    "    'start_time': datetime.datetime.fromisoformat('2020-05-23T19:00:00'),\n",
    "    'end_time': datetime.datetime.fromisoformat('2020-05-23T20:00:00'),\n",
    "    'report_path': 'gs://mlops-dev-workspace/drift_monitor/output/tf/test',\n",
    "    'status': 'scheduled',\n",
    "    'scheduled_time': datetime.datetime.fromisoformat('2020-05-27T20:00:00'),\n",
    "    'created_time': datetime.datetime.fromisoformat('2020-05-28T20:00:00')\n",
    "}\n",
    "\n",
    "report = datastore.Entity(\n",
    "    report_key, exclude_from_indexes=['report_path'])\n",
    "\n",
    "report.update(value)\n",
    "report"
   ]
  },
  {
   "cell_type": "code",
   "execution_count": 19,
   "metadata": {},
   "outputs": [],
   "source": [
    "client.put(report)"
   ]
  },
  {
   "cell_type": "code",
   "execution_count": 20,
   "metadata": {},
   "outputs": [
    {
     "output_type": "execute_result",
     "data": {
      "text/plain": "[<Entity('DataDriftMonitor', 'covertype_tf-v3', 'DriftReports', 5632499082330112) {'end_time': datetime.datetime(2020, 5, 23, 20, 0, tzinfo=<UTC>), 'start_time': datetime.datetime(2020, 5, 23, 19, 0, tzinfo=<UTC>), 'status': 'scheduled', 'created_time': datetime.datetime(2020, 5, 28, 20, 0, tzinfo=<UTC>), 'scheduled_time': datetime.datetime(2020, 5, 27, 20, 0, tzinfo=<UTC>), 'report_path': 'gs://mlops-dev-workspace/drift_monitor/output/tf/test'}>,\n <Entity('DataDriftMonitor', 'covertype_tf-v3', 'DriftReports', 5644004762845184) {'end_time': datetime.datetime(2020, 5, 23, 20, 0, tzinfo=<UTC>), 'start_time': datetime.datetime(2020, 5, 23, 19, 0, tzinfo=<UTC>), 'status': 'scheduled', 'created_time': datetime.datetime(2020, 5, 28, 20, 0, tzinfo=<UTC>), 'scheduled_time': datetime.datetime(2020, 5, 27, 20, 0, tzinfo=<UTC>), 'report_path': 'gs://mlops-dev-workspace/drift_monitor/output/tf/test'}>]"
     },
     "metadata": {},
     "execution_count": 20
    }
   ],
   "source": [
    "query = client.query(kind=report_entity_kind, namespace=monitor_namespace)\n",
    "query.order = ['status']\n",
    "list(query.fetch())"
   ]
  },
  {
   "cell_type": "code",
   "execution_count": null,
   "metadata": {},
   "outputs": [],
   "source": []
  }
 ],
 "metadata": {
  "language_info": {
   "codemirror_mode": {
    "name": "ipython",
    "version": 3
   },
   "file_extension": ".py",
   "mimetype": "text/x-python",
   "name": "python",
   "nbconvert_exporter": "python",
   "pygments_lexer": "ipython3",
   "version": "3.7.6-final"
  },
  "orig_nbformat": 2,
  "kernelspec": {
   "name": "python3",
   "display_name": "Python 3"
  }
 },
 "nbformat": 4,
 "nbformat_minor": 2
}