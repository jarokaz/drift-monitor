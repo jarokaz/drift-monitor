{
 "cells": [
  {
   "cell_type": "markdown",
   "metadata": {},
   "source": [
    "##### Copyright 2020 Google Inc.\n",
    "\n",
    "Licensed under the Apache License, Version 2.0 (the \"License\").\n",
    "<!--\n",
    "    Licensed to the Apache Software Foundation (ASF) under one\n",
    "    or more contributor license agreements.  See the NOTICE file\n",
    "    distributed with this work for additional information\n",
    "    regarding copyright ownership.  The ASF licenses this file\n",
    "    to you under the Apache License, Version 2.0 (the\n",
    "    \"License\"); you may not use this file except in compliance\n",
    "    with the License.  You may obtain a copy of the License at\n",
    "\n",
    "      http://www.apache.org/licenses/LICENSE-2.0\n",
    "\n",
    "    Unless required by applicable law or agreed to in writing,\n",
    "    software distributed under the License is distributed on an\n",
    "    \"AS IS\" BASIS, WITHOUT WARRANTIES OR CONDITIONS OF ANY\n",
    "    KIND, either express or implied.  See the License for the\n",
    "    specific language governing permissions and limitations\n",
    "    under the License.\n",
    "-->\n"
   ]
  },
  {
   "cell_type": "markdown",
   "metadata": {},
   "source": [
    "# Analyze data drift and skew"
   ]
  },
  {
   "cell_type": "code",
   "execution_count": 26,
   "metadata": {},
   "outputs": [],
   "source": [
    "import tensorflow_data_validation as tfdv\n",
    "import tensorflow as tf\n",
    "import os\n",
    "\n",
    "from datetime import datetime\n",
    "from tensorflow_metadata.proto.v0 import statistics_pb2"
   ]
  },
  {
   "cell_type": "code",
   "execution_count": 58,
   "metadata": {},
   "outputs": [],
   "source": [
    "drift_reports_path = 'gs://mlops-dev-workspace/drift_monitor/output/tf'\n",
    "aggregated_statistics_path = '/home/jarekk/workspace/aggegated_stats.pbtxt'"
   ]
  },
  {
   "cell_type": "code",
   "execution_count": 59,
   "metadata": {
    "tags": [
     "outputPrepend",
     "outputPrepend",
     "outputPrepend",
     "outputPrepend",
     "outputPrepend",
     "outputPrepend",
     "outputPrepend",
     "outputPrepend",
     "outputPrepend",
     "outputPrepend",
     "outputPrepend",
     "outputPrepend",
     "outputPrepend",
     "outputPrepend",
     "outputPrepend"
    ]
   },
   "outputs": [],
   "source": [
    "statistics_proto_list = statistics_pb2.DatasetFeatureStatisticsList()\n",
    "for folder in tf.io.gfile.listdir(drift_reports_path):\n",
    "    statistics_proto = tfdv.load_statistics(\n",
    "        '{}/{}{}'.format(drift_reports_path, folder, 'stats.pb'))\n",
    "    new_stats_proto = statistics_proto_list.datasets.add()\n",
    "    new_stats_proto.CopyFrom(statistics_proto.datasets[0])\n",
    "    new_stats_proto.name = folder[:-1]\n",
    "\n",
    "tfdv.write_stats_text(statistics_proto_list, aggregated_statistics_path)"
   ]
  },
  {
   "cell_type": "code",
   "execution_count": 60,
   "metadata": {},
   "outputs": [
    {
     "output_type": "stream",
     "name": "stdout",
     "text": "2020-05-18T19:07-2020-05-18T20:07\n2020-05-18T20:07-2020-05-18T21:07\n2020-05-18T21:07-2020-05-18T22:07\n2020-05-18T22:07-2020-05-18T23:07\n2020-05-18T23:07-2020-05-19T00:07\n2020-05-19T00:07-2020-05-19T01:07\n2020-05-19T01:07-2020-05-19T02:07\n2020-05-19T02:07-2020-05-19T03:07\n2020-05-19T05:07-2020-05-19T06:07\n2020-05-19T06:07-2020-05-19T07:07\n2020-05-19T07:07-2020-05-19T08:07\n2020-05-19T08:07-2020-05-19T09:07\n2020-05-19T09:07-2020-05-19T10:07\n2020-05-19T10:07-2020-05-19T11:07\n2020-05-19T11:07-2020-05-19T12:07\n2020-05-19T12:07-2020-05-19T13:07\n2020-05-19T13:07-2020-05-19T14:07\n2020-05-19T14:07-2020-05-19T15:07\n2020-05-19T15:07-2020-05-19T16:07\n"
    }
   ],
   "source": [
    "aggregated_statistics = tfdv.load_stats_text(aggregated_statistics_path)\n",
    "\n",
    "for statistics_proto in aggregated_statistics.datasets:\n",
    "    print(statistics_proto.name)"
   ]
  },
  {
   "cell_type": "code",
   "execution_count": 41,
   "metadata": {},
   "outputs": [
    {
     "output_type": "execute_result",
     "data": {
      "text/plain": "'abc'"
     },
     "metadata": {},
     "execution_count": 41
    }
   ],
   "source": [
    "l[:-1]"
   ]
  },
  {
   "cell_type": "code",
   "execution_count": 25,
   "metadata": {},
   "outputs": [
    {
     "output_type": "execute_result",
     "data": {
      "text/plain": "[('2020-05-18T19:07-2020-05-18T20:07/',\n  (datetime.datetime(2020, 5, 18, 19, 7),\n   datetime.datetime(2020, 5, 18, 20, 7))),\n ('2020-05-18T20:07-2020-05-18T21:07/',\n  (datetime.datetime(2020, 5, 18, 20, 7),\n   datetime.datetime(2020, 5, 18, 21, 7))),\n ('2020-05-18T21:07-2020-05-18T22:07/',\n  (datetime.datetime(2020, 5, 18, 21, 7),\n   datetime.datetime(2020, 5, 18, 22, 7))),\n ('2020-05-18T22:07-2020-05-18T23:07/',\n  (datetime.datetime(2020, 5, 18, 22, 7),\n   datetime.datetime(2020, 5, 18, 23, 7))),\n ('2020-05-18T23:07-2020-05-19T00:07/',\n  (datetime.datetime(2020, 5, 18, 23, 7),\n   datetime.datetime(2020, 5, 19, 0, 7))),\n ('2020-05-19T00:07-2020-05-19T01:07/',\n  (datetime.datetime(2020, 5, 19, 0, 7),\n   datetime.datetime(2020, 5, 19, 1, 7))),\n ('2020-05-19T01:07-2020-05-19T02:07/',\n  (datetime.datetime(2020, 5, 19, 1, 7),\n   datetime.datetime(2020, 5, 19, 2, 7))),\n ('2020-05-19T02:07-2020-05-19T03:07/',\n  (datetime.datetime(2020, 5, 19, 2, 7),\n   datetime.datetime(2020, 5, 19, 3, 7))),\n ('2020-05-19T05:07-2020-05-19T06:07/',\n  (datetime.datetime(2020, 5, 19, 5, 7),\n   datetime.datetime(2020, 5, 19, 6, 7))),\n ('2020-05-19T06:07-2020-05-19T07:07/',\n  (datetime.datetime(2020, 5, 19, 6, 7),\n   datetime.datetime(2020, 5, 19, 7, 7))),\n ('2020-05-19T07:07-2020-05-19T08:07/',\n  (datetime.datetime(2020, 5, 19, 7, 7),\n   datetime.datetime(2020, 5, 19, 8, 7))),\n ('2020-05-19T08:07-2020-05-19T09:07/',\n  (datetime.datetime(2020, 5, 19, 8, 7),\n   datetime.datetime(2020, 5, 19, 9, 7))),\n ('2020-05-19T09:07-2020-05-19T10:07/',\n  (datetime.datetime(2020, 5, 19, 9, 7),\n   datetime.datetime(2020, 5, 19, 10, 7))),\n ('2020-05-19T10:07-2020-05-19T11:07/',\n  (datetime.datetime(2020, 5, 19, 10, 7),\n   datetime.datetime(2020, 5, 19, 11, 7))),\n ('2020-05-19T11:07-2020-05-19T12:07/',\n  (datetime.datetime(2020, 5, 19, 11, 7),\n   datetime.datetime(2020, 5, 19, 12, 7))),\n ('2020-05-19T12:07-2020-05-19T13:07/',\n  (datetime.datetime(2020, 5, 19, 12, 7),\n   datetime.datetime(2020, 5, 19, 13, 7))),\n ('2020-05-19T13:07-2020-05-19T14:07/',\n  (datetime.datetime(2020, 5, 19, 13, 7),\n   datetime.datetime(2020, 5, 19, 14, 7))),\n ('2020-05-19T14:07-2020-05-19T15:07/',\n  (datetime.datetime(2020, 5, 19, 14, 7),\n   datetime.datetime(2020, 5, 19, 15, 7)))]"
     },
     "metadata": {},
     "execution_count": 25
    }
   ],
   "source": [
    "drift_reports = [(folder, (datetime.fromisoformat(folder[0:16]), datetime.fromisoformat(folder[17:33]))) \n",
    "                 for folder in tf.io.gfile.listdir(drift_reports_path)]\n",
    "drift_reports"
   ]
  },
  {
   "cell_type": "raw",
   "metadata": {},
   "source": [
    "schema_path = 'schema.pbtxt'\n",
    "schema = tfdv.load_schema_text(schema_path)"
   ]
  },
  {
   "cell_type": "code",
   "execution_count": null,
   "metadata": {},
   "outputs": [],
   "source": []
  },
  {
   "cell_type": "code",
   "execution_count": null,
   "metadata": {},
   "outputs": [],
   "source": []
  },
  {
   "cell_type": "code",
   "execution_count": 2,
   "metadata": {},
   "outputs": [],
   "source": [
    "OUTPUT_PATH = 'gs://mlops-dev-workspace/drift_monitor/output/tf'\n",
    " \n",
    "_STATS_FILENAME='stats.pb'\n",
    "_ANOMALIES_FILENAME='anomalies.pbtxt'\n",
    "\n",
    "stats_output_path = os.path.join(OUTPUT_PATH, _STATS_FILENAME)\n",
    "anomalies_output_path = os.path.join(OUTPUT_PATH, _ANOMALIES_FILENAME)"
   ]
  },
  {
   "cell_type": "code",
   "execution_count": 3,
   "metadata": {},
   "outputs": [
    {
     "output_type": "stream",
     "name": "stdout",
     "text": "WARNING:tensorflow:From /opt/conda/lib/python3.7/site-packages/tensorflow_data_validation/utils/stats_util.py:227: tf_record_iterator (from tensorflow.python.lib.io.tf_record) is deprecated and will be removed in a future version.\nInstructions for updating:\nUse eager execution and: \n`tf.data.TFRecordDataset(path)`\n"
    }
   ],
   "source": [
    "stats = tfdv.load_statistics(stats_output_path)"
   ]
  },
  {
   "cell_type": "code",
   "execution_count": 4,
   "metadata": {},
   "outputs": [
    {
     "output_type": "display_data",
     "data": {
      "text/plain": "<IPython.core.display.HTML object>",
      "text/html": "<iframe id='facets-iframe' width=\"100%\" height=\"500px\"></iframe>\n        <script>\n        facets_iframe = document.getElementById('facets-iframe');\n        facets_html = '<script src=\"https://cdnjs.cloudflare.com/ajax/libs/webcomponentsjs/1.3.3/webcomponents-lite.js\"><\\/script><link rel=\"import\" href=\"https://raw.githubusercontent.com/PAIR-code/facets/master/facets-dist/facets-jupyter.html\"><facets-overview proto-input=\"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\"></facets-overview>';\n        facets_iframe.srcdoc = facets_html;\n         facets_iframe.id = \"\";\n         setTimeout(() => {\n           facets_iframe.setAttribute('height', facets_iframe.contentWindow.document.body.offsetHeight + 'px')\n         }, 1500)\n         </script>"
     },
     "metadata": {}
    }
   ],
   "source": [
    "tfdv.visualize_statistics(stats)"
   ]
  },
  {
   "cell_type": "code",
   "execution_count": 5,
   "metadata": {},
   "outputs": [],
   "source": [
    "anomalies = tfdv.load_anomalies_text(anomalies_output_path)"
   ]
  },
  {
   "cell_type": "code",
   "execution_count": 6,
   "metadata": {},
   "outputs": [
    {
     "output_type": "display_data",
     "data": {
      "text/plain": "             Anomaly short description  \\\nFeature name                             \n'Soil_Type'   Unexpected string values   \n'Cover_Type'  Column dropped             \n\n                                                                                                                                                                                                                                                                                                                                                                                                                                                                            Anomaly long description  \nFeature name                                                                                                                                                                                                                                                                                                                                                                                                                                                                                          \n'Soil_Type'   Examples contain values missing from the schema: 2702 (<1%), 2703 (~1%), 2704 (<1%), 2705 (~2%), 2706 (<1%), 2717 (~1%), 4201 (<1%), 4703 (~6%), 4704 (~2%), 4744 (~4%), 4758 (~2%), 5101 (<1%), 6101 (<1%), 6102 (<1%), 6731 (<1%), 7101 (<1%), 7102 (<1%), 7103 (<1%), 7201 (~5%), 7202 (~9%), 7700 (~2%), 7701 (<1%), 7702 (<1%), 7710 (<1%), 7745 (~22%), 7746 (~4%), 7755 (~4%), 7756 (~9%), 7757 (~7%), 7790 (<1%), 8703 (<1%), 8707 (<1%), 8771 (~3%), 8772 (~1%), 8776 (~1%).   \n'Cover_Type'  Column is completely missing                                                                                                                                                                                                                                                                                                                                                                                                                                                            ",
      "text/html": "<div>\n<style scoped>\n    .dataframe tbody tr th:only-of-type {\n        vertical-align: middle;\n    }\n\n    .dataframe tbody tr th {\n        vertical-align: top;\n    }\n\n    .dataframe thead th {\n        text-align: right;\n    }\n</style>\n<table border=\"1\" class=\"dataframe\">\n  <thead>\n    <tr style=\"text-align: right;\">\n      <th></th>\n      <th>Anomaly short description</th>\n      <th>Anomaly long description</th>\n    </tr>\n    <tr>\n      <th>Feature name</th>\n      <th></th>\n      <th></th>\n    </tr>\n  </thead>\n  <tbody>\n    <tr>\n      <th>'Soil_Type'</th>\n      <td>Unexpected string values</td>\n      <td>Examples contain values missing from the schema: 2702 (&lt;1%), 2703 (~1%), 2704 (&lt;1%), 2705 (~2%), 2706 (&lt;1%), 2717 (~1%), 4201 (&lt;1%), 4703 (~6%), 4704 (~2%), 4744 (~4%), 4758 (~2%), 5101 (&lt;1%), 6101 (&lt;1%), 6102 (&lt;1%), 6731 (&lt;1%), 7101 (&lt;1%), 7102 (&lt;1%), 7103 (&lt;1%), 7201 (~5%), 7202 (~9%), 7700 (~2%), 7701 (&lt;1%), 7702 (&lt;1%), 7710 (&lt;1%), 7745 (~22%), 7746 (~4%), 7755 (~4%), 7756 (~9%), 7757 (~7%), 7790 (&lt;1%), 8703 (&lt;1%), 8707 (&lt;1%), 8771 (~3%), 8772 (~1%), 8776 (~1%).</td>\n    </tr>\n    <tr>\n      <th>'Cover_Type'</th>\n      <td>Column dropped</td>\n      <td>Column is completely missing</td>\n    </tr>\n  </tbody>\n</table>\n</div>"
     },
     "metadata": {}
    }
   ],
   "source": [
    "tfdv.display_anomalies(anomalies)"
   ]
  },
  {
   "cell_type": "code",
   "execution_count": null,
   "metadata": {},
   "outputs": [],
   "source": []
  }
 ],
 "metadata": {
  "environment": {
   "name": "tf2-gpu.2-1.m46",
   "type": "gcloud",
   "uri": "gcr.io/deeplearning-platform-release/tf2-gpu.2-1:m46"
  },
  "kernelspec": {
   "display_name": "Python 3",
   "language": "python",
   "name": "python3"
  },
  "language_info": {
   "codemirror_mode": {
    "name": "ipython",
    "version": 3
   },
   "file_extension": ".py",
   "mimetype": "text/x-python",
   "name": "python",
   "nbconvert_exporter": "python",
   "pygments_lexer": "ipython3",
   "version": "3.7.6-final"
  }
 },
 "nbformat": 4,
 "nbformat_minor": 4
}