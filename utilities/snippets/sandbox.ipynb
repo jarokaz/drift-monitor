{
 "cells": [
  {
   "cell_type": "code",
   "execution_count": 1,
   "metadata": {},
   "outputs": [],
   "source": [
    "import googleapiclient.discovery\n",
    "import tensorflow as tf\n",
    "import pandas as pd\n",
    "import json"
   ]
  },
  {
   "cell_type": "code",
   "execution_count": 2,
   "metadata": {},
   "outputs": [],
   "source": [
    "PROJECT = 'mlops-dev-env'\n",
    "BUCKET =  'mlops-dev-workspace'\n",
    "GCS_DATA_LOCATION = 'gs://workshop-datasets/covertype/data_validation/evaluation/dataset.csv'\n",
    "REGION = 'us-central1'\n",
    "LOCAL_WORKSPACE = '/home/jarekk/workspace'\n",
    "LOCAL_DATA_DIR = os.path.join(LOCAL_WORKSPACE, 'data')\n",
    "CSV_DATA_FILE = '{}/data.csv'.format(LOCAL_DATA_DIR)\n",
    "JSON_DATA_FILE = '{}/json_instances'.format(LOCAL_DATA_DIR)\n",
    "BQ_DATASET_NAME = 'data_validation'\n",
    "BQ_TABLE_NAME = 'covertype_classifier_logs_tf'\n",
    "MODEL_NAME = 'covertype_classifier_tf'\n",
    "VERSION_NAME = 'v2'\n",
    "TRAINING_DIR = os.path.join(LOCAL_WORKSPACE, 'training')\n",
    "MODEL_DIR = os.path.join(TRAINING_DIR, 'exported_model')"
   ]
  },
  {
   "cell_type": "code",
   "execution_count": 14,
   "metadata": {},
   "outputs": [
    {
     "output_type": "stream",
     "name": "stdout",
     "text": "Removing previous workspace artifacts...\nCreating a new workspace...\n"
    }
   ],
   "source": [
    "if tf.io.gfile.exists(LOCAL_WORKSPACE):\n",
    "  print(\"Removing previous workspace artifacts...\")\n",
    "  tf.io.gfile.rmtree(LOCAL_WORKSPACE)\n",
    "\n",
    "print(\"Creating a new workspace...\")\n",
    "tf.io.gfile.makedirs(LOCAL_WORKSPACE)\n",
    "tf.io.gfile.makedirs(LOCAL_DATA_DIR)"
   ]
  },
  {
   "cell_type": "code",
   "execution_count": 15,
   "metadata": {},
   "outputs": [
    {
     "output_type": "stream",
     "name": "stdout",
     "text": "gs://workshop-datasets/covertype/data_validation/evaluation/dataset.csv\n"
    }
   ],
   "source": [
    "!gsutil ls {GCS_DATA_LOCATION}"
   ]
  },
  {
   "cell_type": "code",
   "execution_count": 16,
   "metadata": {},
   "outputs": [
    {
     "output_type": "stream",
     "name": "stdout",
     "text": "Copying gs://workshop-datasets/covertype/data_validation/evaluation/dataset.csv...\n\nOperation completed over 1 objects/3.9 MiB.                                      \n"
    }
   ],
   "source": [
    "!gsutil cp {GCS_DATA_LOCATION} {CSV_DATA_FILE}\n"
   ]
  },
  {
   "cell_type": "code",
   "execution_count": 9,
   "metadata": {},
   "outputs": [
    {
     "output_type": "stream",
     "name": "stdout",
     "text": "Elevation,Aspect,Slope,Horizontal_Distance_To_Hydrology,Vertical_Distance_To_Hydrology,Horizontal_Distance_To_Roadways,Hillshade_9am,Hillshade_Noon,Hillshade_3pm,Horizontal_Distance_To_Fire_Points,Wilderness_Area,Soil_Type,Cover_Type\n2814,55,17,30,8,2483,228,201,100,2727,Rawah,7202,1\n2903,149,4,108,7,5148,225,239,149,4713,Rawah,6101,1\n3338,236,10,300,27,1008,202,249,184,1620,Commanche,7756,0\n3305,153,20,60,9,2353,240,237,118,324,Commanche,8703,6\n2788,107,7,0,0,2533,233,232,131,3896,Rawah,7202,1\n2609,101,35,170,68,1050,252,172,17,624,Commanche,4758,2\n3175,38,10,210,38,1537,220,217,131,95,Rawah,7201,0\n2606,253,7,417,135,547,204,245,179,503,Commanche,2703,2\n2945,90,3,240,78,600,224,234,146,1803,Commanche,7756,0\n"
    }
   ],
   "source": [
    "!head {CSV_DATA_FILE}"
   ]
  },
  {
   "cell_type": "code",
   "execution_count": 11,
   "metadata": {},
   "outputs": [
    {
     "output_type": "execute_result",
     "data": {
      "text/plain": "       Elevation  Aspect  Slope  Horizontal_Distance_To_Hydrology  \\\n0           2814      55     17                                30   \n1           2903     149      4                               108   \n2           3338     236     10                               300   \n3           3305     153     20                                60   \n4           2788     107      7                                 0   \n...          ...     ...    ...                               ...   \n74995       3294     336     14                               268   \n74996       3372      74     31                               408   \n74997       3295     225     16                               319   \n74998       3125      84     10                               283   \n74999       3361     337     20                               514   \n\n       Vertical_Distance_To_Hydrology  Horizontal_Distance_To_Roadways  \\\n0                                   8                             2483   \n1                                   7                             5148   \n2                                  27                             1008   \n3                                   9                             2353   \n4                                   0                             2533   \n...                               ...                              ...   \n74995                             -37                             1460   \n74996                             138                             1860   \n74997                               1                             1739   \n74998                              43                             1980   \n74999                             158                             2285   \n\n       Hillshade_9am  Hillshade_Noon  Hillshade_3pm  \\\n0                228             201            100   \n1                225             239            149   \n2                202             249            184   \n3                240             237            118   \n4                233             232            131   \n...              ...             ...            ...   \n74995            187             220            171   \n74996            239             167             35   \n74997            196             253            190   \n74998            234             224            121   \n74999            172             208            173   \n\n       Horizontal_Distance_To_Fire_Points Wilderness_Area  Soil_Type  \\\n0                                    2727           Rawah       7202   \n1                                    4713           Rawah       6101   \n2                                    1620       Commanche       7756   \n3                                     324       Commanche       8703   \n4                                    3896           Rawah       7202   \n...                                   ...             ...        ...   \n74995                                1945           Neota       7202   \n74996                                2063           Rawah       8776   \n74997                                3997           Neota       7756   \n74998                                3264       Commanche       7700   \n74999                                 920       Commanche       8772   \n\n       Cover_Type  \n0               1  \n1               1  \n2               0  \n3               6  \n4               1  \n...           ...  \n74995           0  \n74996           0  \n74997           0  \n74998           0  \n74999           6  \n\n[75000 rows x 13 columns]",
      "text/html": "<div>\n<style scoped>\n    .dataframe tbody tr th:only-of-type {\n        vertical-align: middle;\n    }\n\n    .dataframe tbody tr th {\n        vertical-align: top;\n    }\n\n    .dataframe thead th {\n        text-align: right;\n    }\n</style>\n<table border=\"1\" class=\"dataframe\">\n  <thead>\n    <tr style=\"text-align: right;\">\n      <th></th>\n      <th>Elevation</th>\n      <th>Aspect</th>\n      <th>Slope</th>\n      <th>Horizontal_Distance_To_Hydrology</th>\n      <th>Vertical_Distance_To_Hydrology</th>\n      <th>Horizontal_Distance_To_Roadways</th>\n      <th>Hillshade_9am</th>\n      <th>Hillshade_Noon</th>\n      <th>Hillshade_3pm</th>\n      <th>Horizontal_Distance_To_Fire_Points</th>\n      <th>Wilderness_Area</th>\n      <th>Soil_Type</th>\n      <th>Cover_Type</th>\n    </tr>\n  </thead>\n  <tbody>\n    <tr>\n      <th>0</th>\n      <td>2814</td>\n      <td>55</td>\n      <td>17</td>\n      <td>30</td>\n      <td>8</td>\n      <td>2483</td>\n      <td>228</td>\n      <td>201</td>\n      <td>100</td>\n      <td>2727</td>\n      <td>Rawah</td>\n      <td>7202</td>\n      <td>1</td>\n    </tr>\n    <tr>\n      <th>1</th>\n      <td>2903</td>\n      <td>149</td>\n      <td>4</td>\n      <td>108</td>\n      <td>7</td>\n      <td>5148</td>\n      <td>225</td>\n      <td>239</td>\n      <td>149</td>\n      <td>4713</td>\n      <td>Rawah</td>\n      <td>6101</td>\n      <td>1</td>\n    </tr>\n    <tr>\n      <th>2</th>\n      <td>3338</td>\n      <td>236</td>\n      <td>10</td>\n      <td>300</td>\n      <td>27</td>\n      <td>1008</td>\n      <td>202</td>\n      <td>249</td>\n      <td>184</td>\n      <td>1620</td>\n      <td>Commanche</td>\n      <td>7756</td>\n      <td>0</td>\n    </tr>\n    <tr>\n      <th>3</th>\n      <td>3305</td>\n      <td>153</td>\n      <td>20</td>\n      <td>60</td>\n      <td>9</td>\n      <td>2353</td>\n      <td>240</td>\n      <td>237</td>\n      <td>118</td>\n      <td>324</td>\n      <td>Commanche</td>\n      <td>8703</td>\n      <td>6</td>\n    </tr>\n    <tr>\n      <th>4</th>\n      <td>2788</td>\n      <td>107</td>\n      <td>7</td>\n      <td>0</td>\n      <td>0</td>\n      <td>2533</td>\n      <td>233</td>\n      <td>232</td>\n      <td>131</td>\n      <td>3896</td>\n      <td>Rawah</td>\n      <td>7202</td>\n      <td>1</td>\n    </tr>\n    <tr>\n      <th>...</th>\n      <td>...</td>\n      <td>...</td>\n      <td>...</td>\n      <td>...</td>\n      <td>...</td>\n      <td>...</td>\n      <td>...</td>\n      <td>...</td>\n      <td>...</td>\n      <td>...</td>\n      <td>...</td>\n      <td>...</td>\n      <td>...</td>\n    </tr>\n    <tr>\n      <th>74995</th>\n      <td>3294</td>\n      <td>336</td>\n      <td>14</td>\n      <td>268</td>\n      <td>-37</td>\n      <td>1460</td>\n      <td>187</td>\n      <td>220</td>\n      <td>171</td>\n      <td>1945</td>\n      <td>Neota</td>\n      <td>7202</td>\n      <td>0</td>\n    </tr>\n    <tr>\n      <th>74996</th>\n      <td>3372</td>\n      <td>74</td>\n      <td>31</td>\n      <td>408</td>\n      <td>138</td>\n      <td>1860</td>\n      <td>239</td>\n      <td>167</td>\n      <td>35</td>\n      <td>2063</td>\n      <td>Rawah</td>\n      <td>8776</td>\n      <td>0</td>\n    </tr>\n    <tr>\n      <th>74997</th>\n      <td>3295</td>\n      <td>225</td>\n      <td>16</td>\n      <td>319</td>\n      <td>1</td>\n      <td>1739</td>\n      <td>196</td>\n      <td>253</td>\n      <td>190</td>\n      <td>3997</td>\n      <td>Neota</td>\n      <td>7756</td>\n      <td>0</td>\n    </tr>\n    <tr>\n      <th>74998</th>\n      <td>3125</td>\n      <td>84</td>\n      <td>10</td>\n      <td>283</td>\n      <td>43</td>\n      <td>1980</td>\n      <td>234</td>\n      <td>224</td>\n      <td>121</td>\n      <td>3264</td>\n      <td>Commanche</td>\n      <td>7700</td>\n      <td>0</td>\n    </tr>\n    <tr>\n      <th>74999</th>\n      <td>3361</td>\n      <td>337</td>\n      <td>20</td>\n      <td>514</td>\n      <td>158</td>\n      <td>2285</td>\n      <td>172</td>\n      <td>208</td>\n      <td>173</td>\n      <td>920</td>\n      <td>Commanche</td>\n      <td>8772</td>\n      <td>6</td>\n    </tr>\n  </tbody>\n</table>\n<p>75000 rows × 13 columns</p>\n</div>"
     },
     "metadata": {},
     "execution_count": 11
    }
   ],
   "source": [
    "df = pd.read_csv(CSV_DATA_FILE)\n",
    "df"
   ]
  },
  {
   "cell_type": "code",
   "execution_count": 14,
   "metadata": {},
   "outputs": [],
   "source": [
    "with open(JSON_DATA_FILE, 'w') as f:\n",
    "    for row in df.iterrows():\n",
    "        feature_dict = {key: [value] for key, value in row[1].to_dict().items()}\n",
    "        feature_dict['Soil_Type'] = [str(feature_dict['Soil_Type'][0])]\n",
    "        json_object = json.dumps(feature_dict)\n",
    "        f.write(json_object)\n",
    "        f.write('\\n')"
   ]
  },
  {
   "cell_type": "code",
   "execution_count": 15,
   "metadata": {
    "tags": [
     "outputPrepend",
     "outputPrepend",
     "outputPrepend",
     "outputPrepend",
     "outputPrepend",
     "outputPrepend",
     "outputPrepend",
     "outputPrepend",
     "outputPrepend",
     "outputPrepend",
     "outputPrepend",
     "outputPrepend",
     "outputPrepend",
     "outputPrepend",
     "outputPrepend",
     "outputPrepend",
     "outputPrepend",
     "outputPrepend",
     "outputPrepend",
     "outputPrepend",
     "outputPrepend",
     "outputPrepend",
     "outputPrepend",
     "outputPrepend",
     "outputPrepend",
     "outputPrepend",
     "outputPrepend",
     "outputPrepend",
     "outputPrepend",
     "outputPrepend",
     "outputPrepend",
     "outputPrepend",
     "outputPrepend",
     "outputPrepend",
     "outputPrepend",
     "outputPrepend",
     "outputPrepend",
     "outputPrepend",
     "outputPrepend",
     "outputPrepend",
     "outputPrepend",
     "outputPrepend",
     "outputPrepend",
     "outputPrepend",
     "outputPrepend",
     "outputPrepend",
     "outputPrepend",
     "outputPrepend",
     "outputPrepend",
     "outputPrepend",
     "outputPrepend",
     "outputPrepend",
     "outputPrepend",
     "outputPrepend",
     "outputPrepend",
     "outputPrepend",
     "outputPrepend",
     "outputPrepend",
     "outputPrepend",
     "outputPrepend",
     "outputPrepend",
     "outputPrepend",
     "outputPrepend",
     "outputPrepend",
     "outputPrepend",
     "outputPrepend",
     "outputPrepend",
     "outputPrepend",
     "outputPrepend",
     "outputPrepend",
     "outputPrepend",
     "outputPrepend",
     "outputPrepend",
     "outputPrepend",
     "outputPrepend",
     "outputPrepend",
     "outputPrepend",
     "outputPrepend",
     "outputPrepend",
     "outputPrepend",
     "outputPrepend",
     "outputPrepend",
     "outputPrepend",
     "outputPrepend"
    ]
   },
   "outputs": [
    {
     "output_type": "stream",
     "name": "stdout",
     "text": "{\"Elevation\": [2814], \"Aspect\": [55], \"Slope\": [17], \"Horizontal_Distance_To_Hydrology\": [30], \"Vertical_Distance_To_Hydrology\": [8], \"Horizontal_Distance_To_Roadways\": [2483], \"Hillshade_9am\": [228], \"Hillshade_Noon\": [201], \"Hillshade_3pm\": [100], \"Horizontal_Distance_To_Fire_Points\": [2727], \"Wilderness_Area\": [\"Rawah\"], \"Soil_Type\": [\"7202\"], \"Cover_Type\": [1]}\n{\"Elevation\": [2903], \"Aspect\": [149], \"Slope\": [4], \"Horizontal_Distance_To_Hydrology\": [108], \"Vertical_Distance_To_Hydrology\": [7], \"Horizontal_Distance_To_Roadways\": [5148], \"Hillshade_9am\": [225], \"Hillshade_Noon\": [239], \"Hillshade_3pm\": [149], \"Horizontal_Distance_To_Fire_Points\": [4713], \"Wilderness_Area\": [\"Rawah\"], \"Soil_Type\": [\"6101\"], \"Cover_Type\": [1]}\n{\"Elevation\": [3338], \"Aspect\": [236], \"Slope\": [10], \"Horizontal_Distance_To_Hydrology\": [300], \"Vertical_Distance_To_Hydrology\": [27], \"Horizontal_Distance_To_Roadways\": [1008], \"Hillshade_9am\": [202], \"Hillshade_Noon\": [249], \"Hillshade_3pm\": [184], \"Horizontal_Distance_To_Fire_Points\": [1620], \"Wilderness_Area\": [\"Commanche\"], \"Soil_Type\": [\"7756\"], \"Cover_Type\": [0]}\n{\"Elevation\": [3305], \"Aspect\": [153], \"Slope\": [20], \"Horizontal_Distance_To_Hydrology\": [60], \"Vertical_Distance_To_Hydrology\": [9], \"Horizontal_Distance_To_Roadways\": [2353], \"Hillshade_9am\": [240], \"Hillshade_Noon\": [237], \"Hillshade_3pm\": [118], \"Horizontal_Distance_To_Fire_Points\": [324], \"Wilderness_Area\": [\"Commanche\"], \"Soil_Type\": [\"8703\"], \"Cover_Type\": [6]}\n{\"Elevation\": [2788], \"Aspect\": [107], \"Slope\": [7], \"Horizontal_Distance_To_Hydrology\": [0], \"Vertical_Distance_To_Hydrology\": [0], \"Horizontal_Distance_To_Roadways\": [2533], \"Hillshade_9am\": [233], \"Hillshade_Noon\": [232], \"Hillshade_3pm\": [131], \"Horizontal_Distance_To_Fire_Points\": [3896], \"Wilderness_Area\": [\"Rawah\"], \"Soil_Type\": [\"7202\"], \"Cover_Type\": [1]}\n{\"Elevation\": [2609], \"Aspect\": [101], \"Slope\": [35], \"Horizontal_Distance_To_Hydrology\": [170], \"Vertical_Distance_To_Hydrology\": [68], \"Horizontal_Distance_To_Roadways\": [1050], \"Hillshade_9am\": [252], \"Hillshade_Noon\": [172], \"Hillshade_3pm\": [17], \"Horizontal_Distance_To_Fire_Points\": [624], \"Wilderness_Area\": [\"Commanche\"], \"Soil_Type\": [\"4758\"], \"Cover_Type\": [2]}\n{\"Elevation\": [3175], \"Aspect\": [38], \"Slope\": [10], \"Horizontal_Distance_To_Hydrology\": [210], \"Vertical_Distance_To_Hydrology\": [38], \"Horizontal_Distance_To_Roadways\": [1537], \"Hillshade_9am\": [220], \"Hillshade_Noon\": [217], \"Hillshade_3pm\": [131], \"Horizontal_Distance_To_Fire_Points\": [95], \"Wilderness_Area\": [\"Rawah\"], \"Soil_Type\": [\"7201\"], \"Cover_Type\": [0]}\n{\"Elevation\": [2606], \"Aspect\": [253], \"Slope\": [7], \"Horizontal_Distance_To_Hydrology\": [417], \"Vertical_Distance_To_Hydrology\": [135], \"Horizontal_Distance_To_Roadways\": [547], \"Hillshade_9am\": [204], \"Hillshade_Noon\": [245], \"Hillshade_3pm\": [179], \"Horizontal_Distance_To_Fire_Points\": [503], \"Wilderness_Area\": [\"Commanche\"], \"Soil_Type\": [\"2703\"], \"Cover_Type\": [2]}\n{\"Elevation\": [2945], \"Aspect\": [90], \"Slope\": [3], \"Horizontal_Distance_To_Hydrology\": [240], \"Vertical_Distance_To_Hydrology\": [78], \"Horizontal_Distance_To_Roadways\": [600], \"Hillshade_9am\": [224], \"Hillshade_Noon\": [234], \"Hillshade_3pm\": [146], \"Horizontal_Distance_To_Fire_Points\": [1803], \"Wilderness_Area\": [\"Commanche\"], \"Soil_Type\": [\"7756\"], \"Cover_Type\": [0]}\n{\"Elevation\": [3195], \"Aspect\": [119], \"Slope\": [14], \"Horizontal_Distance_To_Hydrology\": [339], \"Vertical_Distance_To_Hydrology\": [10], \"Horizontal_Distance_To_Roadways\": [658], \"Hillshade_9am\": [244], \"Hillshade_Noon\": [227], \"Hillshade_3pm\": [108], \"Horizontal_Distance_To_Fire_Points\": [942], \"Wilderness_Area\": [\"Neota\"], \"Soil_Type\": [\"7756\"], \"Cover_Type\": [1]}\n"
    }
   ],
   "source": [
    "!head {JSON_DATA_FILE}"
   ]
  },
  {
   "cell_type": "code",
   "execution_count": 34,
   "metadata": {},
   "outputs": [
    {
     "output_type": "stream",
     "name": "stdout",
     "text": "75000\n"
    }
   ],
   "source": [
    "!cat {JSON_DATA_FILE} | wc -l"
   ]
  },
  {
   "cell_type": "code",
   "execution_count": 35,
   "metadata": {},
   "outputs": [
    {
     "output_type": "execute_result",
     "data": {
      "text/plain": "75000"
     },
     "metadata": {},
     "execution_count": 35
    }
   ],
   "source": [
    "len(df)"
   ]
  },
  {
   "cell_type": "code",
   "execution_count": 2,
   "metadata": {},
   "outputs": [],
   "source": [
    "def my_iterator(l1):\n",
    "    for item in l1:\n",
    "        yield item"
   ]
  },
  {
   "cell_type": "code",
   "execution_count": null,
   "metadata": {},
   "outputs": [],
   "source": []
  },
  {
   "cell_type": "code",
   "execution_count": 18,
   "metadata": {},
   "outputs": [],
   "source": [
    "l1 = [1, 2, 3]"
   ]
  },
  {
   "cell_type": "code",
   "execution_count": 19,
   "metadata": {},
   "outputs": [],
   "source": [
    "iter1 = my_iterator(l1)"
   ]
  },
  {
   "cell_type": "code",
   "execution_count": 20,
   "metadata": {},
   "outputs": [
    {
     "output_type": "execute_result",
     "data": {
      "text/plain": "generator"
     },
     "metadata": {},
     "execution_count": 20
    }
   ],
   "source": [
    "type(iter1)"
   ]
  },
  {
   "cell_type": "code",
   "execution_count": 22,
   "metadata": {},
   "outputs": [
    {
     "output_type": "execute_result",
     "data": {
      "text/plain": "2"
     },
     "metadata": {},
     "execution_count": 22
    }
   ],
   "source": [
    "next(iter1)"
   ]
  },
  {
   "cell_type": "code",
   "execution_count": 16,
   "metadata": {},
   "outputs": [
    {
     "output_type": "error",
     "ename": "AttributeError",
     "evalue": "'generator' object has no attribute 'next'",
     "traceback": [
      "\u001b[0;31m---------------------------------------------------------------------------\u001b[0m",
      "\u001b[0;31mAttributeError\u001b[0m                            Traceback (most recent call last)",
      "\u001b[0;32m<ipython-input-16-e97a0f4742ad>\u001b[0m in \u001b[0;36m<module>\u001b[0;34m\u001b[0m\n\u001b[0;32m----> 1\u001b[0;31m \u001b[0mm\u001b[0m\u001b[0;34m.\u001b[0m\u001b[0mnext\u001b[0m\u001b[0;34m(\u001b[0m\u001b[0;34m)\u001b[0m\u001b[0;34m\u001b[0m\u001b[0;34m\u001b[0m\u001b[0m\n\u001b[0m",
      "\u001b[0;31mAttributeError\u001b[0m: 'generator' object has no attribute 'next'"
     ]
    }
   ],
   "source": [
    "m.next()"
   ]
  },
  {
   "cell_type": "code",
   "execution_count": 2,
   "metadata": {},
   "outputs": [
    {
     "output_type": "execute_result",
     "data": {
      "text/plain": "'0.22.0'"
     },
     "metadata": {},
     "execution_count": 2
    }
   ],
   "source": [
    "tfdv.__version__"
   ]
  },
  {
   "cell_type": "code",
   "execution_count": 1,
   "metadata": {},
   "outputs": [],
   "source": [
    "file = '/home/jarekk/ttt/test.tfrecords'"
   ]
  },
  {
   "cell_type": "code",
   "execution_count": 2,
   "metadata": {},
   "outputs": [
    {
     "output_type": "stream",
     "name": "stdout",
     "text": "/home/jarekk/ttt/test.tfrecords\n"
    }
   ],
   "source": [
    "!ls {file}"
   ]
  },
  {
   "cell_type": "code",
   "execution_count": 12,
   "metadata": {},
   "outputs": [],
   "source": [
    "import tensorflow_data_validation as tfdv\n",
    "import pandas as pd\n",
    "from tensorflow_data_validation.utils import slicing_util\n"
   ]
  },
  {
   "cell_type": "code",
   "execution_count": 10,
   "metadata": {},
   "outputs": [],
   "source": [
    "file = '/home/jarekk/workspace/data/eval.csv'"
   ]
  },
  {
   "cell_type": "code",
   "execution_count": 13,
   "metadata": {},
   "outputs": [
    {
     "output_type": "execute_result",
     "data": {
      "text/plain": "       Elevation  Aspect  Slope  Horizontal_Distance_To_Hydrology  \\\n0           2814      55     17                                30   \n1           2903     149      4                               108   \n2           3338     236     10                               300   \n3           3305     153     20                                60   \n4           2788     107      7                                 0   \n...          ...     ...    ...                               ...   \n74995       3294     336     14                               268   \n74996       3372      74     31                               408   \n74997       3295     225     16                               319   \n74998       3125      84     10                               283   \n74999       3361     337     20                               514   \n\n       Vertical_Distance_To_Hydrology  Horizontal_Distance_To_Roadways  \\\n0                                   8                             2483   \n1                                   7                             5148   \n2                                  27                             1008   \n3                                   9                             2353   \n4                                   0                             2533   \n...                               ...                              ...   \n74995                             -37                             1460   \n74996                             138                             1860   \n74997                               1                             1739   \n74998                              43                             1980   \n74999                             158                             2285   \n\n       Hillshade_9am  Hillshade_Noon  Hillshade_3pm  \\\n0                228             201            100   \n1                225             239            149   \n2                202             249            184   \n3                240             237            118   \n4                233             232            131   \n...              ...             ...            ...   \n74995            187             220            171   \n74996            239             167             35   \n74997            196             253            190   \n74998            234             224            121   \n74999            172             208            173   \n\n       Horizontal_Distance_To_Fire_Points Wilderness_Area  Soil_Type  \\\n0                                    2727           Rawah       7202   \n1                                    4713           Rawah       6101   \n2                                    1620       Commanche       7756   \n3                                     324       Commanche       8703   \n4                                    3896           Rawah       7202   \n...                                   ...             ...        ...   \n74995                                1945           Neota       7202   \n74996                                2063           Rawah       8776   \n74997                                3997           Neota       7756   \n74998                                3264       Commanche       7700   \n74999                                 920       Commanche       8772   \n\n       Cover_Type  \n0               1  \n1               1  \n2               0  \n3               6  \n4               1  \n...           ...  \n74995           0  \n74996           0  \n74997           0  \n74998           0  \n74999           6  \n\n[75000 rows x 13 columns]",
      "text/html": "<div>\n<style scoped>\n    .dataframe tbody tr th:only-of-type {\n        vertical-align: middle;\n    }\n\n    .dataframe tbody tr th {\n        vertical-align: top;\n    }\n\n    .dataframe thead th {\n        text-align: right;\n    }\n</style>\n<table border=\"1\" class=\"dataframe\">\n  <thead>\n    <tr style=\"text-align: right;\">\n      <th></th>\n      <th>Elevation</th>\n      <th>Aspect</th>\n      <th>Slope</th>\n      <th>Horizontal_Distance_To_Hydrology</th>\n      <th>Vertical_Distance_To_Hydrology</th>\n      <th>Horizontal_Distance_To_Roadways</th>\n      <th>Hillshade_9am</th>\n      <th>Hillshade_Noon</th>\n      <th>Hillshade_3pm</th>\n      <th>Horizontal_Distance_To_Fire_Points</th>\n      <th>Wilderness_Area</th>\n      <th>Soil_Type</th>\n      <th>Cover_Type</th>\n    </tr>\n  </thead>\n  <tbody>\n    <tr>\n      <th>0</th>\n      <td>2814</td>\n      <td>55</td>\n      <td>17</td>\n      <td>30</td>\n      <td>8</td>\n      <td>2483</td>\n      <td>228</td>\n      <td>201</td>\n      <td>100</td>\n      <td>2727</td>\n      <td>Rawah</td>\n      <td>7202</td>\n      <td>1</td>\n    </tr>\n    <tr>\n      <th>1</th>\n      <td>2903</td>\n      <td>149</td>\n      <td>4</td>\n      <td>108</td>\n      <td>7</td>\n      <td>5148</td>\n      <td>225</td>\n      <td>239</td>\n      <td>149</td>\n      <td>4713</td>\n      <td>Rawah</td>\n      <td>6101</td>\n      <td>1</td>\n    </tr>\n    <tr>\n      <th>2</th>\n      <td>3338</td>\n      <td>236</td>\n      <td>10</td>\n      <td>300</td>\n      <td>27</td>\n      <td>1008</td>\n      <td>202</td>\n      <td>249</td>\n      <td>184</td>\n      <td>1620</td>\n      <td>Commanche</td>\n      <td>7756</td>\n      <td>0</td>\n    </tr>\n    <tr>\n      <th>3</th>\n      <td>3305</td>\n      <td>153</td>\n      <td>20</td>\n      <td>60</td>\n      <td>9</td>\n      <td>2353</td>\n      <td>240</td>\n      <td>237</td>\n      <td>118</td>\n      <td>324</td>\n      <td>Commanche</td>\n      <td>8703</td>\n      <td>6</td>\n    </tr>\n    <tr>\n      <th>4</th>\n      <td>2788</td>\n      <td>107</td>\n      <td>7</td>\n      <td>0</td>\n      <td>0</td>\n      <td>2533</td>\n      <td>233</td>\n      <td>232</td>\n      <td>131</td>\n      <td>3896</td>\n      <td>Rawah</td>\n      <td>7202</td>\n      <td>1</td>\n    </tr>\n    <tr>\n      <th>...</th>\n      <td>...</td>\n      <td>...</td>\n      <td>...</td>\n      <td>...</td>\n      <td>...</td>\n      <td>...</td>\n      <td>...</td>\n      <td>...</td>\n      <td>...</td>\n      <td>...</td>\n      <td>...</td>\n      <td>...</td>\n      <td>...</td>\n    </tr>\n    <tr>\n      <th>74995</th>\n      <td>3294</td>\n      <td>336</td>\n      <td>14</td>\n      <td>268</td>\n      <td>-37</td>\n      <td>1460</td>\n      <td>187</td>\n      <td>220</td>\n      <td>171</td>\n      <td>1945</td>\n      <td>Neota</td>\n      <td>7202</td>\n      <td>0</td>\n    </tr>\n    <tr>\n      <th>74996</th>\n      <td>3372</td>\n      <td>74</td>\n      <td>31</td>\n      <td>408</td>\n      <td>138</td>\n      <td>1860</td>\n      <td>239</td>\n      <td>167</td>\n      <td>35</td>\n      <td>2063</td>\n      <td>Rawah</td>\n      <td>8776</td>\n      <td>0</td>\n    </tr>\n    <tr>\n      <th>74997</th>\n      <td>3295</td>\n      <td>225</td>\n      <td>16</td>\n      <td>319</td>\n      <td>1</td>\n      <td>1739</td>\n      <td>196</td>\n      <td>253</td>\n      <td>190</td>\n      <td>3997</td>\n      <td>Neota</td>\n      <td>7756</td>\n      <td>0</td>\n    </tr>\n    <tr>\n      <th>74998</th>\n      <td>3125</td>\n      <td>84</td>\n      <td>10</td>\n      <td>283</td>\n      <td>43</td>\n      <td>1980</td>\n      <td>234</td>\n      <td>224</td>\n      <td>121</td>\n      <td>3264</td>\n      <td>Commanche</td>\n      <td>7700</td>\n      <td>0</td>\n    </tr>\n    <tr>\n      <th>74999</th>\n      <td>3361</td>\n      <td>337</td>\n      <td>20</td>\n      <td>514</td>\n      <td>158</td>\n      <td>2285</td>\n      <td>172</td>\n      <td>208</td>\n      <td>173</td>\n      <td>920</td>\n      <td>Commanche</td>\n      <td>8772</td>\n      <td>6</td>\n    </tr>\n  </tbody>\n</table>\n<p>75000 rows × 13 columns</p>\n</div>"
     },
     "metadata": {},
     "execution_count": 13
    }
   ],
   "source": [
    "df = pd.read_csv(file)\n",
    "df"
   ]
  },
  {
   "cell_type": "code",
   "execution_count": 14,
   "metadata": {},
   "outputs": [],
   "source": [
    "slice_fn = slicing_util.get_feature_value_slicer(features={'Wilderness_Area': None})\n",
    "\n",
    "stats_options = tfdv.StatsOptions(\n",
    "    slice_functions=[slice_fn])\n",
    "\n",
    "#stats = tfdv.generate_statistics_from_csv(\n",
    "#    data_location=file,\n",
    "#    stats_options=stats_options)\n",
    "\n",
    "stats = tfdv.generate_statistics_from_dataframe(\n",
    "    dataframe=df,\n",
    "    stats_options=stats_options)\n"
   ]
  },
  {
   "cell_type": "code",
   "execution_count": 15,
   "metadata": {},
   "outputs": [
    {
     "output_type": "display_data",
     "data": {
      "text/plain": "<IPython.core.display.HTML object>",
      "text/html": "<iframe id='facets-iframe' width=\"100%\" height=\"500px\"></iframe>\n        <script>\n        facets_iframe = document.getElementById('facets-iframe');\n        facets_html = '<script src=\"https://cdnjs.cloudflare.com/ajax/libs/webcomponentsjs/1.3.3/webcomponents-lite.js\"><\\/script><link rel=\"import\" href=\"https://raw.githubusercontent.com/PAIR-code/facets/master/facets-dist/facets-jupyter.html\"><facets-overview proto-input=\"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\"></facets-overview>';\n        facets_iframe.srcdoc = facets_html;\n         facets_iframe.id = \"\";\n         setTimeout(() => {\n           facets_iframe.setAttribute('height', facets_iframe.contentWindow.document.body.offsetHeight + 'px')\n         }, 1500)\n         </script>"
     },
     "metadata": {}
    }
   ],
   "source": [
    "tfdv.visualize_statistics(stats)"
   ]
  },
  {
   "cell_type": "code",
   "execution_count": 3,
   "metadata": {},
   "outputs": [],
   "source": [
    "import tensorflow_data_validation as tfdv"
   ]
  },
  {
   "cell_type": "code",
   "execution_count": 4,
   "metadata": {},
   "outputs": [],
   "source": [
    "output_folder = 'gs://mlops-dev-workspace/drift_monitor/output/tf/test'"
   ]
  },
  {
   "cell_type": "code",
   "execution_count": 7,
   "metadata": {},
   "outputs": [],
   "source": [
    "stats = tfdv.load_statistics(output_folder + '/stats.pb')\n"
   ]
  },
  {
   "cell_type": "code",
   "execution_count": 8,
   "metadata": {
    "tags": [
     "outputPrepend"
    ]
   },
   "outputs": [
    {
     "output_type": "stream",
     "name": "stdout",
     "text": "All Examples\ntime_slice_2020-05-25T15:50_2020-05-25T16:50\ntime_slice_2020-05-25T16:50_2020-05-25T17:50\ntime_slice_2020-05-25T17:50_2020-05-25T18:50\ntime_slice_2020-05-25T19:50_2020-05-25T20:50\ntime_slice_2020-05-25T20:50_2020-05-25T21:50\ntime_slice_2020-05-25T21:50_2020-05-25T22:50\ntime_slice_2020-05-25T18:50_2020-05-25T19:50\n"
    }
   ],
   "source": [
    "for stat in stats.datasets:\n",
    "    print(stat.name)"
   ]
  },
  {
   "cell_type": "code",
   "execution_count": 9,
   "metadata": {},
   "outputs": [
    {
     "output_type": "display_data",
     "data": {
      "text/plain": "<IPython.core.display.HTML object>",
      "text/html": "<iframe id='facets-iframe' width=\"100%\" height=\"500px\"></iframe>\n        <script>\n        facets_iframe = document.getElementById('facets-iframe');\n        facets_html = '<script src=\"https://cdnjs.cloudflare.com/ajax/libs/webcomponentsjs/1.3.3/webcomponents-lite.js\"><\\/script><link rel=\"import\" href=\"https://raw.githubusercontent.com/PAIR-code/facets/master/facets-dist/facets-jupyter.html\"><facets-overview proto-input=\"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\"></facets-overview>';\n        facets_iframe.srcdoc = facets_html;\n         facets_iframe.id = \"\";\n         setTimeout(() => {\n           facets_iframe.setAttribute('height', facets_iframe.contentWindow.document.body.offsetHeight + 'px')\n         }, 1500)\n         </script>"
     },
     "metadata": {}
    }
   ],
   "source": [
    "full_slice_key = 'time_slice_2020-05-25T21:50_2020-05-25T22:50'\n",
    "full_stats = tfdv.get_slice_stats(stats, full_slice_key)\n",
    "\n",
    "tfdv.visualize_statistics(full_stats)"
   ]
  },
  {
   "cell_type": "code",
   "execution_count": 10,
   "metadata": {},
   "outputs": [],
   "source": [
    "anomalies = tfdv.load_anomalies_text(output_folder + '/anomalies.pbtxt')"
   ]
  },
  {
   "cell_type": "code",
   "execution_count": 11,
   "metadata": {},
   "outputs": [
    {
     "output_type": "display_data",
     "data": {
      "text/plain": "                  Anomaly short description  \\\nFeature name                                  \n'time_slice'       New column                 \n'Wilderness_Area'  Unexpected string values   \n\n                                                          Anomaly long description  \nFeature name                                                                        \n'time_slice'       New column (column in data but not in schema)                    \n'Wilderness_Area'  Examples contain values missing from the schema: Others (~1%).   ",
      "text/html": "<div>\n<style scoped>\n    .dataframe tbody tr th:only-of-type {\n        vertical-align: middle;\n    }\n\n    .dataframe tbody tr th {\n        vertical-align: top;\n    }\n\n    .dataframe thead th {\n        text-align: right;\n    }\n</style>\n<table border=\"1\" class=\"dataframe\">\n  <thead>\n    <tr style=\"text-align: right;\">\n      <th></th>\n      <th>Anomaly short description</th>\n      <th>Anomaly long description</th>\n    </tr>\n    <tr>\n      <th>Feature name</th>\n      <th></th>\n      <th></th>\n    </tr>\n  </thead>\n  <tbody>\n    <tr>\n      <th>'time_slice'</th>\n      <td>New column</td>\n      <td>New column (column in data but not in schema)</td>\n    </tr>\n    <tr>\n      <th>'Wilderness_Area'</th>\n      <td>Unexpected string values</td>\n      <td>Examples contain values missing from the schema: Others (~1%).</td>\n    </tr>\n  </tbody>\n</table>\n</div>"
     },
     "metadata": {}
    }
   ],
   "source": [
    "tfdv.display_anomalies(anomalies)"
   ]
  },
  {
   "cell_type": "code",
   "execution_count": 14,
   "metadata": {},
   "outputs": [
    {
     "output_type": "stream",
     "name": "stdout",
     "text": "time_slice\nWilderness_Area\n"
    }
   ],
   "source": [
    "for key in anomalies.anomaly_info:\n",
    "    print(key)"
   ]
  },
  {
   "cell_type": "code",
   "execution_count": 15,
   "metadata": {},
   "outputs": [
    {
     "output_type": "execute_result",
     "data": {
      "text/plain": "1"
     },
     "metadata": {},
     "execution_count": 15
    }
   ],
   "source": [
    "anomalies.anomaly_name_format"
   ]
  },
  {
   "cell_type": "code",
   "execution_count": null,
   "metadata": {},
   "outputs": [],
   "source": []
  },
  {
   "cell_type": "code",
   "execution_count": 53,
   "metadata": {},
   "outputs": [],
   "source": [
    "from tensorflow_metadata.proto.v0 import schema_pb2"
   ]
  },
  {
   "cell_type": "code",
   "execution_count": null,
   "metadata": {},
   "outputs": [],
   "source": []
  },
  {
   "cell_type": "code",
   "execution_count": 55,
   "metadata": {},
   "outputs": [],
   "source": [
    "from tensorflow_metadata.proto.v0 import anomalies_pb2"
   ]
  },
  {
   "cell_type": "code",
   "execution_count": 57,
   "metadata": {},
   "outputs": [
    {
     "output_type": "execute_result",
     "data": {
      "text/plain": "['Anomalies',\n 'AnomalyInfo',\n 'ChangedRegion',\n 'DESCRIPTOR',\n 'DiffRegion',\n 'HiddenRegion',\n 'OneSideRegion',\n 'UnchangedRegion',\n '_ANOMALIES',\n '_ANOMALIES_ANOMALYINFOENTRY',\n '_ANOMALIES_ANOMALYNAMEFORMAT',\n '_ANOMALYINFO',\n '_ANOMALYINFO_REASON',\n '_ANOMALYINFO_SEVERITY',\n '_ANOMALYINFO_TYPE',\n '_CHANGEDREGION',\n '_DIFFREGION',\n '_HIDDENREGION',\n '_ONESIDEREGION',\n '_UNCHANGEDREGION',\n '__builtins__',\n '__cached__',\n '__doc__',\n '__file__',\n '__loader__',\n '__name__',\n '__package__',\n '__spec__',\n '_b',\n '_descriptor',\n '_message',\n '_reflection',\n '_sym_db',\n '_symbol_database',\n 'sys',\n 'tensorflow__metadata_dot_proto_dot_v0_dot_path__pb2',\n 'tensorflow__metadata_dot_proto_dot_v0_dot_schema__pb2']"
     },
     "metadata": {},
     "execution_count": 57
    }
   ],
   "source": [
    "dir(anomalies_pb2)"
   ]
  },
  {
   "cell_type": "code",
   "execution_count": 16,
   "metadata": {},
   "outputs": [],
   "source": [
    "schema_file = 'gs://mlops-dev-workspace/drift-monitor/schema/schema.pbtxt'"
   ]
  },
  {
   "cell_type": "code",
   "execution_count": 18,
   "metadata": {},
   "outputs": [],
   "source": [
    "schema = tfdv.load_schema_text(schema_file)\n"
   ]
  },
  {
   "cell_type": "code",
   "execution_count": 20,
   "metadata": {},
   "outputs": [
    {
     "output_type": "stream",
     "name": "stdout",
     "text": "Elevation 3\nAspect 3\nSlope 3\nHorizontal_Distance_To_Hydrology 3\nVertical_Distance_To_Hydrology 3\nHorizontal_Distance_To_Roadways 3\nHillshade_9am 3\nHillshade_Noon 3\nHillshade_3pm 3\nHorizontal_Distance_To_Fire_Points 3\nSoil_Type 1\nWilderness_Area 1\n"
    }
   ],
   "source": [
    "for feature in schema.feature:\n",
    "    print(feature.name, feature.type)"
   ]
  },
  {
   "cell_type": "code",
   "execution_count": null,
   "metadata": {},
   "outputs": [],
   "source": []
  }
 ],
 "metadata": {
  "language_info": {
   "codemirror_mode": {
    "name": "ipython",
    "version": 3
   },
   "file_extension": ".py",
   "mimetype": "text/x-python",
   "name": "python",
   "nbconvert_exporter": "python",
   "pygments_lexer": "ipython3",
   "version": "3.7.6-final"
  },
  "orig_nbformat": 2,
  "kernelspec": {
   "name": "python3",
   "display_name": "Python 3"
  }
 },
 "nbformat": 4,
 "nbformat_minor": 2
}