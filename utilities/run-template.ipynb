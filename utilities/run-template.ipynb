{
 "cells": [
  {
   "cell_type": "markdown",
   "metadata": {},
   "source": [
    "# Deploying and invoking Drift Detector Dataflow Flex template"
   ]
  },
  {
   "cell_type": "code",
   "execution_count": 3,
   "metadata": {},
   "outputs": [],
   "source": [
    "import json\n",
    "from datetime import datetime\n",
    "import time\n",
    "import googleapiclient.discovery\n"
   ]
  },
  {
   "cell_type": "markdown",
   "metadata": {},
   "source": [
    "## Trigger a run of the template using REST API"
   ]
  },
  {
   "cell_type": "code",
   "execution_count": 8,
   "metadata": {},
   "outputs": [],
   "source": [
    "template_path = 'gs://mlops-dev-workspace/dataflow-templates/log_analyzer.json'\n",
    "location = 'us-central1'\n",
    "project_id = 'mlops-dev-env'"
   ]
  },
  {
   "cell_type": "code",
   "execution_count": 9,
   "metadata": {},
   "outputs": [
    {
     "output_type": "execute_result",
     "data": {
      "text/plain": "{'job': {'id': '2020-06-04_15_07_41-10816826781620628839',\n  'projectId': 'mlops-dev-env',\n  'name': 'rr-log-analyzer-20200604-220740',\n  'currentStateTime': '1970-01-01T00:00:00Z',\n  'createTime': '2020-06-04T22:07:41.618675Z',\n  'location': 'us-central1',\n  'startTime': '2020-06-04T22:07:41.618675Z'}}"
     },
     "metadata": {},
     "execution_count": 9
    }
   ],
   "source": [
    "service = googleapiclient.discovery.build('dataflow', 'v1b3')\n",
    "\n",
    "parameters = {\n",
    "    'request_response_log_table': 'mlops-dev-env.data_validation.covertype_logs_tf',\n",
    "    'model': 'covertype_tf',\n",
    "    'version': 'v3',\n",
    "    'start_time': '2020-06-03T17:00:00',\n",
    "    'end_time': '2020-06-03T23:00:00',\n",
    "    'output_path': 'gs://mlops-dev-workspace/drift-monitor/output/covertype-tf/test',\n",
    "    'schema_file': 'gs://mlops-dev-workspace/drift-monitor/schema/schema.pbtxt',\n",
    "    'baseline_stats_file': 'gs://mlops-dev-workspace/drift-monitor/baseline_stats/stats.pbtxt', \n",
    "    'time_window': '60m'\n",
    "}\n",
    "job_name = \"log-analyzer-{}\".format(time.strftime(\"%Y%m%d-%H%M%S\"))\n",
    "body = {\n",
    "    'launch_parameter': \n",
    "         {\n",
    "             'jobName': job_name,\n",
    "             'parameters' : parameters,\n",
    "             'containerSpecGcsPath': template_path\n",
    "         }}\n",
    "\n",
    "request = service.projects().locations().flexTemplates().launch(\n",
    "    location=location,\n",
    "    projectId=project_id,\n",
    "    body=body)\n",
    "\n",
    "response = request.execute()\n",
    "response"
   ]
  },
  {
   "cell_type": "markdown",
   "metadata": {},
   "source": [
    "## Trigger a run of the template using REST API - Curl"
   ]
  },
  {
   "cell_type": "code",
   "execution_count": null,
   "metadata": {},
   "outputs": [],
   "source": [
    "service_url = 'https://dataflow.googleapis.com/v1b3/projects/{}/locations/us-central1/flexTemplates:launch'.format(project_id)\n",
    "headers_content = 'Content-Type: application/json'\n",
    "access_token = !(gcloud auth print-access-token) \n",
    "headers_auth = 'Authorization: Bearer {}'.format(access_token[0])\n",
    "parameters = {\n",
    "    'request_response_log_table': 'mlops-dev-env.data_validation.covertype_logs_tf',\n",
    "    'model': 'covertype_tf',\n",
    "    'version': 'v3',\n",
    "    'start_time': '2020-06-03T16:15:00',\n",
    "    'end_time': '2020-06-03T22:51:00',\n",
    "    'output_path': 'gs://mlops-dev-workspace/drift_monitor/output/tf/test2',\n",
    "    'schema_file': 'gs://mlops-dev-workspace/drift_monitor/schema/schema.pbtxt',\n",
    "    'time_window': '60m'\n",
    "\n",
    "}\n",
    "job_name = \"data-drift-{}\".format(time.strftime(\"%Y%m%d-%H%M%S\"))\n",
    "body = {\n",
    "    'launch_parameter': \n",
    "         {\n",
    "             'jobName': job_name,\n",
    "             'parameters' : parameters,\n",
    "             'containerSpecGcsPath': template_path\n",
    "         }}\n",
    "\n",
    "json_body = json.dumps(body)"
   ]
  },
  {
   "cell_type": "code",
   "execution_count": null,
   "metadata": {},
   "outputs": [],
   "source": [
    "!curl -X POST \\\n",
    "  \"{service_url}\" \\\n",
    "  -H \"{headers_content}\" \\\n",
    "  -H \"{headers_auth}\" \\\n",
    "  -d '{json_body}'"
   ]
  },
  {
   "cell_type": "markdown",
   "metadata": {},
   "source": [
    "## Trigger a run of the template using `gcloud`"
   ]
  },
  {
   "cell_type": "code",
   "execution_count": null,
   "metadata": {},
   "outputs": [],
   "source": [
    "job_name = \"data-drift-{}\".format(time.strftime(\"%Y%m%d-%H%M%S\"))\n",
    "g_parameters = ','.join(['{}={}'.format(key,value) for key, value in parameters.items()])\n",
    "\n",
    "!gcloud beta dataflow flex-template run {job_name} \\\n",
    "--template-file-gcs-location {template_path} \\\n",
    "--parameters {g_parameters}"
   ]
  },
  {
   "cell_type": "code",
   "execution_count": null,
   "metadata": {},
   "outputs": [],
   "source": []
  }
 ],
 "metadata": {
  "environment": {
   "name": "common-cpu.m47",
   "type": "gcloud",
   "uri": "gcr.io/deeplearning-platform-release/base-cpu:m47"
  },
  "kernelspec": {
   "display_name": "Python 3",
   "language": "python",
   "name": "python3"
  },
  "language_info": {
   "codemirror_mode": {
    "name": "ipython",
    "version": 3
   },
   "file_extension": ".py",
   "mimetype": "text/x-python",
   "name": "python",
   "nbconvert_exporter": "python",
   "pygments_lexer": "ipython3",
   "version": "3.7.6-final"
  }
 },
 "nbformat": 4,
 "nbformat_minor": 4
}