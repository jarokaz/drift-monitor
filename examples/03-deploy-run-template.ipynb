{
 "cells": [
  {
   "cell_type": "markdown",
   "metadata": {},
   "source": [
    "# Deploying and triggering Flex template runs"
   ]
  },
  {
   "cell_type": "code",
   "execution_count": 3,
   "metadata": {},
   "outputs": [
    {
     "output_type": "stream",
     "name": "stdout",
     "text": "/home/jarekk/repos/drift-monitor/drift_detector\n"
    }
   ],
   "source": [
    "%cd ../drift_detector"
   ]
  },
  {
   "cell_type": "code",
   "execution_count": 4,
   "metadata": {},
   "outputs": [],
   "source": [
    "import json\n",
    "from datetime import datetime\n",
    "import time"
   ]
  },
  {
   "cell_type": "markdown",
   "metadata": {},
   "source": [
    "## Build the Flex template docker image"
   ]
  },
  {
   "cell_type": "code",
   "execution_count": 5,
   "metadata": {},
   "outputs": [
    {
     "output_type": "stream",
     "name": "stdout",
     "text": "total 40\ndrwxr-xr-x  4 jarekk jarekk 4096 May 17 17:13 .\ndrwxr-xr-x 10 jarekk jarekk 4096 May 17 17:03 ..\ndrwxr-xr-x  3 jarekk jarekk 4096 May 17 17:06 coders\n-rw-r--r--  1 jarekk jarekk  895 May 17 17:24 Dockerfile\n-rw-r--r--  1 jarekk jarekk  784 May 13 18:26 __init__.py\n-rw-r--r--  1 jarekk jarekk 1966 May 15 02:46 metadata.json\n-rw-r--r--  1 jarekk jarekk 4491 May 16 15:48 run.py\n-rw-r--r--  1 jarekk jarekk  256 May 13 18:26 setup.py\ndrwxr-xr-x  2 jarekk jarekk 4096 May 17 17:13 utils\n"
    }
   ],
   "source": [
    "!ls -la"
   ]
  },
  {
   "cell_type": "code",
   "execution_count": 37,
   "metadata": {
    "tags": [
     "outputPrepend",
     "outputPrepend",
     "outputPrepend",
     "outputPrepend",
     "outputPrepend",
     "outputPrepend",
     "outputPrepend",
     "outputPrepend",
     "outputPrepend",
     "outputPrepend",
     "outputPrepend",
     "outputPrepend",
     "outputPrepend",
     "outputPrepend"
    ]
   },
   "outputs": [
    {
     "output_type": "stream",
     "name": "stdout",
     "text": "e-packages (from apache-beam[gcp]<3,>=2.20->tensorflow_data_validation[visualization]==0.22.0) (2.8.1)\nRequirement already satisfied, skipping upgrade: pymongo<4.0.0,>=3.8.0 in /usr/local/lib/python3.5/site-packages (from apache-beam[gcp]<3,>=2.20->tensorflow_data_validation[visualization]==0.22.0) (3.9.0)\nRequirement already satisfied, skipping upgrade: avro-python3!=1.9.2,<1.10.0,>=1.8.1; python_version >= \"3.0\" in /usr/local/lib/python3.5/site-packages (from apache-beam[gcp]<3,>=2.20->tensorflow_data_validation[visualization]==0.22.0) (1.8.2)\nCollecting typing<3.8.0,>=3.7.0; python_version < \"3.5.3\"\n  Downloading typing-3.7.4.1-py3-none-any.whl (25 kB)\nRequirement already satisfied, skipping upgrade: dill<0.3.2,>=0.3.1.1 in /usr/local/lib/python3.5/site-packages (from apache-beam[gcp]<3,>=2.20->tensorflow_data_validation[visualization]==0.22.0) (0.3.1.1)\nRequirement already satisfied, skipping upgrade: hdfs<3.0.0,>=2.1.0 in /usr/local/lib/python3.5/site-packages (from apache-beam[gcp]<3,>=2.20->tensorflow_data_validation[visualization]==0.22.0) (2.5.8)\nRequirement already satisfied, skipping upgrade: httplib2<=0.12.0,>=0.8 in /usr/local/lib/python3.5/site-packages (from apache-beam[gcp]<3,>=2.20->tensorflow_data_validation[visualization]==0.22.0) (0.12.0)\nRequirement already satisfied, skipping upgrade: fastavro<0.22,>=0.21.4 in /usr/local/lib/python3.5/site-packages (from apache-beam[gcp]<3,>=2.20->tensorflow_data_validation[visualization]==0.22.0) (0.21.24)\nRequirement already satisfied, skipping upgrade: oauth2client<4,>=2.0.1 in /usr/local/lib/python3.5/site-packages (from apache-beam[gcp]<3,>=2.20->tensorflow_data_validation[visualization]==0.22.0) (3.0.0)\nRequirement already satisfied, skipping upgrade: pytz>=2018.3 in /usr/local/lib/python3.5/site-packages (from apache-beam[gcp]<3,>=2.20->tensorflow_data_validation[visualization]==0.22.0) (2019.3)\nRequirement already satisfied, skipping upgrade: typing-extensions<3.8.0,>=3.7.0 in /usr/local/lib/python3.5/site-packages (from apache-beam[gcp]<3,>=2.20->tensorflow_data_validation[visualization]==0.22.0) (3.7.4.1)\nRequirement already satisfied, skipping upgrade: future<1.0.0,>=0.16.0 in /usr/local/lib/python3.5/site-packages (from apache-beam[gcp]<3,>=2.20->tensorflow_data_validation[visualization]==0.22.0) (0.17.1)\nRequirement already satisfied, skipping upgrade: google-cloud-core<2,>=0.28.1; extra == \"gcp\" in /usr/local/lib/python3.5/site-packages (from apache-beam[gcp]<3,>=2.20->tensorflow_data_validation[visualization]==0.22.0) (1.1.0)\nRequirement already satisfied, skipping upgrade: google-apitools<0.5.29,>=0.5.28; extra == \"gcp\" in /usr/local/lib/python3.5/site-packages (from apache-beam[gcp]<3,>=2.20->tensorflow_data_validation[visualization]==0.22.0) (0.5.28)\nRequirement already satisfied, skipping upgrade: google-cloud-pubsub<1.1.0,>=0.39.0; extra == \"gcp\" in /usr/local/lib/python3.5/site-packages (from apache-beam[gcp]<3,>=2.20->tensorflow_data_validation[visualization]==0.22.0) (1.0.2)\nRequirement already satisfied, skipping upgrade: google-cloud-bigtable<1.1.0,>=0.31.1; extra == \"gcp\" in /usr/local/lib/python3.5/site-packages (from apache-beam[gcp]<3,>=2.20->tensorflow_data_validation[visualization]==0.22.0) (1.0.0)\nRequirement already satisfied, skipping upgrade: google-cloud-dlp<=0.13.0,>=0.12.0; extra == \"gcp\" in /usr/local/lib/python3.5/site-packages (from apache-beam[gcp]<3,>=2.20->tensorflow_data_validation[visualization]==0.22.0) (0.13.0)\nRequirement already satisfied, skipping upgrade: grpcio-gcp<1,>=0.2.2; extra == \"gcp\" in /usr/local/lib/python3.5/site-packages (from apache-beam[gcp]<3,>=2.20->tensorflow_data_validation[visualization]==0.22.0) (0.2.2)\nRequirement already satisfied, skipping upgrade: google-cloud-language<2,>=1.3.0; extra == \"gcp\" in /usr/local/lib/python3.5/site-packages (from apache-beam[gcp]<3,>=2.20->tensorflow_data_validation[visualization]==0.22.0) (1.3.0)\nRequirement already satisfied, skipping upgrade: cachetools<4,>=3.1.0; extra == \"gcp\" in /usr/local/lib/python3.5/site-packages (from apache-beam[gcp]<3,>=2.20->tensorflow_data_validation[visualization]==0.22.0) (3.1.1)\nRequirement already satisfied, skipping upgrade: google-cloud-datastore<1.8.0,>=1.7.1; extra == \"gcp\" in /usr/local/lib/python3.5/site-packages (from apache-beam[gcp]<3,>=2.20->tensorflow_data_validation[visualization]==0.22.0) (1.7.4)\nRequirement already satisfied, skipping upgrade: google-cloud-vision<0.43.0,>=0.38.0; extra == \"gcp\" in /usr/local/lib/python3.5/site-packages (from apache-beam[gcp]<3,>=2.20->tensorflow_data_validation[visualization]==0.22.0) (0.42.0)\nRequirement already satisfied, skipping upgrade: google-cloud-videointelligence<1.14.0,>=1.8.0; extra == \"gcp\" in /usr/local/lib/python3.5/site-packages (from apache-beam[gcp]<3,>=2.20->tensorflow_data_validation[visualization]==0.22.0) (1.13.0)\nRequirement already satisfied, skipping upgrade: google-cloud-bigquery<=1.24.0,>=1.6.0; extra == \"gcp\" in /usr/local/lib/python3.5/site-packages (from apache-beam[gcp]<3,>=2.20->tensorflow_data_validation[visualization]==0.22.0) (1.24.0)\nRequirement already satisfied, skipping upgrade: google-cloud-spanner<1.14.0,>=1.13.0; extra == \"gcp\" in /usr/local/lib/python3.5/site-packages (from apache-beam[gcp]<3,>=2.20->tensorflow_data_validation[visualization]==0.22.0) (1.13.0)\nRequirement already satisfied, skipping upgrade: setuptools in /usr/local/lib/python3.5/site-packages (from protobuf<4,>=3.7->tensorflow_data_validation[visualization]==0.22.0) (45.2.0)\nCollecting tensorflow-serving-api<3,>=1.15\n  Downloading tensorflow_serving_api-2.1.0-py2.py3-none-any.whl (38 kB)\nCollecting google-api-python-client<2,>=1.7.11\n  Downloading google_api_python_client-1.8.3-py3-none-any.whl (58 kB)\nRequirement already satisfied, skipping upgrade: wrapt>=1.11.1 in /usr/local/lib/python3.5/site-packages (from tensorflow!=2.0.*,<3,>=1.15->tensorflow_data_validation[visualization]==0.22.0) (1.12.1)\nRequirement already satisfied, skipping upgrade: opt-einsum>=2.3.2 in /usr/local/lib/python3.5/site-packages (from tensorflow!=2.0.*,<3,>=1.15->tensorflow_data_validation[visualization]==0.22.0) (3.2.0)\nRequirement already satisfied, skipping upgrade: termcolor>=1.1.0 in /usr/local/lib/python3.5/site-packages (from tensorflow!=2.0.*,<3,>=1.15->tensorflow_data_validation[visualization]==0.22.0) (1.1.0)\nRequirement already satisfied, skipping upgrade: tensorflow-estimator<2.2.0,>=2.1.0rc0 in /usr/local/lib/python3.5/site-packages (from tensorflow!=2.0.*,<3,>=1.15->tensorflow_data_validation[visualization]==0.22.0) (2.1.0)\nRequirement already satisfied, skipping upgrade: scipy==1.4.1; python_version >= \"3\" in /usr/local/lib/python3.5/site-packages (from tensorflow!=2.0.*,<3,>=1.15->tensorflow_data_validation[visualization]==0.22.0) (1.4.1)\nRequirement already satisfied, skipping upgrade: keras-preprocessing>=1.1.0 in /usr/local/lib/python3.5/site-packages (from tensorflow!=2.0.*,<3,>=1.15->tensorflow_data_validation[visualization]==0.22.0) (1.1.0)\nRequirement already satisfied, skipping upgrade: gast==0.2.2 in /usr/local/lib/python3.5/site-packages (from tensorflow!=2.0.*,<3,>=1.15->tensorflow_data_validation[visualization]==0.22.0) (0.2.2)\nRequirement already satisfied, skipping upgrade: keras-applications>=1.0.8 in /usr/local/lib/python3.5/site-packages (from tensorflow!=2.0.*,<3,>=1.15->tensorflow_data_validation[visualization]==0.22.0) (1.0.8)\nRequirement already satisfied, skipping upgrade: wheel>=0.26; python_version >= \"3\" in /usr/local/lib/python3.5/site-packages (from tensorflow!=2.0.*,<3,>=1.15->tensorflow_data_validation[visualization]==0.22.0) (0.34.2)\nRequirement already satisfied, skipping upgrade: google-pasta>=0.1.6 in /usr/local/lib/python3.5/site-packages (from tensorflow!=2.0.*,<3,>=1.15->tensorflow_data_validation[visualization]==0.22.0) (0.2.0)\nRequirement already satisfied, skipping upgrade: astor>=0.6.0 in /usr/local/lib/python3.5/site-packages (from tensorflow!=2.0.*,<3,>=1.15->tensorflow_data_validation[visualization]==0.22.0) (0.8.1)\nRequirement already satisfied, skipping upgrade: tensorboard<2.2.0,>=2.1.0 in /usr/local/lib/python3.5/site-packages (from tensorflow!=2.0.*,<3,>=1.15->tensorflow_data_validation[visualization]==0.22.0) (2.1.1)\nCollecting prompt-toolkit<2.1.0,>=2.0.0\n  Downloading prompt_toolkit-2.0.10-py3-none-any.whl (340 kB)\nCollecting decorator\n  Downloading decorator-4.4.2-py2.py3-none-any.whl (9.2 kB)\nCollecting backcall\n  Downloading backcall-0.1.0.tar.gz (9.7 kB)\nCollecting pickleshare\n  Downloading pickleshare-0.7.5-py2.py3-none-any.whl (6.9 kB)\nCollecting pexpect; sys_platform != \"win32\"\n  Downloading pexpect-4.8.0-py2.py3-none-any.whl (59 kB)\nCollecting jedi>=0.10\n  Downloading jedi-0.17.0-py2.py3-none-any.whl (1.1 MB)\nCollecting pygments\n  Downloading Pygments-2.6.1-py3-none-any.whl (914 kB)\nCollecting traitlets>=4.2\n  Downloading traitlets-4.3.3-py2.py3-none-any.whl (75 kB)\nRequirement already satisfied, skipping upgrade: pyparsing>=2.1.4 in /usr/local/lib/python3.5/site-packages (from pydot<2,>=1.2->tensorflow-transform<0.23,>=0.22->tensorflow_data_validation[visualization]==0.22.0) (2.4.6)\nRequirement already satisfied, skipping upgrade: pbr>=0.11 in /usr/local/lib/python3.5/site-packages (from mock<3.0.0,>=1.0.1->apache-beam[gcp]<3,>=2.20->tensorflow_data_validation[visualization]==0.22.0) (5.4.4)\nRequirement already satisfied, skipping upgrade: requests>=2.7.0 in /usr/local/lib/python3.5/site-packages (from hdfs<3.0.0,>=2.1.0->apache-beam[gcp]<3,>=2.20->tensorflow_data_validation[visualization]==0.22.0) (2.23.0)\nRequirement already satisfied, skipping upgrade: docopt in /usr/local/lib/python3.5/site-packages (from hdfs<3.0.0,>=2.1.0->apache-beam[gcp]<3,>=2.20->tensorflow_data_validation[visualization]==0.22.0) (0.6.2)\nRequirement already satisfied, skipping upgrade: pyasn1-modules>=0.0.5 in /usr/local/lib/python3.5/site-packages (from oauth2client<4,>=2.0.1->apache-beam[gcp]<3,>=2.20->tensorflow_data_validation[visualization]==0.22.0) (0.2.8)\nRequirement already satisfied, skipping upgrade: pyasn1>=0.1.7 in /usr/local/lib/python3.5/site-packages (from oauth2client<4,>=2.0.1->apache-beam[gcp]<3,>=2.20->tensorflow_data_validation[visualization]==0.22.0) (0.4.8)\nRequirement already satisfied, skipping upgrade: rsa>=3.1.4 in /usr/local/lib/python3.5/site-packages (from oauth2client<4,>=2.0.1->apache-beam[gcp]<3,>=2.20->tensorflow_data_validation[visualization]==0.22.0) (4.0)\nRequirement already satisfied, skipping upgrade: google-api-core<2.0.0dev,>=1.14.0 in /usr/local/lib/python3.5/site-packages (from google-cloud-core<2,>=0.28.1; extra == \"gcp\"->apache-beam[gcp]<3,>=2.20->tensorflow_data_validation[visualization]==0.22.0) (1.16.0)\nRequirement already satisfied, skipping upgrade: fasteners>=0.14 in /usr/local/lib/python3.5/site-packages (from google-apitools<0.5.29,>=0.5.28; extra == \"gcp\"->apache-beam[gcp]<3,>=2.20->tensorflow_data_validation[visualization]==0.22.0) (0.15)\nRequirement already satisfied, skipping upgrade: grpc-google-iam-v1<0.13dev,>=0.12.3 in /usr/local/lib/python3.5/site-packages (from google-cloud-pubsub<1.1.0,>=0.39.0; extra == \"gcp\"->apache-beam[gcp]<3,>=2.20->tensorflow_data_validation[visualization]==0.22.0) (0.12.3)\nRequirement already satisfied, skipping upgrade: google-resumable-media<0.6dev,>=0.5.0 in /usr/local/lib/python3.5/site-packages (from google-cloud-bigquery<=1.24.0,>=1.6.0; extra == \"gcp\"->apache-beam[gcp]<3,>=2.20->tensorflow_data_validation[visualization]==0.22.0) (0.5.0)\nRequirement already satisfied, skipping upgrade: google-auth<2.0dev,>=1.9.0 in /usr/local/lib/python3.5/site-packages (from google-cloud-bigquery<=1.24.0,>=1.6.0; extra == \"gcp\"->apache-beam[gcp]<3,>=2.20->tensorflow_data_validation[visualization]==0.22.0) (1.11.3)\nCollecting uritemplate<4dev,>=3.0.0\n  Downloading uritemplate-3.0.1-py2.py3-none-any.whl (15 kB)\nCollecting google-auth-httplib2>=0.0.3\n  Downloading google_auth_httplib2-0.0.3-py2.py3-none-any.whl (6.3 kB)\nRequirement already satisfied, skipping upgrade: h5py in /usr/local/lib/python3.5/site-packages (from keras-applications>=1.0.8->tensorflow!=2.0.*,<3,>=1.15->tensorflow_data_validation[visualization]==0.22.0) (2.10.0)\nRequirement already satisfied, skipping upgrade: markdown>=2.6.8 in /usr/local/lib/python3.5/site-packages (from tensorboard<2.2.0,>=2.1.0->tensorflow!=2.0.*,<3,>=1.15->tensorflow_data_validation[visualization]==0.22.0) (3.2.1)\nRequirement already satisfied, skipping upgrade: google-auth-oauthlib<0.5,>=0.4.1 in /usr/local/lib/python3.5/site-packages (from tensorboard<2.2.0,>=2.1.0->tensorflow!=2.0.*,<3,>=1.15->tensorflow_data_validation[visualization]==0.22.0) (0.4.1)\nRequirement already satisfied, skipping upgrade: werkzeug>=0.11.15 in /usr/local/lib/python3.5/site-packages (from tensorboard<2.2.0,>=2.1.0->tensorflow!=2.0.*,<3,>=1.15->tensorflow_data_validation[visualization]==0.22.0) (1.0.0)\nRequirement already satisfied, skipping upgrade: wcwidth in /usr/local/lib/python3.5/site-packages (from prompt-toolkit<2.1.0,>=2.0.0->ipython<8,>=7; python_version >= \"3\" and extra == \"visualization\"->tensorflow_data_validation[visualization]==0.22.0) (0.1.8)\nCollecting ptyprocess>=0.5\n  Downloading ptyprocess-0.6.0-py2.py3-none-any.whl (39 kB)\nCollecting parso>=0.7.0\n  Downloading parso-0.7.0-py2.py3-none-any.whl (100 kB)\nCollecting ipython-genutils\n  Downloading ipython_genutils-0.2.0-py2.py3-none-any.whl (26 kB)\nRequirement already satisfied, skipping upgrade: chardet<4,>=3.0.2 in /usr/local/lib/python3.5/site-packages (from requests>=2.7.0->hdfs<3.0.0,>=2.1.0->apache-beam[gcp]<3,>=2.20->tensorflow_data_validation[visualization]==0.22.0) (3.0.4)\nRequirement already satisfied, skipping upgrade: idna<3,>=2.5 in /usr/local/lib/python3.5/site-packages (from requests>=2.7.0->hdfs<3.0.0,>=2.1.0->apache-beam[gcp]<3,>=2.20->tensorflow_data_validation[visualization]==0.22.0) (2.9)\nRequirement already satisfied, skipping upgrade: urllib3!=1.25.0,!=1.25.1,<1.26,>=1.21.1 in /usr/local/lib/python3.5/site-packages (from requests>=2.7.0->hdfs<3.0.0,>=2.1.0->apache-beam[gcp]<3,>=2.20->tensorflow_data_validation[visualization]==0.22.0) (1.25.8)\nRequirement already satisfied, skipping upgrade: certifi>=2017.4.17 in /usr/local/lib/python3.5/site-packages (from requests>=2.7.0->hdfs<3.0.0,>=2.1.0->apache-beam[gcp]<3,>=2.20->tensorflow_data_validation[visualization]==0.22.0) (2019.11.28)\nRequirement already satisfied, skipping upgrade: monotonic>=0.1 in /usr/local/lib/python3.5/site-packages (from fasteners>=0.14->google-apitools<0.5.29,>=0.5.28; extra == \"gcp\"->apache-beam[gcp]<3,>=2.20->tensorflow_data_validation[visualization]==0.22.0) (1.5)\nRequirement already satisfied, skipping upgrade: requests-oauthlib>=0.7.0 in /usr/local/lib/python3.5/site-packages (from google-auth-oauthlib<0.5,>=0.4.1->tensorboard<2.2.0,>=2.1.0->tensorflow!=2.0.*,<3,>=1.15->tensorflow_data_validation[visualization]==0.22.0) (1.3.0)\nRequirement already satisfied, skipping upgrade: oauthlib>=3.0.0 in /usr/local/lib/python3.5/site-packages (from requests-oauthlib>=0.7.0->google-auth-oauthlib<0.5,>=0.4.1->tensorboard<2.2.0,>=2.1.0->tensorflow!=2.0.*,<3,>=1.15->tensorflow_data_validation[visualization]==0.22.0) (3.1.0)\nBuilding wheels for collected packages: absl-py, backcall\n  Building wheel for absl-py (setup.py): started\n  Building wheel for absl-py (setup.py): finished with status 'done'\n  Created wheel for absl-py: filename=absl_py-0.8.1-py3-none-any.whl size=121165 sha256=9a26ae129f5c1a5108c4e3c842099785a23805d0ffbb2cef36cbf44291f59436\n  Stored in directory: /root/.cache/pip/wheels/0c/fa/af/c3217c654740d2cffc40ab4eca9da558be4bb94dd593ef0d74\n  Building wheel for backcall (setup.py): started\n  Building wheel for backcall (setup.py): finished with status 'done'\n  Created wheel for backcall: filename=backcall-0.1.0-py3-none-any.whl size=10413 sha256=72dd4ace6dd42c90eff4ba5526819a69ab3a16e0e217440e1f2d17408e935c39\n  Stored in directory: /root/.cache/pip/wheels/cb/6f/5c/9b66a87adeb46fed2babb14407bae1271f5e41b6b34b642411\nSuccessfully built absl-py backcall\nInstalling collected packages: absl-py, tensorflow-metadata, typing, pyarrow, apache-beam, tensorflow-serving-api, uritemplate, google-auth-httplib2, google-api-python-client, tfx-bsl, tensorflow-transform, prompt-toolkit, decorator, backcall, pickleshare, ptyprocess, pexpect, parso, jedi, pygments, ipython-genutils, traitlets, ipython, tensorflow-data-validation, MarkupSafe, jinja2\n  Attempting uninstall: absl-py\n    Found existing installation: absl-py 0.9.0\n    Uninstalling absl-py-0.9.0:\n      Successfully uninstalled absl-py-0.9.0\n  Attempting uninstall: pyarrow\n    Found existing installation: pyarrow 0.15.1\n    Uninstalling pyarrow-0.15.1:\n      Successfully uninstalled pyarrow-0.15.1\nSuccessfully installed MarkupSafe-1.1.1 absl-py-0.8.1 apache-beam-2.20.0 backcall-0.1.0 decorator-4.4.2 google-api-python-client-1.8.3 google-auth-httplib2-0.0.3 ipython-7.9.0 ipython-genutils-0.2.0 jedi-0.17.0 jinja2-2.11.2 parso-0.7.0 pexpect-4.8.0 pickleshare-0.7.5 prompt-toolkit-2.0.10 ptyprocess-0.6.0 pyarrow-0.16.0 pygments-2.6.1 tensorflow-data-validation-0.22.0 tensorflow-metadata-0.22.0 tensorflow-serving-api-2.1.0 tensorflow-transform-0.22.0 tfx-bsl-0.22.0 traitlets-4.3.3 typing-3.7.4.1 uritemplate-3.0.1\n\u001b[91mWARNING: You are using pip version 20.0.2; however, version 20.1 is available.\nYou should consider upgrading via the '/usr/local/bin/python3 -m pip install --upgrade pip' command.\n\u001b[0mRemoving intermediate container 26e3e433bee9\n ---> 024f1c81774b\nStep 9/9 : ENV FLEX_TEMPLATE_PYTHON_PY_FILE=\"${WORKDIR}/run.py\"\n ---> Running in ea75908e52d9\nRemoving intermediate container ea75908e52d9\n ---> c8a312b09916\nSuccessfully built c8a312b09916\nSuccessfully tagged gcr.io/mlops-dev-env/drift-detector:latest\nPUSH\nPushing gcr.io/mlops-dev-env/drift-detector:latest\nThe push refers to repository [gcr.io/mlops-dev-env/drift-detector]\na4be18565bc8: Preparing\n6c0b424712c8: Preparing\n2416332112bb: Preparing\n402f58030b55: Preparing\n094332d57a3d: Preparing\n6031c7b3650d: Preparing\na14081ef9f26: Preparing\naab96379a6db: Preparing\n8060dfe940df: Preparing\nf21aee054dd4: Preparing\n2b86258e1b71: Preparing\n6615e78d30df: Preparing\n2d7dcf39f70c: Preparing\nc030c5cd198e: Preparing\n1711f339912c: Preparing\n1b78c584f829: Preparing\n541af53df1d8: Preparing\nb10648c26b31: Preparing\n33c8d3bf268b: Preparing\nb84a8d46e8fb: Preparing\nf66ed577df6e: Preparing\n6031c7b3650d: Waiting\na14081ef9f26: Waiting\naab96379a6db: Waiting\n8060dfe940df: Waiting\nf21aee054dd4: Waiting\n2b86258e1b71: Waiting\n6615e78d30df: Waiting\n2d7dcf39f70c: Waiting\nc030c5cd198e: Waiting\n1711f339912c: Waiting\n1b78c584f829: Waiting\n541af53df1d8: Waiting\nb10648c26b31: Waiting\n33c8d3bf268b: Waiting\nb84a8d46e8fb: Waiting\nf66ed577df6e: Waiting\n094332d57a3d: Pushed\n6c0b424712c8: Pushed\n2416332112bb: Pushed\n402f58030b55: Pushed\na14081ef9f26: Layer already exists\naab96379a6db: Layer already exists\n6031c7b3650d: Layer already exists\n8060dfe940df: Layer already exists\nf21aee054dd4: Layer already exists\n6615e78d30df: Layer already exists\n2b86258e1b71: Layer already exists\n2d7dcf39f70c: Layer already exists\n1b78c584f829: Layer already exists\n1711f339912c: Layer already exists\nc030c5cd198e: Layer already exists\n541af53df1d8: Layer already exists\nb10648c26b31: Layer already exists\n33c8d3bf268b: Layer already exists\nb84a8d46e8fb: Layer already exists\nf66ed577df6e: Layer already exists\na4be18565bc8: Pushed\nlatest: digest: sha256:0742cf05560f457d14f6c347c6b6d6b7faa8b0559ff7b5fab8fd1bf7ea2fe9a5 size: 4728\nDONE\n--------------------------------------------------------------------------------\n\nID                                    CREATE_TIME                DURATION  SOURCEIMAGES                                         STATUS\n7888927f-6ba1-48fb-8de0-514bbd1f788c  2020-05-17T19:19:04+00:00  2M3S      gs://mlops-dev-env_cloudbuild/source/1589743143.6-552aaf7d17804bf08d9002d7a680daca.tgz  gcr.io/mlops-dev-env/drift-detector (+1 more)  SUCCESS\n"
    }
   ],
   "source": [
    "template_name = 'drift-detector'\n",
    "\n",
    "project_id = !(gcloud config get-value core/project)\n",
    "project_id = project_id[0]\n",
    "template_image = 'gcr.io/{}/{}:latest'.format(project_id, template_name)\n",
    "\n",
    "!gcloud builds submit --tag {template_image} ."
   ]
  },
  {
   "cell_type": "markdown",
   "metadata": {},
   "source": [
    "## Deploy the Flex template using `gcloud`"
   ]
  },
  {
   "cell_type": "code",
   "execution_count": 38,
   "metadata": {},
   "outputs": [
    {
     "output_type": "stream",
     "name": "stdout",
     "text": "Successfully saved container spec in flex template file.\nTemplate File GCS Location: gs://mlops-dev-workspace/flex-templates/drift-detector.json\nContainer Spec:\n\n{\n    \"image\": \"gcr.io/mlops-dev-env/drift-detector:latest\",\n    \"metadata\": {\n        \"description\": \"Data drift detector Python flex template.\",\n        \"name\": \"Data drift detector Python flex template\",\n        \"parameters\": [\n            {\n                \"helpText\": \"A full name of the BQ request-response log table\",\n                \"label\": \"Request response log table.\",\n                \"name\": \"request_response_log_table\",\n                \"regexes\": [\n                    \"[-_.a-zA-Z0-9]+\"\n                ]\n            },\n            {\n                \"helpText\": \"A type of instances in request_response log_table\",\n                \"label\": \"Instance type.\",\n                \"name\": \"instance_type\",\n                \"regexes\": [\n                    \"LIST|OBJECT\"\n                ]\n            },\n            {\n                \"helpText\": \"A list of feature names for instances in simple list format.\",\n                \"is_optional\": true,\n                \"label\": \"Feature names.\",\n                \"name\": \"feature_names\",\n                \"regexes\": [\n                    \"[,-_a-zA-Z0-9]+\"\n                ]\n            },\n            {\n                \"helpText\": \"A time window start time in YYYY-MM-DDTHH:MM:SS format.\",\n                \"label\": \"Start time.\",\n                \"name\": \"start_time\",\n                \"regexes\": [\n                    \"[-:T0-9]+\"\n                ]\n            },\n            {\n                \"helpText\": \"A time window end time in YYYY-MM-DDTHH:MM:SS format.\",\n                \"label\": \"End time.\",\n                \"name\": \"end_time\",\n                \"regexes\": [\n                    \"[-:T0-9]+\"\n                ]\n            },\n            {\n                \"helpText\": \"The output path for stats and anomalies protobufs.\",\n                \"label\": \"Output path.\",\n                \"name\": \"output_path\",\n                \"regexes\": [\n                    \"gs://[-_./a-zA-Z0-9]+\"\n                ]\n            },\n            {\n                \"helpText\": \"Setup file.\",\n                \"label\": \"Setup file.\",\n                \"name\": \"setup_file\",\n                \"regexes\": [\n                    \"[-_./a-zA-Z0-9]+\"\n                ]\n            },\n            {\n                \"helpText\": \"A GCS path to schema file.\",\n                \"label\": \"Schema file.\",\n                \"name\": \"schema_file\",\n                \"regexes\": [\n                    \"gs://[-_./a-zA-Z0-9]+\"\n                ]\n            },\n            {\n                \"helpText\": \"A GCS path to a baseline statistics file.\",\n                \"is_optional\": true,\n                \"label\": \"Baseline stats file.\",\n                \"name\": \"baseline_stats_file\",\n                \"regexes\": [\n                    \"gs://[-_./a-zA-Z0-9]+\"\n                ]\n            }\n        ]\n    },\n    \"sdkInfo\": {\n        \"language\": \"PYTHON\"\n    }\n}\n"
    }
   ],
   "source": [
    "flex_templates_location = 'gs://mlops-dev-workspace/flex-templates'\n",
    "template_path = '{}/{}.json'.format(flex_templates_location, template_name)\n",
    "metadata_file = 'metadata.json'\n",
    "\n",
    "!gcloud beta dataflow flex-template build {template_path} \\\n",
    "  --image {template_image} \\\n",
    "  --sdk-language \"PYTHON\" \\\n",
    "  --metadata-file {metadata_file}"
   ]
  },
  {
   "cell_type": "code",
   "execution_count": null,
   "metadata": {},
   "outputs": [],
   "source": []
  },
  {
   "cell_type": "markdown",
   "metadata": {},
   "source": [
    "## Trigger a run of the template using REST API"
   ]
  },
  {
   "cell_type": "code",
   "execution_count": 39,
   "metadata": {},
   "outputs": [],
   "source": [
    "service_url = 'https://dataflow.googleapis.com/v1b3/projects/{}/locations/us-central1/flexTemplates:launch'.format(project_id)\n",
    "headers_content = 'Content-Type: application/json'\n",
    "access_token = !(gcloud auth print-access-token) \n",
    "headers_auth = 'Authorization: Bearer {}'.format(access_token[0])\n",
    "parameters = {\n",
    "    'request_response_log_table': 'mlops-dev-env.data_validation.covertype_classifier_logs_tf',\n",
    "    'instance_type': 'OBJECT',\n",
    "    'start_time': '2020-05-15T00:15:00',\n",
    "    'end_time': '2020-05-15T05:51:00',\n",
    "    'output_path': 'gs://mlops-dev-workspace/drift_monitor/output/tf',\n",
    "    'schema_file': 'gs://mlops-dev-workspace/drift_monitor/schema/schema.pbtxt',\n",
    "    'setup_file': './setup.py',\n",
    "\n",
    "}\n",
    "job_name = \"data-drift-{}\".format(time.strftime(\"%Y%m%d-%H%M%S\"))\n",
    "body = {\n",
    "    'launch_parameter': \n",
    "         {\n",
    "             'jobName': job_name,\n",
    "             'parameters' : parameters,\n",
    "             'containerSpecGcsPath': template_path\n",
    "         }}\n",
    "\n",
    "json_body = json.dumps(body)"
   ]
  },
  {
   "cell_type": "code",
   "execution_count": 40,
   "metadata": {},
   "outputs": [
    {
     "output_type": "stream",
     "name": "stdout",
     "text": "{\n  \"job\": {\n    \"id\": \"2020-05-17_12_21_11-2472520780605503114\",\n    \"projectId\": \"mlops-dev-env\",\n    \"name\": \"data-drift-20200517-192110\",\n    \"currentStateTime\": \"1970-01-01T00:00:00Z\",\n    \"createTime\": \"2020-05-17T19:21:12.702168Z\",\n    \"location\": \"us-central1\",\n    \"startTime\": \"2020-05-17T19:21:12.702168Z\"\n  }\n}\n"
    }
   ],
   "source": [
    "!curl -X POST \\\n",
    "  \"{service_url}\" \\\n",
    "  -H \"{headers_content}\" \\\n",
    "  -H \"{headers_auth}\" \\\n",
    "  -d '{json_body}'"
   ]
  },
  {
   "cell_type": "markdown",
   "metadata": {},
   "source": [
    "## Trigger a run of the template using `gcloud`"
   ]
  },
  {
   "cell_type": "code",
   "execution_count": null,
   "metadata": {},
   "outputs": [],
   "source": [
    "job_name = \"data-drift-{}\".format(time.strftime(\"%Y%m%d-%H%M%S\"))\n",
    "g_parameters = ','.join(['{}={}'.format(key,value) for key, value in parameters.items()])\n",
    "\n",
    "!gcloud beta dataflow flex-template run {job_name} \\\n",
    "--template-file-gcs-location {template_path} \\\n",
    "--parameters {g_parameters}"
   ]
  },
  {
   "cell_type": "code",
   "execution_count": null,
   "metadata": {},
   "outputs": [],
   "source": []
  }
 ],
 "metadata": {
  "language_info": {
   "codemirror_mode": {
    "name": "ipython",
    "version": 3
   },
   "file_extension": ".py",
   "mimetype": "text/x-python",
   "name": "python",
   "nbconvert_exporter": "python",
   "pygments_lexer": "ipython3",
   "version": "3.7.6-final"
  },
  "orig_nbformat": 2,
  "kernelspec": {
   "name": "python3",
   "display_name": "Python 3"
  }
 },
 "nbformat": 4,
 "nbformat_minor": 2
}