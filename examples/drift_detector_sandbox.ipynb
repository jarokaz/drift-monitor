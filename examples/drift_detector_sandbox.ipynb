{
 "cells": [
  {
   "cell_type": "code",
   "execution_count": 1,
   "metadata": {},
   "outputs": [],
   "source": [
    "import tensorflow_data_validation as tfdv\n",
    "import pandas as pd\n",
    "import datetime\n",
    "\n",
    "from tensorflow_data_validation.utils import slicing_util\n"
   ]
  },
  {
   "cell_type": "code",
   "execution_count": 4,
   "metadata": {},
   "outputs": [
    {
     "output_type": "execute_result",
     "data": {
      "text/plain": "'0.22.0'"
     },
     "metadata": {},
     "execution_count": 4
    }
   ],
   "source": [
    "tfdv.__version__"
   ]
  },
  {
   "cell_type": "code",
   "execution_count": 2,
   "metadata": {},
   "outputs": [],
   "source": [
    "data_location= 'gs://workshop-datasets/covertype/small/dataset.csv'\n",
    "output_location = 'gs://mlops-dev-env/testing/tfdv-output'"
   ]
  },
  {
   "cell_type": "code",
   "execution_count": 3,
   "metadata": {},
   "outputs": [
    {
     "output_type": "stream",
     "name": "stdout",
     "text": "Elevation,Aspect,Slope,Horizontal_Distance_To_Hydrology,Vertical_Distance_To_Hydrology,Horizontal_Distance_To_Roadways,Hillshade_9am,Hillshade_Noon,Hillshade_3pm,Horizontal_Distance_To_Fire_Points,Wilderness_Area,Soil_Type,Cover_Type\n3142,183,9,648,101,757,223,247,157,1871,Commanche,C7757,1\n2156,18,28,0,0,1207,187,170,107,960,Cache,C6102,3\n1967,124,16,60,9,124,245,227,105,451,Cache,C2704,2\n3237,305,15,663,19,3593,178,231,193,1260,Commanche,C7201,0\n2981,221,18,150,14,4584,195,254,191,1822,Rawah,C7"
    }
   ],
   "source": [
    "!gsutil cat -r 0-500 {data_location}"
   ]
  },
  {
   "cell_type": "code",
   "execution_count": 5,
   "metadata": {},
   "outputs": [
    {
     "output_type": "stream",
     "name": "stderr",
     "text": "WARNING:apache_beam.runners.interactive.interactive_environment:Dependencies required for Interactive Beam PCollection visualization are not available, please use: `pip install apache-beam[interactive]` to install necessary dependencies to enable all data visualization features.\nWARNING:apache_beam.io.tfrecordio:Couldn't find python-snappy so the implementation of _TFRecordUtil._masked_crc32c is not as fast as it could be.\nWARNING:tensorflow:From /opt/conda/lib/python3.7/site-packages/tensorflow_data_validation/utils/stats_util.py:227: tf_record_iterator (from tensorflow.python.lib.io.tf_record) is deprecated and will be removed in a future version.\nInstructions for updating:\nUse eager execution and: \n`tf.data.TFRecordDataset(path)`\nWARNING:tensorflow:From /opt/conda/lib/python3.7/site-packages/tensorflow_data_validation/utils/stats_util.py:227: tf_record_iterator (from tensorflow.python.lib.io.tf_record) is deprecated and will be removed in a future version.\nInstructions for updating:\nUse eager execution and: \n`tf.data.TFRecordDataset(path)`\n"
    }
   ],
   "source": [
    "stats = tfdv.generate_statistics_from_csv(data_location)"
   ]
  },
  {
   "cell_type": "code",
   "execution_count": 12,
   "metadata": {},
   "outputs": [
    {
     "output_type": "execute_result",
     "data": {
      "text/plain": "step: \"Wilderness_Area\""
     },
     "metadata": {},
     "execution_count": 12
    }
   ],
   "source": [
    "stats.datasets[0].features[0].path"
   ]
  },
  {
   "cell_type": "code",
   "execution_count": 13,
   "metadata": {},
   "outputs": [],
   "source": [
    "path = tfdv.FeaturePath(\"Wilderness_Area\")"
   ]
  },
  {
   "cell_type": "code",
   "execution_count": 14,
   "metadata": {},
   "outputs": [
    {
     "output_type": "execute_result",
     "data": {
      "text/plain": "<tensorflow_data_validation.types.FeaturePath at 0x7f50e52b1510>"
     },
     "metadata": {},
     "execution_count": 14
    }
   ],
   "source": [
    "tfdv"
   ]
  },
  {
   "cell_type": "code",
   "execution_count": 38,
   "metadata": {},
   "outputs": [
    {
     "output_type": "execute_result",
     "data": {
      "text/plain": "       Elevation  Aspect  Slope  Horizontal_Distance_To_Hydrology  \\\n0           3142     183      9                               648   \n1           2156      18     28                                 0   \n2           1967     124     16                                60   \n3           3237     305     15                               663   \n4           2981     221     18                               150   \n...          ...     ...    ...                               ...   \n99995       2710     245     10                               175   \n99996       2854      99      9                                60   \n99997       2936      64      7                               285   \n99998       2602      98      7                               379   \n99999       3303      57     10                                 0   \n\n       Vertical_Distance_To_Hydrology  Horizontal_Distance_To_Roadways  \\\n0                                 101                              757   \n1                                   0                             1207   \n2                                   9                              124   \n3                                  19                             3593   \n4                                  14                             4584   \n...                               ...                              ...   \n99995                              41                              417   \n99996                              12                             2581   \n99997                              23                             4808   \n99998                              74                              691   \n99999                               0                             2197   \n\n       Hillshade_9am  Hillshade_Noon  Hillshade_3pm  \\\n0                223             247            157   \n1                187             170            107   \n2                245             227            105   \n3                178             231            193   \n4                195             254            191   \n...              ...             ...            ...   \n99995            200             248            185   \n99996            235             228            123   \n99997            227             226            133   \n99998            232             230            130   \n99999            227             219            125   \n\n       Horizontal_Distance_To_Fire_Points Wilderness_Area Soil_Type  \\\n0                                    1871       Commanche     C7757   \n1                                     960           Cache     C6102   \n2                                     451           Cache     C2704   \n3                                    1260       Commanche     C7201   \n4                                    1822           Rawah     C7745   \n...                                   ...             ...       ...   \n99995                                 335           Rawah     C7746   \n99996                                2160           Rawah     C7745   \n99997                                2804           Rawah     C7745   \n99998                                1445       Commanche     C2703   \n99999                                2832           Rawah     C8772   \n\n       Cover_Type  \n0               1  \n1               3  \n2               2  \n3               0  \n4               0  \n...           ...  \n99995           1  \n99996           1  \n99997           0  \n99998           5  \n99999           6  \n\n[100000 rows x 13 columns]",
      "text/html": "<div>\n<style scoped>\n    .dataframe tbody tr th:only-of-type {\n        vertical-align: middle;\n    }\n\n    .dataframe tbody tr th {\n        vertical-align: top;\n    }\n\n    .dataframe thead th {\n        text-align: right;\n    }\n</style>\n<table border=\"1\" class=\"dataframe\">\n  <thead>\n    <tr style=\"text-align: right;\">\n      <th></th>\n      <th>Elevation</th>\n      <th>Aspect</th>\n      <th>Slope</th>\n      <th>Horizontal_Distance_To_Hydrology</th>\n      <th>Vertical_Distance_To_Hydrology</th>\n      <th>Horizontal_Distance_To_Roadways</th>\n      <th>Hillshade_9am</th>\n      <th>Hillshade_Noon</th>\n      <th>Hillshade_3pm</th>\n      <th>Horizontal_Distance_To_Fire_Points</th>\n      <th>Wilderness_Area</th>\n      <th>Soil_Type</th>\n      <th>Cover_Type</th>\n    </tr>\n  </thead>\n  <tbody>\n    <tr>\n      <th>0</th>\n      <td>3142</td>\n      <td>183</td>\n      <td>9</td>\n      <td>648</td>\n      <td>101</td>\n      <td>757</td>\n      <td>223</td>\n      <td>247</td>\n      <td>157</td>\n      <td>1871</td>\n      <td>Commanche</td>\n      <td>C7757</td>\n      <td>1</td>\n    </tr>\n    <tr>\n      <th>1</th>\n      <td>2156</td>\n      <td>18</td>\n      <td>28</td>\n      <td>0</td>\n      <td>0</td>\n      <td>1207</td>\n      <td>187</td>\n      <td>170</td>\n      <td>107</td>\n      <td>960</td>\n      <td>Cache</td>\n      <td>C6102</td>\n      <td>3</td>\n    </tr>\n    <tr>\n      <th>2</th>\n      <td>1967</td>\n      <td>124</td>\n      <td>16</td>\n      <td>60</td>\n      <td>9</td>\n      <td>124</td>\n      <td>245</td>\n      <td>227</td>\n      <td>105</td>\n      <td>451</td>\n      <td>Cache</td>\n      <td>C2704</td>\n      <td>2</td>\n    </tr>\n    <tr>\n      <th>3</th>\n      <td>3237</td>\n      <td>305</td>\n      <td>15</td>\n      <td>663</td>\n      <td>19</td>\n      <td>3593</td>\n      <td>178</td>\n      <td>231</td>\n      <td>193</td>\n      <td>1260</td>\n      <td>Commanche</td>\n      <td>C7201</td>\n      <td>0</td>\n    </tr>\n    <tr>\n      <th>4</th>\n      <td>2981</td>\n      <td>221</td>\n      <td>18</td>\n      <td>150</td>\n      <td>14</td>\n      <td>4584</td>\n      <td>195</td>\n      <td>254</td>\n      <td>191</td>\n      <td>1822</td>\n      <td>Rawah</td>\n      <td>C7745</td>\n      <td>0</td>\n    </tr>\n    <tr>\n      <th>...</th>\n      <td>...</td>\n      <td>...</td>\n      <td>...</td>\n      <td>...</td>\n      <td>...</td>\n      <td>...</td>\n      <td>...</td>\n      <td>...</td>\n      <td>...</td>\n      <td>...</td>\n      <td>...</td>\n      <td>...</td>\n      <td>...</td>\n    </tr>\n    <tr>\n      <th>99995</th>\n      <td>2710</td>\n      <td>245</td>\n      <td>10</td>\n      <td>175</td>\n      <td>41</td>\n      <td>417</td>\n      <td>200</td>\n      <td>248</td>\n      <td>185</td>\n      <td>335</td>\n      <td>Rawah</td>\n      <td>C7746</td>\n      <td>1</td>\n    </tr>\n    <tr>\n      <th>99996</th>\n      <td>2854</td>\n      <td>99</td>\n      <td>9</td>\n      <td>60</td>\n      <td>12</td>\n      <td>2581</td>\n      <td>235</td>\n      <td>228</td>\n      <td>123</td>\n      <td>2160</td>\n      <td>Rawah</td>\n      <td>C7745</td>\n      <td>1</td>\n    </tr>\n    <tr>\n      <th>99997</th>\n      <td>2936</td>\n      <td>64</td>\n      <td>7</td>\n      <td>285</td>\n      <td>23</td>\n      <td>4808</td>\n      <td>227</td>\n      <td>226</td>\n      <td>133</td>\n      <td>2804</td>\n      <td>Rawah</td>\n      <td>C7745</td>\n      <td>0</td>\n    </tr>\n    <tr>\n      <th>99998</th>\n      <td>2602</td>\n      <td>98</td>\n      <td>7</td>\n      <td>379</td>\n      <td>74</td>\n      <td>691</td>\n      <td>232</td>\n      <td>230</td>\n      <td>130</td>\n      <td>1445</td>\n      <td>Commanche</td>\n      <td>C2703</td>\n      <td>5</td>\n    </tr>\n    <tr>\n      <th>99999</th>\n      <td>3303</td>\n      <td>57</td>\n      <td>10</td>\n      <td>0</td>\n      <td>0</td>\n      <td>2197</td>\n      <td>227</td>\n      <td>219</td>\n      <td>125</td>\n      <td>2832</td>\n      <td>Rawah</td>\n      <td>C8772</td>\n      <td>6</td>\n    </tr>\n  </tbody>\n</table>\n<p>100000 rows × 13 columns</p>\n</div>"
     },
     "metadata": {},
     "execution_count": 38
    }
   ],
   "source": [
    "df = pd.read_csv(data_location)\n",
    "df"
   ]
  },
  {
   "cell_type": "code",
   "execution_count": 39,
   "metadata": {},
   "outputs": [],
   "source": [
    "now = datetime.datetime.now() \n",
    "\n",
    "#timestamps = [(now + datetime.timedelta(minutes=60*(i//60)), now + datetime.timedelta(minutes=60*(i//60)+60)) for i in range(df.shape[0])]\n",
    "#timestamps = [date1.isoformat(timespec='minutes') + '_' + date2.isoformat(timespec='minutes') for date1, date2 in timestamps]\n",
    "time_window = ['C' + str((now + datetime.timedelta(seconds=i*4)).day) for i in range(df.shape[0])]"
   ]
  },
  {
   "cell_type": "code",
   "execution_count": 40,
   "metadata": {},
   "outputs": [
    {
     "output_type": "execute_result",
     "data": {
      "text/plain": "array(['C16', 'C17', 'C18', 'C19', 'C20', 'C21'], dtype=object)"
     },
     "metadata": {},
     "execution_count": 40
    }
   ],
   "source": [
    "df['time_window'] = time_window\n",
    "df['time_window'].unique()"
   ]
  },
  {
   "cell_type": "code",
   "execution_count": 44,
   "metadata": {},
   "outputs": [],
   "source": [
    "file_path = '/home/jarekk/workspace/test_dataset.csv'\n",
    "df.to_csv(file_path, header=True, index=False)"
   ]
  },
  {
   "cell_type": "code",
   "execution_count": 43,
   "metadata": {},
   "outputs": [
    {
     "output_type": "stream",
     "name": "stdout",
     "text": "Elevation,Aspect,Slope,Horizontal_Distance_To_Hydrology,Vertical_Distance_To_Hydrology,Horizontal_Distance_To_Roadways,Hillshade_9am,Hillshade_Noon,Hillshade_3pm,Horizontal_Distance_To_Fire_Points,Wilderness_Area,Soil_Type,Cover_Type,time_window\n3142,183,9,648,101,757,223,247,157,1871,Commanche,C7757,1,C16\n2156,18,28,0,0,1207,187,170,107,960,Cache,C6102,3,C16\n1967,124,16,60,9,124,245,227,105,451,Cache,C2704,2,C16\n3237,305,15,663,19,3593,178,231,193,1260,Commanche,C7201,0,C16\n2981,221,18,150,14,4584,195,254,191,1822,Rawah,C7745,0,C16\n2159,341,26,30,5,1340,157,192,168,1172,Cache,C6102,2,C16\n3098,89,11,30,-6,1846,236,223,117,408,Rawah,C7202,0,C16\n3089,24,9,285,18,3956,216,222,142,1956,Rawah,C7745,1,C16\n2997,75,11,376,-3,3302,234,218,115,5642,Rawah,C7745,1,C16\n"
    }
   ],
   "source": [
    "!head {file_path}"
   ]
  },
  {
   "cell_type": "code",
   "execution_count": 51,
   "metadata": {},
   "outputs": [],
   "source": [
    "\n",
    "slice_fn = slicing_util.get_feature_value_slicer(features={'time_window':None})\n",
    "\n",
    "stats_options = tfdv.StatsOptions(\n",
    "    slice_functions=[slice_fn]\n",
    ")"
   ]
  },
  {
   "cell_type": "code",
   "execution_count": 52,
   "metadata": {},
   "outputs": [],
   "source": [
    "file_path = '/home/jarekk/workspace/stats.pb'\n",
    "file_path = '/home/jarekk/workspace/test_dataset.csv'\n",
    "stats = tfdv.generate_statistics_from_csv(file_path, stats_options=stats_options)\n",
    "#stats = tfdv.generate_statistics_from_dataframe(df, stats_options=stats_options)\n",
    "#stats = tfdv.generate_statistics_from_dataframe(df)"
   ]
  },
  {
   "cell_type": "code",
   "execution_count": 53,
   "metadata": {},
   "outputs": [
    {
     "output_type": "error",
     "ename": "ValueError",
     "evalue": "lhs_statistics proto contains multiple datasets. Only one dataset is currently supported.",
     "traceback": [
      "\u001b[0;31m---------------------------------------------------------------------------\u001b[0m",
      "\u001b[0;31mValueError\u001b[0m                                Traceback (most recent call last)",
      "\u001b[0;32m<ipython-input-53-8a1cf96d1b0b>\u001b[0m in \u001b[0;36m<module>\u001b[0;34m\u001b[0m\n\u001b[0;32m----> 1\u001b[0;31m \u001b[0mtfdv\u001b[0m\u001b[0;34m.\u001b[0m\u001b[0mvisualize_statistics\u001b[0m\u001b[0;34m(\u001b[0m\u001b[0mstats\u001b[0m\u001b[0;34m)\u001b[0m\u001b[0;34m\u001b[0m\u001b[0;34m\u001b[0m\u001b[0m\n\u001b[0m",
      "\u001b[0;32m/opt/conda/lib/python3.7/site-packages/tensorflow_data_validation/utils/display_util.py\u001b[0m in \u001b[0;36mvisualize_statistics\u001b[0;34m(lhs_statistics, rhs_statistics, lhs_name, rhs_name)\u001b[0m\n\u001b[1;32m    282\u001b[0m     \u001b[0mValueError\u001b[0m\u001b[0;34m:\u001b[0m \u001b[0mIf\u001b[0m \u001b[0mthe\u001b[0m \u001b[0minput\u001b[0m \u001b[0mstatistics\u001b[0m \u001b[0mprotos\u001b[0m \u001b[0mdoes\u001b[0m \u001b[0;32mnot\u001b[0m \u001b[0mhave\u001b[0m \u001b[0monly\u001b[0m \u001b[0mone\u001b[0m \u001b[0mdataset\u001b[0m\u001b[0;34m.\u001b[0m\u001b[0;34m\u001b[0m\u001b[0;34m\u001b[0m\u001b[0m\n\u001b[1;32m    283\u001b[0m   \"\"\"\n\u001b[0;32m--> 284\u001b[0;31m   \u001b[0mhtml\u001b[0m \u001b[0;34m=\u001b[0m \u001b[0mget_statistics_html\u001b[0m\u001b[0;34m(\u001b[0m\u001b[0mlhs_statistics\u001b[0m\u001b[0;34m,\u001b[0m \u001b[0mrhs_statistics\u001b[0m\u001b[0;34m,\u001b[0m \u001b[0mlhs_name\u001b[0m\u001b[0;34m,\u001b[0m \u001b[0mrhs_name\u001b[0m\u001b[0;34m)\u001b[0m\u001b[0;34m\u001b[0m\u001b[0;34m\u001b[0m\u001b[0m\n\u001b[0m\u001b[1;32m    285\u001b[0m   \u001b[0mdisplay\u001b[0m\u001b[0;34m(\u001b[0m\u001b[0mHTML\u001b[0m\u001b[0;34m(\u001b[0m\u001b[0mhtml\u001b[0m\u001b[0;34m)\u001b[0m\u001b[0;34m)\u001b[0m\u001b[0;34m\u001b[0m\u001b[0;34m\u001b[0m\u001b[0m\n\u001b[1;32m    286\u001b[0m \u001b[0;34m\u001b[0m\u001b[0m\n",
      "\u001b[0;32m/opt/conda/lib/python3.7/site-packages/tensorflow_data_validation/utils/display_util.py\u001b[0m in \u001b[0;36mget_statistics_html\u001b[0;34m(lhs_statistics, rhs_statistics, lhs_name, rhs_name)\u001b[0m\n\u001b[1;32m    200\u001b[0m \u001b[0;34m\u001b[0m\u001b[0m\n\u001b[1;32m    201\u001b[0m   \u001b[0;32mif\u001b[0m \u001b[0mlen\u001b[0m\u001b[0;34m(\u001b[0m\u001b[0mlhs_statistics\u001b[0m\u001b[0;34m.\u001b[0m\u001b[0mdatasets\u001b[0m\u001b[0;34m)\u001b[0m \u001b[0;34m!=\u001b[0m \u001b[0;36m1\u001b[0m\u001b[0;34m:\u001b[0m\u001b[0;34m\u001b[0m\u001b[0;34m\u001b[0m\u001b[0m\n\u001b[0;32m--> 202\u001b[0;31m     raise ValueError('lhs_statistics proto contains multiple datasets. Only '\n\u001b[0m\u001b[1;32m    203\u001b[0m                      'one dataset is currently supported.')\n\u001b[1;32m    204\u001b[0m \u001b[0;34m\u001b[0m\u001b[0m\n",
      "\u001b[0;31mValueError\u001b[0m: lhs_statistics proto contains multiple datasets. Only one dataset is currently supported."
     ]
    }
   ],
   "source": [
    "tfdv.visualize_statistics(stats)"
   ]
  },
  {
   "cell_type": "code",
   "execution_count": 58,
   "metadata": {
    "tags": [
     "outputPrepend"
    ]
   },
   "outputs": [
    {
     "output_type": "stream",
     "name": "stdout",
     "text": " low_value: 123.0\n        high_value: 147.60000000000002\n        sample_count: 2003.7656000000002\n      }\n      buckets {\n        low_value: 147.60000000000002\n        high_value: 172.20000000000002\n        sample_count: 1665.5455999999997\n      }\n      buckets {\n        low_value: 172.20000000000002\n        high_value: 196.8\n        sample_count: 1101.8456\n      }\n      buckets {\n        low_value: 196.8\n        high_value: 221.4\n        sample_count: 462.9856\n      }\n      buckets {\n        low_value: 221.4\n        high_value: 246.0\n        sample_count: 102.21759999999996\n      }\n    }\n    histograms {\n      buckets {\n        high_value: 94.0\n        sample_count: 751.6\n      }\n      buckets {\n        low_value: 94.0\n        high_value: 112.0\n        sample_count: 751.6\n      }\n      buckets {\n        low_value: 112.0\n        high_value: 124.0\n        sample_count: 751.6\n      }\n      buckets {\n        low_value: 124.0\n        high_value: 134.0\n        sample_count: 751.6\n      }\n      buckets {\n        low_value: 134.0\n        high_value: 143.0\n        sample_count: 751.6\n      }\n      buckets {\n        low_value: 143.0\n        high_value: 152.0\n        sample_count: 751.6\n      }\n      buckets {\n        low_value: 152.0\n        high_value: 162.0\n        sample_count: 751.6\n      }\n      buckets {\n        low_value: 162.0\n        high_value: 176.0\n        sample_count: 751.6\n      }\n      buckets {\n        low_value: 176.0\n        high_value: 191.0\n        sample_count: 751.6\n      }\n      buckets {\n        low_value: 191.0\n        high_value: 246.0\n        sample_count: 751.6\n      }\n      type: QUANTILES\n    }\n  }\n  path {\n    step: \"Hillshade_3pm\"\n  }\n}\nfeatures {\n  num_stats {\n    common_stats {\n      num_non_missing: 7516\n      min_num_values: 1\n      max_num_values: 1\n      avg_num_values: 1.0\n      num_values_histogram {\n        buckets {\n          low_value: 1.0\n          high_value: 1.0\n          sample_count: 751.6\n        }\n        buckets {\n          low_value: 1.0\n          high_value: 1.0\n          sample_count: 751.6\n        }\n        buckets {\n          low_value: 1.0\n          high_value: 1.0\n          sample_count: 751.6\n        }\n        buckets {\n          low_value: 1.0\n          high_value: 1.0\n          sample_count: 751.6\n        }\n        buckets {\n          low_value: 1.0\n          high_value: 1.0\n          sample_count: 751.6\n        }\n        buckets {\n          low_value: 1.0\n          high_value: 1.0\n          sample_count: 751.6\n        }\n        buckets {\n          low_value: 1.0\n          high_value: 1.0\n          sample_count: 751.6\n        }\n        buckets {\n          low_value: 1.0\n          high_value: 1.0\n          sample_count: 751.6\n        }\n        buckets {\n          low_value: 1.0\n          high_value: 1.0\n          sample_count: 751.6\n        }\n        buckets {\n          low_value: 1.0\n          high_value: 1.0\n          sample_count: 751.6\n        }\n        type: QUANTILES\n      }\n      tot_num_values: 7516\n    }\n    mean: 1965.6500798296966\n    std_dev: 1312.7912601489688\n    min: 30.0\n    median: 1706.0\n    max: 6968.0\n    histograms {\n      buckets {\n        low_value: 30.0\n        high_value: 723.8\n        sample_count: 1109.3616\n      }\n      buckets {\n        low_value: 723.8\n        high_value: 1417.6\n        sample_count: 1863.4669333333334\n      }\n      buckets {\n        low_value: 1417.6\n        high_value: 2111.3999999999996\n        sample_count: 1779.914066666666\n      }\n      buckets {\n        low_value: 2111.3999999999996\n        high_value: 2805.2\n        sample_count: 1343.8608000000004\n      }\n      buckets {\n        low_value: 2805.2\n        high_value: 3499.0\n        sample_count: 587.6259333333336\n      }\n      buckets {\n        low_value: 3499.0\n        high_value: 4192.799999999999\n        sample_count: 268.97258666666653\n      }\n      buckets {\n        low_value: 4192.799999999999\n        high_value: 4886.599999999999\n        sample_count: 169.54788869565215\n      }\n      buckets {\n        low_value: 4886.599999999999\n        high_value: 5580.4\n        sample_count: 197.94156273291932\n      }\n      buckets {\n        low_value: 5580.4\n        high_value: 6274.2\n        sample_count: 132.2554826254827\n      }\n      buckets {\n        low_value: 6274.2\n        high_value: 6968.0\n        sample_count: 63.05314594594597\n      }\n    }\n    histograms {\n      buckets {\n        low_value: 30.0\n        high_value: 579.0\n        sample_count: 751.6\n      }\n      buckets {\n        low_value: 579.0\n        high_value: 870.0\n        sample_count: 751.6\n      }\n      buckets {\n        low_value: 870.0\n        high_value: 1149.0\n        sample_count: 751.6\n      }\n      buckets {\n        low_value: 1149.0\n        high_value: 1425.0\n        sample_count: 751.6\n      }\n      buckets {\n        low_value: 1425.0\n        high_value: 1706.0\n        sample_count: 751.6\n      }\n      buckets {\n        low_value: 1706.0\n        high_value: 2014.0\n        sample_count: 751.6\n      }\n      buckets {\n        low_value: 2014.0\n        high_value: 2356.0\n        sample_count: 751.6\n      }\n      buckets {\n        low_value: 2356.0\n        high_value: 2764.0\n        sample_count: 751.6\n      }\n      buckets {\n        low_value: 2764.0\n        high_value: 3676.0\n        sample_count: 751.6\n      }\n      buckets {\n        low_value: 3676.0\n        high_value: 6968.0\n        sample_count: 751.6\n      }\n      type: QUANTILES\n    }\n  }\n  path {\n    step: \"Horizontal_Distance_To_Fire_Points\"\n  }\n}\nfeatures {\n  type: STRING\n  string_stats {\n    common_stats {\n      num_non_missing: 7516\n      min_num_values: 1\n      max_num_values: 1\n      avg_num_values: 1.0\n      num_values_histogram {\n        buckets {\n          low_value: 1.0\n          high_value: 1.0\n          sample_count: 751.6\n        }\n        buckets {\n          low_value: 1.0\n          high_value: 1.0\n          sample_count: 751.6\n        }\n        buckets {\n          low_value: 1.0\n          high_value: 1.0\n          sample_count: 751.6\n        }\n        buckets {\n          low_value: 1.0\n          high_value: 1.0\n          sample_count: 751.6\n        }\n        buckets {\n          low_value: 1.0\n          high_value: 1.0\n          sample_count: 751.6\n        }\n        buckets {\n          low_value: 1.0\n          high_value: 1.0\n          sample_count: 751.6\n        }\n        buckets {\n          low_value: 1.0\n          high_value: 1.0\n          sample_count: 751.6\n        }\n        buckets {\n          low_value: 1.0\n          high_value: 1.0\n          sample_count: 751.6\n        }\n        buckets {\n          low_value: 1.0\n          high_value: 1.0\n          sample_count: 751.6\n        }\n        buckets {\n          low_value: 1.0\n          high_value: 1.0\n          sample_count: 751.6\n        }\n        type: QUANTILES\n      }\n      tot_num_values: 7516\n    }\n    unique: 4\n    top_values {\n      value: \"Rawah\"\n      frequency: 3384.0\n    }\n    top_values {\n      value: \"Commanche\"\n      frequency: 3248.0\n    }\n    top_values {\n      value: \"Cache\"\n      frequency: 479.0\n    }\n    top_values {\n      value: \"Neota\"\n      frequency: 405.0\n    }\n    avg_length: 6.728579044342041\n    rank_histogram {\n      buckets {\n        label: \"Rawah\"\n        sample_count: 3384.0\n      }\n      buckets {\n        low_rank: 1\n        high_rank: 1\n        label: \"Commanche\"\n        sample_count: 3248.0\n      }\n      buckets {\n        low_rank: 2\n        high_rank: 2\n        label: \"Cache\"\n        sample_count: 479.0\n      }\n      buckets {\n        low_rank: 3\n        high_rank: 3\n        label: \"Neota\"\n        sample_count: 405.0\n      }\n    }\n  }\n  path {\n    step: \"Wilderness_Area\"\n  }\n}\nfeatures {\n  type: STRING\n  string_stats {\n    common_stats {\n      num_non_missing: 7516\n      min_num_values: 1\n      max_num_values: 1\n      avg_num_values: 1.0\n      num_values_histogram {\n        buckets {\n          low_value: 1.0\n          high_value: 1.0\n          sample_count: 751.6\n        }\n        buckets {\n          low_value: 1.0\n          high_value: 1.0\n          sample_count: 751.6\n        }\n        buckets {\n          low_value: 1.0\n          high_value: 1.0\n          sample_count: 751.6\n        }\n        buckets {\n          low_value: 1.0\n          high_value: 1.0\n          sample_count: 751.6\n        }\n        buckets {\n          low_value: 1.0\n          high_value: 1.0\n          sample_count: 751.6\n        }\n        buckets {\n          low_value: 1.0\n          high_value: 1.0\n          sample_count: 751.6\n        }\n        buckets {\n          low_value: 1.0\n          high_value: 1.0\n          sample_count: 751.6\n        }\n        buckets {\n          low_value: 1.0\n          high_value: 1.0\n          sample_count: 751.6\n        }\n        buckets {\n          low_value: 1.0\n          high_value: 1.0\n          sample_count: 751.6\n        }\n        buckets {\n          low_value: 1.0\n          high_value: 1.0\n          sample_count: 751.6\n        }\n        type: QUANTILES\n      }\n      tot_num_values: 7516\n    }\n    unique: 38\n    top_values {\n      value: \"C7745\"\n      frequency: 1535.0\n    }\n    top_values {\n      value: \"C7202\"\n      frequency: 707.0\n    }\n    top_values {\n      value: \"C7756\"\n      frequency: 668.0\n    }\n    top_values {\n      value: \"C7757\"\n      frequency: 580.0\n    }\n    top_values {\n      value: \"C7201\"\n      frequency: 442.0\n    }\n    top_values {\n      value: \"C4703\"\n      frequency: 438.0\n    }\n    top_values {\n      value: \"C7746\"\n      frequency: 390.0\n    }\n    top_values {\n      value: \"C4744\"\n      frequency: 371.0\n    }\n    top_values {\n      value: \"C7755\"\n      frequency: 321.0\n    }\n    top_values {\n      value: \"C7700\"\n      frequency: 279.0\n    }\n    top_values {\n      value: \"C4758\"\n      frequency: 237.0\n    }\n    top_values {\n      value: \"C8771\"\n      frequency: 195.0\n    }\n    top_values {\n      value: \"C8772\"\n      frequency: 184.0\n    }\n    top_values {\n      value: \"C4704\"\n      frequency: 157.0\n    }\n    top_values {\n      value: \"C2705\"\n      frequency: 151.0\n    }\n    top_values {\n      value: \"C7102\"\n      frequency: 137.0\n    }\n    top_values {\n      value: \"C8776\"\n      frequency: 113.0\n    }\n    top_values {\n      value: \"C2703\"\n      frequency: 98.0\n    }\n    top_values {\n      value: \"C2717\"\n      frequency: 84.0\n    }\n    top_values {\n      value: \"C2704\"\n      frequency: 68.0\n    }\n    avg_length: 5.0\n    rank_histogram {\n      buckets {\n        label: \"C7745\"\n        sample_count: 1535.0\n      }\n      buckets {\n        low_rank: 1\n        high_rank: 1\n        label: \"C7202\"\n        sample_count: 707.0\n      }\n      buckets {\n        low_rank: 2\n        high_rank: 2\n        label: \"C7756\"\n        sample_count: 668.0\n      }\n      buckets {\n        low_rank: 3\n        high_rank: 3\n        label: \"C7757\"\n        sample_count: 580.0\n      }\n      buckets {\n        low_rank: 4\n        high_rank: 4\n        label: \"C7201\"\n        sample_count: 442.0\n      }\n      buckets {\n        low_rank: 5\n        high_rank: 5\n        label: \"C4703\"\n        sample_count: 438.0\n      }\n      buckets {\n        low_rank: 6\n        high_rank: 6\n        label: \"C7746\"\n        sample_count: 390.0\n      }\n      buckets {\n        low_rank: 7\n        high_rank: 7\n        label: \"C4744\"\n        sample_count: 371.0\n      }\n      buckets {\n        low_rank: 8\n        high_rank: 8\n        label: \"C7755\"\n        sample_count: 321.0\n      }\n      buckets {\n        low_rank: 9\n        high_rank: 9\n        label: \"C7700\"\n        sample_count: 279.0\n      }\n      buckets {\n        low_rank: 10\n        high_rank: 10\n        label: \"C4758\"\n        sample_count: 237.0\n      }\n      buckets {\n        low_rank: 11\n        high_rank: 11\n        label: \"C8771\"\n        sample_count: 195.0\n      }\n      buckets {\n        low_rank: 12\n        high_rank: 12\n        label: \"C8772\"\n        sample_count: 184.0\n      }\n      buckets {\n        low_rank: 13\n        high_rank: 13\n        label: \"C4704\"\n        sample_count: 157.0\n      }\n      buckets {\n        low_rank: 14\n        high_rank: 14\n        label: \"C2705\"\n        sample_count: 151.0\n      }\n      buckets {\n        low_rank: 15\n        high_rank: 15\n        label: \"C7102\"\n        sample_count: 137.0\n      }\n      buckets {\n        low_rank: 16\n        high_rank: 16\n        label: \"C8776\"\n        sample_count: 113.0\n      }\n      buckets {\n        low_rank: 17\n        high_rank: 17\n        label: \"C2703\"\n        sample_count: 98.0\n      }\n      buckets {\n        low_rank: 18\n        high_rank: 18\n        label: \"C2717\"\n        sample_count: 84.0\n      }\n      buckets {\n        low_rank: 19\n        high_rank: 19\n        label: \"C2704\"\n        sample_count: 68.0\n      }\n      buckets {\n        low_rank: 20\n        high_rank: 20\n        label: \"C7101\"\n        sample_count: 56.0\n      }\n      buckets {\n        low_rank: 21\n        high_rank: 21\n        label: \"C6102\"\n        sample_count: 48.0\n      }\n      buckets {\n        low_rank: 22\n        high_rank: 22\n        label: \"C6101\"\n        sample_count: 35.0\n      }\n      buckets {\n        low_rank: 23\n        high_rank: 23\n        label: \"C7702\"\n        sample_count: 34.0\n      }\n      buckets {\n        low_rank: 24\n        high_rank: 24\n        label: \"C2702\"\n        sample_count: 30.0\n      }\n      buckets {\n        low_rank: 25\n        high_rank: 25\n        label: \"C6731\"\n        sample_count: 24.0\n      }\n      buckets {\n        low_rank: 26\n        high_rank: 26\n        label: \"C7790\"\n        sample_count: 23.0\n      }\n      buckets {\n        low_rank: 27\n        high_rank: 27\n        label: \"C8703\"\n        sample_count: 21.0\n      }\n      buckets {\n        low_rank: 28\n        high_rank: 28\n        label: \"C2706\"\n        sample_count: 19.0\n      }\n      buckets {\n        low_rank: 29\n        high_rank: 29\n        label: \"C7103\"\n        sample_count: 17.0\n      }\n      buckets {\n        low_rank: 30\n        high_rank: 30\n        label: \"C7709\"\n        sample_count: 12.0\n      }\n      buckets {\n        low_rank: 31\n        high_rank: 31\n        label: \"C4201\"\n        sample_count: 11.0\n      }\n      buckets {\n        low_rank: 32\n        high_rank: 32\n        label: \"C7701\"\n        sample_count: 8.0\n      }\n      buckets {\n        low_rank: 33\n        high_rank: 33\n        label: \"C5101\"\n        sample_count: 8.0\n      }\n      buckets {\n        low_rank: 34\n        high_rank: 34\n        label: \"C7710\"\n        sample_count: 7.0\n      }\n      buckets {\n        low_rank: 35\n        high_rank: 35\n        label: \"C8708\"\n        sample_count: 5.0\n      }\n      buckets {\n        low_rank: 36\n        high_rank: 36\n        label: \"C3502\"\n        sample_count: 2.0\n      }\n      buckets {\n        low_rank: 37\n        high_rank: 37\n        label: \"C3501\"\n        sample_count: 1.0\n      }\n    }\n  }\n  path {\n    step: \"Soil_Type\"\n  }\n}\nfeatures {\n  num_stats {\n    common_stats {\n      num_non_missing: 7516\n      min_num_values: 1\n      max_num_values: 1\n      avg_num_values: 1.0\n      num_values_histogram {\n        buckets {\n          low_value: 1.0\n          high_value: 1.0\n          sample_count: 751.6\n        }\n        buckets {\n          low_value: 1.0\n          high_value: 1.0\n          sample_count: 751.6\n        }\n        buckets {\n          low_value: 1.0\n          high_value: 1.0\n          sample_count: 751.6\n        }\n        buckets {\n          low_value: 1.0\n          high_value: 1.0\n          sample_count: 751.6\n        }\n        buckets {\n          low_value: 1.0\n          high_value: 1.0\n          sample_count: 751.6\n        }\n        buckets {\n          low_value: 1.0\n          high_value: 1.0\n          sample_count: 751.6\n        }\n        buckets {\n          low_value: 1.0\n          high_value: 1.0\n          sample_count: 751.6\n        }\n        buckets {\n          low_value: 1.0\n          high_value: 1.0\n          sample_count: 751.6\n        }\n        buckets {\n          low_value: 1.0\n          high_value: 1.0\n          sample_count: 751.6\n        }\n        buckets {\n          low_value: 1.0\n          high_value: 1.0\n          sample_count: 751.6\n        }\n        type: QUANTILES\n      }\n      tot_num_values: 7516\n    }\n    mean: 1.067456093666844\n    std_dev: 1.4041487869622207\n    num_zeros: 2678\n    median: 1.0\n    max: 6.0\n    histograms {\n      buckets {\n        high_value: 0.6\n        sample_count: 2680.2056\n      }\n      buckets {\n        low_value: 0.6\n        high_value: 1.2\n        sample_count: 3694.8656\n      }\n      buckets {\n        low_value: 1.2\n        high_value: 1.7999999999999998\n        sample_count: 4.509599999999999\n      }\n      buckets {\n        low_value: 1.7999999999999998\n        high_value: 2.4\n        sample_count: 478.01759999999996\n      }\n      buckets {\n        low_value: 2.4\n        high_value: 3.0\n        sample_count: 4.509600000000001\n      }\n      buckets {\n        low_value: 3.0\n        high_value: 3.5999999999999996\n        sample_count: 34.5736\n      }\n      buckets {\n        low_value: 3.5999999999999996\n        high_value: 4.2\n        sample_count: 124.7656\n      }\n      buckets {\n        low_value: 4.2\n        high_value: 4.8\n        sample_count: 4.509599999999997\n      }\n      buckets {\n        low_value: 4.8\n        high_value: 5.3999999999999995\n        sample_count: 207.4416\n      }\n      buckets {\n        low_value: 5.3999999999999995\n        high_value: 6.0\n        sample_count: 282.60159999999996\n      }\n    }\n    histograms {\n      buckets {\n        sample_count: 751.6\n      }\n      buckets {\n        sample_count: 751.6\n      }\n      buckets {\n        sample_count: 751.6\n      }\n      buckets {\n        high_value: 1.0\n        sample_count: 751.6\n      }\n      buckets {\n        low_value: 1.0\n        high_value: 1.0\n        sample_count: 751.6\n      }\n      buckets {\n        low_value: 1.0\n        high_value: 1.0\n        sample_count: 751.6\n      }\n      buckets {\n        low_value: 1.0\n        high_value: 1.0\n        sample_count: 751.6\n      }\n      buckets {\n        low_value: 1.0\n        high_value: 1.0\n        sample_count: 751.6\n      }\n      buckets {\n        low_value: 1.0\n        high_value: 2.0\n        sample_count: 751.6\n      }\n      buckets {\n        low_value: 2.0\n        high_value: 6.0\n        sample_count: 751.6\n      }\n      type: QUANTILES\n    }\n  }\n  path {\n    step: \"Cover_Type\"\n  }\n}\nfeatures {\n  type: STRING\n  string_stats {\n    common_stats {\n      num_non_missing: 7516\n      min_num_values: 1\n      max_num_values: 1\n      avg_num_values: 1.0\n      num_values_histogram {\n        buckets {\n          low_value: 1.0\n          high_value: 1.0\n          sample_count: 751.6\n        }\n        buckets {\n          low_value: 1.0\n          high_value: 1.0\n          sample_count: 751.6\n        }\n        buckets {\n          low_value: 1.0\n          high_value: 1.0\n          sample_count: 751.6\n        }\n        buckets {\n          low_value: 1.0\n          high_value: 1.0\n          sample_count: 751.6\n        }\n        buckets {\n          low_value: 1.0\n          high_value: 1.0\n          sample_count: 751.6\n        }\n        buckets {\n          low_value: 1.0\n          high_value: 1.0\n          sample_count: 751.6\n        }\n        buckets {\n          low_value: 1.0\n          high_value: 1.0\n          sample_count: 751.6\n        }\n        buckets {\n          low_value: 1.0\n          high_value: 1.0\n          sample_count: 751.6\n        }\n        buckets {\n          low_value: 1.0\n          high_value: 1.0\n          sample_count: 751.6\n        }\n        buckets {\n          low_value: 1.0\n          high_value: 1.0\n          sample_count: 751.6\n        }\n        type: QUANTILES\n      }\n      tot_num_values: 7516\n    }\n    unique: 1\n    top_values {\n      value: \"C21\"\n      frequency: 7516.0\n    }\n    avg_length: 3.0\n    rank_histogram {\n      buckets {\n        label: \"C21\"\n        sample_count: 7516.0\n      }\n    }\n  }\n  path {\n    step: \"time_window\"\n  }\n}\n\n"
    }
   ],
   "source": [
    "for dataset in stats.datasets:\n",
    "    print('************************')\n",
    "    print('************************')\n",
    "    print(dataset)"
   ]
  },
  {
   "cell_type": "code",
   "execution_count": 57,
   "metadata": {},
   "outputs": [
    {
     "output_type": "execute_result",
     "data": {
      "text/plain": " avg_num_values: 1.0\n        num_values_histogram {\n          buckets {\n            low_value: 1.0\n            high_value: 1.0\n            sample_count: 751.6\n          }\n          buckets {\n            low_value: 1.0\n            high_value: 1.0\n            sample_count: 751.6\n          }\n          buckets {\n            low_value: 1.0\n            high_value: 1.0\n            sample_count: 751.6\n          }\n          buckets {\n            low_value: 1.0\n            high_value: 1.0\n            sample_count: 751.6\n          }\n          buckets {\n            low_value: 1.0\n            high_value: 1.0\n            sample_count: 751.6\n          }\n          buckets {\n            low_value: 1.0\n            high_value: 1.0\n            sample_count: 751.6\n          }\n          buckets {\n            low_value: 1.0\n            high_value: 1.0\n            sample_count: 751.6\n          }\n          buckets {\n            low_value: 1.0\n            high_value: 1.0\n            sample_count: 751.6\n          }\n          buckets {\n            low_value: 1.0\n            high_value: 1.0\n            sample_count: 751.6\n          }\n          buckets {\n            low_value: 1.0\n            high_value: 1.0\n            sample_count: 751.6\n          }\n          type: QUANTILES\n        }\n        tot_num_values: 7516\n      }\n      mean: 1965.6500798296966\n      std_dev: 1312.7912601489688\n      min: 30.0\n      median: 1706.0\n      max: 6968.0\n      histograms {\n        buckets {\n          low_value: 30.0\n          high_value: 723.8\n          sample_count: 1109.3616\n        }\n        buckets {\n          low_value: 723.8\n          high_value: 1417.6\n          sample_count: 1863.4669333333334\n        }\n        buckets {\n          low_value: 1417.6\n          high_value: 2111.3999999999996\n          sample_count: 1779.914066666666\n        }\n        buckets {\n          low_value: 2111.3999999999996\n          high_value: 2805.2\n          sample_count: 1343.8608000000004\n        }\n        buckets {\n          low_value: 2805.2\n          high_value: 3499.0\n          sample_count: 587.6259333333336\n        }\n        buckets {\n          low_value: 3499.0\n          high_value: 4192.799999999999\n          sample_count: 268.97258666666653\n        }\n        buckets {\n          low_value: 4192.799999999999\n          high_value: 4886.599999999999\n          sample_count: 169.54788869565215\n        }\n        buckets {\n          low_value: 4886.599999999999\n          high_value: 5580.4\n          sample_count: 197.94156273291932\n        }\n        buckets {\n          low_value: 5580.4\n          high_value: 6274.2\n          sample_count: 132.2554826254827\n        }\n        buckets {\n          low_value: 6274.2\n          high_value: 6968.0\n          sample_count: 63.05314594594597\n        }\n      }\n      histograms {\n        buckets {\n          low_value: 30.0\n          high_value: 579.0\n          sample_count: 751.6\n        }\n        buckets {\n          low_value: 579.0\n          high_value: 870.0\n          sample_count: 751.6\n        }\n        buckets {\n          low_value: 870.0\n          high_value: 1149.0\n          sample_count: 751.6\n        }\n        buckets {\n          low_value: 1149.0\n          high_value: 1425.0\n          sample_count: 751.6\n        }\n        buckets {\n          low_value: 1425.0\n          high_value: 1706.0\n          sample_count: 751.6\n        }\n        buckets {\n          low_value: 1706.0\n          high_value: 2014.0\n          sample_count: 751.6\n        }\n        buckets {\n          low_value: 2014.0\n          high_value: 2356.0\n          sample_count: 751.6\n        }\n        buckets {\n          low_value: 2356.0\n          high_value: 2764.0\n          sample_count: 751.6\n        }\n        buckets {\n          low_value: 2764.0\n          high_value: 3676.0\n          sample_count: 751.6\n        }\n        buckets {\n          low_value: 3676.0\n          high_value: 6968.0\n          sample_count: 751.6\n        }\n        type: QUANTILES\n      }\n    }\n    path {\n      step: \"Horizontal_Distance_To_Fire_Points\"\n    }\n  }\n  features {\n    type: STRING\n    string_stats {\n      common_stats {\n        num_non_missing: 7516\n        min_num_values: 1\n        max_num_values: 1\n        avg_num_values: 1.0\n        num_values_histogram {\n          buckets {\n            low_value: 1.0\n            high_value: 1.0\n            sample_count: 751.6\n          }\n          buckets {\n            low_value: 1.0\n            high_value: 1.0\n            sample_count: 751.6\n          }\n          buckets {\n            low_value: 1.0\n            high_value: 1.0\n            sample_count: 751.6\n          }\n          buckets {\n            low_value: 1.0\n            high_value: 1.0\n            sample_count: 751.6\n          }\n          buckets {\n            low_value: 1.0\n            high_value: 1.0\n            sample_count: 751.6\n          }\n          buckets {\n            low_value: 1.0\n            high_value: 1.0\n            sample_count: 751.6\n          }\n          buckets {\n            low_value: 1.0\n            high_value: 1.0\n            sample_count: 751.6\n          }\n          buckets {\n            low_value: 1.0\n            high_value: 1.0\n            sample_count: 751.6\n          }\n          buckets {\n            low_value: 1.0\n            high_value: 1.0\n            sample_count: 751.6\n          }\n          buckets {\n            low_value: 1.0\n            high_value: 1.0\n            sample_count: 751.6\n          }\n          type: QUANTILES\n        }\n        tot_num_values: 7516\n      }\n      unique: 4\n      top_values {\n        value: \"Rawah\"\n        frequency: 3384.0\n      }\n      top_values {\n        value: \"Commanche\"\n        frequency: 3248.0\n      }\n      top_values {\n        value: \"Cache\"\n        frequency: 479.0\n      }\n      top_values {\n        value: \"Neota\"\n        frequency: 405.0\n      }\n      avg_length: 6.728579044342041\n      rank_histogram {\n        buckets {\n          label: \"Rawah\"\n          sample_count: 3384.0\n        }\n        buckets {\n          low_rank: 1\n          high_rank: 1\n          label: \"Commanche\"\n          sample_count: 3248.0\n        }\n        buckets {\n          low_rank: 2\n          high_rank: 2\n          label: \"Cache\"\n          sample_count: 479.0\n        }\n        buckets {\n          low_rank: 3\n          high_rank: 3\n          label: \"Neota\"\n          sample_count: 405.0\n        }\n      }\n    }\n    path {\n      step: \"Wilderness_Area\"\n    }\n  }\n  features {\n    type: STRING\n    string_stats {\n      common_stats {\n        num_non_missing: 7516\n        min_num_values: 1\n        max_num_values: 1\n        avg_num_values: 1.0\n        num_values_histogram {\n          buckets {\n            low_value: 1.0\n            high_value: 1.0\n            sample_count: 751.6\n          }\n          buckets {\n            low_value: 1.0\n            high_value: 1.0\n            sample_count: 751.6\n          }\n          buckets {\n            low_value: 1.0\n            high_value: 1.0\n            sample_count: 751.6\n          }\n          buckets {\n            low_value: 1.0\n            high_value: 1.0\n            sample_count: 751.6\n          }\n          buckets {\n            low_value: 1.0\n            high_value: 1.0\n            sample_count: 751.6\n          }\n          buckets {\n            low_value: 1.0\n            high_value: 1.0\n            sample_count: 751.6\n          }\n          buckets {\n            low_value: 1.0\n            high_value: 1.0\n            sample_count: 751.6\n          }\n          buckets {\n            low_value: 1.0\n            high_value: 1.0\n            sample_count: 751.6\n          }\n          buckets {\n            low_value: 1.0\n            high_value: 1.0\n            sample_count: 751.6\n          }\n          buckets {\n            low_value: 1.0\n            high_value: 1.0\n            sample_count: 751.6\n          }\n          type: QUANTILES\n        }\n        tot_num_values: 7516\n      }\n      unique: 38\n      top_values {\n        value: \"C7745\"\n        frequency: 1535.0\n      }\n      top_values {\n        value: \"C7202\"\n        frequency: 707.0\n      }\n      top_values {\n        value: \"C7756\"\n        frequency: 668.0\n      }\n      top_values {\n        value: \"C7757\"\n        frequency: 580.0\n      }\n      top_values {\n        value: \"C7201\"\n        frequency: 442.0\n      }\n      top_values {\n        value: \"C4703\"\n        frequency: 438.0\n      }\n      top_values {\n        value: \"C7746\"\n        frequency: 390.0\n      }\n      top_values {\n        value: \"C4744\"\n        frequency: 371.0\n      }\n      top_values {\n        value: \"C7755\"\n        frequency: 321.0\n      }\n      top_values {\n        value: \"C7700\"\n        frequency: 279.0\n      }\n      top_values {\n        value: \"C4758\"\n        frequency: 237.0\n      }\n      top_values {\n        value: \"C8771\"\n        frequency: 195.0\n      }\n      top_values {\n        value: \"C8772\"\n        frequency: 184.0\n      }\n      top_values {\n        value: \"C4704\"\n        frequency: 157.0\n      }\n      top_values {\n        value: \"C2705\"\n        frequency: 151.0\n      }\n      top_values {\n        value: \"C7102\"\n        frequency: 137.0\n      }\n      top_values {\n        value: \"C8776\"\n        frequency: 113.0\n      }\n      top_values {\n        value: \"C2703\"\n        frequency: 98.0\n      }\n      top_values {\n        value: \"C2717\"\n        frequency: 84.0\n      }\n      top_values {\n        value: \"C2704\"\n        frequency: 68.0\n      }\n      avg_length: 5.0\n      rank_histogram {\n        buckets {\n          label: \"C7745\"\n          sample_count: 1535.0\n        }\n        buckets {\n          low_rank: 1\n          high_rank: 1\n          label: \"C7202\"\n          sample_count: 707.0\n        }\n        buckets {\n          low_rank: 2\n          high_rank: 2\n          label: \"C7756\"\n          sample_count: 668.0\n        }\n        buckets {\n          low_rank: 3\n          high_rank: 3\n          label: \"C7757\"\n          sample_count: 580.0\n        }\n        buckets {\n          low_rank: 4\n          high_rank: 4\n          label: \"C7201\"\n          sample_count: 442.0\n        }\n        buckets {\n          low_rank: 5\n          high_rank: 5\n          label: \"C4703\"\n          sample_count: 438.0\n        }\n        buckets {\n          low_rank: 6\n          high_rank: 6\n          label: \"C7746\"\n          sample_count: 390.0\n        }\n        buckets {\n          low_rank: 7\n          high_rank: 7\n          label: \"C4744\"\n          sample_count: 371.0\n        }\n        buckets {\n          low_rank: 8\n          high_rank: 8\n          label: \"C7755\"\n          sample_count: 321.0\n        }\n        buckets {\n          low_rank: 9\n          high_rank: 9\n          label: \"C7700\"\n          sample_count: 279.0\n        }\n        buckets {\n          low_rank: 10\n          high_rank: 10\n          label: \"C4758\"\n          sample_count: 237.0\n        }\n        buckets {\n          low_rank: 11\n          high_rank: 11\n          label: \"C8771\"\n          sample_count: 195.0\n        }\n        buckets {\n          low_rank: 12\n          high_rank: 12\n          label: \"C8772\"\n          sample_count: 184.0\n        }\n        buckets {\n          low_rank: 13\n          high_rank: 13\n          label: \"C4704\"\n          sample_count: 157.0\n        }\n        buckets {\n          low_rank: 14\n          high_rank: 14\n          label: \"C2705\"\n          sample_count: 151.0\n        }\n        buckets {\n          low_rank: 15\n          high_rank: 15\n          label: \"C7102\"\n          sample_count: 137.0\n        }\n        buckets {\n          low_rank: 16\n          high_rank: 16\n          label: \"C8776\"\n          sample_count: 113.0\n        }\n        buckets {\n          low_rank: 17\n          high_rank: 17\n          label: \"C2703\"\n          sample_count: 98.0\n        }\n        buckets {\n          low_rank: 18\n          high_rank: 18\n          label: \"C2717\"\n          sample_count: 84.0\n        }\n        buckets {\n          low_rank: 19\n          high_rank: 19\n          label: \"C2704\"\n          sample_count: 68.0\n        }\n        buckets {\n          low_rank: 20\n          high_rank: 20\n          label: \"C7101\"\n          sample_count: 56.0\n        }\n        buckets {\n          low_rank: 21\n          high_rank: 21\n          label: \"C6102\"\n          sample_count: 48.0\n        }\n        buckets {\n          low_rank: 22\n          high_rank: 22\n          label: \"C6101\"\n          sample_count: 35.0\n        }\n        buckets {\n          low_rank: 23\n          high_rank: 23\n          label: \"C7702\"\n          sample_count: 34.0\n        }\n        buckets {\n          low_rank: 24\n          high_rank: 24\n          label: \"C2702\"\n          sample_count: 30.0\n        }\n        buckets {\n          low_rank: 25\n          high_rank: 25\n          label: \"C6731\"\n          sample_count: 24.0\n        }\n        buckets {\n          low_rank: 26\n          high_rank: 26\n          label: \"C7790\"\n          sample_count: 23.0\n        }\n        buckets {\n          low_rank: 27\n          high_rank: 27\n          label: \"C8703\"\n          sample_count: 21.0\n        }\n        buckets {\n          low_rank: 28\n          high_rank: 28\n          label: \"C2706\"\n          sample_count: 19.0\n        }\n        buckets {\n          low_rank: 29\n          high_rank: 29\n          label: \"C7103\"\n          sample_count: 17.0\n        }\n        buckets {\n          low_rank: 30\n          high_rank: 30\n          label: \"C7709\"\n          sample_count: 12.0\n        }\n        buckets {\n          low_rank: 31\n          high_rank: 31\n          label: \"C4201\"\n          sample_count: 11.0\n        }\n        buckets {\n          low_rank: 32\n          high_rank: 32\n          label: \"C7701\"\n          sample_count: 8.0\n        }\n        buckets {\n          low_rank: 33\n          high_rank: 33\n          label: \"C5101\"\n          sample_count: 8.0\n        }\n        buckets {\n          low_rank: 34\n          high_rank: 34\n          label: \"C7710\"\n          sample_count: 7.0\n        }\n        buckets {\n          low_rank: 35\n          high_rank: 35\n          label: \"C8708\"\n          sample_count: 5.0\n        }\n        buckets {\n          low_rank: 36\n          high_rank: 36\n          label: \"C3502\"\n          sample_count: 2.0\n        }\n        buckets {\n          low_rank: 37\n          high_rank: 37\n          label: \"C3501\"\n          sample_count: 1.0\n        }\n      }\n    }\n    path {\n      step: \"Soil_Type\"\n    }\n  }\n  features {\n    num_stats {\n      common_stats {\n        num_non_missing: 7516\n        min_num_values: 1\n        max_num_values: 1\n        avg_num_values: 1.0\n        num_values_histogram {\n          buckets {\n            low_value: 1.0\n            high_value: 1.0\n            sample_count: 751.6\n          }\n          buckets {\n            low_value: 1.0\n            high_value: 1.0\n            sample_count: 751.6\n          }\n          buckets {\n            low_value: 1.0\n            high_value: 1.0\n            sample_count: 751.6\n          }\n          buckets {\n            low_value: 1.0\n            high_value: 1.0\n            sample_count: 751.6\n          }\n          buckets {\n            low_value: 1.0\n            high_value: 1.0\n            sample_count: 751.6\n          }\n          buckets {\n            low_value: 1.0\n            high_value: 1.0\n            sample_count: 751.6\n          }\n          buckets {\n            low_value: 1.0\n            high_value: 1.0\n            sample_count: 751.6\n          }\n          buckets {\n            low_value: 1.0\n            high_value: 1.0\n            sample_count: 751.6\n          }\n          buckets {\n            low_value: 1.0\n            high_value: 1.0\n            sample_count: 751.6\n          }\n          buckets {\n            low_value: 1.0\n            high_value: 1.0\n            sample_count: 751.6\n          }\n          type: QUANTILES\n        }\n        tot_num_values: 7516\n      }\n      mean: 1.067456093666844\n      std_dev: 1.4041487869622207\n      num_zeros: 2678\n      median: 1.0\n      max: 6.0\n      histograms {\n        buckets {\n          high_value: 0.6\n          sample_count: 2680.2056\n        }\n        buckets {\n          low_value: 0.6\n          high_value: 1.2\n          sample_count: 3694.8656\n        }\n        buckets {\n          low_value: 1.2\n          high_value: 1.7999999999999998\n          sample_count: 4.509599999999999\n        }\n        buckets {\n          low_value: 1.7999999999999998\n          high_value: 2.4\n          sample_count: 478.01759999999996\n        }\n        buckets {\n          low_value: 2.4\n          high_value: 3.0\n          sample_count: 4.509600000000001\n        }\n        buckets {\n          low_value: 3.0\n          high_value: 3.5999999999999996\n          sample_count: 34.5736\n        }\n        buckets {\n          low_value: 3.5999999999999996\n          high_value: 4.2\n          sample_count: 124.7656\n        }\n        buckets {\n          low_value: 4.2\n          high_value: 4.8\n          sample_count: 4.509599999999997\n        }\n        buckets {\n          low_value: 4.8\n          high_value: 5.3999999999999995\n          sample_count: 207.4416\n        }\n        buckets {\n          low_value: 5.3999999999999995\n          high_value: 6.0\n          sample_count: 282.60159999999996\n        }\n      }\n      histograms {\n        buckets {\n          sample_count: 751.6\n        }\n        buckets {\n          sample_count: 751.6\n        }\n        buckets {\n          sample_count: 751.6\n        }\n        buckets {\n          high_value: 1.0\n          sample_count: 751.6\n        }\n        buckets {\n          low_value: 1.0\n          high_value: 1.0\n          sample_count: 751.6\n        }\n        buckets {\n          low_value: 1.0\n          high_value: 1.0\n          sample_count: 751.6\n        }\n        buckets {\n          low_value: 1.0\n          high_value: 1.0\n          sample_count: 751.6\n        }\n        buckets {\n          low_value: 1.0\n          high_value: 1.0\n          sample_count: 751.6\n        }\n        buckets {\n          low_value: 1.0\n          high_value: 2.0\n          sample_count: 751.6\n        }\n        buckets {\n          low_value: 2.0\n          high_value: 6.0\n          sample_count: 751.6\n        }\n        type: QUANTILES\n      }\n    }\n    path {\n      step: \"Cover_Type\"\n    }\n  }\n  features {\n    type: STRING\n    string_stats {\n      common_stats {\n        num_non_missing: 7516\n        min_num_values: 1\n        max_num_values: 1\n        avg_num_values: 1.0\n        num_values_histogram {\n          buckets {\n            low_value: 1.0\n            high_value: 1.0\n            sample_count: 751.6\n          }\n          buckets {\n            low_value: 1.0\n            high_value: 1.0\n            sample_count: 751.6\n          }\n          buckets {\n            low_value: 1.0\n            high_value: 1.0\n            sample_count: 751.6\n          }\n          buckets {\n            low_value: 1.0\n            high_value: 1.0\n            sample_count: 751.6\n          }\n          buckets {\n            low_value: 1.0\n            high_value: 1.0\n            sample_count: 751.6\n          }\n          buckets {\n            low_value: 1.0\n            high_value: 1.0\n            sample_count: 751.6\n          }\n          buckets {\n            low_value: 1.0\n            high_value: 1.0\n            sample_count: 751.6\n          }\n          buckets {\n            low_value: 1.0\n            high_value: 1.0\n            sample_count: 751.6\n          }\n          buckets {\n            low_value: 1.0\n            high_value: 1.0\n            sample_count: 751.6\n          }\n          buckets {\n            low_value: 1.0\n            high_value: 1.0\n            sample_count: 751.6\n          }\n          type: QUANTILES\n        }\n        tot_num_values: 7516\n      }\n      unique: 1\n      top_values {\n        value: \"C21\"\n        frequency: 7516.0\n      }\n      avg_length: 3.0\n      rank_histogram {\n        buckets {\n          label: \"C21\"\n          sample_count: 7516.0\n        }\n      }\n    }\n    path {\n      step: \"time_window\"\n    }\n  }\n}"
     },
     "metadata": {},
     "execution_count": 57
    }
   ],
   "source": [
    "stats"
   ]
  },
  {
   "cell_type": "code",
   "execution_count": null,
   "metadata": {},
   "outputs": [],
   "source": []
  }
 ],
 "metadata": {
  "language_info": {
   "codemirror_mode": {
    "name": "ipython",
    "version": 3
   },
   "file_extension": ".py",
   "mimetype": "text/x-python",
   "name": "python",
   "nbconvert_exporter": "python",
   "pygments_lexer": "ipython3",
   "version": "3.7.6-final"
  },
  "orig_nbformat": 2,
  "kernelspec": {
   "name": "python3",
   "display_name": "Python 3"
  }
 },
 "nbformat": 4,
 "nbformat_minor": 2
}