{
 "cells": [
  {
   "cell_type": "code",
   "execution_count": 1,
   "metadata": {},
   "outputs": [
    {
     "output_type": "stream",
     "name": "stdout",
     "text": "env: PATH=/home/jupyter/.local/bin:/home/jarekk/.vscode-server/bin/5763d909d5f12fe19f215cbfdd29a91c0fa9208a/bin:/opt/conda/bin:/usr/local/bin:/usr/bin:/bin:/usr/local/games:/usr/games\n"
    }
   ],
   "source": [
    "PATH=%env PATH\n",
    "%env PATH=/home/jupyter/.local/bin:{PATH}"
   ]
  },
  {
   "cell_type": "markdown",
   "metadata": {
    "colab_type": "text",
    "id": "6YSXq_Y36c_g"
   },
   "source": [
    "# Training and Serving a TensorFlow Model to AI Platform Prediction\n",
    "\n",
    "This notebooks trains a TensorFlow classification model locally, using the Keras API, and deploys the model to AI Platform for online prediction. The AI Platform model service is also configered to enable request-response logging to BigQuery.\n",
    "\n",
    "Note that the aim is to build and deploy a **minimal model** to showcase the AI Platform **logging capabilities**, which enable **skew detection** on the serving data and the produced predictions.\n",
    "\n",
    "The notebook covers the following steps:\n",
    "\n",
    "1. Prepare the data and generate metadata \n",
    "2. Train and evaluate, a TensorFlow classification model using Keras API\n",
    "3. Export the trained model as a SavedModel for serving\n",
    "4. Deploy the trained model to AI Platform Prediction \n",
    "5. Enabled request-response logging to BigQuery\n",
    "6. Parse and query logs from BigQuery\n",
    "\n",
    "\n",
    "This example uses **TensorFlow 2.x**"
   ]
  },
  {
   "cell_type": "markdown",
   "metadata": {
    "colab_type": "text",
    "id": "SthW6Y1F85SH"
   },
   "source": [
    "### Setup"
   ]
  },
  {
   "cell_type": "code",
   "execution_count": 2,
   "metadata": {
    "colab": {},
    "colab_type": "code",
    "id": "t4pR1SEo6Tra"
   },
   "outputs": [
    {
     "output_type": "stream",
     "name": "stdout",
     "text": "TF version: 2.2.0\n"
    }
   ],
   "source": [
    "import os\n",
    "import pandas as pd\n",
    "import tensorflow as tf\n",
    "\n",
    "print(\"TF version: {}\".format(tf.__version__))"
   ]
  },
  {
   "cell_type": "code",
   "execution_count": 3,
   "metadata": {
    "colab": {},
    "colab_type": "code",
    "id": "VVhekpMo9WqV"
   },
   "outputs": [],
   "source": [
    "PROJECT = 'mlops-dev-env'\n",
    "BUCKET =  'mlops-dev-workspace'\n",
    "GCS_DATA_LOCATION = 'gs://workshop-datasets/covertype/data_validation'\n",
    "REGION = 'us-central1'\n",
    "LOCAL_WORKSPACE = '/home/jarekk/workspace'\n",
    "LOCAL_DATA_DIR = os.path.join(LOCAL_WORKSPACE, 'data')\n",
    "BQ_DATASET_NAME = 'data_validation'\n",
    "BQ_TABLE_NAME = 'covertype_logs_tf'\n",
    "MODEL_NAME = 'covertype_tf'\n",
    "VERSION_NAME = 'v3'\n",
    "TRAINING_DIR = os.path.join(LOCAL_WORKSPACE, 'training')\n",
    "MODEL_DIR = os.path.join(TRAINING_DIR, 'exported_model')"
   ]
  },
  {
   "cell_type": "markdown",
   "metadata": {
    "colab_type": "text",
    "id": "BCHY6HdE-wmw"
   },
   "source": [
    "**Set the following variables to match your GCP environment**:"
   ]
  },
  {
   "cell_type": "code",
   "execution_count": 4,
   "metadata": {
    "colab": {},
    "colab_type": "code",
    "id": "32Ps4vjYfaXW"
   },
   "outputs": [
    {
     "output_type": "stream",
     "name": "stdout",
     "text": "Updated property [core/project].\n"
    }
   ],
   "source": [
    "!gcloud config set project {PROJECT}"
   ]
  },
  {
   "cell_type": "markdown",
   "metadata": {
    "colab_type": "text",
    "id": "xmYHPLFgEA92"
   },
   "source": [
    "Create a local workspace"
   ]
  },
  {
   "cell_type": "code",
   "execution_count": 5,
   "metadata": {
    "colab": {},
    "colab_type": "code",
    "id": "0XXOcV8BD_w9"
   },
   "outputs": [
    {
     "output_type": "stream",
     "name": "stdout",
     "text": "Removing previous workspace artifacts...\nCreating a new workspace...\n"
    }
   ],
   "source": [
    "if tf.io.gfile.exists(LOCAL_WORKSPACE):\n",
    "  print(\"Removing previous workspace artifacts...\")\n",
    "  tf.io.gfile.rmtree(LOCAL_WORKSPACE)\n",
    "\n",
    "print(\"Creating a new workspace...\")\n",
    "tf.io.gfile.makedirs(LOCAL_WORKSPACE)\n",
    "tf.io.gfile.makedirs(LOCAL_DATA_DIR)"
   ]
  },
  {
   "cell_type": "markdown",
   "metadata": {
    "colab_type": "text",
    "id": "LLUHs-gh_FnY"
   },
   "source": [
    "## 1. Dataset preparation and schema generation\n",
    "\n",
    "We use the [covertype](https://archive.ics.uci.edu/ml/datasets/covertype) from UCI Machine Learning Repository. The task is to Predict forest cover type from cartographic variables only. \n",
    "\n",
    "The dataset is preprocessed, split, and uploaded to uploaded to the `gs://workshop-datasets/covertype` public GCS location. \n",
    "\n",
    "We use this version of the preprocessed dataset in this notebook. For more information, see [Cover Type Dataset](https://github.com/GoogleCloudPlatform/mlops-on-gcp/tree/master/datasets/covertype)"
   ]
  },
  {
   "cell_type": "markdown",
   "metadata": {
    "colab_type": "text",
    "id": "qDH43VPLCCsS"
   },
   "source": [
    "### 1.1. Download the data"
   ]
  },
  {
   "cell_type": "code",
   "execution_count": 6,
   "metadata": {
    "colab": {},
    "colab_type": "code",
    "id": "VK3t6GswFJaa"
   },
   "outputs": [],
   "source": [
    "LOCAL_TRAIN_DATA = os.path.join(LOCAL_DATA_DIR, 'train.csv') \n",
    "LOCAL_EVAL_DATA = os.path.join(LOCAL_DATA_DIR, 'eval.csv') "
   ]
  },
  {
   "cell_type": "code",
   "execution_count": 7,
   "metadata": {
    "colab": {},
    "colab_type": "code",
    "id": "pIjykELMB-Zx"
   },
   "outputs": [
    {
     "output_type": "stream",
     "name": "stdout",
     "text": "Copying gs://workshop-datasets/covertype/data_validation/training/dataset.csv...\n\nOperation completed over 1 objects/22.2 MiB.                                     \nCopying gs://workshop-datasets/covertype/data_validation/evaluation/dataset.csv...\n\nOperation completed over 1 objects/3.9 MiB.                                      \n431010 /home/jarekk/workspace/data/train.csv\n"
    }
   ],
   "source": [
    "!gsutil cp gs://workshop-datasets/covertype/data_validation/training/dataset.csv {LOCAL_TRAIN_DATA}\n",
    "!gsutil cp gs://workshop-datasets/covertype/data_validation/evaluation/dataset.csv {LOCAL_EVAL_DATA}\n",
    "!wc -l {LOCAL_TRAIN_DATA}"
   ]
  },
  {
   "cell_type": "code",
   "execution_count": 8,
   "metadata": {
    "colab": {},
    "colab_type": "code",
    "id": "MV0j0nAezO_R"
   },
   "outputs": [
    {
     "output_type": "execute_result",
     "data": {
      "text/plain": "                                        0      1          2          3  \\\nElevation                            3034   2827       2854       3188   \nAspect                                235     26         27        156   \nSlope                                  13     16         12         13   \nHorizontal_Distance_To_Hydrology      655     85        484        175   \nVertical_Distance_To_Hydrology        134     13         22         28   \nHorizontal_Distance_To_Roadways      5799   3511        618       3666   \nHillshade_9am                         197    211        215        235   \nHillshade_Noon                        251    204        214        241   \nHillshade_3pm                         190    125        134        134   \nHorizontal_Distance_To_Fire_Points   4094   6008       1295       1719   \nWilderness_Area                     Rawah  Rawah  Commanche  Commanche   \nSoil_Type                            7745   7745       4704       7756   \nCover_Type                              1      1          1          1   \n\n                                            4  \nElevation                                3091  \nAspect                                     61  \nSlope                                       8  \nHorizontal_Distance_To_Hydrology          134  \nVertical_Distance_To_Hydrology             10  \nHorizontal_Distance_To_Roadways          1390  \nHillshade_9am                             227  \nHillshade_Noon                            223  \nHillshade_3pm                             129  \nHorizontal_Distance_To_Fire_Points       2868  \nWilderness_Area                     Commanche  \nSoil_Type                                7202  \nCover_Type                                  0  ",
      "text/html": "<div>\n<style scoped>\n    .dataframe tbody tr th:only-of-type {\n        vertical-align: middle;\n    }\n\n    .dataframe tbody tr th {\n        vertical-align: top;\n    }\n\n    .dataframe thead th {\n        text-align: right;\n    }\n</style>\n<table border=\"1\" class=\"dataframe\">\n  <thead>\n    <tr style=\"text-align: right;\">\n      <th></th>\n      <th>0</th>\n      <th>1</th>\n      <th>2</th>\n      <th>3</th>\n      <th>4</th>\n    </tr>\n  </thead>\n  <tbody>\n    <tr>\n      <th>Elevation</th>\n      <td>3034</td>\n      <td>2827</td>\n      <td>2854</td>\n      <td>3188</td>\n      <td>3091</td>\n    </tr>\n    <tr>\n      <th>Aspect</th>\n      <td>235</td>\n      <td>26</td>\n      <td>27</td>\n      <td>156</td>\n      <td>61</td>\n    </tr>\n    <tr>\n      <th>Slope</th>\n      <td>13</td>\n      <td>16</td>\n      <td>12</td>\n      <td>13</td>\n      <td>8</td>\n    </tr>\n    <tr>\n      <th>Horizontal_Distance_To_Hydrology</th>\n      <td>655</td>\n      <td>85</td>\n      <td>484</td>\n      <td>175</td>\n      <td>134</td>\n    </tr>\n    <tr>\n      <th>Vertical_Distance_To_Hydrology</th>\n      <td>134</td>\n      <td>13</td>\n      <td>22</td>\n      <td>28</td>\n      <td>10</td>\n    </tr>\n    <tr>\n      <th>Horizontal_Distance_To_Roadways</th>\n      <td>5799</td>\n      <td>3511</td>\n      <td>618</td>\n      <td>3666</td>\n      <td>1390</td>\n    </tr>\n    <tr>\n      <th>Hillshade_9am</th>\n      <td>197</td>\n      <td>211</td>\n      <td>215</td>\n      <td>235</td>\n      <td>227</td>\n    </tr>\n    <tr>\n      <th>Hillshade_Noon</th>\n      <td>251</td>\n      <td>204</td>\n      <td>214</td>\n      <td>241</td>\n      <td>223</td>\n    </tr>\n    <tr>\n      <th>Hillshade_3pm</th>\n      <td>190</td>\n      <td>125</td>\n      <td>134</td>\n      <td>134</td>\n      <td>129</td>\n    </tr>\n    <tr>\n      <th>Horizontal_Distance_To_Fire_Points</th>\n      <td>4094</td>\n      <td>6008</td>\n      <td>1295</td>\n      <td>1719</td>\n      <td>2868</td>\n    </tr>\n    <tr>\n      <th>Wilderness_Area</th>\n      <td>Rawah</td>\n      <td>Rawah</td>\n      <td>Commanche</td>\n      <td>Commanche</td>\n      <td>Commanche</td>\n    </tr>\n    <tr>\n      <th>Soil_Type</th>\n      <td>7745</td>\n      <td>7745</td>\n      <td>4704</td>\n      <td>7756</td>\n      <td>7202</td>\n    </tr>\n    <tr>\n      <th>Cover_Type</th>\n      <td>1</td>\n      <td>1</td>\n      <td>1</td>\n      <td>1</td>\n      <td>0</td>\n    </tr>\n  </tbody>\n</table>\n</div>"
     },
     "metadata": {},
     "execution_count": 8
    }
   ],
   "source": [
    "sample = pd.read_csv(LOCAL_TRAIN_DATA).head()\n",
    "sample.T"
   ]
  },
  {
   "cell_type": "markdown",
   "metadata": {
    "colab_type": "text",
    "id": "JUjRurNblnaw"
   },
   "source": [
    "### 1.2 Define metadata"
   ]
  },
  {
   "cell_type": "code",
   "execution_count": 9,
   "metadata": {
    "colab": {},
    "colab_type": "code",
    "id": "72rDTLhcUxj_"
   },
   "outputs": [],
   "source": [
    "HEADER = ['Elevation', 'Aspect', 'Slope','Horizontal_Distance_To_Hydrology',\n",
    "          'Vertical_Distance_To_Hydrology', 'Horizontal_Distance_To_Roadways',\n",
    "          'Hillshade_9am', 'Hillshade_Noon', 'Hillshade_3pm',\n",
    "          'Horizontal_Distance_To_Fire_Points', 'Wilderness_Area', 'Soil_Type',\n",
    "          'Cover_Type']\n",
    "\n",
    "COLUMN_DEFAULTS = [tf.float32, tf.float32, tf.float32, tf.float32,\n",
    "                   tf.float32, tf.float32,\n",
    "                   tf.float32, tf.float32, tf.float32,\n",
    "                   tf.float32, tf.float32, tf.string, tf.string]\n",
    "\n",
    "TARGET_FEATURE_NAME = 'Cover_Type'\n",
    "\n",
    "FEATURE_LABELS = ['0', '1', '2', '3', '4', '5', '6']\n",
    "\n",
    "NUMERIC_FEATURE_NAMES = ['Aspect', 'Elevation', 'Hillshade_3pm', \n",
    "                         'Hillshade_9am', 'Hillshade_Noon', \n",
    "                         'Horizontal_Distance_To_Fire_Points',\n",
    "                         'Horizontal_Distance_To_Hydrology',\n",
    "                         'Horizontal_Distance_To_Roadways','Slope',\n",
    "                         'Vertical_Distance_To_Hydrology']\n",
    "\n",
    "CATEGORICAL_FEATURES_WITH_VOCABULARY = {\n",
    "    'Soil_Type': ['2702', '2703', '2704', '2705', '2706', '2717', '3501', '3502', \n",
    "                  '4201', '4703', '4704', '4744', '4758', '5101', '6101', '6102', \n",
    "                  '6731', '7101', '7102', '7103', '7201', '7202', '7700', '7701', \n",
    "                  '7702', '7709', '7710', '7745', '7746', '7755', '7756', '7757', \n",
    "                  '7790', '8703', '8707', '8708', '8771', '8772', '8776'], \n",
    "    'Wilderness_Area': ['Cache', 'Commanche', 'Neota', 'Rawah']\n",
    "}\n",
    "\n",
    "FEATURE_NAMES = list(CATEGORICAL_FEATURES_WITH_VOCABULARY.keys()) + NUMERIC_FEATURE_NAMES\n",
    "\n",
    "HEADER_DEFAULTS = [[0.0] if feature_name in NUMERIC_FEATURE_NAMES + [TARGET_FEATURE_NAME] else ['NA'] \n",
    "                   for feature_name in HEADER]\n",
    "\n",
    "NUM_CLASSES = len(FEATURE_LABELS)"
   ]
  },
  {
   "cell_type": "markdown",
   "metadata": {
    "colab_type": "text",
    "id": "20wwieKoJvL1"
   },
   "source": [
    "## 2. Model training and evaluation"
   ]
  },
  {
   "cell_type": "markdown",
   "metadata": {
    "colab_type": "text",
    "id": "6e3lk9FsJ_yO"
   },
   "source": [
    "### 2.1. Implement data input pipeline"
   ]
  },
  {
   "cell_type": "code",
   "execution_count": 10,
   "metadata": {
    "colab": {},
    "colab_type": "code",
    "id": "PTX-t2HjJ_BP"
   },
   "outputs": [],
   "source": [
    "RANDOM_SEED = 19830610\n",
    "import multiprocessing\n",
    "\n",
    "def create_dataset(file_pattern, \n",
    "                  batch_size=128, num_epochs=1, shuffle=False):\n",
    "  \n",
    "    dataset = tf.data.experimental.make_csv_dataset(\n",
    "        file_pattern=file_pattern,\n",
    "        batch_size=batch_size,\n",
    "        column_names=HEADER,\n",
    "        column_defaults=HEADER_DEFAULTS,\n",
    "        label_name=TARGET_FEATURE_NAME,\n",
    "        field_delim=',',\n",
    "        header=True,\n",
    "        num_epochs=num_epochs,\n",
    "        shuffle=shuffle,\n",
    "        shuffle_buffer_size=(5 * batch_size),\n",
    "        shuffle_seed=RANDOM_SEED,\n",
    "        num_parallel_reads=multiprocessing.cpu_count(),\n",
    "        sloppy=True,\n",
    "    )\n",
    "    return dataset.cache()"
   ]
  },
  {
   "cell_type": "code",
   "execution_count": 11,
   "metadata": {
    "colab": {},
    "colab_type": "code",
    "id": "sGcaJmcG3paA"
   },
   "outputs": [
    {
     "output_type": "stream",
     "name": "stdout",
     "text": "Batch: 1\n========================\nInput features:\n - Elevation:[3034. 2827. 2854. 3188. 3091.]\n - Aspect:[235.  26.  27. 156.  61.]\n - Slope:[13. 16. 12. 13.  8.]\n - Horizontal_Distance_To_Hydrology:[655.  85. 484. 175. 134.]\n - Vertical_Distance_To_Hydrology:[134.  13.  22.  28.  10.]\n - Horizontal_Distance_To_Roadways:[5799. 3511.  618. 3666. 1390.]\n - Hillshade_9am:[197. 211. 215. 235. 227.]\n - Hillshade_Noon:[251. 204. 214. 241. 223.]\n - Hillshade_3pm:[190. 125. 134. 134. 129.]\n - Horizontal_Distance_To_Fire_Points:[4094. 6008. 1295. 1719. 2868.]\n - Wilderness_Area:[b'Rawah' b'Rawah' b'Commanche' b'Commanche' b'Commanche']\n - Soil_Type:[b'7745' b'7745' b'4704' b'7756' b'7202']\nTarget: [1. 1. 1. 1. 0.]\n\nBatch: 2\n========================\nInput features:\n - Elevation:[2993. 3276. 2864. 3183. 2587.]\n - Aspect:[ 35. 343. 319. 138.  80.]\n - Slope:[ 8. 11. 29. 23.  5.]\n - Horizontal_Distance_To_Hydrology:[636. 849. 228. 268. 234.]\n - Vertical_Distance_To_Hydrology:[ 90. -14.  98.  85.  28.]\n - Horizontal_Distance_To_Roadways:[3355. 1776.  577. 3872. 1350.]\n - Hillshade_9am:[219. 199. 134. 248. 227.]\n - Hillshade_Noon:[224. 224. 200. 225. 230.]\n - Hillshade_3pm:[140. 164. 200.  93. 137.]\n - Horizontal_Distance_To_Fire_Points:[1284. 2673. 1082. 2866. 4837.]\n - Wilderness_Area:[b'Rawah' b'Neota' b'Commanche' b'Commanche' b'Rawah']\n - Soil_Type:[b'4744' b'7202' b'7757' b'7757' b'6731']\nTarget: [1. 1. 0. 0. 1.]\n\n"
    }
   ],
   "source": [
    "index = 1\n",
    "for batch in create_dataset(LOCAL_TRAIN_DATA, batch_size=5, shuffle=False).take(2):\n",
    "  print(\"Batch: {}\".format(index))\n",
    "  print(\"========================\")\n",
    "  record, target = batch\n",
    "  print(\"Input features:\")\n",
    "  for key in record:\n",
    "    print(\" - {}:{}\".format(key, record[key].numpy()))\n",
    "  print(\"Target: {}\".format(target))\n",
    "  index += 1\n",
    "  print()"
   ]
  },
  {
   "cell_type": "markdown",
   "metadata": {
    "colab_type": "text",
    "id": "8s8a7bMGKLWu"
   },
   "source": [
    "### 2.2. Create feature columns"
   ]
  },
  {
   "cell_type": "code",
   "execution_count": 12,
   "metadata": {
    "colab": {},
    "colab_type": "code",
    "id": "C8pZSfQPHMrK"
   },
   "outputs": [],
   "source": [
    "import math\n",
    "\n",
    "def create_feature_columns():\n",
    "  feature_columns = []\n",
    "  \n",
    "  for feature_name in FEATURE_NAMES:\n",
    "    # Categorical features\n",
    "    if feature_name in CATEGORICAL_FEATURES_WITH_VOCABULARY:\n",
    "      \n",
    "      vocabulary = CATEGORICAL_FEATURES_WITH_VOCABULARY[feature_name]\n",
    "      vocab_size = len(vocabulary)\n",
    "      \n",
    "      # Create embedding column for categotical feature column with vocabulary\n",
    "      embedding_feature_column = tf.feature_column.embedding_column(\n",
    "          categorical_column = tf.feature_column.categorical_column_with_vocabulary_list(\n",
    "              key=feature_name,\n",
    "              vocabulary_list=vocabulary), dimension=int(math.sqrt(vocab_size) + 1))\n",
    "            \n",
    "      feature_columns.append(embedding_feature_column)\n",
    "\n",
    "    # Numeric features\n",
    "    else:\n",
    "      numeric_column = tf.feature_column.numeric_column(feature_name)\n",
    "      feature_columns.append(numeric_column)\n",
    "\n",
    "  return feature_columns\n"
   ]
  },
  {
   "cell_type": "code",
   "execution_count": 13,
   "metadata": {
    "colab": {},
    "colab_type": "code",
    "id": "N8XDvPsq8-mX"
   },
   "outputs": [
    {
     "output_type": "stream",
     "name": "stdout",
     "text": "EmbeddingColumn(categorical_column=VocabularyListCategoricalColumn(key='Soil_Type', vocabulary_list=('2702', '2703', '2704', '2705', '2706', '2717', '3501', '3502', '4201', '4703', '4704', '4744', '4758', '5101', '6101', '6102', '6731', '7101', '7102', '7103', '7201', '7202', '7700', '7701', '7702', '7709', '7710', '7745', '7746', '7755', '7756', '7757', '7790', '8703', '8707', '8708', '8771', '8772', '8776'), dtype=tf.string, default_value=-1, num_oov_buckets=0), dimension=7, combiner='mean', initializer=<tensorflow.python.ops.init_ops.TruncatedNormal object at 0x7fdf30fad690>, ckpt_to_load_from=None, tensor_name_in_ckpt=None, max_norm=None, trainable=True, use_safe_embedding_lookup=True)\nEmbeddingColumn(categorical_column=VocabularyListCategoricalColumn(key='Wilderness_Area', vocabulary_list=('Cache', 'Commanche', 'Neota', 'Rawah'), dtype=tf.string, default_value=-1, num_oov_buckets=0), dimension=3, combiner='mean', initializer=<tensorflow.python.ops.init_ops.TruncatedNormal object at 0x7fdf5c082a90>, ckpt_to_load_from=None, tensor_name_in_ckpt=None, max_norm=None, trainable=True, use_safe_embedding_lookup=True)\nNumericColumn(key='Aspect', shape=(1,), default_value=None, dtype=tf.float32, normalizer_fn=None)\nNumericColumn(key='Elevation', shape=(1,), default_value=None, dtype=tf.float32, normalizer_fn=None)\nNumericColumn(key='Hillshade_3pm', shape=(1,), default_value=None, dtype=tf.float32, normalizer_fn=None)\nNumericColumn(key='Hillshade_9am', shape=(1,), default_value=None, dtype=tf.float32, normalizer_fn=None)\nNumericColumn(key='Hillshade_Noon', shape=(1,), default_value=None, dtype=tf.float32, normalizer_fn=None)\nNumericColumn(key='Horizontal_Distance_To_Fire_Points', shape=(1,), default_value=None, dtype=tf.float32, normalizer_fn=None)\nNumericColumn(key='Horizontal_Distance_To_Hydrology', shape=(1,), default_value=None, dtype=tf.float32, normalizer_fn=None)\nNumericColumn(key='Horizontal_Distance_To_Roadways', shape=(1,), default_value=None, dtype=tf.float32, normalizer_fn=None)\nNumericColumn(key='Slope', shape=(1,), default_value=None, dtype=tf.float32, normalizer_fn=None)\nNumericColumn(key='Vertical_Distance_To_Hydrology', shape=(1,), default_value=None, dtype=tf.float32, normalizer_fn=None)\n"
    }
   ],
   "source": [
    "feature_columns = create_feature_columns()\n",
    "\n",
    "for column in feature_columns:\n",
    "  print(column)"
   ]
  },
  {
   "cell_type": "markdown",
   "metadata": {
    "colab_type": "text",
    "id": "F0pAN0jkKNmm"
   },
   "source": [
    "### 2.3. Create and compile the model\n",
    "\n"
   ]
  },
  {
   "cell_type": "code",
   "execution_count": 14,
   "metadata": {
    "colab": {},
    "colab_type": "code",
    "id": "E98fiPtQKTp2"
   },
   "outputs": [],
   "source": [
    "def create_model(params):\n",
    "\n",
    "  feature_columns = create_feature_columns()\n",
    "  \n",
    "  layers = []\n",
    "  layers.append(tf.keras.layers.DenseFeatures(feature_columns))\n",
    "  for units in params.hidden_units:\n",
    "    layers.append(tf.keras.layers.Dense(units=units, activation='relu'))\n",
    "    layers.append(tf.keras.layers.BatchNormalization())\n",
    "    layers.append(tf.keras.layers.Dropout(rate=params.dropout))\n",
    "  \n",
    "  layers.append(tf.keras.layers.Dense(units=NUM_CLASSES, activation='softmax', name='output'))\n",
    "  \n",
    "  model = tf.keras.Sequential(layers=layers, name='classifier')\n",
    "    \n",
    "  adam_optimzer = tf.keras.optimizers.Adam(learning_rate=params.learning_rate)\n",
    "\n",
    "  model.compile(\n",
    "        optimizer=adam_optimzer, \n",
    "        loss=tf.keras.losses.SparseCategoricalCrossentropy(from_logits=False), \n",
    "        metrics=[tf.keras.metrics.SparseCategoricalAccuracy()], \n",
    "        loss_weights=None,\n",
    "        sample_weight_mode=None, \n",
    "        weighted_metrics=None, \n",
    "    )\n",
    "\n",
    "  return model  "
   ]
  },
  {
   "cell_type": "markdown",
   "metadata": {
    "colab_type": "text",
    "id": "MjzFWQnSJFse"
   },
   "source": [
    "### 2.4. Train and evaluate experiment"
   ]
  },
  {
   "cell_type": "markdown",
   "metadata": {
    "colab_type": "text",
    "id": "H9_yXPvF2Hkd"
   },
   "source": [
    "#### Experiment"
   ]
  },
  {
   "cell_type": "code",
   "execution_count": 15,
   "metadata": {
    "colab": {},
    "colab_type": "code",
    "id": "F9iW5NumKWWb"
   },
   "outputs": [],
   "source": [
    "def run_experiment(model, params):\n",
    "\n",
    "  # TensorBoard callback\n",
    "  LOG_DIR = os.path.join(TRAINING_DIR, 'logs')\n",
    "  tensorboard_callback = tf.keras.callbacks.TensorBoard(log_dir=LOG_DIR)\n",
    "\n",
    "  # Early stopping callback\n",
    "  earlystopping_callback = tf.keras.callbacks.EarlyStopping(\n",
    "      monitor='val_sparse_categorical_accuracy', \n",
    "      patience=3, \n",
    "      restore_best_weights=True\n",
    "  )\n",
    "\n",
    "  callbacks = [\n",
    "        tensorboard_callback,\n",
    "        earlystopping_callback]\n",
    "\n",
    "  # train dataset\n",
    "  train_dataset = create_dataset(\n",
    "      LOCAL_TRAIN_DATA,\n",
    "      batch_size=params.batch_size,\n",
    "      shuffle=True)\n",
    "    \n",
    "  # eval dataset\n",
    "  eval_dataset = create_dataset(\n",
    "      LOCAL_EVAL_DATA,\n",
    "      batch_size=params.batch_size)\n",
    "    \n",
    "  # Prep training directory\n",
    "  if tf.io.gfile.exists(TRAINING_DIR):\n",
    "    print(\"Removing previous training artefacts...\")\n",
    "    tf.io.gfile.rmtree(TRAINING_DIR)\n",
    "\n",
    "  print(\"Creating training directory...\")\n",
    "  tf.io.gfile.mkdir(TRAINING_DIR)\n",
    "\n",
    "  print(\"Experiment started...\")\n",
    "  print(\".......................................\")\n",
    "  \n",
    "  # Run train and evaluate.\n",
    "  history = model.fit(\n",
    "    x=train_dataset, \n",
    "    epochs=params.epochs, \n",
    "    callbacks=callbacks,\n",
    "    validation_data=eval_dataset,\n",
    "  )\n",
    "\n",
    "  print(\".......................................\")\n",
    "  print(\"Experiment finished.\")\n",
    "  print(\"\")\n",
    "\n",
    "  return history\n"
   ]
  },
  {
   "cell_type": "markdown",
   "metadata": {
    "colab_type": "text",
    "id": "PhYvbrrqJKmn"
   },
   "source": [
    "#### Hyper parameters"
   ]
  },
  {
   "cell_type": "code",
   "execution_count": 16,
   "metadata": {
    "colab": {},
    "colab_type": "code",
    "id": "zBCwS_usHvqy"
   },
   "outputs": [],
   "source": [
    "class Parameters():\n",
    "    pass\n",
    "\n",
    "TRAIN_DATA_SIZE = 431010\n",
    "\n",
    "params = Parameters()\n",
    "params.learning_rate = 0.01\n",
    "params.hidden_units = [128, 128]\n",
    "params.dropout = 0.15\n",
    "params.batch_size =  265\n",
    "params.steps_per_epoch = int(math.ceil(TRAIN_DATA_SIZE / params.batch_size))\n",
    "params.epochs = 10"
   ]
  },
  {
   "cell_type": "markdown",
   "metadata": {
    "colab_type": "text",
    "id": "Sf7FGOscJZ2P"
   },
   "source": [
    "#### Run experiment"
   ]
  },
  {
   "cell_type": "code",
   "execution_count": 17,
   "metadata": {
    "colab": {},
    "colab_type": "code",
    "id": "Ew99zH72JRjp"
   },
   "outputs": [
    {
     "output_type": "stream",
     "name": "stdout",
     "text": "Model: \"classifier\"\n_________________________________________________________________\nLayer (type)                 Output Shape              Param #   \n=================================================================\ndense_features (DenseFeature multiple                  285       \n_________________________________________________________________\ndense (Dense)                multiple                  2688      \n_________________________________________________________________\nbatch_normalization (BatchNo multiple                  512       \n_________________________________________________________________\ndropout (Dropout)            multiple                  0         \n_________________________________________________________________\ndense_1 (Dense)              multiple                  16512     \n_________________________________________________________________\nbatch_normalization_1 (Batch multiple                  512       \n_________________________________________________________________\ndropout_1 (Dropout)          multiple                  0         \n_________________________________________________________________\noutput (Dense)               multiple                  903       \n=================================================================\nTotal params: 21,412\nTrainable params: 20,900\nNon-trainable params: 512\n_________________________________________________________________\n"
    }
   ],
   "source": [
    "model = create_model(params)\n",
    "example_batch, _ = list(\n",
    "    create_dataset(LOCAL_TRAIN_DATA, batch_size=2, shuffle=True).take(1))[0]\n",
    "model(example_batch)\n",
    "model.summary()"
   ]
  },
  {
   "cell_type": "code",
   "execution_count": 18,
   "metadata": {
    "colab": {},
    "colab_type": "code",
    "id": "E0DjaL7eI8Ro"
   },
   "outputs": [
    {
     "output_type": "stream",
     "name": "stdout",
     "text": "Creating training directory...\nExperiment started...\n.......................................\nEpoch 1/10\n1627/1627 [==============================] - 17s 11ms/step - loss: 0.6654 - sparse_categorical_accuracy: 0.7171 - val_loss: 0.7909 - val_sparse_categorical_accuracy: 0.6444\nEpoch 2/10\n1627/1627 [==============================] - 11s 7ms/step - loss: 0.5955 - sparse_categorical_accuracy: 0.7439 - val_loss: 0.6758 - val_sparse_categorical_accuracy: 0.7121\nEpoch 3/10\n1627/1627 [==============================] - 11s 7ms/step - loss: 0.5714 - sparse_categorical_accuracy: 0.7546 - val_loss: 0.5392 - val_sparse_categorical_accuracy: 0.7628\nEpoch 4/10\n1627/1627 [==============================] - 10s 6ms/step - loss: 0.5553 - sparse_categorical_accuracy: 0.7610 - val_loss: 0.5193 - val_sparse_categorical_accuracy: 0.7758\nEpoch 5/10\n1627/1627 [==============================] - 10s 6ms/step - loss: 0.5450 - sparse_categorical_accuracy: 0.7665 - val_loss: 0.5065 - val_sparse_categorical_accuracy: 0.7828\nEpoch 6/10\n1627/1627 [==============================] - 10s 6ms/step - loss: 0.5346 - sparse_categorical_accuracy: 0.7705 - val_loss: 0.4948 - val_sparse_categorical_accuracy: 0.7895\nEpoch 7/10\n1627/1627 [==============================] - 10s 6ms/step - loss: 0.5282 - sparse_categorical_accuracy: 0.7742 - val_loss: 0.5066 - val_sparse_categorical_accuracy: 0.7806\nEpoch 8/10\n1627/1627 [==============================] - 10s 6ms/step - loss: 0.5230 - sparse_categorical_accuracy: 0.7771 - val_loss: 0.4722 - val_sparse_categorical_accuracy: 0.8033\nEpoch 9/10\n1627/1627 [==============================] - 10s 6ms/step - loss: 0.5186 - sparse_categorical_accuracy: 0.7785 - val_loss: 0.4669 - val_sparse_categorical_accuracy: 0.8054\nEpoch 10/10\n1627/1627 [==============================] - 10s 6ms/step - loss: 0.5135 - sparse_categorical_accuracy: 0.7812 - val_loss: 0.4598 - val_sparse_categorical_accuracy: 0.8064\n.......................................\nExperiment finished.\n\n"
    }
   ],
   "source": [
    "import logging\n",
    "logger = tf.get_logger()\n",
    "logger.setLevel(logging.ERROR)\n",
    "\n",
    "history = run_experiment(model, params)"
   ]
  },
  {
   "cell_type": "markdown",
   "metadata": {
    "colab_type": "text",
    "id": "UhJ5qV0aJd0J"
   },
   "source": [
    "#### Visualize training history"
   ]
  },
  {
   "cell_type": "code",
   "execution_count": 19,
   "metadata": {
    "colab": {},
    "colab_type": "code",
    "id": "Ie7fi-q_JAhh"
   },
   "outputs": [
    {
     "output_type": "display_data",
     "data": {
      "text/plain": "<Figure size 432x288 with 1 Axes>",
      "image/svg+xml": "<?xml version=\"1.0\" encoding=\"utf-8\" standalone=\"no\"?>\n<!DOCTYPE svg PUBLIC \"-//W3C//DTD SVG 1.1//EN\"\n  \"http://www.w3.org/Graphics/SVG/1.1/DTD/svg11.dtd\">\n<!-- Created with matplotlib (https://matplotlib.org/) -->\n<svg height=\"277.314375pt\" version=\"1.1\" viewBox=\"0 0 392.14375 277.314375\" width=\"392.14375pt\" xmlns=\"http://www.w3.org/2000/svg\" xmlns:xlink=\"http://www.w3.org/1999/xlink\">\n <defs>\n  <style type=\"text/css\">\n*{stroke-linecap:butt;stroke-linejoin:round;}\n  </style>\n </defs>\n <g id=\"figure_1\">\n  <g id=\"patch_1\">\n   <path d=\"M 0 277.314375 \nL 392.14375 277.314375 \nL 392.14375 0 \nL 0 0 \nz\n\" style=\"fill:none;\"/>\n  </g>\n  <g id=\"axes_1\">\n   <g id=\"patch_2\">\n    <path d=\"M 50.14375 239.758125 \nL 384.94375 239.758125 \nL 384.94375 22.318125 \nL 50.14375 22.318125 \nz\n\" style=\"fill:#ffffff;\"/>\n   </g>\n   <g id=\"matplotlib.axis_1\">\n    <g id=\"xtick_1\">\n     <g id=\"line2d_1\">\n      <defs>\n       <path d=\"M 0 0 \nL 0 3.5 \n\" id=\"m5042609561\" style=\"stroke:#000000;stroke-width:0.8;\"/>\n      </defs>\n      <g>\n       <use style=\"stroke:#000000;stroke-width:0.8;\" x=\"65.361932\" xlink:href=\"#m5042609561\" y=\"239.758125\"/>\n      </g>\n     </g>\n     <g id=\"text_1\">\n      <!-- 0 -->\n      <defs>\n       <path d=\"M 31.78125 66.40625 \nQ 24.171875 66.40625 20.328125 58.90625 \nQ 16.5 51.421875 16.5 36.375 \nQ 16.5 21.390625 20.328125 13.890625 \nQ 24.171875 6.390625 31.78125 6.390625 \nQ 39.453125 6.390625 43.28125 13.890625 \nQ 47.125 21.390625 47.125 36.375 \nQ 47.125 51.421875 43.28125 58.90625 \nQ 39.453125 66.40625 31.78125 66.40625 \nz\nM 31.78125 74.21875 \nQ 44.046875 74.21875 50.515625 64.515625 \nQ 56.984375 54.828125 56.984375 36.375 \nQ 56.984375 17.96875 50.515625 8.265625 \nQ 44.046875 -1.421875 31.78125 -1.421875 \nQ 19.53125 -1.421875 13.0625 8.265625 \nQ 6.59375 17.96875 6.59375 36.375 \nQ 6.59375 54.828125 13.0625 64.515625 \nQ 19.53125 74.21875 31.78125 74.21875 \nz\n\" id=\"DejaVuSans-48\"/>\n      </defs>\n      <g transform=\"translate(62.180682 254.356562)scale(0.1 -0.1)\">\n       <use xlink:href=\"#DejaVuSans-48\"/>\n      </g>\n     </g>\n    </g>\n    <g id=\"xtick_2\">\n     <g id=\"line2d_2\">\n      <g>\n       <use style=\"stroke:#000000;stroke-width:0.8;\" x=\"132.998295\" xlink:href=\"#m5042609561\" y=\"239.758125\"/>\n      </g>\n     </g>\n     <g id=\"text_2\">\n      <!-- 2 -->\n      <defs>\n       <path d=\"M 19.1875 8.296875 \nL 53.609375 8.296875 \nL 53.609375 0 \nL 7.328125 0 \nL 7.328125 8.296875 \nQ 12.9375 14.109375 22.625 23.890625 \nQ 32.328125 33.6875 34.8125 36.53125 \nQ 39.546875 41.84375 41.421875 45.53125 \nQ 43.3125 49.21875 43.3125 52.78125 \nQ 43.3125 58.59375 39.234375 62.25 \nQ 35.15625 65.921875 28.609375 65.921875 \nQ 23.96875 65.921875 18.8125 64.3125 \nQ 13.671875 62.703125 7.8125 59.421875 \nL 7.8125 69.390625 \nQ 13.765625 71.78125 18.9375 73 \nQ 24.125 74.21875 28.421875 74.21875 \nQ 39.75 74.21875 46.484375 68.546875 \nQ 53.21875 62.890625 53.21875 53.421875 \nQ 53.21875 48.921875 51.53125 44.890625 \nQ 49.859375 40.875 45.40625 35.40625 \nQ 44.1875 33.984375 37.640625 27.21875 \nQ 31.109375 20.453125 19.1875 8.296875 \nz\n\" id=\"DejaVuSans-50\"/>\n      </defs>\n      <g transform=\"translate(129.817045 254.356562)scale(0.1 -0.1)\">\n       <use xlink:href=\"#DejaVuSans-50\"/>\n      </g>\n     </g>\n    </g>\n    <g id=\"xtick_3\">\n     <g id=\"line2d_3\">\n      <g>\n       <use style=\"stroke:#000000;stroke-width:0.8;\" x=\"200.634659\" xlink:href=\"#m5042609561\" y=\"239.758125\"/>\n      </g>\n     </g>\n     <g id=\"text_3\">\n      <!-- 4 -->\n      <defs>\n       <path d=\"M 37.796875 64.3125 \nL 12.890625 25.390625 \nL 37.796875 25.390625 \nz\nM 35.203125 72.90625 \nL 47.609375 72.90625 \nL 47.609375 25.390625 \nL 58.015625 25.390625 \nL 58.015625 17.1875 \nL 47.609375 17.1875 \nL 47.609375 0 \nL 37.796875 0 \nL 37.796875 17.1875 \nL 4.890625 17.1875 \nL 4.890625 26.703125 \nz\n\" id=\"DejaVuSans-52\"/>\n      </defs>\n      <g transform=\"translate(197.453409 254.356562)scale(0.1 -0.1)\">\n       <use xlink:href=\"#DejaVuSans-52\"/>\n      </g>\n     </g>\n    </g>\n    <g id=\"xtick_4\">\n     <g id=\"line2d_4\">\n      <g>\n       <use style=\"stroke:#000000;stroke-width:0.8;\" x=\"268.271023\" xlink:href=\"#m5042609561\" y=\"239.758125\"/>\n      </g>\n     </g>\n     <g id=\"text_4\">\n      <!-- 6 -->\n      <defs>\n       <path d=\"M 33.015625 40.375 \nQ 26.375 40.375 22.484375 35.828125 \nQ 18.609375 31.296875 18.609375 23.390625 \nQ 18.609375 15.53125 22.484375 10.953125 \nQ 26.375 6.390625 33.015625 6.390625 \nQ 39.65625 6.390625 43.53125 10.953125 \nQ 47.40625 15.53125 47.40625 23.390625 \nQ 47.40625 31.296875 43.53125 35.828125 \nQ 39.65625 40.375 33.015625 40.375 \nz\nM 52.59375 71.296875 \nL 52.59375 62.3125 \nQ 48.875 64.0625 45.09375 64.984375 \nQ 41.3125 65.921875 37.59375 65.921875 \nQ 27.828125 65.921875 22.671875 59.328125 \nQ 17.53125 52.734375 16.796875 39.40625 \nQ 19.671875 43.65625 24.015625 45.921875 \nQ 28.375 48.1875 33.59375 48.1875 \nQ 44.578125 48.1875 50.953125 41.515625 \nQ 57.328125 34.859375 57.328125 23.390625 \nQ 57.328125 12.15625 50.6875 5.359375 \nQ 44.046875 -1.421875 33.015625 -1.421875 \nQ 20.359375 -1.421875 13.671875 8.265625 \nQ 6.984375 17.96875 6.984375 36.375 \nQ 6.984375 53.65625 15.1875 63.9375 \nQ 23.390625 74.21875 37.203125 74.21875 \nQ 40.921875 74.21875 44.703125 73.484375 \nQ 48.484375 72.75 52.59375 71.296875 \nz\n\" id=\"DejaVuSans-54\"/>\n      </defs>\n      <g transform=\"translate(265.089773 254.356562)scale(0.1 -0.1)\">\n       <use xlink:href=\"#DejaVuSans-54\"/>\n      </g>\n     </g>\n    </g>\n    <g id=\"xtick_5\">\n     <g id=\"line2d_5\">\n      <g>\n       <use style=\"stroke:#000000;stroke-width:0.8;\" x=\"335.907386\" xlink:href=\"#m5042609561\" y=\"239.758125\"/>\n      </g>\n     </g>\n     <g id=\"text_5\">\n      <!-- 8 -->\n      <defs>\n       <path d=\"M 31.78125 34.625 \nQ 24.75 34.625 20.71875 30.859375 \nQ 16.703125 27.09375 16.703125 20.515625 \nQ 16.703125 13.921875 20.71875 10.15625 \nQ 24.75 6.390625 31.78125 6.390625 \nQ 38.8125 6.390625 42.859375 10.171875 \nQ 46.921875 13.96875 46.921875 20.515625 \nQ 46.921875 27.09375 42.890625 30.859375 \nQ 38.875 34.625 31.78125 34.625 \nz\nM 21.921875 38.8125 \nQ 15.578125 40.375 12.03125 44.71875 \nQ 8.5 49.078125 8.5 55.328125 \nQ 8.5 64.0625 14.71875 69.140625 \nQ 20.953125 74.21875 31.78125 74.21875 \nQ 42.671875 74.21875 48.875 69.140625 \nQ 55.078125 64.0625 55.078125 55.328125 \nQ 55.078125 49.078125 51.53125 44.71875 \nQ 48 40.375 41.703125 38.8125 \nQ 48.828125 37.15625 52.796875 32.3125 \nQ 56.78125 27.484375 56.78125 20.515625 \nQ 56.78125 9.90625 50.3125 4.234375 \nQ 43.84375 -1.421875 31.78125 -1.421875 \nQ 19.734375 -1.421875 13.25 4.234375 \nQ 6.78125 9.90625 6.78125 20.515625 \nQ 6.78125 27.484375 10.78125 32.3125 \nQ 14.796875 37.15625 21.921875 38.8125 \nz\nM 18.3125 54.390625 \nQ 18.3125 48.734375 21.84375 45.5625 \nQ 25.390625 42.390625 31.78125 42.390625 \nQ 38.140625 42.390625 41.71875 45.5625 \nQ 45.3125 48.734375 45.3125 54.390625 \nQ 45.3125 60.0625 41.71875 63.234375 \nQ 38.140625 66.40625 31.78125 66.40625 \nQ 25.390625 66.40625 21.84375 63.234375 \nQ 18.3125 60.0625 18.3125 54.390625 \nz\n\" id=\"DejaVuSans-56\"/>\n      </defs>\n      <g transform=\"translate(332.726136 254.356562)scale(0.1 -0.1)\">\n       <use xlink:href=\"#DejaVuSans-56\"/>\n      </g>\n     </g>\n    </g>\n    <g id=\"text_6\">\n     <!-- Epoch -->\n     <defs>\n      <path d=\"M 9.8125 72.90625 \nL 55.90625 72.90625 \nL 55.90625 64.59375 \nL 19.671875 64.59375 \nL 19.671875 43.015625 \nL 54.390625 43.015625 \nL 54.390625 34.71875 \nL 19.671875 34.71875 \nL 19.671875 8.296875 \nL 56.78125 8.296875 \nL 56.78125 0 \nL 9.8125 0 \nz\n\" id=\"DejaVuSans-69\"/>\n      <path d=\"M 18.109375 8.203125 \nL 18.109375 -20.796875 \nL 9.078125 -20.796875 \nL 9.078125 54.6875 \nL 18.109375 54.6875 \nL 18.109375 46.390625 \nQ 20.953125 51.265625 25.265625 53.625 \nQ 29.59375 56 35.59375 56 \nQ 45.5625 56 51.78125 48.09375 \nQ 58.015625 40.1875 58.015625 27.296875 \nQ 58.015625 14.40625 51.78125 6.484375 \nQ 45.5625 -1.421875 35.59375 -1.421875 \nQ 29.59375 -1.421875 25.265625 0.953125 \nQ 20.953125 3.328125 18.109375 8.203125 \nz\nM 48.6875 27.296875 \nQ 48.6875 37.203125 44.609375 42.84375 \nQ 40.53125 48.484375 33.40625 48.484375 \nQ 26.265625 48.484375 22.1875 42.84375 \nQ 18.109375 37.203125 18.109375 27.296875 \nQ 18.109375 17.390625 22.1875 11.75 \nQ 26.265625 6.109375 33.40625 6.109375 \nQ 40.53125 6.109375 44.609375 11.75 \nQ 48.6875 17.390625 48.6875 27.296875 \nz\n\" id=\"DejaVuSans-112\"/>\n      <path d=\"M 30.609375 48.390625 \nQ 23.390625 48.390625 19.1875 42.75 \nQ 14.984375 37.109375 14.984375 27.296875 \nQ 14.984375 17.484375 19.15625 11.84375 \nQ 23.34375 6.203125 30.609375 6.203125 \nQ 37.796875 6.203125 41.984375 11.859375 \nQ 46.1875 17.53125 46.1875 27.296875 \nQ 46.1875 37.015625 41.984375 42.703125 \nQ 37.796875 48.390625 30.609375 48.390625 \nz\nM 30.609375 56 \nQ 42.328125 56 49.015625 48.375 \nQ 55.71875 40.765625 55.71875 27.296875 \nQ 55.71875 13.875 49.015625 6.21875 \nQ 42.328125 -1.421875 30.609375 -1.421875 \nQ 18.84375 -1.421875 12.171875 6.21875 \nQ 5.515625 13.875 5.515625 27.296875 \nQ 5.515625 40.765625 12.171875 48.375 \nQ 18.84375 56 30.609375 56 \nz\n\" id=\"DejaVuSans-111\"/>\n      <path d=\"M 48.78125 52.59375 \nL 48.78125 44.1875 \nQ 44.96875 46.296875 41.140625 47.34375 \nQ 37.3125 48.390625 33.40625 48.390625 \nQ 24.65625 48.390625 19.8125 42.84375 \nQ 14.984375 37.3125 14.984375 27.296875 \nQ 14.984375 17.28125 19.8125 11.734375 \nQ 24.65625 6.203125 33.40625 6.203125 \nQ 37.3125 6.203125 41.140625 7.25 \nQ 44.96875 8.296875 48.78125 10.40625 \nL 48.78125 2.09375 \nQ 45.015625 0.34375 40.984375 -0.53125 \nQ 36.96875 -1.421875 32.421875 -1.421875 \nQ 20.0625 -1.421875 12.78125 6.34375 \nQ 5.515625 14.109375 5.515625 27.296875 \nQ 5.515625 40.671875 12.859375 48.328125 \nQ 20.21875 56 33.015625 56 \nQ 37.15625 56 41.109375 55.140625 \nQ 45.0625 54.296875 48.78125 52.59375 \nz\n\" id=\"DejaVuSans-99\"/>\n      <path d=\"M 54.890625 33.015625 \nL 54.890625 0 \nL 45.90625 0 \nL 45.90625 32.71875 \nQ 45.90625 40.484375 42.875 44.328125 \nQ 39.84375 48.1875 33.796875 48.1875 \nQ 26.515625 48.1875 22.3125 43.546875 \nQ 18.109375 38.921875 18.109375 30.90625 \nL 18.109375 0 \nL 9.078125 0 \nL 9.078125 75.984375 \nL 18.109375 75.984375 \nL 18.109375 46.1875 \nQ 21.34375 51.125 25.703125 53.5625 \nQ 30.078125 56 35.796875 56 \nQ 45.21875 56 50.046875 50.171875 \nQ 54.890625 44.34375 54.890625 33.015625 \nz\n\" id=\"DejaVuSans-104\"/>\n     </defs>\n     <g transform=\"translate(202.232813 268.034687)scale(0.1 -0.1)\">\n      <use xlink:href=\"#DejaVuSans-69\"/>\n      <use x=\"63.183594\" xlink:href=\"#DejaVuSans-112\"/>\n      <use x=\"126.660156\" xlink:href=\"#DejaVuSans-111\"/>\n      <use x=\"187.841797\" xlink:href=\"#DejaVuSans-99\"/>\n      <use x=\"242.822266\" xlink:href=\"#DejaVuSans-104\"/>\n     </g>\n    </g>\n   </g>\n   <g id=\"matplotlib.axis_2\">\n    <g id=\"ytick_1\">\n     <g id=\"line2d_6\">\n      <defs>\n       <path d=\"M 0 0 \nL -3.5 0 \n\" id=\"m171996f5c4\" style=\"stroke:#000000;stroke-width:0.8;\"/>\n      </defs>\n      <g>\n       <use style=\"stroke:#000000;stroke-width:0.8;\" x=\"50.14375\" xlink:href=\"#m171996f5c4\" y=\"235.293964\"/>\n      </g>\n     </g>\n     <g id=\"text_7\">\n      <!-- 0.64 -->\n      <defs>\n       <path d=\"M 10.6875 12.40625 \nL 21 12.40625 \nL 21 0 \nL 10.6875 0 \nz\n\" id=\"DejaVuSans-46\"/>\n      </defs>\n      <g transform=\"translate(20.878125 239.093183)scale(0.1 -0.1)\">\n       <use xlink:href=\"#DejaVuSans-48\"/>\n       <use x=\"63.623047\" xlink:href=\"#DejaVuSans-46\"/>\n       <use x=\"95.410156\" xlink:href=\"#DejaVuSans-54\"/>\n       <use x=\"159.033203\" xlink:href=\"#DejaVuSans-52\"/>\n      </g>\n     </g>\n    </g>\n    <g id=\"ytick_2\">\n     <g id=\"line2d_7\">\n      <g>\n       <use style=\"stroke:#000000;stroke-width:0.8;\" x=\"50.14375\" xlink:href=\"#m171996f5c4\" y=\"210.881885\"/>\n      </g>\n     </g>\n     <g id=\"text_8\">\n      <!-- 0.66 -->\n      <g transform=\"translate(20.878125 214.681104)scale(0.1 -0.1)\">\n       <use xlink:href=\"#DejaVuSans-48\"/>\n       <use x=\"63.623047\" xlink:href=\"#DejaVuSans-46\"/>\n       <use x=\"95.410156\" xlink:href=\"#DejaVuSans-54\"/>\n       <use x=\"159.033203\" xlink:href=\"#DejaVuSans-54\"/>\n      </g>\n     </g>\n    </g>\n    <g id=\"ytick_3\">\n     <g id=\"line2d_8\">\n      <g>\n       <use style=\"stroke:#000000;stroke-width:0.8;\" x=\"50.14375\" xlink:href=\"#m171996f5c4\" y=\"186.469806\"/>\n      </g>\n     </g>\n     <g id=\"text_9\">\n      <!-- 0.68 -->\n      <g transform=\"translate(20.878125 190.269025)scale(0.1 -0.1)\">\n       <use xlink:href=\"#DejaVuSans-48\"/>\n       <use x=\"63.623047\" xlink:href=\"#DejaVuSans-46\"/>\n       <use x=\"95.410156\" xlink:href=\"#DejaVuSans-54\"/>\n       <use x=\"159.033203\" xlink:href=\"#DejaVuSans-56\"/>\n      </g>\n     </g>\n    </g>\n    <g id=\"ytick_4\">\n     <g id=\"line2d_9\">\n      <g>\n       <use style=\"stroke:#000000;stroke-width:0.8;\" x=\"50.14375\" xlink:href=\"#m171996f5c4\" y=\"162.057727\"/>\n      </g>\n     </g>\n     <g id=\"text_10\">\n      <!-- 0.70 -->\n      <defs>\n       <path d=\"M 8.203125 72.90625 \nL 55.078125 72.90625 \nL 55.078125 68.703125 \nL 28.609375 0 \nL 18.3125 0 \nL 43.21875 64.59375 \nL 8.203125 64.59375 \nz\n\" id=\"DejaVuSans-55\"/>\n      </defs>\n      <g transform=\"translate(20.878125 165.856946)scale(0.1 -0.1)\">\n       <use xlink:href=\"#DejaVuSans-48\"/>\n       <use x=\"63.623047\" xlink:href=\"#DejaVuSans-46\"/>\n       <use x=\"95.410156\" xlink:href=\"#DejaVuSans-55\"/>\n       <use x=\"159.033203\" xlink:href=\"#DejaVuSans-48\"/>\n      </g>\n     </g>\n    </g>\n    <g id=\"ytick_5\">\n     <g id=\"line2d_10\">\n      <g>\n       <use style=\"stroke:#000000;stroke-width:0.8;\" x=\"50.14375\" xlink:href=\"#m171996f5c4\" y=\"137.645648\"/>\n      </g>\n     </g>\n     <g id=\"text_11\">\n      <!-- 0.72 -->\n      <g transform=\"translate(20.878125 141.444867)scale(0.1 -0.1)\">\n       <use xlink:href=\"#DejaVuSans-48\"/>\n       <use x=\"63.623047\" xlink:href=\"#DejaVuSans-46\"/>\n       <use x=\"95.410156\" xlink:href=\"#DejaVuSans-55\"/>\n       <use x=\"159.033203\" xlink:href=\"#DejaVuSans-50\"/>\n      </g>\n     </g>\n    </g>\n    <g id=\"ytick_6\">\n     <g id=\"line2d_11\">\n      <g>\n       <use style=\"stroke:#000000;stroke-width:0.8;\" x=\"50.14375\" xlink:href=\"#m171996f5c4\" y=\"113.233569\"/>\n      </g>\n     </g>\n     <g id=\"text_12\">\n      <!-- 0.74 -->\n      <g transform=\"translate(20.878125 117.032787)scale(0.1 -0.1)\">\n       <use xlink:href=\"#DejaVuSans-48\"/>\n       <use x=\"63.623047\" xlink:href=\"#DejaVuSans-46\"/>\n       <use x=\"95.410156\" xlink:href=\"#DejaVuSans-55\"/>\n       <use x=\"159.033203\" xlink:href=\"#DejaVuSans-52\"/>\n      </g>\n     </g>\n    </g>\n    <g id=\"ytick_7\">\n     <g id=\"line2d_12\">\n      <g>\n       <use style=\"stroke:#000000;stroke-width:0.8;\" x=\"50.14375\" xlink:href=\"#m171996f5c4\" y=\"88.821489\"/>\n      </g>\n     </g>\n     <g id=\"text_13\">\n      <!-- 0.76 -->\n      <g transform=\"translate(20.878125 92.620708)scale(0.1 -0.1)\">\n       <use xlink:href=\"#DejaVuSans-48\"/>\n       <use x=\"63.623047\" xlink:href=\"#DejaVuSans-46\"/>\n       <use x=\"95.410156\" xlink:href=\"#DejaVuSans-55\"/>\n       <use x=\"159.033203\" xlink:href=\"#DejaVuSans-54\"/>\n      </g>\n     </g>\n    </g>\n    <g id=\"ytick_8\">\n     <g id=\"line2d_13\">\n      <g>\n       <use style=\"stroke:#000000;stroke-width:0.8;\" x=\"50.14375\" xlink:href=\"#m171996f5c4\" y=\"64.40941\"/>\n      </g>\n     </g>\n     <g id=\"text_14\">\n      <!-- 0.78 -->\n      <g transform=\"translate(20.878125 68.208629)scale(0.1 -0.1)\">\n       <use xlink:href=\"#DejaVuSans-48\"/>\n       <use x=\"63.623047\" xlink:href=\"#DejaVuSans-46\"/>\n       <use x=\"95.410156\" xlink:href=\"#DejaVuSans-55\"/>\n       <use x=\"159.033203\" xlink:href=\"#DejaVuSans-56\"/>\n      </g>\n     </g>\n    </g>\n    <g id=\"ytick_9\">\n     <g id=\"line2d_14\">\n      <g>\n       <use style=\"stroke:#000000;stroke-width:0.8;\" x=\"50.14375\" xlink:href=\"#m171996f5c4\" y=\"39.997331\"/>\n      </g>\n     </g>\n     <g id=\"text_15\">\n      <!-- 0.80 -->\n      <g transform=\"translate(20.878125 43.79655)scale(0.1 -0.1)\">\n       <use xlink:href=\"#DejaVuSans-48\"/>\n       <use x=\"63.623047\" xlink:href=\"#DejaVuSans-46\"/>\n       <use x=\"95.410156\" xlink:href=\"#DejaVuSans-56\"/>\n       <use x=\"159.033203\" xlink:href=\"#DejaVuSans-48\"/>\n      </g>\n     </g>\n    </g>\n    <g id=\"text_16\">\n     <!-- Accuracy -->\n     <defs>\n      <path d=\"M 34.1875 63.1875 \nL 20.796875 26.90625 \nL 47.609375 26.90625 \nz\nM 28.609375 72.90625 \nL 39.796875 72.90625 \nL 67.578125 0 \nL 57.328125 0 \nL 50.6875 18.703125 \nL 17.828125 18.703125 \nL 11.1875 0 \nL 0.78125 0 \nz\n\" id=\"DejaVuSans-65\"/>\n      <path d=\"M 8.5 21.578125 \nL 8.5 54.6875 \nL 17.484375 54.6875 \nL 17.484375 21.921875 \nQ 17.484375 14.15625 20.5 10.265625 \nQ 23.53125 6.390625 29.59375 6.390625 \nQ 36.859375 6.390625 41.078125 11.03125 \nQ 45.3125 15.671875 45.3125 23.6875 \nL 45.3125 54.6875 \nL 54.296875 54.6875 \nL 54.296875 0 \nL 45.3125 0 \nL 45.3125 8.40625 \nQ 42.046875 3.421875 37.71875 1 \nQ 33.40625 -1.421875 27.6875 -1.421875 \nQ 18.265625 -1.421875 13.375 4.4375 \nQ 8.5 10.296875 8.5 21.578125 \nz\nM 31.109375 56 \nz\n\" id=\"DejaVuSans-117\"/>\n      <path d=\"M 41.109375 46.296875 \nQ 39.59375 47.171875 37.8125 47.578125 \nQ 36.03125 48 33.890625 48 \nQ 26.265625 48 22.1875 43.046875 \nQ 18.109375 38.09375 18.109375 28.8125 \nL 18.109375 0 \nL 9.078125 0 \nL 9.078125 54.6875 \nL 18.109375 54.6875 \nL 18.109375 46.1875 \nQ 20.953125 51.171875 25.484375 53.578125 \nQ 30.03125 56 36.53125 56 \nQ 37.453125 56 38.578125 55.875 \nQ 39.703125 55.765625 41.0625 55.515625 \nz\n\" id=\"DejaVuSans-114\"/>\n      <path d=\"M 34.28125 27.484375 \nQ 23.390625 27.484375 19.1875 25 \nQ 14.984375 22.515625 14.984375 16.5 \nQ 14.984375 11.71875 18.140625 8.90625 \nQ 21.296875 6.109375 26.703125 6.109375 \nQ 34.1875 6.109375 38.703125 11.40625 \nQ 43.21875 16.703125 43.21875 25.484375 \nL 43.21875 27.484375 \nz\nM 52.203125 31.203125 \nL 52.203125 0 \nL 43.21875 0 \nL 43.21875 8.296875 \nQ 40.140625 3.328125 35.546875 0.953125 \nQ 30.953125 -1.421875 24.3125 -1.421875 \nQ 15.921875 -1.421875 10.953125 3.296875 \nQ 6 8.015625 6 15.921875 \nQ 6 25.140625 12.171875 29.828125 \nQ 18.359375 34.515625 30.609375 34.515625 \nL 43.21875 34.515625 \nL 43.21875 35.40625 \nQ 43.21875 41.609375 39.140625 45 \nQ 35.0625 48.390625 27.6875 48.390625 \nQ 23 48.390625 18.546875 47.265625 \nQ 14.109375 46.140625 10.015625 43.890625 \nL 10.015625 52.203125 \nQ 14.9375 54.109375 19.578125 55.046875 \nQ 24.21875 56 28.609375 56 \nQ 40.484375 56 46.34375 49.84375 \nQ 52.203125 43.703125 52.203125 31.203125 \nz\n\" id=\"DejaVuSans-97\"/>\n      <path d=\"M 32.171875 -5.078125 \nQ 28.375 -14.84375 24.75 -17.8125 \nQ 21.140625 -20.796875 15.09375 -20.796875 \nL 7.90625 -20.796875 \nL 7.90625 -13.28125 \nL 13.1875 -13.28125 \nQ 16.890625 -13.28125 18.9375 -11.515625 \nQ 21 -9.765625 23.484375 -3.21875 \nL 25.09375 0.875 \nL 2.984375 54.6875 \nL 12.5 54.6875 \nL 29.59375 11.921875 \nL 46.6875 54.6875 \nL 56.203125 54.6875 \nz\n\" id=\"DejaVuSans-121\"/>\n     </defs>\n     <g transform=\"translate(14.798438 153.86625)rotate(-90)scale(0.1 -0.1)\">\n      <use xlink:href=\"#DejaVuSans-65\"/>\n      <use x=\"66.658203\" xlink:href=\"#DejaVuSans-99\"/>\n      <use x=\"121.638672\" xlink:href=\"#DejaVuSans-99\"/>\n      <use x=\"176.619141\" xlink:href=\"#DejaVuSans-117\"/>\n      <use x=\"239.998047\" xlink:href=\"#DejaVuSans-114\"/>\n      <use x=\"281.111328\" xlink:href=\"#DejaVuSans-97\"/>\n      <use x=\"342.390625\" xlink:href=\"#DejaVuSans-99\"/>\n      <use x=\"397.371094\" xlink:href=\"#DejaVuSans-121\"/>\n     </g>\n    </g>\n   </g>\n   <g id=\"line2d_15\">\n    <path clip-path=\"url(#p0ae8533f47)\" d=\"M 65.361932 141.24641 \nL 99.180114 108.42112 \nL 132.998295 95.447832 \nL 166.816477 87.5665 \nL 200.634659 80.897172 \nL 234.452841 76.023404 \nL 268.271023 71.435558 \nL 302.089205 67.986234 \nL 335.907386 66.182307 \nL 369.725568 62.9567 \n\" style=\"fill:none;stroke:#1f77b4;stroke-linecap:square;stroke-width:1.5;\"/>\n   </g>\n   <g id=\"line2d_16\">\n    <path clip-path=\"url(#p0ae8533f47)\" d=\"M 65.361932 229.874489 \nL 99.180114 147.264011 \nL 132.998295 85.436346 \nL 166.816477 69.519663 \nL 200.634659 61.02429 \nL 234.452841 52.756709 \nL 268.271023 63.725852 \nL 302.089205 35.961234 \nL 335.907386 33.45487 \nL 369.725568 32.201761 \n\" style=\"fill:none;stroke:#ff7f0e;stroke-linecap:square;stroke-width:1.5;\"/>\n   </g>\n   <g id=\"patch_3\">\n    <path d=\"M 50.14375 239.758125 \nL 50.14375 22.318125 \n\" style=\"fill:none;stroke:#000000;stroke-linecap:square;stroke-linejoin:miter;stroke-width:0.8;\"/>\n   </g>\n   <g id=\"patch_4\">\n    <path d=\"M 384.94375 239.758125 \nL 384.94375 22.318125 \n\" style=\"fill:none;stroke:#000000;stroke-linecap:square;stroke-linejoin:miter;stroke-width:0.8;\"/>\n   </g>\n   <g id=\"patch_5\">\n    <path d=\"M 50.14375 239.758125 \nL 384.94375 239.758125 \n\" style=\"fill:none;stroke:#000000;stroke-linecap:square;stroke-linejoin:miter;stroke-width:0.8;\"/>\n   </g>\n   <g id=\"patch_6\">\n    <path d=\"M 50.14375 22.318125 \nL 384.94375 22.318125 \n\" style=\"fill:none;stroke:#000000;stroke-linecap:square;stroke-linejoin:miter;stroke-width:0.8;\"/>\n   </g>\n   <g id=\"text_17\">\n    <!-- Model accuracy -->\n    <defs>\n     <path d=\"M 9.8125 72.90625 \nL 24.515625 72.90625 \nL 43.109375 23.296875 \nL 61.8125 72.90625 \nL 76.515625 72.90625 \nL 76.515625 0 \nL 66.890625 0 \nL 66.890625 64.015625 \nL 48.09375 14.015625 \nL 38.1875 14.015625 \nL 19.390625 64.015625 \nL 19.390625 0 \nL 9.8125 0 \nz\n\" id=\"DejaVuSans-77\"/>\n     <path d=\"M 45.40625 46.390625 \nL 45.40625 75.984375 \nL 54.390625 75.984375 \nL 54.390625 0 \nL 45.40625 0 \nL 45.40625 8.203125 \nQ 42.578125 3.328125 38.25 0.953125 \nQ 33.9375 -1.421875 27.875 -1.421875 \nQ 17.96875 -1.421875 11.734375 6.484375 \nQ 5.515625 14.40625 5.515625 27.296875 \nQ 5.515625 40.1875 11.734375 48.09375 \nQ 17.96875 56 27.875 56 \nQ 33.9375 56 38.25 53.625 \nQ 42.578125 51.265625 45.40625 46.390625 \nz\nM 14.796875 27.296875 \nQ 14.796875 17.390625 18.875 11.75 \nQ 22.953125 6.109375 30.078125 6.109375 \nQ 37.203125 6.109375 41.296875 11.75 \nQ 45.40625 17.390625 45.40625 27.296875 \nQ 45.40625 37.203125 41.296875 42.84375 \nQ 37.203125 48.484375 30.078125 48.484375 \nQ 22.953125 48.484375 18.875 42.84375 \nQ 14.796875 37.203125 14.796875 27.296875 \nz\n\" id=\"DejaVuSans-100\"/>\n     <path d=\"M 56.203125 29.59375 \nL 56.203125 25.203125 \nL 14.890625 25.203125 \nQ 15.484375 15.921875 20.484375 11.0625 \nQ 25.484375 6.203125 34.421875 6.203125 \nQ 39.59375 6.203125 44.453125 7.46875 \nQ 49.3125 8.734375 54.109375 11.28125 \nL 54.109375 2.78125 \nQ 49.265625 0.734375 44.1875 -0.34375 \nQ 39.109375 -1.421875 33.890625 -1.421875 \nQ 20.796875 -1.421875 13.15625 6.1875 \nQ 5.515625 13.8125 5.515625 26.8125 \nQ 5.515625 40.234375 12.765625 48.109375 \nQ 20.015625 56 32.328125 56 \nQ 43.359375 56 49.78125 48.890625 \nQ 56.203125 41.796875 56.203125 29.59375 \nz\nM 47.21875 32.234375 \nQ 47.125 39.59375 43.09375 43.984375 \nQ 39.0625 48.390625 32.421875 48.390625 \nQ 24.90625 48.390625 20.390625 44.140625 \nQ 15.875 39.890625 15.1875 32.171875 \nz\n\" id=\"DejaVuSans-101\"/>\n     <path d=\"M 9.421875 75.984375 \nL 18.40625 75.984375 \nL 18.40625 0 \nL 9.421875 0 \nz\n\" id=\"DejaVuSans-108\"/>\n     <path id=\"DejaVuSans-32\"/>\n    </defs>\n    <g transform=\"translate(170.549688 16.318125)scale(0.12 -0.12)\">\n     <use xlink:href=\"#DejaVuSans-77\"/>\n     <use x=\"86.279297\" xlink:href=\"#DejaVuSans-111\"/>\n     <use x=\"147.460938\" xlink:href=\"#DejaVuSans-100\"/>\n     <use x=\"210.9375\" xlink:href=\"#DejaVuSans-101\"/>\n     <use x=\"272.460938\" xlink:href=\"#DejaVuSans-108\"/>\n     <use x=\"300.244141\" xlink:href=\"#DejaVuSans-32\"/>\n     <use x=\"332.03125\" xlink:href=\"#DejaVuSans-97\"/>\n     <use x=\"393.310547\" xlink:href=\"#DejaVuSans-99\"/>\n     <use x=\"448.291016\" xlink:href=\"#DejaVuSans-99\"/>\n     <use x=\"503.271484\" xlink:href=\"#DejaVuSans-117\"/>\n     <use x=\"566.650391\" xlink:href=\"#DejaVuSans-114\"/>\n     <use x=\"607.763672\" xlink:href=\"#DejaVuSans-97\"/>\n     <use x=\"669.042969\" xlink:href=\"#DejaVuSans-99\"/>\n     <use x=\"724.023438\" xlink:href=\"#DejaVuSans-121\"/>\n    </g>\n   </g>\n   <g id=\"legend_1\">\n    <g id=\"patch_7\">\n     <path d=\"M 57.14375 59.674375 \nL 113.13125 59.674375 \nQ 115.13125 59.674375 115.13125 57.674375 \nL 115.13125 29.318125 \nQ 115.13125 27.318125 113.13125 27.318125 \nL 57.14375 27.318125 \nQ 55.14375 27.318125 55.14375 29.318125 \nL 55.14375 57.674375 \nQ 55.14375 59.674375 57.14375 59.674375 \nz\n\" style=\"fill:#ffffff;opacity:0.8;stroke:#cccccc;stroke-linejoin:miter;\"/>\n    </g>\n    <g id=\"line2d_17\">\n     <path d=\"M 59.14375 35.416562 \nL 79.14375 35.416562 \n\" style=\"fill:none;stroke:#1f77b4;stroke-linecap:square;stroke-width:1.5;\"/>\n    </g>\n    <g id=\"line2d_18\"/>\n    <g id=\"text_18\">\n     <!-- Train -->\n     <defs>\n      <path d=\"M -0.296875 72.90625 \nL 61.375 72.90625 \nL 61.375 64.59375 \nL 35.5 64.59375 \nL 35.5 0 \nL 25.59375 0 \nL 25.59375 64.59375 \nL -0.296875 64.59375 \nz\n\" id=\"DejaVuSans-84\"/>\n      <path d=\"M 9.421875 54.6875 \nL 18.40625 54.6875 \nL 18.40625 0 \nL 9.421875 0 \nz\nM 9.421875 75.984375 \nL 18.40625 75.984375 \nL 18.40625 64.59375 \nL 9.421875 64.59375 \nz\n\" id=\"DejaVuSans-105\"/>\n      <path d=\"M 54.890625 33.015625 \nL 54.890625 0 \nL 45.90625 0 \nL 45.90625 32.71875 \nQ 45.90625 40.484375 42.875 44.328125 \nQ 39.84375 48.1875 33.796875 48.1875 \nQ 26.515625 48.1875 22.3125 43.546875 \nQ 18.109375 38.921875 18.109375 30.90625 \nL 18.109375 0 \nL 9.078125 0 \nL 9.078125 54.6875 \nL 18.109375 54.6875 \nL 18.109375 46.1875 \nQ 21.34375 51.125 25.703125 53.5625 \nQ 30.078125 56 35.796875 56 \nQ 45.21875 56 50.046875 50.171875 \nQ 54.890625 44.34375 54.890625 33.015625 \nz\n\" id=\"DejaVuSans-110\"/>\n     </defs>\n     <g transform=\"translate(87.14375 38.916562)scale(0.1 -0.1)\">\n      <use xlink:href=\"#DejaVuSans-84\"/>\n      <use x=\"46.333984\" xlink:href=\"#DejaVuSans-114\"/>\n      <use x=\"87.447266\" xlink:href=\"#DejaVuSans-97\"/>\n      <use x=\"148.726562\" xlink:href=\"#DejaVuSans-105\"/>\n      <use x=\"176.509766\" xlink:href=\"#DejaVuSans-110\"/>\n     </g>\n    </g>\n    <g id=\"line2d_19\">\n     <path d=\"M 59.14375 50.094687 \nL 79.14375 50.094687 \n\" style=\"fill:none;stroke:#ff7f0e;stroke-linecap:square;stroke-width:1.5;\"/>\n    </g>\n    <g id=\"line2d_20\"/>\n    <g id=\"text_19\">\n     <!-- Eval -->\n     <defs>\n      <path d=\"M 2.984375 54.6875 \nL 12.5 54.6875 \nL 29.59375 8.796875 \nL 46.6875 54.6875 \nL 56.203125 54.6875 \nL 35.6875 0 \nL 23.484375 0 \nz\n\" id=\"DejaVuSans-118\"/>\n     </defs>\n     <g transform=\"translate(87.14375 53.594687)scale(0.1 -0.1)\">\n      <use xlink:href=\"#DejaVuSans-69\"/>\n      <use x=\"63.183594\" xlink:href=\"#DejaVuSans-118\"/>\n      <use x=\"122.363281\" xlink:href=\"#DejaVuSans-97\"/>\n      <use x=\"183.642578\" xlink:href=\"#DejaVuSans-108\"/>\n     </g>\n    </g>\n   </g>\n  </g>\n </g>\n <defs>\n  <clipPath id=\"p0ae8533f47\">\n   <rect height=\"217.44\" width=\"334.8\" x=\"50.14375\" y=\"22.318125\"/>\n  </clipPath>\n </defs>\n</svg>\n",
      "image/png": "[encoded data removed]"
     },
     "metadata": {
      "needs_background": "light"
     }
    },
    {
     "output_type": "display_data",
     "data": {
      "text/plain": "<Figure size 432x288 with 1 Axes>",
      "image/svg+xml": "<?xml version=\"1.0\" encoding=\"utf-8\" standalone=\"no\"?>\n<!DOCTYPE svg PUBLIC \"-//W3C//DTD SVG 1.1//EN\"\n  \"http://www.w3.org/Graphics/SVG/1.1/DTD/svg11.dtd\">\n<!-- Created with matplotlib (https://matplotlib.org/) -->\n<svg height=\"277.314375pt\" version=\"1.1\" viewBox=\"0 0 392.14375 277.314375\" width=\"392.14375pt\" xmlns=\"http://www.w3.org/2000/svg\" xmlns:xlink=\"http://www.w3.org/1999/xlink\">\n <defs>\n  <style type=\"text/css\">\n*{stroke-linecap:butt;stroke-linejoin:round;}\n  </style>\n </defs>\n <g id=\"figure_1\">\n  <g id=\"patch_1\">\n   <path d=\"M 0 277.314375 \nL 392.14375 277.314375 \nL 392.14375 0 \nL 0 0 \nz\n\" style=\"fill:none;\"/>\n  </g>\n  <g id=\"axes_1\">\n   <g id=\"patch_2\">\n    <path d=\"M 50.14375 239.758125 \nL 384.94375 239.758125 \nL 384.94375 22.318125 \nL 50.14375 22.318125 \nz\n\" style=\"fill:#ffffff;\"/>\n   </g>\n   <g id=\"matplotlib.axis_1\">\n    <g id=\"xtick_1\">\n     <g id=\"line2d_1\">\n      <defs>\n       <path d=\"M 0 0 \nL 0 3.5 \n\" id=\"mabb017cdbd\" style=\"stroke:#000000;stroke-width:0.8;\"/>\n      </defs>\n      <g>\n       <use style=\"stroke:#000000;stroke-width:0.8;\" x=\"65.361932\" xlink:href=\"#mabb017cdbd\" y=\"239.758125\"/>\n      </g>\n     </g>\n     <g id=\"text_1\">\n      <!-- 0 -->\n      <defs>\n       <path d=\"M 31.78125 66.40625 \nQ 24.171875 66.40625 20.328125 58.90625 \nQ 16.5 51.421875 16.5 36.375 \nQ 16.5 21.390625 20.328125 13.890625 \nQ 24.171875 6.390625 31.78125 6.390625 \nQ 39.453125 6.390625 43.28125 13.890625 \nQ 47.125 21.390625 47.125 36.375 \nQ 47.125 51.421875 43.28125 58.90625 \nQ 39.453125 66.40625 31.78125 66.40625 \nz\nM 31.78125 74.21875 \nQ 44.046875 74.21875 50.515625 64.515625 \nQ 56.984375 54.828125 56.984375 36.375 \nQ 56.984375 17.96875 50.515625 8.265625 \nQ 44.046875 -1.421875 31.78125 -1.421875 \nQ 19.53125 -1.421875 13.0625 8.265625 \nQ 6.59375 17.96875 6.59375 36.375 \nQ 6.59375 54.828125 13.0625 64.515625 \nQ 19.53125 74.21875 31.78125 74.21875 \nz\n\" id=\"DejaVuSans-48\"/>\n      </defs>\n      <g transform=\"translate(62.180682 254.356562)scale(0.1 -0.1)\">\n       <use xlink:href=\"#DejaVuSans-48\"/>\n      </g>\n     </g>\n    </g>\n    <g id=\"xtick_2\">\n     <g id=\"line2d_2\">\n      <g>\n       <use style=\"stroke:#000000;stroke-width:0.8;\" x=\"132.998295\" xlink:href=\"#mabb017cdbd\" y=\"239.758125\"/>\n      </g>\n     </g>\n     <g id=\"text_2\">\n      <!-- 2 -->\n      <defs>\n       <path d=\"M 19.1875 8.296875 \nL 53.609375 8.296875 \nL 53.609375 0 \nL 7.328125 0 \nL 7.328125 8.296875 \nQ 12.9375 14.109375 22.625 23.890625 \nQ 32.328125 33.6875 34.8125 36.53125 \nQ 39.546875 41.84375 41.421875 45.53125 \nQ 43.3125 49.21875 43.3125 52.78125 \nQ 43.3125 58.59375 39.234375 62.25 \nQ 35.15625 65.921875 28.609375 65.921875 \nQ 23.96875 65.921875 18.8125 64.3125 \nQ 13.671875 62.703125 7.8125 59.421875 \nL 7.8125 69.390625 \nQ 13.765625 71.78125 18.9375 73 \nQ 24.125 74.21875 28.421875 74.21875 \nQ 39.75 74.21875 46.484375 68.546875 \nQ 53.21875 62.890625 53.21875 53.421875 \nQ 53.21875 48.921875 51.53125 44.890625 \nQ 49.859375 40.875 45.40625 35.40625 \nQ 44.1875 33.984375 37.640625 27.21875 \nQ 31.109375 20.453125 19.1875 8.296875 \nz\n\" id=\"DejaVuSans-50\"/>\n      </defs>\n      <g transform=\"translate(129.817045 254.356562)scale(0.1 -0.1)\">\n       <use xlink:href=\"#DejaVuSans-50\"/>\n      </g>\n     </g>\n    </g>\n    <g id=\"xtick_3\">\n     <g id=\"line2d_3\">\n      <g>\n       <use style=\"stroke:#000000;stroke-width:0.8;\" x=\"200.634659\" xlink:href=\"#mabb017cdbd\" y=\"239.758125\"/>\n      </g>\n     </g>\n     <g id=\"text_3\">\n      <!-- 4 -->\n      <defs>\n       <path d=\"M 37.796875 64.3125 \nL 12.890625 25.390625 \nL 37.796875 25.390625 \nz\nM 35.203125 72.90625 \nL 47.609375 72.90625 \nL 47.609375 25.390625 \nL 58.015625 25.390625 \nL 58.015625 17.1875 \nL 47.609375 17.1875 \nL 47.609375 0 \nL 37.796875 0 \nL 37.796875 17.1875 \nL 4.890625 17.1875 \nL 4.890625 26.703125 \nz\n\" id=\"DejaVuSans-52\"/>\n      </defs>\n      <g transform=\"translate(197.453409 254.356562)scale(0.1 -0.1)\">\n       <use xlink:href=\"#DejaVuSans-52\"/>\n      </g>\n     </g>\n    </g>\n    <g id=\"xtick_4\">\n     <g id=\"line2d_4\">\n      <g>\n       <use style=\"stroke:#000000;stroke-width:0.8;\" x=\"268.271023\" xlink:href=\"#mabb017cdbd\" y=\"239.758125\"/>\n      </g>\n     </g>\n     <g id=\"text_4\">\n      <!-- 6 -->\n      <defs>\n       <path d=\"M 33.015625 40.375 \nQ 26.375 40.375 22.484375 35.828125 \nQ 18.609375 31.296875 18.609375 23.390625 \nQ 18.609375 15.53125 22.484375 10.953125 \nQ 26.375 6.390625 33.015625 6.390625 \nQ 39.65625 6.390625 43.53125 10.953125 \nQ 47.40625 15.53125 47.40625 23.390625 \nQ 47.40625 31.296875 43.53125 35.828125 \nQ 39.65625 40.375 33.015625 40.375 \nz\nM 52.59375 71.296875 \nL 52.59375 62.3125 \nQ 48.875 64.0625 45.09375 64.984375 \nQ 41.3125 65.921875 37.59375 65.921875 \nQ 27.828125 65.921875 22.671875 59.328125 \nQ 17.53125 52.734375 16.796875 39.40625 \nQ 19.671875 43.65625 24.015625 45.921875 \nQ 28.375 48.1875 33.59375 48.1875 \nQ 44.578125 48.1875 50.953125 41.515625 \nQ 57.328125 34.859375 57.328125 23.390625 \nQ 57.328125 12.15625 50.6875 5.359375 \nQ 44.046875 -1.421875 33.015625 -1.421875 \nQ 20.359375 -1.421875 13.671875 8.265625 \nQ 6.984375 17.96875 6.984375 36.375 \nQ 6.984375 53.65625 15.1875 63.9375 \nQ 23.390625 74.21875 37.203125 74.21875 \nQ 40.921875 74.21875 44.703125 73.484375 \nQ 48.484375 72.75 52.59375 71.296875 \nz\n\" id=\"DejaVuSans-54\"/>\n      </defs>\n      <g transform=\"translate(265.089773 254.356562)scale(0.1 -0.1)\">\n       <use xlink:href=\"#DejaVuSans-54\"/>\n      </g>\n     </g>\n    </g>\n    <g id=\"xtick_5\">\n     <g id=\"line2d_5\">\n      <g>\n       <use style=\"stroke:#000000;stroke-width:0.8;\" x=\"335.907386\" xlink:href=\"#mabb017cdbd\" y=\"239.758125\"/>\n      </g>\n     </g>\n     <g id=\"text_5\">\n      <!-- 8 -->\n      <defs>\n       <path d=\"M 31.78125 34.625 \nQ 24.75 34.625 20.71875 30.859375 \nQ 16.703125 27.09375 16.703125 20.515625 \nQ 16.703125 13.921875 20.71875 10.15625 \nQ 24.75 6.390625 31.78125 6.390625 \nQ 38.8125 6.390625 42.859375 10.171875 \nQ 46.921875 13.96875 46.921875 20.515625 \nQ 46.921875 27.09375 42.890625 30.859375 \nQ 38.875 34.625 31.78125 34.625 \nz\nM 21.921875 38.8125 \nQ 15.578125 40.375 12.03125 44.71875 \nQ 8.5 49.078125 8.5 55.328125 \nQ 8.5 64.0625 14.71875 69.140625 \nQ 20.953125 74.21875 31.78125 74.21875 \nQ 42.671875 74.21875 48.875 69.140625 \nQ 55.078125 64.0625 55.078125 55.328125 \nQ 55.078125 49.078125 51.53125 44.71875 \nQ 48 40.375 41.703125 38.8125 \nQ 48.828125 37.15625 52.796875 32.3125 \nQ 56.78125 27.484375 56.78125 20.515625 \nQ 56.78125 9.90625 50.3125 4.234375 \nQ 43.84375 -1.421875 31.78125 -1.421875 \nQ 19.734375 -1.421875 13.25 4.234375 \nQ 6.78125 9.90625 6.78125 20.515625 \nQ 6.78125 27.484375 10.78125 32.3125 \nQ 14.796875 37.15625 21.921875 38.8125 \nz\nM 18.3125 54.390625 \nQ 18.3125 48.734375 21.84375 45.5625 \nQ 25.390625 42.390625 31.78125 42.390625 \nQ 38.140625 42.390625 41.71875 45.5625 \nQ 45.3125 48.734375 45.3125 54.390625 \nQ 45.3125 60.0625 41.71875 63.234375 \nQ 38.140625 66.40625 31.78125 66.40625 \nQ 25.390625 66.40625 21.84375 63.234375 \nQ 18.3125 60.0625 18.3125 54.390625 \nz\n\" id=\"DejaVuSans-56\"/>\n      </defs>\n      <g transform=\"translate(332.726136 254.356562)scale(0.1 -0.1)\">\n       <use xlink:href=\"#DejaVuSans-56\"/>\n      </g>\n     </g>\n    </g>\n    <g id=\"text_6\">\n     <!-- Epoch -->\n     <defs>\n      <path d=\"M 9.8125 72.90625 \nL 55.90625 72.90625 \nL 55.90625 64.59375 \nL 19.671875 64.59375 \nL 19.671875 43.015625 \nL 54.390625 43.015625 \nL 54.390625 34.71875 \nL 19.671875 34.71875 \nL 19.671875 8.296875 \nL 56.78125 8.296875 \nL 56.78125 0 \nL 9.8125 0 \nz\n\" id=\"DejaVuSans-69\"/>\n      <path d=\"M 18.109375 8.203125 \nL 18.109375 -20.796875 \nL 9.078125 -20.796875 \nL 9.078125 54.6875 \nL 18.109375 54.6875 \nL 18.109375 46.390625 \nQ 20.953125 51.265625 25.265625 53.625 \nQ 29.59375 56 35.59375 56 \nQ 45.5625 56 51.78125 48.09375 \nQ 58.015625 40.1875 58.015625 27.296875 \nQ 58.015625 14.40625 51.78125 6.484375 \nQ 45.5625 -1.421875 35.59375 -1.421875 \nQ 29.59375 -1.421875 25.265625 0.953125 \nQ 20.953125 3.328125 18.109375 8.203125 \nz\nM 48.6875 27.296875 \nQ 48.6875 37.203125 44.609375 42.84375 \nQ 40.53125 48.484375 33.40625 48.484375 \nQ 26.265625 48.484375 22.1875 42.84375 \nQ 18.109375 37.203125 18.109375 27.296875 \nQ 18.109375 17.390625 22.1875 11.75 \nQ 26.265625 6.109375 33.40625 6.109375 \nQ 40.53125 6.109375 44.609375 11.75 \nQ 48.6875 17.390625 48.6875 27.296875 \nz\n\" id=\"DejaVuSans-112\"/>\n      <path d=\"M 30.609375 48.390625 \nQ 23.390625 48.390625 19.1875 42.75 \nQ 14.984375 37.109375 14.984375 27.296875 \nQ 14.984375 17.484375 19.15625 11.84375 \nQ 23.34375 6.203125 30.609375 6.203125 \nQ 37.796875 6.203125 41.984375 11.859375 \nQ 46.1875 17.53125 46.1875 27.296875 \nQ 46.1875 37.015625 41.984375 42.703125 \nQ 37.796875 48.390625 30.609375 48.390625 \nz\nM 30.609375 56 \nQ 42.328125 56 49.015625 48.375 \nQ 55.71875 40.765625 55.71875 27.296875 \nQ 55.71875 13.875 49.015625 6.21875 \nQ 42.328125 -1.421875 30.609375 -1.421875 \nQ 18.84375 -1.421875 12.171875 6.21875 \nQ 5.515625 13.875 5.515625 27.296875 \nQ 5.515625 40.765625 12.171875 48.375 \nQ 18.84375 56 30.609375 56 \nz\n\" id=\"DejaVuSans-111\"/>\n      <path d=\"M 48.78125 52.59375 \nL 48.78125 44.1875 \nQ 44.96875 46.296875 41.140625 47.34375 \nQ 37.3125 48.390625 33.40625 48.390625 \nQ 24.65625 48.390625 19.8125 42.84375 \nQ 14.984375 37.3125 14.984375 27.296875 \nQ 14.984375 17.28125 19.8125 11.734375 \nQ 24.65625 6.203125 33.40625 6.203125 \nQ 37.3125 6.203125 41.140625 7.25 \nQ 44.96875 8.296875 48.78125 10.40625 \nL 48.78125 2.09375 \nQ 45.015625 0.34375 40.984375 -0.53125 \nQ 36.96875 -1.421875 32.421875 -1.421875 \nQ 20.0625 -1.421875 12.78125 6.34375 \nQ 5.515625 14.109375 5.515625 27.296875 \nQ 5.515625 40.671875 12.859375 48.328125 \nQ 20.21875 56 33.015625 56 \nQ 37.15625 56 41.109375 55.140625 \nQ 45.0625 54.296875 48.78125 52.59375 \nz\n\" id=\"DejaVuSans-99\"/>\n      <path d=\"M 54.890625 33.015625 \nL 54.890625 0 \nL 45.90625 0 \nL 45.90625 32.71875 \nQ 45.90625 40.484375 42.875 44.328125 \nQ 39.84375 48.1875 33.796875 48.1875 \nQ 26.515625 48.1875 22.3125 43.546875 \nQ 18.109375 38.921875 18.109375 30.90625 \nL 18.109375 0 \nL 9.078125 0 \nL 9.078125 75.984375 \nL 18.109375 75.984375 \nL 18.109375 46.1875 \nQ 21.34375 51.125 25.703125 53.5625 \nQ 30.078125 56 35.796875 56 \nQ 45.21875 56 50.046875 50.171875 \nQ 54.890625 44.34375 54.890625 33.015625 \nz\n\" id=\"DejaVuSans-104\"/>\n     </defs>\n     <g transform=\"translate(202.232813 268.034687)scale(0.1 -0.1)\">\n      <use xlink:href=\"#DejaVuSans-69\"/>\n      <use x=\"63.183594\" xlink:href=\"#DejaVuSans-112\"/>\n      <use x=\"126.660156\" xlink:href=\"#DejaVuSans-111\"/>\n      <use x=\"187.841797\" xlink:href=\"#DejaVuSans-99\"/>\n      <use x=\"242.822266\" xlink:href=\"#DejaVuSans-104\"/>\n     </g>\n    </g>\n   </g>\n   <g id=\"matplotlib.axis_2\">\n    <g id=\"ytick_1\">\n     <g id=\"line2d_6\">\n      <defs>\n       <path d=\"M 0 0 \nL -3.5 0 \n\" id=\"mf438c93771\" style=\"stroke:#000000;stroke-width:0.8;\"/>\n      </defs>\n      <g>\n       <use style=\"stroke:#000000;stroke-width:0.8;\" x=\"50.14375\" xlink:href=\"#mf438c93771\" y=\"235.748713\"/>\n      </g>\n     </g>\n     <g id=\"text_7\">\n      <!-- 0.45 -->\n      <defs>\n       <path d=\"M 10.6875 12.40625 \nL 21 12.40625 \nL 21 0 \nL 10.6875 0 \nz\n\" id=\"DejaVuSans-46\"/>\n       <path d=\"M 10.796875 72.90625 \nL 49.515625 72.90625 \nL 49.515625 64.59375 \nL 19.828125 64.59375 \nL 19.828125 46.734375 \nQ 21.96875 47.46875 24.109375 47.828125 \nQ 26.265625 48.1875 28.421875 48.1875 \nQ 40.625 48.1875 47.75 41.5 \nQ 54.890625 34.8125 54.890625 23.390625 \nQ 54.890625 11.625 47.5625 5.09375 \nQ 40.234375 -1.421875 26.90625 -1.421875 \nQ 22.3125 -1.421875 17.546875 -0.640625 \nQ 12.796875 0.140625 7.71875 1.703125 \nL 7.71875 11.625 \nQ 12.109375 9.234375 16.796875 8.0625 \nQ 21.484375 6.890625 26.703125 6.890625 \nQ 35.15625 6.890625 40.078125 11.328125 \nQ 45.015625 15.765625 45.015625 23.390625 \nQ 45.015625 31 40.078125 35.4375 \nQ 35.15625 39.890625 26.703125 39.890625 \nQ 22.75 39.890625 18.8125 39.015625 \nQ 14.890625 38.140625 10.796875 36.28125 \nz\n\" id=\"DejaVuSans-53\"/>\n      </defs>\n      <g transform=\"translate(20.878125 239.547932)scale(0.1 -0.1)\">\n       <use xlink:href=\"#DejaVuSans-48\"/>\n       <use x=\"63.623047\" xlink:href=\"#DejaVuSans-46\"/>\n       <use x=\"95.410156\" xlink:href=\"#DejaVuSans-52\"/>\n       <use x=\"159.033203\" xlink:href=\"#DejaVuSans-53\"/>\n      </g>\n     </g>\n    </g>\n    <g id=\"ytick_2\">\n     <g id=\"line2d_7\">\n      <g>\n       <use style=\"stroke:#000000;stroke-width:0.8;\" x=\"50.14375\" xlink:href=\"#mf438c93771\" y=\"205.894134\"/>\n      </g>\n     </g>\n     <g id=\"text_8\">\n      <!-- 0.50 -->\n      <g transform=\"translate(20.878125 209.693352)scale(0.1 -0.1)\">\n       <use xlink:href=\"#DejaVuSans-48\"/>\n       <use x=\"63.623047\" xlink:href=\"#DejaVuSans-46\"/>\n       <use x=\"95.410156\" xlink:href=\"#DejaVuSans-53\"/>\n       <use x=\"159.033203\" xlink:href=\"#DejaVuSans-48\"/>\n      </g>\n     </g>\n    </g>\n    <g id=\"ytick_3\">\n     <g id=\"line2d_8\">\n      <g>\n       <use style=\"stroke:#000000;stroke-width:0.8;\" x=\"50.14375\" xlink:href=\"#mf438c93771\" y=\"176.039554\"/>\n      </g>\n     </g>\n     <g id=\"text_9\">\n      <!-- 0.55 -->\n      <g transform=\"translate(20.878125 179.838773)scale(0.1 -0.1)\">\n       <use xlink:href=\"#DejaVuSans-48\"/>\n       <use x=\"63.623047\" xlink:href=\"#DejaVuSans-46\"/>\n       <use x=\"95.410156\" xlink:href=\"#DejaVuSans-53\"/>\n       <use x=\"159.033203\" xlink:href=\"#DejaVuSans-53\"/>\n      </g>\n     </g>\n    </g>\n    <g id=\"ytick_4\">\n     <g id=\"line2d_9\">\n      <g>\n       <use style=\"stroke:#000000;stroke-width:0.8;\" x=\"50.14375\" xlink:href=\"#mf438c93771\" y=\"146.184975\"/>\n      </g>\n     </g>\n     <g id=\"text_10\">\n      <!-- 0.60 -->\n      <g transform=\"translate(20.878125 149.984194)scale(0.1 -0.1)\">\n       <use xlink:href=\"#DejaVuSans-48\"/>\n       <use x=\"63.623047\" xlink:href=\"#DejaVuSans-46\"/>\n       <use x=\"95.410156\" xlink:href=\"#DejaVuSans-54\"/>\n       <use x=\"159.033203\" xlink:href=\"#DejaVuSans-48\"/>\n      </g>\n     </g>\n    </g>\n    <g id=\"ytick_5\">\n     <g id=\"line2d_10\">\n      <g>\n       <use style=\"stroke:#000000;stroke-width:0.8;\" x=\"50.14375\" xlink:href=\"#mf438c93771\" y=\"116.330395\"/>\n      </g>\n     </g>\n     <g id=\"text_11\">\n      <!-- 0.65 -->\n      <g transform=\"translate(20.878125 120.129614)scale(0.1 -0.1)\">\n       <use xlink:href=\"#DejaVuSans-48\"/>\n       <use x=\"63.623047\" xlink:href=\"#DejaVuSans-46\"/>\n       <use x=\"95.410156\" xlink:href=\"#DejaVuSans-54\"/>\n       <use x=\"159.033203\" xlink:href=\"#DejaVuSans-53\"/>\n      </g>\n     </g>\n    </g>\n    <g id=\"ytick_6\">\n     <g id=\"line2d_11\">\n      <g>\n       <use style=\"stroke:#000000;stroke-width:0.8;\" x=\"50.14375\" xlink:href=\"#mf438c93771\" y=\"86.475816\"/>\n      </g>\n     </g>\n     <g id=\"text_12\">\n      <!-- 0.70 -->\n      <defs>\n       <path d=\"M 8.203125 72.90625 \nL 55.078125 72.90625 \nL 55.078125 68.703125 \nL 28.609375 0 \nL 18.3125 0 \nL 43.21875 64.59375 \nL 8.203125 64.59375 \nz\n\" id=\"DejaVuSans-55\"/>\n      </defs>\n      <g transform=\"translate(20.878125 90.275035)scale(0.1 -0.1)\">\n       <use xlink:href=\"#DejaVuSans-48\"/>\n       <use x=\"63.623047\" xlink:href=\"#DejaVuSans-46\"/>\n       <use x=\"95.410156\" xlink:href=\"#DejaVuSans-55\"/>\n       <use x=\"159.033203\" xlink:href=\"#DejaVuSans-48\"/>\n      </g>\n     </g>\n    </g>\n    <g id=\"ytick_7\">\n     <g id=\"line2d_12\">\n      <g>\n       <use style=\"stroke:#000000;stroke-width:0.8;\" x=\"50.14375\" xlink:href=\"#mf438c93771\" y=\"56.621237\"/>\n      </g>\n     </g>\n     <g id=\"text_13\">\n      <!-- 0.75 -->\n      <g transform=\"translate(20.878125 60.420455)scale(0.1 -0.1)\">\n       <use xlink:href=\"#DejaVuSans-48\"/>\n       <use x=\"63.623047\" xlink:href=\"#DejaVuSans-46\"/>\n       <use x=\"95.410156\" xlink:href=\"#DejaVuSans-55\"/>\n       <use x=\"159.033203\" xlink:href=\"#DejaVuSans-53\"/>\n      </g>\n     </g>\n    </g>\n    <g id=\"ytick_8\">\n     <g id=\"line2d_13\">\n      <g>\n       <use style=\"stroke:#000000;stroke-width:0.8;\" x=\"50.14375\" xlink:href=\"#mf438c93771\" y=\"26.766657\"/>\n      </g>\n     </g>\n     <g id=\"text_14\">\n      <!-- 0.80 -->\n      <g transform=\"translate(20.878125 30.565876)scale(0.1 -0.1)\">\n       <use xlink:href=\"#DejaVuSans-48\"/>\n       <use x=\"63.623047\" xlink:href=\"#DejaVuSans-46\"/>\n       <use x=\"95.410156\" xlink:href=\"#DejaVuSans-56\"/>\n       <use x=\"159.033203\" xlink:href=\"#DejaVuSans-48\"/>\n      </g>\n     </g>\n    </g>\n    <g id=\"text_15\">\n     <!-- Loss -->\n     <defs>\n      <path d=\"M 9.8125 72.90625 \nL 19.671875 72.90625 \nL 19.671875 8.296875 \nL 55.171875 8.296875 \nL 55.171875 0 \nL 9.8125 0 \nz\n\" id=\"DejaVuSans-76\"/>\n      <path d=\"M 44.28125 53.078125 \nL 44.28125 44.578125 \nQ 40.484375 46.53125 36.375 47.5 \nQ 32.28125 48.484375 27.875 48.484375 \nQ 21.1875 48.484375 17.84375 46.4375 \nQ 14.5 44.390625 14.5 40.28125 \nQ 14.5 37.15625 16.890625 35.375 \nQ 19.28125 33.59375 26.515625 31.984375 \nL 29.59375 31.296875 \nQ 39.15625 29.25 43.1875 25.515625 \nQ 47.21875 21.78125 47.21875 15.09375 \nQ 47.21875 7.46875 41.1875 3.015625 \nQ 35.15625 -1.421875 24.609375 -1.421875 \nQ 20.21875 -1.421875 15.453125 -0.5625 \nQ 10.6875 0.296875 5.421875 2 \nL 5.421875 11.28125 \nQ 10.40625 8.6875 15.234375 7.390625 \nQ 20.0625 6.109375 24.8125 6.109375 \nQ 31.15625 6.109375 34.5625 8.28125 \nQ 37.984375 10.453125 37.984375 14.40625 \nQ 37.984375 18.0625 35.515625 20.015625 \nQ 33.0625 21.96875 24.703125 23.78125 \nL 21.578125 24.515625 \nQ 13.234375 26.265625 9.515625 29.90625 \nQ 5.8125 33.546875 5.8125 39.890625 \nQ 5.8125 47.609375 11.28125 51.796875 \nQ 16.75 56 26.8125 56 \nQ 31.78125 56 36.171875 55.265625 \nQ 40.578125 54.546875 44.28125 53.078125 \nz\n\" id=\"DejaVuSans-115\"/>\n     </defs>\n     <g transform=\"translate(14.798438 142.005312)rotate(-90)scale(0.1 -0.1)\">\n      <use xlink:href=\"#DejaVuSans-76\"/>\n      <use x=\"53.962891\" xlink:href=\"#DejaVuSans-111\"/>\n      <use x=\"115.144531\" xlink:href=\"#DejaVuSans-115\"/>\n      <use x=\"167.244141\" xlink:href=\"#DejaVuSans-115\"/>\n     </g>\n    </g>\n   </g>\n   <g id=\"line2d_14\">\n    <path clip-path=\"url(#pca386486c2)\" d=\"M 65.361932 107.156486 \nL 99.180114 148.890825 \nL 132.998295 163.24052 \nL 166.816477 172.86924 \nL 200.634659 179.03422 \nL 234.452841 185.254398 \nL 268.271023 189.08286 \nL 302.089205 192.174835 \nL 335.907386 194.793683 \nL 369.725568 197.847932 \n\" style=\"fill:none;stroke:#1f77b4;stroke-linecap:square;stroke-width:1.5;\"/>\n   </g>\n   <g id=\"line2d_15\">\n    <path clip-path=\"url(#pca386486c2)\" d=\"M 65.361932 32.201761 \nL 99.180114 100.941397 \nL 132.998295 182.459347 \nL 166.816477 194.393515 \nL 200.634659 202.002429 \nL 234.452841 208.986232 \nL 268.271023 201.943564 \nL 302.089205 222.497849 \nL 335.907386 225.630467 \nL 369.725568 229.874489 \n\" style=\"fill:none;stroke:#ff7f0e;stroke-linecap:square;stroke-width:1.5;\"/>\n   </g>\n   <g id=\"patch_3\">\n    <path d=\"M 50.14375 239.758125 \nL 50.14375 22.318125 \n\" style=\"fill:none;stroke:#000000;stroke-linecap:square;stroke-linejoin:miter;stroke-width:0.8;\"/>\n   </g>\n   <g id=\"patch_4\">\n    <path d=\"M 384.94375 239.758125 \nL 384.94375 22.318125 \n\" style=\"fill:none;stroke:#000000;stroke-linecap:square;stroke-linejoin:miter;stroke-width:0.8;\"/>\n   </g>\n   <g id=\"patch_5\">\n    <path d=\"M 50.14375 239.758125 \nL 384.94375 239.758125 \n\" style=\"fill:none;stroke:#000000;stroke-linecap:square;stroke-linejoin:miter;stroke-width:0.8;\"/>\n   </g>\n   <g id=\"patch_6\">\n    <path d=\"M 50.14375 22.318125 \nL 384.94375 22.318125 \n\" style=\"fill:none;stroke:#000000;stroke-linecap:square;stroke-linejoin:miter;stroke-width:0.8;\"/>\n   </g>\n   <g id=\"text_16\">\n    <!-- Model loss -->\n    <defs>\n     <path d=\"M 9.8125 72.90625 \nL 24.515625 72.90625 \nL 43.109375 23.296875 \nL 61.8125 72.90625 \nL 76.515625 72.90625 \nL 76.515625 0 \nL 66.890625 0 \nL 66.890625 64.015625 \nL 48.09375 14.015625 \nL 38.1875 14.015625 \nL 19.390625 64.015625 \nL 19.390625 0 \nL 9.8125 0 \nz\n\" id=\"DejaVuSans-77\"/>\n     <path d=\"M 45.40625 46.390625 \nL 45.40625 75.984375 \nL 54.390625 75.984375 \nL 54.390625 0 \nL 45.40625 0 \nL 45.40625 8.203125 \nQ 42.578125 3.328125 38.25 0.953125 \nQ 33.9375 -1.421875 27.875 -1.421875 \nQ 17.96875 -1.421875 11.734375 6.484375 \nQ 5.515625 14.40625 5.515625 27.296875 \nQ 5.515625 40.1875 11.734375 48.09375 \nQ 17.96875 56 27.875 56 \nQ 33.9375 56 38.25 53.625 \nQ 42.578125 51.265625 45.40625 46.390625 \nz\nM 14.796875 27.296875 \nQ 14.796875 17.390625 18.875 11.75 \nQ 22.953125 6.109375 30.078125 6.109375 \nQ 37.203125 6.109375 41.296875 11.75 \nQ 45.40625 17.390625 45.40625 27.296875 \nQ 45.40625 37.203125 41.296875 42.84375 \nQ 37.203125 48.484375 30.078125 48.484375 \nQ 22.953125 48.484375 18.875 42.84375 \nQ 14.796875 37.203125 14.796875 27.296875 \nz\n\" id=\"DejaVuSans-100\"/>\n     <path d=\"M 56.203125 29.59375 \nL 56.203125 25.203125 \nL 14.890625 25.203125 \nQ 15.484375 15.921875 20.484375 11.0625 \nQ 25.484375 6.203125 34.421875 6.203125 \nQ 39.59375 6.203125 44.453125 7.46875 \nQ 49.3125 8.734375 54.109375 11.28125 \nL 54.109375 2.78125 \nQ 49.265625 0.734375 44.1875 -0.34375 \nQ 39.109375 -1.421875 33.890625 -1.421875 \nQ 20.796875 -1.421875 13.15625 6.1875 \nQ 5.515625 13.8125 5.515625 26.8125 \nQ 5.515625 40.234375 12.765625 48.109375 \nQ 20.015625 56 32.328125 56 \nQ 43.359375 56 49.78125 48.890625 \nQ 56.203125 41.796875 56.203125 29.59375 \nz\nM 47.21875 32.234375 \nQ 47.125 39.59375 43.09375 43.984375 \nQ 39.0625 48.390625 32.421875 48.390625 \nQ 24.90625 48.390625 20.390625 44.140625 \nQ 15.875 39.890625 15.1875 32.171875 \nz\n\" id=\"DejaVuSans-101\"/>\n     <path d=\"M 9.421875 75.984375 \nL 18.40625 75.984375 \nL 18.40625 0 \nL 9.421875 0 \nz\n\" id=\"DejaVuSans-108\"/>\n     <path id=\"DejaVuSans-32\"/>\n    </defs>\n    <g transform=\"translate(186.031563 16.318125)scale(0.12 -0.12)\">\n     <use xlink:href=\"#DejaVuSans-77\"/>\n     <use x=\"86.279297\" xlink:href=\"#DejaVuSans-111\"/>\n     <use x=\"147.460938\" xlink:href=\"#DejaVuSans-100\"/>\n     <use x=\"210.9375\" xlink:href=\"#DejaVuSans-101\"/>\n     <use x=\"272.460938\" xlink:href=\"#DejaVuSans-108\"/>\n     <use x=\"300.244141\" xlink:href=\"#DejaVuSans-32\"/>\n     <use x=\"332.03125\" xlink:href=\"#DejaVuSans-108\"/>\n     <use x=\"359.814453\" xlink:href=\"#DejaVuSans-111\"/>\n     <use x=\"420.996094\" xlink:href=\"#DejaVuSans-115\"/>\n     <use x=\"473.095703\" xlink:href=\"#DejaVuSans-115\"/>\n    </g>\n   </g>\n   <g id=\"legend_1\">\n    <g id=\"patch_7\">\n     <path d=\"M 57.14375 59.674375 \nL 113.13125 59.674375 \nQ 115.13125 59.674375 115.13125 57.674375 \nL 115.13125 29.318125 \nQ 115.13125 27.318125 113.13125 27.318125 \nL 57.14375 27.318125 \nQ 55.14375 27.318125 55.14375 29.318125 \nL 55.14375 57.674375 \nQ 55.14375 59.674375 57.14375 59.674375 \nz\n\" style=\"fill:#ffffff;opacity:0.8;stroke:#cccccc;stroke-linejoin:miter;\"/>\n    </g>\n    <g id=\"line2d_16\">\n     <path d=\"M 59.14375 35.416562 \nL 79.14375 35.416562 \n\" style=\"fill:none;stroke:#1f77b4;stroke-linecap:square;stroke-width:1.5;\"/>\n    </g>\n    <g id=\"line2d_17\"/>\n    <g id=\"text_17\">\n     <!-- Train -->\n     <defs>\n      <path d=\"M -0.296875 72.90625 \nL 61.375 72.90625 \nL 61.375 64.59375 \nL 35.5 64.59375 \nL 35.5 0 \nL 25.59375 0 \nL 25.59375 64.59375 \nL -0.296875 64.59375 \nz\n\" id=\"DejaVuSans-84\"/>\n      <path d=\"M 41.109375 46.296875 \nQ 39.59375 47.171875 37.8125 47.578125 \nQ 36.03125 48 33.890625 48 \nQ 26.265625 48 22.1875 43.046875 \nQ 18.109375 38.09375 18.109375 28.8125 \nL 18.109375 0 \nL 9.078125 0 \nL 9.078125 54.6875 \nL 18.109375 54.6875 \nL 18.109375 46.1875 \nQ 20.953125 51.171875 25.484375 53.578125 \nQ 30.03125 56 36.53125 56 \nQ 37.453125 56 38.578125 55.875 \nQ 39.703125 55.765625 41.0625 55.515625 \nz\n\" id=\"DejaVuSans-114\"/>\n      <path d=\"M 34.28125 27.484375 \nQ 23.390625 27.484375 19.1875 25 \nQ 14.984375 22.515625 14.984375 16.5 \nQ 14.984375 11.71875 18.140625 8.90625 \nQ 21.296875 6.109375 26.703125 6.109375 \nQ 34.1875 6.109375 38.703125 11.40625 \nQ 43.21875 16.703125 43.21875 25.484375 \nL 43.21875 27.484375 \nz\nM 52.203125 31.203125 \nL 52.203125 0 \nL 43.21875 0 \nL 43.21875 8.296875 \nQ 40.140625 3.328125 35.546875 0.953125 \nQ 30.953125 -1.421875 24.3125 -1.421875 \nQ 15.921875 -1.421875 10.953125 3.296875 \nQ 6 8.015625 6 15.921875 \nQ 6 25.140625 12.171875 29.828125 \nQ 18.359375 34.515625 30.609375 34.515625 \nL 43.21875 34.515625 \nL 43.21875 35.40625 \nQ 43.21875 41.609375 39.140625 45 \nQ 35.0625 48.390625 27.6875 48.390625 \nQ 23 48.390625 18.546875 47.265625 \nQ 14.109375 46.140625 10.015625 43.890625 \nL 10.015625 52.203125 \nQ 14.9375 54.109375 19.578125 55.046875 \nQ 24.21875 56 28.609375 56 \nQ 40.484375 56 46.34375 49.84375 \nQ 52.203125 43.703125 52.203125 31.203125 \nz\n\" id=\"DejaVuSans-97\"/>\n      <path d=\"M 9.421875 54.6875 \nL 18.40625 54.6875 \nL 18.40625 0 \nL 9.421875 0 \nz\nM 9.421875 75.984375 \nL 18.40625 75.984375 \nL 18.40625 64.59375 \nL 9.421875 64.59375 \nz\n\" id=\"DejaVuSans-105\"/>\n      <path d=\"M 54.890625 33.015625 \nL 54.890625 0 \nL 45.90625 0 \nL 45.90625 32.71875 \nQ 45.90625 40.484375 42.875 44.328125 \nQ 39.84375 48.1875 33.796875 48.1875 \nQ 26.515625 48.1875 22.3125 43.546875 \nQ 18.109375 38.921875 18.109375 30.90625 \nL 18.109375 0 \nL 9.078125 0 \nL 9.078125 54.6875 \nL 18.109375 54.6875 \nL 18.109375 46.1875 \nQ 21.34375 51.125 25.703125 53.5625 \nQ 30.078125 56 35.796875 56 \nQ 45.21875 56 50.046875 50.171875 \nQ 54.890625 44.34375 54.890625 33.015625 \nz\n\" id=\"DejaVuSans-110\"/>\n     </defs>\n     <g transform=\"translate(87.14375 38.916562)scale(0.1 -0.1)\">\n      <use xlink:href=\"#DejaVuSans-84\"/>\n      <use x=\"46.333984\" xlink:href=\"#DejaVuSans-114\"/>\n      <use x=\"87.447266\" xlink:href=\"#DejaVuSans-97\"/>\n      <use x=\"148.726562\" xlink:href=\"#DejaVuSans-105\"/>\n      <use x=\"176.509766\" xlink:href=\"#DejaVuSans-110\"/>\n     </g>\n    </g>\n    <g id=\"line2d_18\">\n     <path d=\"M 59.14375 50.094687 \nL 79.14375 50.094687 \n\" style=\"fill:none;stroke:#ff7f0e;stroke-linecap:square;stroke-width:1.5;\"/>\n    </g>\n    <g id=\"line2d_19\"/>\n    <g id=\"text_18\">\n     <!-- Eval -->\n     <defs>\n      <path d=\"M 2.984375 54.6875 \nL 12.5 54.6875 \nL 29.59375 8.796875 \nL 46.6875 54.6875 \nL 56.203125 54.6875 \nL 35.6875 0 \nL 23.484375 0 \nz\n\" id=\"DejaVuSans-118\"/>\n     </defs>\n     <g transform=\"translate(87.14375 53.594687)scale(0.1 -0.1)\">\n      <use xlink:href=\"#DejaVuSans-69\"/>\n      <use x=\"63.183594\" xlink:href=\"#DejaVuSans-118\"/>\n      <use x=\"122.363281\" xlink:href=\"#DejaVuSans-97\"/>\n      <use x=\"183.642578\" xlink:href=\"#DejaVuSans-108\"/>\n     </g>\n    </g>\n   </g>\n  </g>\n </g>\n <defs>\n  <clipPath id=\"pca386486c2\">\n   <rect height=\"217.44\" width=\"334.8\" x=\"50.14375\" y=\"22.318125\"/>\n  </clipPath>\n </defs>\n</svg>\n",
      "image/png": "[encoded data removed]"
     },
     "metadata": {
      "needs_background": "light"
     }
    }
   ],
   "source": [
    "import matplotlib.pyplot as plt\n",
    "\n",
    "# Plot training & validation accuracy values\n",
    "plt.plot(history.history['sparse_categorical_accuracy'])\n",
    "plt.plot(history.history['val_sparse_categorical_accuracy'])\n",
    "plt.title('Model accuracy')\n",
    "plt.ylabel('Accuracy')\n",
    "plt.xlabel('Epoch')\n",
    "plt.legend(['Train', 'Eval'], loc='upper left')\n",
    "plt.show()\n",
    "\n",
    "# Plot training & validation loss values\n",
    "plt.plot(history.history['loss'])\n",
    "plt.plot(history.history['val_loss'])\n",
    "plt.title('Model loss')\n",
    "plt.ylabel('Loss')\n",
    "plt.xlabel('Epoch')\n",
    "plt.legend(['Train', 'Eval'], loc='upper left')\n",
    "plt.show()"
   ]
  },
  {
   "cell_type": "markdown",
   "metadata": {
    "colab_type": "text",
    "id": "t7q4uSu1KbXv"
   },
   "source": [
    "## 3. Model export for serving"
   ]
  },
  {
   "cell_type": "markdown",
   "metadata": {
    "colab_type": "text",
    "id": "2sPh4f_tUX5n"
   },
   "source": [
    "### 3.2. Export the model"
   ]
  },
  {
   "cell_type": "code",
   "execution_count": 20,
   "metadata": {
    "colab": {},
    "colab_type": "code",
    "id": "ZlQfiluTTuW-"
   },
   "outputs": [
    {
     "output_type": "stream",
     "name": "stdout",
     "text": "Model is exported to: /home/jarekk/workspace/training/exported_model.\n"
    }
   ],
   "source": [
    "SIGNATURE_NAME = 'serving_default'\n",
    "\n",
    "model.save(MODEL_DIR, save_format='tf')\n",
    "print(\"Model is exported to: {}.\".format(MODEL_DIR))"
   ]
  },
  {
   "cell_type": "code",
   "execution_count": 21,
   "metadata": {
    "colab": {},
    "colab_type": "code",
    "id": "fyK7Yy0CCr1f"
   },
   "outputs": [
    {
     "output_type": "stream",
     "name": "stdout",
     "text": "The given SavedModel MetaGraphDef contains SignatureDefs with the following keys:\nSignatureDef key: \"__saved_model_init_op\"\nSignatureDef key: \"serving_default\"\n"
    }
   ],
   "source": [
    "!saved_model_cli show --dir {MODEL_DIR} --tag_set serve "
   ]
  },
  {
   "cell_type": "code",
   "execution_count": 22,
   "metadata": {
    "colab": {},
    "colab_type": "code",
    "id": "fyK7Yy0CCr1f"
   },
   "outputs": [
    {
     "output_type": "stream",
     "name": "stdout",
     "text": "The given SavedModel SignatureDef contains the following input(s):\n  inputs['Aspect'] tensor_info:\n      dtype: DT_FLOAT\n      shape: (-1)\n      name: serving_default_Aspect:0\n  inputs['Elevation'] tensor_info:\n      dtype: DT_FLOAT\n      shape: (-1)\n      name: serving_default_Elevation:0\n  inputs['Hillshade_3pm'] tensor_info:\n      dtype: DT_FLOAT\n      shape: (-1)\n      name: serving_default_Hillshade_3pm:0\n  inputs['Hillshade_9am'] tensor_info:\n      dtype: DT_FLOAT\n      shape: (-1)\n      name: serving_default_Hillshade_9am:0\n  inputs['Hillshade_Noon'] tensor_info:\n      dtype: DT_FLOAT\n      shape: (-1)\n      name: serving_default_Hillshade_Noon:0\n  inputs['Horizontal_Distance_To_Fire_Points'] tensor_info:\n      dtype: DT_FLOAT\n      shape: (-1)\n      name: serving_default_Horizontal_Distance_To_Fire_Points:0\n  inputs['Horizontal_Distance_To_Hydrology'] tensor_info:\n      dtype: DT_FLOAT\n      shape: (-1)\n      name: serving_default_Horizontal_Distance_To_Hydrology:0\n  inputs['Horizontal_Distance_To_Roadways'] tensor_info:\n      dtype: DT_FLOAT\n      shape: (-1)\n      name: serving_default_Horizontal_Distance_To_Roadways:0\n  inputs['Slope'] tensor_info:\n      dtype: DT_FLOAT\n      shape: (-1)\n      name: serving_default_Slope:0\n  inputs['Soil_Type'] tensor_info:\n      dtype: DT_STRING\n      shape: (-1)\n      name: serving_default_Soil_Type:0\n  inputs['Vertical_Distance_To_Hydrology'] tensor_info:\n      dtype: DT_FLOAT\n      shape: (-1)\n      name: serving_default_Vertical_Distance_To_Hydrology:0\n  inputs['Wilderness_Area'] tensor_info:\n      dtype: DT_STRING\n      shape: (-1)\n      name: serving_default_Wilderness_Area:0\nThe given SavedModel SignatureDef contains the following output(s):\n  outputs['output_1'] tensor_info:\n      dtype: DT_FLOAT\n      shape: (-1, 7)\n      name: StatefulPartitionedCall_22:0\nMethod name is: tensorflow/serving/predict\n"
    }
   ],
   "source": [
    "!saved_model_cli show --dir {MODEL_DIR} --tag_set serve --signature_def {SIGNATURE_NAME}"
   ]
  },
  {
   "cell_type": "markdown",
   "metadata": {
    "colab_type": "text",
    "id": "fY-3txmZb0kf"
   },
   "source": [
    "### 3.4  Upload exported model to GCS"
   ]
  },
  {
   "cell_type": "code",
   "execution_count": 23,
   "metadata": {
    "colab": {},
    "colab_type": "code",
    "id": "E6X0wsuJb0rB"
   },
   "outputs": [
    {
     "output_type": "stream",
     "name": "stdout",
     "text": "Removing gs://mlops-dev-workspace/models/covertype_tf/saved_model.pb#1589992294452117...\nRemoving gs://mlops-dev-workspace/models/covertype_tf/variables/variables.data-00000-of-00001#1589992294706126...\nRemoving gs://mlops-dev-workspace/models/covertype_tf/variables/variables.index#1589992294891571...\n\nOperation completed over 3 objects.                                              \nCopying file:///home/jarekk/workspace/training/exported_model/saved_model.pb [Content-Type=application/octet-stream]...\nCopying file:///home/jarekk/workspace/training/exported_model/variables/variables.data-00000-of-00001 [Content-Type=application/octet-stream]...\nCopying file:///home/jarekk/workspace/training/exported_model/variables/variables.index [Content-Type=application/octet-stream]...\n\nOperation completed over 3 objects/1.2 MiB.                                      \n"
    }
   ],
   "source": [
    "!gsutil rm -r gs://{BUCKET}/models/{MODEL_NAME}\n",
    "!gsutil cp -r {MODEL_DIR} gs://{BUCKET}/models/{MODEL_NAME}"
   ]
  },
  {
   "cell_type": "markdown",
   "metadata": {
    "colab_type": "text",
    "id": "gvVcRazvL_95"
   },
   "source": [
    "## 4. Model deployment to AI Platform \n"
   ]
  },
  {
   "cell_type": "markdown",
   "metadata": {
    "colab_type": "text",
    "id": "uncXaPUBdBpV"
   },
   "source": [
    "### 4.1. Create model in AI Platform"
   ]
  },
  {
   "cell_type": "code",
   "execution_count": 24,
   "metadata": {
    "colab": {},
    "colab_type": "code",
    "id": "bO5a1fGLLrSv"
   },
   "outputs": [
    {
     "output_type": "stream",
     "name": "stdout",
     "text": "\u001b[1;33mWARNING:\u001b[0m Using endpoint [https://ml.googleapis.com/]\nCreated ml engine model [projects/mlops-dev-env/models/covertype_tf].\n"
    }
   ],
   "source": [
    "!gcloud ai-platform models create {MODEL_NAME} \\\n",
    "  --project {PROJECT} \\\n",
    "  --regions {REGION} \\\n",
    "  --enable-logging"
   ]
  },
  {
   "cell_type": "code",
   "execution_count": 25,
   "metadata": {
    "colab": {},
    "colab_type": "code",
    "id": "LhuGqxSkZs94"
   },
   "outputs": [
    {
     "output_type": "stream",
     "name": "stdout",
     "text": "\u001b[1;33mWARNING:\u001b[0m Using endpoint [https://ml.googleapis.com/]\nNAME                          DEFAULT_VERSION_NAME\ncovertype_classifier_sklearn  v1\ncovertype_classifier_tf       v2\ncovertype_tf\ntf_example_test               v1\n"
    }
   ],
   "source": [
    "!gcloud ai-platform models list --project {PROJECT}"
   ]
  },
  {
   "cell_type": "markdown",
   "metadata": {
    "colab_type": "text",
    "id": "VmUPxnCZdJZ4"
   },
   "source": [
    "### 4.2. Create a model version"
   ]
  },
  {
   "cell_type": "code",
   "execution_count": 26,
   "metadata": {},
   "outputs": [],
   "source": [
    "VERSION_CONFIG = 'model_version_config.yaml'"
   ]
  },
  {
   "cell_type": "code",
   "execution_count": 27,
   "metadata": {},
   "outputs": [
    {
     "output_type": "stream",
     "name": "stdout",
     "text": "Writing model_version_config.yaml\n"
    }
   ],
   "source": [
    "%%writefile {VERSION_CONFIG}\n",
    "\n",
    "framework: 'TENSORFLOW'\n",
    "pythonVersion: '3.7'\n",
    "runtimeVersion: '2.1'\n",
    "manualScaling:\n",
    "  nodes: 1\n",
    "machineType: 'n1-standard-16'\n"
   ]
  },
  {
   "cell_type": "code",
   "execution_count": 28,
   "metadata": {},
   "outputs": [
    {
     "output_type": "stream",
     "name": "stdout",
     "text": "\nframework: 'TENSORFLOW'\npythonVersion: '3.7'\nruntimeVersion: '2.1'\nmanualScaling:\n  nodes: 1\nmachineType: 'n1-standard-16'\n"
    }
   ],
   "source": [
    "!cat {VERSION_CONFIG}"
   ]
  },
  {
   "cell_type": "code",
   "execution_count": 29,
   "metadata": {
    "colab": {},
    "colab_type": "code",
    "id": "jW-zQi9bZzF5"
   },
   "outputs": [
    {
     "output_type": "stream",
     "name": "stdout",
     "text": "\u001b[1;33mWARNING:\u001b[0m Using endpoint [https://ml.googleapis.com/]\nCreating version (this might take a few minutes)......done.\n\u001b[1;33mWARNING:\u001b[0m Using endpoint [https://ml.googleapis.com/]\nNAME  DEPLOYMENT_URI                                STATE\nv3    gs://mlops-dev-workspace/models/covertype_tf  READY\n"
    }
   ],
   "source": [
    "!gcloud ai-platform versions create {VERSION_NAME} \\\n",
    "  --model={MODEL_NAME} \\\n",
    "  --origin=gs://{BUCKET}/models/{MODEL_NAME} \\\n",
    "  --project={PROJECT} \\\n",
    "  --config={VERSION_CONFIG}\n",
    "\n",
    "!gcloud ai-platform versions list --model={MODEL_NAME} --project={PROJECT}"
   ]
  },
  {
   "cell_type": "markdown",
   "metadata": {
    "colab_type": "text",
    "id": "nmFimRVrc4m8"
   },
   "source": [
    "### 4.3. Test deployed model"
   ]
  },
  {
   "cell_type": "code",
   "execution_count": 30,
   "metadata": {
    "colab": {},
    "colab_type": "code",
    "id": "YJJDQNMzc4xh"
   },
   "outputs": [
    {
     "output_type": "stream",
     "name": "stdout",
     "text": "Service name: projects/mlops-dev-env/models/covertype_tf/versions/v3\n"
    }
   ],
   "source": [
    "import googleapiclient.discovery\n",
    "\n",
    "service = googleapiclient.discovery.build('ml', 'v1')\n",
    "name = 'projects/{}/models/{}/versions/{}'.format(PROJECT, MODEL_NAME, VERSION_NAME)\n",
    "print(\"Service name: {}\".format(name))\n",
    "\n",
    "def caip_predict(instances):\n",
    "    \n",
    "  request_body={\n",
    "      'signature_name': SIGNATURE_NAME,\n",
    "      'instances': instances}\n",
    "\n",
    "  response = service.projects().predict(\n",
    "      name=name,\n",
    "      body=request_body\n",
    "\n",
    "  ).execute()\n",
    "\n",
    "  if 'error' in response:\n",
    "    raise RuntimeError(response['error'])\n",
    "\n",
    "  return response['predictions']"
   ]
  },
  {
   "cell_type": "code",
   "execution_count": 31,
   "metadata": {
    "colab": {},
    "colab_type": "code",
    "id": "lbgnmaks4UPC"
   },
   "outputs": [
    {
     "output_type": "execute_result",
     "data": {
      "text/plain": "[[0.00579777407,\n  0.994201124,\n  1.01245214e-10,\n  3.44565418e-11,\n  9.99651547e-07,\n  1.28816724e-09,\n  1.04677639e-07]]"
     },
     "metadata": {},
     "execution_count": 31
    }
   ],
   "source": [
    "instances = [\n",
    "      { \n",
    "        'Soil_Type': ['7202'],\n",
    "        'Wilderness_Area': ['Commanche'],\n",
    "        'Aspect': [61],\n",
    "        'Elevation': [3091],\n",
    "        'Hillshade_3pm': [129],\n",
    "        'Hillshade_9am': [227],\n",
    "        'Hillshade_Noon': [223],\n",
    "        'Horizontal_Distance_To_Fire_Points': [2868],\n",
    "        'Horizontal_Distance_To_Hydrology': [134],\n",
    "        'Horizontal_Distance_To_Roadways': [0], \n",
    "        'Slope': [8], \n",
    "        'Vertical_Distance_To_Hydrology': [10],\n",
    "    }\n",
    "]\n",
    "\n",
    "caip_predict(instances)"
   ]
  },
  {
   "cell_type": "markdown",
   "metadata": {
    "colab_type": "text",
    "id": "m11-MCflLjFG"
   },
   "source": [
    "## 5. BigQuery logging dataset preparation"
   ]
  },
  {
   "cell_type": "markdown",
   "metadata": {
    "colab_type": "text",
    "id": "HmWQwyAUdwIW"
   },
   "source": [
    "### 5.1. Create BQ Dataset"
   ]
  },
  {
   "cell_type": "code",
   "execution_count": 32,
   "metadata": {
    "colab": {},
    "colab_type": "code",
    "id": "ne38zMEKL_Gk"
   },
   "outputs": [
    {
     "output_type": "stream",
     "name": "stdout",
     "text": "BigQuery Dataset is ready.\n"
    }
   ],
   "source": [
    "from google.cloud import bigquery\n",
    "\n",
    "client = bigquery.Client(PROJECT)\n",
    "dataset_names = [dataset.dataset_id for dataset in client.list_datasets(PROJECT)]\n",
    "\n",
    "dataset = bigquery.Dataset(\"{}.{}\".format(PROJECT, BQ_DATASET_NAME))\n",
    "dataset.location = \"US\"\n",
    "\n",
    "if BQ_DATASET_NAME not in dataset_names:\n",
    "  dataset = client.create_dataset(dataset)\n",
    "  print(\"Created dataset {}.{}\".format(client.project, dataset.dataset_id))\n",
    "\n",
    "print(\"BigQuery Dataset is ready.\")"
   ]
  },
  {
   "cell_type": "markdown",
   "metadata": {
    "colab_type": "text",
    "id": "ieIgLE94PovQ"
   },
   "source": [
    "### 5.2. Create BQ Table\n"
   ]
  },
  {
   "cell_type": "markdown",
   "metadata": {
    "colab_type": "text",
    "id": "ima0Dg1UWkRO"
   },
   "source": [
    "#### Table schema"
   ]
  },
  {
   "cell_type": "code",
   "execution_count": 33,
   "metadata": {
    "colab": {},
    "colab_type": "code",
    "id": "TqxS6RQ0T9LG"
   },
   "outputs": [],
   "source": [
    "import json\n",
    "\n",
    "table_schema_json = [\n",
    "  {\n",
    "    \"name\": \"model\", \n",
    "    \"type\": \"STRING\", \n",
    "    \"mode\": \"REQUIRED\"\n",
    "   },\n",
    "   {\n",
    "     \"name\":\"model_version\", \n",
    "     \"type\": \"STRING\", \n",
    "     \"mode\":\"REQUIRED\"\n",
    "  },\n",
    "  {\n",
    "    \"name\":\"time\", \n",
    "    \"type\": \"TIMESTAMP\", \n",
    "    \"mode\": \"REQUIRED\"\n",
    "  },\n",
    "  {\n",
    "    \"name\":\"raw_data\", \n",
    "    \"type\": \"STRING\", \n",
    "    \"mode\": \"REQUIRED\"\n",
    "  },\n",
    "  {\n",
    "    \"name\":\"raw_prediction\", \n",
    "    \"type\": \"STRING\", \n",
    "    \"mode\": \"NULLABLE\"\n",
    "  },\n",
    "  {\n",
    "    \"name\":\"groundtruth\", \n",
    "    \"type\": \"STRING\", \n",
    "    \"mode\": \"NULLABLE\"\n",
    "  },\n",
    "]\n",
    "\n",
    "json.dump(table_schema_json, open('table_schema.json', 'w'))"
   ]
  },
  {
   "cell_type": "markdown",
   "metadata": {
    "colab_type": "text",
    "id": "koE5tKouWngb"
   },
   "source": [
    "#### Ceating an ingestion-time partitioned tables"
   ]
  },
  {
   "cell_type": "code",
   "execution_count": 34,
   "metadata": {
    "colab": {},
    "colab_type": "code",
    "id": "SXkoAGEiXRvj"
   },
   "outputs": [],
   "source": [
    "table = bigquery.Table(\n",
    "    \"{}.{}.{}\".format(PROJECT, BQ_DATASET_NAME, BQ_TABLE_NAME))\n",
    "\n",
    "table_names = [table.table_id for table in client.list_tables(dataset)]\n",
    "\n",
    "if BQ_TABLE_NAME in table_names:\n",
    "  print(\"Deleteing BQ Table: {} ...\".format(BQ_TABLE_NAME))\n",
    "  client.delete_table(table)\n",
    "\n",
    "# table = client.create_table(table)\n",
    "# table.partition_expiration = 60 * 60 * 24 * 7\n",
    "# print(\"Created table {}.{}.{}\".format(table.project, table.dataset_id, table.table_id))\n"
   ]
  },
  {
   "cell_type": "code",
   "execution_count": 35,
   "metadata": {
    "colab": {},
    "colab_type": "code",
    "id": "QnE9GMjbeqXR"
   },
   "outputs": [
    {
     "output_type": "stream",
     "name": "stdout",
     "text": "Table 'mlops-dev-env:data_validation.covertype_logs_tf' successfully created.\n"
    }
   ],
   "source": [
    "TIME_PARTITION_EXPERIATION = 60 * 60 * 24 * 7 # week\n",
    "\n",
    "!bq mk --table \\\n",
    "  --project_id={PROJECT} \\\n",
    "  --time_partitioning_type=DAY \\\n",
    "  --time_partitioning_expiration {TIME_PARTITION_EXPERIATION} \\\n",
    "  {PROJECT}:{BQ_DATASET_NAME}.{BQ_TABLE_NAME} \\\n",
    "  'table_schema.json'"
   ]
  },
  {
   "cell_type": "markdown",
   "metadata": {
    "colab_type": "text",
    "id": "RPFM4mW-R3y8"
   },
   "source": [
    "### 5.3. Configre the AI Platform model version to enable request-response logging to BigQuery"
   ]
  },
  {
   "cell_type": "code",
   "execution_count": 47,
   "metadata": {
    "colab": {},
    "colab_type": "code",
    "id": "PBkx4i9Rc51W"
   },
   "outputs": [],
   "source": [
    "sampling_percentage = 1.0\n",
    "bq_full_table_name = '{}.{}.{}'.format(PROJECT, BQ_DATASET_NAME, BQ_TABLE_NAME)"
   ]
  },
  {
   "cell_type": "code",
   "execution_count": 48,
   "metadata": {
    "colab": {},
    "colab_type": "code",
    "id": "EarF0cmcRZN4"
   },
   "outputs": [
    {
     "output_type": "execute_result",
     "data": {
      "text/plain": "{'name': 'projects/mlops-dev-env/operations/update_covertype_tf_v3_1591202609599',\n 'metadata': {'@type': 'type.googleapis.com/google.cloud.ml.v1.OperationMetadata',\n  'createTime': '2020-06-03T16:43:29Z',\n  'operationType': 'UPDATE_VERSION',\n  'modelName': 'projects/mlops-dev-env/models/covertype_tf',\n  'version': {'name': 'projects/mlops-dev-env/models/covertype_tf/versions/v3',\n   'deploymentUri': 'gs://mlops-dev-workspace/models/covertype_tf',\n   'createTime': '2020-06-03T15:21:40Z',\n   'runtimeVersion': '2.1',\n   'manualScaling': {'nodes': 1},\n   'state': 'READY',\n   'etag': 'aiw6VGmzOo8=',\n   'framework': 'TENSORFLOW',\n   'machineType': 'n1-standard-16',\n   'pythonVersion': '3.7',\n   'requestLoggingConfig': {'samplingPercentage': 1,\n    'bigqueryTableName': 'mlops-dev-env.data_validation.covertype_logs_tf'}}},\n 'done': True,\n 'response': {'@type': 'type.googleapis.com/google.cloud.ml.v1.Version',\n  'name': 'projects/mlops-dev-env/models/covertype_tf/versions/v3',\n  'isDefault': True,\n  'deploymentUri': 'gs://mlops-dev-workspace/models/covertype_tf',\n  'createTime': '2020-06-03T15:21:40Z',\n  'runtimeVersion': '2.1',\n  'manualScaling': {'nodes': 1},\n  'state': 'READY',\n  'etag': 'aiw6VGmzOo8=',\n  'framework': 'TENSORFLOW',\n  'machineType': 'n1-standard-16',\n  'pythonVersion': '3.7',\n  'requestLoggingConfig': {'samplingPercentage': 1,\n   'bigqueryTableName': 'mlops-dev-env.data_validation.covertype_logs_tf'}}}"
     },
     "metadata": {},
     "execution_count": 48
    }
   ],
   "source": [
    "logging_config = {\n",
    "    \"requestLoggingConfig\":{\n",
    "        \"samplingPercentage\": sampling_percentage,\n",
    "        \"bigqueryTableName\": bq_full_table_name\n",
    "        }\n",
    "    }\n",
    "\n",
    "response = service.projects().models().versions().patch(\n",
    "    name=name,\n",
    "    body=logging_config,\n",
    "    updateMask=\"requestLoggingConfig\"\n",
    "    ).execute()\n",
    "\n",
    "response"
   ]
  },
  {
   "cell_type": "markdown",
   "metadata": {
    "colab_type": "text",
    "id": "kVpICSuq0Kp1"
   },
   "source": [
    "### 5.4. Test request-response logging"
   ]
  },
  {
   "cell_type": "code",
   "execution_count": 49,
   "metadata": {
    "colab": {},
    "colab_type": "code",
    "id": "6YsfjkPtkx3o"
   },
   "outputs": [
    {
     "output_type": "stream",
     "name": "stdout",
     "text": "....."
    }
   ],
   "source": [
    "import time\n",
    "\n",
    "for i in range(5):\n",
    "  caip_predict(instances)\n",
    "  print('.', end='')\n",
    "  time.sleep(0.25)"
   ]
  },
  {
   "cell_type": "code",
   "execution_count": 50,
   "metadata": {
    "colab": {},
    "colab_type": "code",
    "id": "jdlrKX0d0mQC"
   },
   "outputs": [
    {
     "output_type": "stream",
     "name": "stderr",
     "text": "Downloading: 100%|██████████| 3/3 [00:00<00:00,  9.00rows/s]\n"
    },
    {
     "output_type": "execute_result",
     "data": {
      "text/plain": "                                                                0  \\\nmodel                                                covertype_tf   \nmodel_version                                                  v3   \ntime                                    2020-06-03 16:44:12+00:00   \nraw_data        {\"signature_name\": \"serving_default\", \"instanc...   \nraw_prediction  {\\n    \"predictions\": [[0.00579777407, 0.99420...   \ngroundtruth                                                  None   \n\n                                                                1  \\\nmodel                                                covertype_tf   \nmodel_version                                                  v3   \ntime                                    2020-06-03 16:44:12+00:00   \nraw_data        {\"signature_name\": \"serving_default\", \"instanc...   \nraw_prediction  {\\n    \"predictions\": [[0.00579777407, 0.99420...   \ngroundtruth                                                  None   \n\n                                                                2  \nmodel                                                covertype_tf  \nmodel_version                                                  v3  \ntime                                    2020-06-03 16:44:11+00:00  \nraw_data        {\"signature_name\": \"serving_default\", \"instanc...  \nraw_prediction  {\\n    \"predictions\": [[0.00579777407, 0.99420...  \ngroundtruth                                                  None  ",
      "text/html": "<div>\n<style scoped>\n    .dataframe tbody tr th:only-of-type {\n        vertical-align: middle;\n    }\n\n    .dataframe tbody tr th {\n        vertical-align: top;\n    }\n\n    .dataframe thead th {\n        text-align: right;\n    }\n</style>\n<table border=\"1\" class=\"dataframe\">\n  <thead>\n    <tr style=\"text-align: right;\">\n      <th></th>\n      <th>0</th>\n      <th>1</th>\n      <th>2</th>\n    </tr>\n  </thead>\n  <tbody>\n    <tr>\n      <th>model</th>\n      <td>covertype_tf</td>\n      <td>covertype_tf</td>\n      <td>covertype_tf</td>\n    </tr>\n    <tr>\n      <th>model_version</th>\n      <td>v3</td>\n      <td>v3</td>\n      <td>v3</td>\n    </tr>\n    <tr>\n      <th>time</th>\n      <td>2020-06-03 16:44:12+00:00</td>\n      <td>2020-06-03 16:44:12+00:00</td>\n      <td>2020-06-03 16:44:11+00:00</td>\n    </tr>\n    <tr>\n      <th>raw_data</th>\n      <td>{\"signature_name\": \"serving_default\", \"instanc...</td>\n      <td>{\"signature_name\": \"serving_default\", \"instanc...</td>\n      <td>{\"signature_name\": \"serving_default\", \"instanc...</td>\n    </tr>\n    <tr>\n      <th>raw_prediction</th>\n      <td>{\\n    \"predictions\": [[0.00579777407, 0.99420...</td>\n      <td>{\\n    \"predictions\": [[0.00579777407, 0.99420...</td>\n      <td>{\\n    \"predictions\": [[0.00579777407, 0.99420...</td>\n    </tr>\n    <tr>\n      <th>groundtruth</th>\n      <td>None</td>\n      <td>None</td>\n      <td>None</td>\n    </tr>\n  </tbody>\n</table>\n</div>"
     },
     "metadata": {},
     "execution_count": 50
    }
   ],
   "source": [
    "query = '''\n",
    "  SELECT * FROM \n",
    "  `{}.{}` \n",
    "  WHERE model_version = '{}'\n",
    "  ORDER BY time desc\n",
    "  LIMIT {}\n",
    "'''.format(BQ_DATASET_NAME, BQ_TABLE_NAME, VERSION_NAME, 3)\n",
    "\n",
    "pd.io.gbq.read_gbq(\n",
    "    query, project_id=PROJECT).T\n"
   ]
  },
  {
   "cell_type": "code",
   "execution_count": null,
   "metadata": {},
   "outputs": [],
   "source": []
  }
 ],
 "metadata": {
  "colab": {
   "collapsed_sections": [
    "20wwieKoJvL1",
    "gvVcRazvL_95",
    "m11-MCflLjFG",
    "HmWQwyAUdwIW",
    "ieIgLE94PovQ",
    "RPFM4mW-R3y8"
   ],
   "name": "00-covertype-training-serving-v2.ipynb",
   "provenance": [],
   "toc_visible": true
  },
  "environment": {
   "name": "tf2-gpu.2-1.m46",
   "type": "gcloud",
   "uri": "gcr.io/deeplearning-platform-release/tf2-gpu.2-1:m46"
  },
  "kernelspec": {
   "display_name": "Python 3",
   "language": "python",
   "name": "python3"
  },
  "language_info": {
   "codemirror_mode": {
    "name": "ipython",
    "version": 3
   },
   "file_extension": ".py",
   "mimetype": "text/x-python",
   "name": "python",
   "nbconvert_exporter": "python",
   "pygments_lexer": "ipython3",
   "version": "3.7.6-final"
  }
 },
 "nbformat": 4,
 "nbformat_minor": 4
}