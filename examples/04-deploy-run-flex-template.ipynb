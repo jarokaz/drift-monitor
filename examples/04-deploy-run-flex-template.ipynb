{
 "cells": [
  {
   "cell_type": "markdown",
   "metadata": {},
   "source": [
    "<font size=-1>Licensed under the Apache License, Version 2.0 (the \\\"License\\\");\n",
    "you may not use this file except in compliance with the License.\n",
    "You may obtain a copy of the License at [https://www.apache.org/licenses/LICENSE-2.0](https://www.apache.org/licenses/LICENSE-2.0)\n",
    "\n",
    "Unless required by applicable law or agreed to in writing, software distributed under the License is distributed on an \\\"AS IS\\\" BASIS, WITHOUT WARRANTIES OR CONDITIONS OF ANY KIND, either express or implied.  See the License for the specific language governing permissions and limitations under the License.</font>"
   ]
  },
  {
   "cell_type": "code",
   "execution_count": 1,
   "metadata": {},
   "outputs": [],
   "source": [
    "import os\n",
    "import time\n",
    "\n",
    "import tensorflow_data_validation as tfdv"
   ]
  },
  {
   "cell_type": "code",
   "execution_count": 2,
   "metadata": {},
   "outputs": [
    {
     "output_type": "stream",
     "name": "stdout",
     "text": "TFDV version: 0.21.5\n"
    }
   ],
   "source": [
    "!python -c \"import tensorflow_data_validation; print('TFDV version: {}'.format(tensorflow_data_validation.__version__))\""
   ]
  },
  {
   "cell_type": "markdown",
   "metadata": {},
   "source": [
    "# Deploying and triggering the Data Drift Monitor Flex template"
   ]
  },
  {
   "cell_type": "markdown",
   "metadata": {},
   "source": [
    "This notebooks steps through deploying and triggering the Data Drift Monitor Flex template\n"
   ]
  },
  {
   "cell_type": "markdown",
   "metadata": {},
   "source": [
    "## Deploying the template\n",
    "\n",
    "\n",
    "### Configure environment settings\n",
    "\n",
    "Update  the below constants  with the settings reflecting your  environment. \n",
    "\n",
    "- `TEMPLATE_LOCATION` - the GCS location for the template.\n"
   ]
  },
  {
   "cell_type": "code",
   "execution_count": 9,
   "metadata": {},
   "outputs": [
    {
     "name": "stdout",
     "output_type": "stream",
     "text": [
      "gs://artifacts.mlops-dev-env.appspot.com/\n",
      "gs://dataflow-staging-us-central1-881178567352/\n",
      "gs://hostedkfp-default-36un4wco1q/\n",
      "gs://hostedkfp-default-w2dc42i8jo/\n",
      "gs://jk-mlops-dev-sandbox/\n",
      "gs://mlops-dev-env-staging/\n",
      "gs://mlops-dev-env.appspot.com/\n",
      "gs://mlops-dev-env_cloudbuild/\n",
      "gs://mlops-dev-workspace/\n",
      "gs://staging.mlops-dev-env.appspot.com/\n"
     ]
    }
   ],
   "source": [
    "!gsutil ls"
   ]
  },
  {
   "cell_type": "code",
   "execution_count": 6,
   "metadata": {},
   "outputs": [],
   "source": [
    "TEMPLATE_NAME = 'drift-detector'\n",
    "TEMPLATE_LOCATION = 'gs://mlops-dev-workspace/flex-templates'\n",
    "METADATA_FILE = 'drift_detector/metadata.json'\n",
    "\n",
    "TEMPLATE_PATH = '{}/{}.json'.format(TEMPLATE_LOCATION, TEMPLATE_NAME)\n",
    "PROJECT_ID = !(gcloud config get-value core/project)\n",
    "PROJECT_ID = PROJECT_ID[0]\n",
    "TEMPLATE_IMAGE='gcr.io/{}/{}:latest'.format(PROJECT_ID, TEMPLATE_NAME)"
   ]
  },
  {
   "cell_type": "markdown",
   "metadata": {},
   "source": [
    "### Build the template docker image\n"
   ]
  },
  {
   "cell_type": "code",
   "execution_count": 4,
   "metadata": {
    "tags": [
     "outputPrepend",
     "outputPrepend",
     "outputPrepend",
     "outputPrepend",
     "outputPrepend",
     "outputPrepend",
     "outputPrepend",
     "outputPrepend",
     "outputPrepend",
     "outputPrepend",
     "outputPrepend"
    ]
   },
   "outputs": [
    {
     "output_type": "stream",
     "name": "stdout",
     "text": "tion==0.21.5) (1.4.1)\nCollecting tensorflow-serving-api<3,>=1.15\n  Downloading tensorflow_serving_api-2.1.0-py2.py3-none-any.whl (38 kB)\nCollecting google-api-python-client<2,>=1.7.11\n  Downloading google_api_python_client-1.8.3-py3-none-any.whl (58 kB)\nRequirement already satisfied, skipping upgrade: wheel>=0.26; python_version >= \"3\" in /usr/local/lib/python3.5/site-packages (from tensorflow<3,>=1.15->tensorflow_data_validation==0.21.5) (0.34.2)\nRequirement already satisfied, skipping upgrade: keras-preprocessing>=1.1.0 in /usr/local/lib/python3.5/site-packages (from tensorflow<3,>=1.15->tensorflow_data_validation==0.21.5) (1.1.0)\nRequirement already satisfied, skipping upgrade: scipy==1.4.1; python_version >= \"3\" in /usr/local/lib/python3.5/site-packages (from tensorflow<3,>=1.15->tensorflow_data_validation==0.21.5) (1.4.1)\nRequirement already satisfied, skipping upgrade: astor>=0.6.0 in /usr/local/lib/python3.5/site-packages (from tensorflow<3,>=1.15->tensorflow_data_validation==0.21.5) (0.8.1)\nRequirement already satisfied, skipping upgrade: tensorboard<2.2.0,>=2.1.0 in /usr/local/lib/python3.5/site-packages (from tensorflow<3,>=1.15->tensorflow_data_validation==0.21.5) (2.1.1)\nRequirement already satisfied, skipping upgrade: termcolor>=1.1.0 in /usr/local/lib/python3.5/site-packages (from tensorflow<3,>=1.15->tensorflow_data_validation==0.21.5) (1.1.0)\nRequirement already satisfied, skipping upgrade: tensorflow-estimator<2.2.0,>=2.1.0rc0 in /usr/local/lib/python3.5/site-packages (from tensorflow<3,>=1.15->tensorflow_data_validation==0.21.5) (2.1.0)\nRequirement already satisfied, skipping upgrade: google-pasta>=0.1.6 in /usr/local/lib/python3.5/site-packages (from tensorflow<3,>=1.15->tensorflow_data_validation==0.21.5) (0.2.0)\nRequirement already satisfied, skipping upgrade: wrapt>=1.11.1 in /usr/local/lib/python3.5/site-packages (from tensorflow<3,>=1.15->tensorflow_data_validation==0.21.5) (1.12.1)\nRequirement already satisfied, skipping upgrade: gast==0.2.2 in /usr/local/lib/python3.5/site-packages (from tensorflow<3,>=1.15->tensorflow_data_validation==0.21.5) (0.2.2)\nRequirement already satisfied, skipping upgrade: opt-einsum>=2.3.2 in /usr/local/lib/python3.5/site-packages (from tensorflow<3,>=1.15->tensorflow_data_validation==0.21.5) (3.2.0)\nRequirement already satisfied, skipping upgrade: keras-applications>=1.0.8 in /usr/local/lib/python3.5/site-packages (from tensorflow<3,>=1.15->tensorflow_data_validation==0.21.5) (1.0.8)\nRequirement already satisfied, skipping upgrade: grpcio>=1.8.6 in /usr/local/lib/python3.5/site-packages (from tensorflow<3,>=1.15->tensorflow_data_validation==0.21.5) (1.24.3)\nRequirement already satisfied, skipping upgrade: googleapis-common-protos in /usr/local/lib/python3.5/site-packages (from tensorflow-metadata<0.22,>=0.21.1->tensorflow_data_validation==0.21.5) (1.51.0)\nRequirement already satisfied, skipping upgrade: setuptools in /usr/local/lib/python3.5/site-packages (from protobuf<4,>=3.7->tensorflow_data_validation==0.21.5) (45.2.0)\nRequirement already satisfied, skipping upgrade: python-dateutil>=2.6.1 in /usr/local/lib/python3.5/site-packages (from pandas<1,>=0.24->tensorflow_data_validation==0.21.5) (2.8.1)\nRequirement already satisfied, skipping upgrade: pytz>=2017.2 in /usr/local/lib/python3.5/site-packages (from pandas<1,>=0.24->tensorflow_data_validation==0.21.5) (2019.3)\nCollecting typing<3.8.0,>=3.7.0; python_version < \"3.5.3\"\n  Downloading typing-3.7.4.1-py3-none-any.whl (25 kB)\nRequirement already satisfied, skipping upgrade: oauth2client<4,>=2.0.1 in /usr/local/lib/python3.5/site-packages (from apache-beam[gcp]<3,>=2.17->tensorflow_data_validation==0.21.5) (3.0.0)\nRequirement already satisfied, skipping upgrade: fastavro<0.22,>=0.21.4 in /usr/local/lib/python3.5/site-packages (from apache-beam[gcp]<3,>=2.17->tensorflow_data_validation==0.21.5) (0.21.24)\nRequirement already satisfied, skipping upgrade: crcmod<2.0,>=1.7 in /usr/local/lib/python3.5/site-packages (from apache-beam[gcp]<3,>=2.17->tensorflow_data_validation==0.21.5) (1.7)\nRequirement already satisfied, skipping upgrade: httplib2<=0.12.0,>=0.8 in /usr/local/lib/python3.5/site-packages (from apache-beam[gcp]<3,>=2.17->tensorflow_data_validation==0.21.5) (0.12.0)\nRequirement already satisfied, skipping upgrade: typing-extensions<3.8.0,>=3.7.0 in /usr/local/lib/python3.5/site-packages (from apache-beam[gcp]<3,>=2.17->tensorflow_data_validation==0.21.5) (3.7.4.1)\nRequirement already satisfied, skipping upgrade: avro-python3!=1.9.2,<1.10.0,>=1.8.1; python_version >= \"3.0\" in /usr/local/lib/python3.5/site-packages (from apache-beam[gcp]<3,>=2.17->tensorflow_data_validation==0.21.5) (1.8.2)\nRequirement already satisfied, skipping upgrade: mock<3.0.0,>=1.0.1 in /usr/local/lib/python3.5/site-packages (from apache-beam[gcp]<3,>=2.17->tensorflow_data_validation==0.21.5) (2.0.0)\nRequirement already satisfied, skipping upgrade: future<1.0.0,>=0.16.0 in /usr/local/lib/python3.5/site-packages (from apache-beam[gcp]<3,>=2.17->tensorflow_data_validation==0.21.5) (0.17.1)\nRequirement already satisfied, skipping upgrade: hdfs<3.0.0,>=2.1.0 in /usr/local/lib/python3.5/site-packages (from apache-beam[gcp]<3,>=2.17->tensorflow_data_validation==0.21.5) (2.5.8)\nRequirement already satisfied, skipping upgrade: pymongo<4.0.0,>=3.8.0 in /usr/local/lib/python3.5/site-packages (from apache-beam[gcp]<3,>=2.17->tensorflow_data_validation==0.21.5) (3.9.0)\nRequirement already satisfied, skipping upgrade: dill<0.3.2,>=0.3.1.1 in /usr/local/lib/python3.5/site-packages (from apache-beam[gcp]<3,>=2.17->tensorflow_data_validation==0.21.5) (0.3.1.1)\nRequirement already satisfied, skipping upgrade: google-cloud-core<2,>=0.28.1; extra == \"gcp\" in /usr/local/lib/python3.5/site-packages (from apache-beam[gcp]<3,>=2.17->tensorflow_data_validation==0.21.5) (1.1.0)\nRequirement already satisfied, skipping upgrade: google-cloud-pubsub<1.1.0,>=0.39.0; extra == \"gcp\" in /usr/local/lib/python3.5/site-packages (from apache-beam[gcp]<3,>=2.17->tensorflow_data_validation==0.21.5) (1.0.2)\nRequirement already satisfied, skipping upgrade: grpcio-gcp<1,>=0.2.2; extra == \"gcp\" in /usr/local/lib/python3.5/site-packages (from apache-beam[gcp]<3,>=2.17->tensorflow_data_validation==0.21.5) (0.2.2)\nRequirement already satisfied, skipping upgrade: google-cloud-dlp<=0.13.0,>=0.12.0; extra == \"gcp\" in /usr/local/lib/python3.5/site-packages (from apache-beam[gcp]<3,>=2.17->tensorflow_data_validation==0.21.5) (0.13.0)\nRequirement already satisfied, skipping upgrade: google-cloud-spanner<1.14.0,>=1.13.0; extra == \"gcp\" in /usr/local/lib/python3.5/site-packages (from apache-beam[gcp]<3,>=2.17->tensorflow_data_validation==0.21.5) (1.13.0)\nRequirement already satisfied, skipping upgrade: google-cloud-videointelligence<1.14.0,>=1.8.0; extra == \"gcp\" in /usr/local/lib/python3.5/site-packages (from apache-beam[gcp]<3,>=2.17->tensorflow_data_validation==0.21.5) (1.13.0)\nRequirement already satisfied, skipping upgrade: google-cloud-bigquery<=1.24.0,>=1.6.0; extra == \"gcp\" in /usr/local/lib/python3.5/site-packages (from apache-beam[gcp]<3,>=2.17->tensorflow_data_validation==0.21.5) (1.24.0)\nRequirement already satisfied, skipping upgrade: google-cloud-language<2,>=1.3.0; extra == \"gcp\" in /usr/local/lib/python3.5/site-packages (from apache-beam[gcp]<3,>=2.17->tensorflow_data_validation==0.21.5) (1.3.0)\nRequirement already satisfied, skipping upgrade: google-apitools<0.5.29,>=0.5.28; extra == \"gcp\" in /usr/local/lib/python3.5/site-packages (from apache-beam[gcp]<3,>=2.17->tensorflow_data_validation==0.21.5) (0.5.28)\nRequirement already satisfied, skipping upgrade: google-cloud-bigtable<1.1.0,>=0.31.1; extra == \"gcp\" in /usr/local/lib/python3.5/site-packages (from apache-beam[gcp]<3,>=2.17->tensorflow_data_validation==0.21.5) (1.0.0)\nRequirement already satisfied, skipping upgrade: cachetools<4,>=3.1.0; extra == \"gcp\" in /usr/local/lib/python3.5/site-packages (from apache-beam[gcp]<3,>=2.17->tensorflow_data_validation==0.21.5) (3.1.1)\nRequirement already satisfied, skipping upgrade: google-cloud-vision<0.43.0,>=0.38.0; extra == \"gcp\" in /usr/local/lib/python3.5/site-packages (from apache-beam[gcp]<3,>=2.17->tensorflow_data_validation==0.21.5) (0.42.0)\nRequirement already satisfied, skipping upgrade: google-cloud-datastore<1.8.0,>=1.7.1; extra == \"gcp\" in /usr/local/lib/python3.5/site-packages (from apache-beam[gcp]<3,>=2.17->tensorflow_data_validation==0.21.5) (1.7.4)\nCollecting decorator\n  Downloading decorator-4.4.2-py2.py3-none-any.whl (9.2 kB)\nCollecting jedi>=0.10\n  Downloading jedi-0.17.0-py2.py3-none-any.whl (1.1 MB)\nCollecting traitlets>=4.2\n  Downloading traitlets-4.3.3-py2.py3-none-any.whl (75 kB)\nCollecting backcall\n  Downloading backcall-0.1.0.tar.gz (9.7 kB)\nCollecting pygments\n  Downloading Pygments-2.6.1-py3-none-any.whl (914 kB)\nCollecting pexpect; sys_platform != \"win32\"\n  Downloading pexpect-4.8.0-py2.py3-none-any.whl (59 kB)\nCollecting pickleshare\n  Downloading pickleshare-0.7.5-py2.py3-none-any.whl (6.9 kB)\nCollecting prompt-toolkit<2.1.0,>=2.0.0\n  Downloading prompt_toolkit-2.0.10-py3-none-any.whl (340 kB)\nRequirement already satisfied, skipping upgrade: pyparsing>=2.1.4 in /usr/local/lib/python3.5/site-packages (from pydot<2,>=1.2->tensorflow-transform<0.22,>=0.21->tensorflow_data_validation==0.21.5) (2.4.6)\nRequirement already satisfied, skipping upgrade: google-auth>=1.4.1 in /usr/local/lib/python3.5/site-packages (from google-api-python-client<2,>=1.7.11->tfx-bsl<0.22,>=0.21.3->tensorflow_data_validation==0.21.5) (1.11.3)\nRequirement already satisfied, skipping upgrade: google-api-core<2dev,>=1.13.0 in /usr/local/lib/python3.5/site-packages (from google-api-python-client<2,>=1.7.11->tfx-bsl<0.22,>=0.21.3->tensorflow_data_validation==0.21.5) (1.16.0)\nCollecting google-auth-httplib2>=0.0.3\n  Downloading google_auth_httplib2-0.0.3-py2.py3-none-any.whl (6.3 kB)\nCollecting uritemplate<4dev,>=3.0.0\n  Downloading uritemplate-3.0.1-py2.py3-none-any.whl (15 kB)\nRequirement already satisfied, skipping upgrade: requests<3,>=2.21.0 in /usr/local/lib/python3.5/site-packages (from tensorboard<2.2.0,>=2.1.0->tensorflow<3,>=1.15->tensorflow_data_validation==0.21.5) (2.23.0)\nRequirement already satisfied, skipping upgrade: markdown>=2.6.8 in /usr/local/lib/python3.5/site-packages (from tensorboard<2.2.0,>=2.1.0->tensorflow<3,>=1.15->tensorflow_data_validation==0.21.5) (3.2.1)\nRequirement already satisfied, skipping upgrade: werkzeug>=0.11.15 in /usr/local/lib/python3.5/site-packages (from tensorboard<2.2.0,>=2.1.0->tensorflow<3,>=1.15->tensorflow_data_validation==0.21.5) (1.0.0)\nRequirement already satisfied, skipping upgrade: google-auth-oauthlib<0.5,>=0.4.1 in /usr/local/lib/python3.5/site-packages (from tensorboard<2.2.0,>=2.1.0->tensorflow<3,>=1.15->tensorflow_data_validation==0.21.5) (0.4.1)\nRequirement already satisfied, skipping upgrade: h5py in /usr/local/lib/python3.5/site-packages (from keras-applications>=1.0.8->tensorflow<3,>=1.15->tensorflow_data_validation==0.21.5) (2.10.0)\nRequirement already satisfied, skipping upgrade: pyasn1>=0.1.7 in /usr/local/lib/python3.5/site-packages (from oauth2client<4,>=2.0.1->apache-beam[gcp]<3,>=2.17->tensorflow_data_validation==0.21.5) (0.4.8)\nRequirement already satisfied, skipping upgrade: pyasn1-modules>=0.0.5 in /usr/local/lib/python3.5/site-packages (from oauth2client<4,>=2.0.1->apache-beam[gcp]<3,>=2.17->tensorflow_data_validation==0.21.5) (0.2.8)\nRequirement already satisfied, skipping upgrade: rsa>=3.1.4 in /usr/local/lib/python3.5/site-packages (from oauth2client<4,>=2.0.1->apache-beam[gcp]<3,>=2.17->tensorflow_data_validation==0.21.5) (4.0)\nRequirement already satisfied, skipping upgrade: pbr>=0.11 in /usr/local/lib/python3.5/site-packages (from mock<3.0.0,>=1.0.1->apache-beam[gcp]<3,>=2.17->tensorflow_data_validation==0.21.5) (5.4.4)\nRequirement already satisfied, skipping upgrade: docopt in /usr/local/lib/python3.5/site-packages (from hdfs<3.0.0,>=2.1.0->apache-beam[gcp]<3,>=2.17->tensorflow_data_validation==0.21.5) (0.6.2)\nRequirement already satisfied, skipping upgrade: grpc-google-iam-v1<0.13dev,>=0.12.3 in /usr/local/lib/python3.5/site-packages (from google-cloud-pubsub<1.1.0,>=0.39.0; extra == \"gcp\"->apache-beam[gcp]<3,>=2.17->tensorflow_data_validation==0.21.5) (0.12.3)\nRequirement already satisfied, skipping upgrade: google-resumable-media<0.6dev,>=0.5.0 in /usr/local/lib/python3.5/site-packages (from google-cloud-bigquery<=1.24.0,>=1.6.0; extra == \"gcp\"->apache-beam[gcp]<3,>=2.17->tensorflow_data_validation==0.21.5) (0.5.0)\nRequirement already satisfied, skipping upgrade: fasteners>=0.14 in /usr/local/lib/python3.5/site-packages (from google-apitools<0.5.29,>=0.5.28; extra == \"gcp\"->apache-beam[gcp]<3,>=2.17->tensorflow_data_validation==0.21.5) (0.15)\nCollecting parso>=0.7.0\n  Downloading parso-0.7.0-py2.py3-none-any.whl (100 kB)\nCollecting ipython-genutils\n  Downloading ipython_genutils-0.2.0-py2.py3-none-any.whl (26 kB)\nCollecting ptyprocess>=0.5\n  Downloading ptyprocess-0.6.0-py2.py3-none-any.whl (39 kB)\nRequirement already satisfied, skipping upgrade: wcwidth in /usr/local/lib/python3.5/site-packages (from prompt-toolkit<2.1.0,>=2.0.0->ipython>=5->tensorflow_data_validation==0.21.5) (0.1.8)\nRequirement already satisfied, skipping upgrade: urllib3!=1.25.0,!=1.25.1,<1.26,>=1.21.1 in /usr/local/lib/python3.5/site-packages (from requests<3,>=2.21.0->tensorboard<2.2.0,>=2.1.0->tensorflow<3,>=1.15->tensorflow_data_validation==0.21.5) (1.25.8)\nRequirement already satisfied, skipping upgrade: certifi>=2017.4.17 in /usr/local/lib/python3.5/site-packages (from requests<3,>=2.21.0->tensorboard<2.2.0,>=2.1.0->tensorflow<3,>=1.15->tensorflow_data_validation==0.21.5) (2019.11.28)\nRequirement already satisfied, skipping upgrade: chardet<4,>=3.0.2 in /usr/local/lib/python3.5/site-packages (from requests<3,>=2.21.0->tensorboard<2.2.0,>=2.1.0->tensorflow<3,>=1.15->tensorflow_data_validation==0.21.5) (3.0.4)\nRequirement already satisfied, skipping upgrade: idna<3,>=2.5 in /usr/local/lib/python3.5/site-packages (from requests<3,>=2.21.0->tensorboard<2.2.0,>=2.1.0->tensorflow<3,>=1.15->tensorflow_data_validation==0.21.5) (2.9)\nRequirement already satisfied, skipping upgrade: requests-oauthlib>=0.7.0 in /usr/local/lib/python3.5/site-packages (from google-auth-oauthlib<0.5,>=0.4.1->tensorboard<2.2.0,>=2.1.0->tensorflow<3,>=1.15->tensorflow_data_validation==0.21.5) (1.3.0)\nRequirement already satisfied, skipping upgrade: monotonic>=0.1 in /usr/local/lib/python3.5/site-packages (from fasteners>=0.14->google-apitools<0.5.29,>=0.5.28; extra == \"gcp\"->apache-beam[gcp]<3,>=2.17->tensorflow_data_validation==0.21.5) (1.5)\nRequirement already satisfied, skipping upgrade: oauthlib>=3.0.0 in /usr/local/lib/python3.5/site-packages (from requests-oauthlib>=0.7.0->google-auth-oauthlib<0.5,>=0.4.1->tensorboard<2.2.0,>=2.1.0->tensorflow<3,>=1.15->tensorflow_data_validation==0.21.5) (3.1.0)\nBuilding wheels for collected packages: tensorflow-transform, absl-py, backcall\n  Building wheel for tensorflow-transform (setup.py): started\n  Building wheel for tensorflow-transform (setup.py): finished with status 'done'\n  Created wheel for tensorflow-transform: filename=tensorflow_transform-0.21.2-py3-none-any.whl size=301093 sha256=3e2588733ed696b4c0a36a17bb0e3cd0a024476d8ef27a419c25ca4699a99104\n  Stored in directory: /root/.cache/pip/wheels/a6/9c/9a/a0dbfc0948873609990f4360abb0d1a4fb0960ab5cde371a6c\n  Building wheel for absl-py (setup.py): started\n  Building wheel for absl-py (setup.py): finished with status 'done'\n  Created wheel for absl-py: filename=absl_py-0.8.1-py3-none-any.whl size=121165 sha256=95016a86e5478588aff79c6c62be81d6d3174a7f12fffe71ef9b4d6d49875523\n  Stored in directory: /root/.cache/pip/wheels/0c/fa/af/c3217c654740d2cffc40ab4eca9da558be4bb94dd593ef0d74\n  Building wheel for backcall (setup.py): started\n  Building wheel for backcall (setup.py): finished with status 'done'\n  Created wheel for backcall: filename=backcall-0.1.0-py3-none-any.whl size=10413 sha256=2e9cd235ed83c0b817a36deca7d94e3d9efa48c9f8b22cdb423537371a02ca2c\n  Stored in directory: /root/.cache/pip/wheels/cb/6f/5c/9b66a87adeb46fed2babb14407bae1271f5e41b6b34b642411\nSuccessfully built tensorflow-transform absl-py backcall\nInstalling collected packages: absl-py, typing, apache-beam, tensorflow-metadata, tensorflow-serving-api, google-auth-httplib2, uritemplate, google-api-python-client, tfx-bsl, tensorflow-transform, decorator, parso, jedi, ipython-genutils, traitlets, backcall, pygments, ptyprocess, pexpect, pickleshare, prompt-toolkit, ipython, tensorflow-data-validation, MarkupSafe, jinja2\n  Attempting uninstall: absl-py\n    Found existing installation: absl-py 0.9.0\n    Uninstalling absl-py-0.9.0:\n      Successfully uninstalled absl-py-0.9.0\nSuccessfully installed MarkupSafe-1.1.1 absl-py-0.8.1 apache-beam-2.20.0 backcall-0.1.0 decorator-4.4.2 google-api-python-client-1.8.3 google-auth-httplib2-0.0.3 ipython-7.9.0 ipython-genutils-0.2.0 jedi-0.17.0 jinja2-2.11.2 parso-0.7.0 pexpect-4.8.0 pickleshare-0.7.5 prompt-toolkit-2.0.10 ptyprocess-0.6.0 pygments-2.6.1 tensorflow-data-validation-0.21.5 tensorflow-metadata-0.21.2 tensorflow-serving-api-2.1.0 tensorflow-transform-0.21.2 tfx-bsl-0.21.4 traitlets-4.3.3 typing-3.7.4.1 uritemplate-3.0.1\n\u001b[91mWARNING: You are using pip version 20.0.2; however, version 20.1 is available.\nYou should consider upgrading via the '/usr/local/bin/python3 -m pip install --upgrade pip' command.\n\u001b[0mRemoving intermediate container f8b89c5a8031\n ---> 6587555393d2\nSuccessfully built 6587555393d2\nSuccessfully tagged gcr.io/mlops-dev-env/drift-detector:latest\nPUSH\nPushing gcr.io/mlops-dev-env/drift-detector:latest\nThe push refers to repository [gcr.io/mlops-dev-env/drift-detector]\n3ae9c85ba015: Preparing\n32069d0da01a: Preparing\nd54c9b2c6bb2: Preparing\n0fcbb31f2789: Preparing\naadbdc5d673e: Preparing\n656c2d1e8784: Preparing\n6031c7b3650d: Preparing\na14081ef9f26: Preparing\naab96379a6db: Preparing\n8060dfe940df: Preparing\nf21aee054dd4: Preparing\n2b86258e1b71: Preparing\n6615e78d30df: Preparing\n2d7dcf39f70c: Preparing\nc030c5cd198e: Preparing\n1711f339912c: Preparing\n1b78c584f829: Preparing\n541af53df1d8: Preparing\nb10648c26b31: Preparing\n33c8d3bf268b: Preparing\nb84a8d46e8fb: Preparing\nf66ed577df6e: Preparing\n656c2d1e8784: Waiting\n6031c7b3650d: Waiting\na14081ef9f26: Waiting\naab96379a6db: Waiting\n8060dfe940df: Waiting\nf21aee054dd4: Waiting\n2b86258e1b71: Waiting\n6615e78d30df: Waiting\n2d7dcf39f70c: Waiting\nc030c5cd198e: Waiting\n1711f339912c: Waiting\n1b78c584f829: Waiting\n541af53df1d8: Waiting\nb10648c26b31: Waiting\n33c8d3bf268b: Waiting\nb84a8d46e8fb: Waiting\nf66ed577df6e: Waiting\n32069d0da01a: Pushed\naadbdc5d673e: Pushed\nd54c9b2c6bb2: Pushed\n0fcbb31f2789: Pushed\n6031c7b3650d: Layer already exists\na14081ef9f26: Layer already exists\naab96379a6db: Layer already exists\n8060dfe940df: Layer already exists\nf21aee054dd4: Layer already exists\n6615e78d30df: Layer already exists\n2b86258e1b71: Layer already exists\n2d7dcf39f70c: Layer already exists\nc030c5cd198e: Layer already exists\n1711f339912c: Layer already exists\n1b78c584f829: Layer already exists\nb10648c26b31: Layer already exists\n33c8d3bf268b: Layer already exists\n541af53df1d8: Layer already exists\n656c2d1e8784: Pushed\nf66ed577df6e: Layer already exists\nb84a8d46e8fb: Layer already exists\n3ae9c85ba015: Pushed\nlatest: digest: sha256:613a559f243cf41cfd0e2304284468ccabe54886f91875420287e3cd256a72b1 size: 4934\nDONE\n--------------------------------------------------------------------------------\n\nID                                    CREATE_TIME                DURATION  SOURCE                                                                                  IMAGES                                         STATUS\n3c745570-4b85-4ea5-a726-f540d2735b4d  2020-05-15T02:30:01+00:00  1M44S     gs://mlops-dev-env_cloudbuild/source/1589509801.1-a4423b30834841668125bef246291aa7.tgz  gcr.io/mlops-dev-env/drift-detector (+1 more)  SUCCESS\n"
    }
   ],
   "source": [
    "!gcloud builds submit --tag {TEMPLATE_IMAGE} drift_detector"
   ]
  },
  {
   "cell_type": "markdown",
   "metadata": {},
   "source": [
    "### Deploy the template\n"
   ]
  },
  {
   "cell_type": "code",
   "execution_count": 12,
   "metadata": {},
   "outputs": [
    {
     "output_type": "stream",
     "name": "stdout",
     "text": "Successfully saved container spec in flex template file.\nTemplate File GCS Location: gs://mlops-dev-workspace/flex-templates/drift-detector.json\nContainer Spec:\n\n{\n    \"image\": \"gcr.io/mlops-dev-env/drift-detector:latest\",\n    \"metadata\": {\n        \"description\": \"Data drift detector Python flex template.\",\n        \"name\": \"Data drift detector Python flex template\",\n        \"parameters\": [\n            {\n                \"helpText\": \"A full name of the BQ request-response log table\",\n                \"label\": \"Request response log table.\",\n                \"name\": \"request_response_log_table\",\n                \"regexes\": [\n                    \"[-_.a-zA-Z0-9]+\"\n                ]\n            },\n            {\n                \"helpText\": \"A type of instances in request_response log_table\",\n                \"label\": \"Instance type.\",\n                \"name\": \"instance_type\",\n                \"regexes\": [\n                    \"LIST|OBJECT\"\n                ]\n            },\n            {\n                \"helpText\": \"A list of feature names for instances in simple list format.\",\n                \"is_optional\": true,\n                \"label\": \"Feature names.\",\n                \"name\": \"feature_names\",\n                \"regexes\": [\n                    \"[,-_a-zA-Z0-9]+\"\n                ]\n            },\n            {\n                \"helpText\": \"A time window start time in YYYY-MM-DDTHH:MM:SS format.\",\n                \"label\": \"Start time.\",\n                \"name\": \"start_time\",\n                \"regexes\": [\n                    \"[-:T0-9]+\"\n                ]\n            },\n            {\n                \"helpText\": \"A time window end time in YYYY-MM-DDTHH:MM:SS format.\",\n                \"label\": \"End time.\",\n                \"name\": \"end_time\",\n                \"regexes\": [\n                    \"[-:T0-9]+\"\n                ]\n            },\n            {\n                \"helpText\": \"The output path for stats and anomalies protobufs.\",\n                \"label\": \"Output path.\",\n                \"name\": \"output_path\",\n                \"regexes\": [\n                    \"gs://[-_./a-zA-Z0-9]+\"\n                ]\n            },\n            {\n                \"helpText\": \"Setup file.\",\n                \"label\": \"Setup file.\",\n                \"name\": \"setup_file\",\n                \"regexes\": [\n                    \"[-_./a-zA-Z0-9]+\"\n                ]\n            },\n            {\n                \"helpText\": \"A GCS path to schema file.\",\n                \"label\": \"Schema file.\",\n                \"name\": \"schema_file\",\n                \"regexes\": [\n                    \"gs://[-_./a-zA-Z0-9]+\"\n                ]\n            },\n            {\n                \"helpText\": \"A GCS path to a baseline statistics file.\",\n                \"is_optional\": true,\n                \"label\": \"Baseline stats file.\",\n                \"name\": \"baseline_stats_file\",\n                \"regexes\": [\n                    \"gs://[-_./a-zA-Z0-9]+\"\n                ]\n            }\n        ]\n    },\n    \"sdkInfo\": {\n        \"language\": \"PYTHON\"\n    }\n}\n"
    }
   ],
   "source": [
    "!gcloud beta dataflow flex-template build {TEMPLATE_PATH} \\\n",
    "  --image {TEMPLATE_IMAGE} \\\n",
    "  --sdk-language \"PYTHON\" \\\n",
    "  --metadata-file {METADATA_FILE}"
   ]
  },
  {
   "cell_type": "markdown",
   "metadata": {},
   "source": [
    "### Run template"
   ]
  },
  {
   "cell_type": "code",
   "execution_count": 18,
   "metadata": {},
   "outputs": [
    {
     "output_type": "execute_result",
     "data": {
      "text/plain": "'gs://mlops-dev-workspace/flex-templates/drift-detector.json'"
     },
     "metadata": {},
     "execution_count": 18
    }
   ],
   "source": [
    "TEMPLATE_PATH"
   ]
  },
  {
   "cell_type": "code",
   "execution_count": 16,
   "metadata": {},
   "outputs": [],
   "source": [
    "JOB_NAME = \"data-drift-{}\".format(time.strftime(\"%Y%m%d-%H%M%S\"))\n",
    "\n",
    "PARAMETERS = {\n",
    "    'request_response_log_table': 'mlops-dev-env.data_validation.covertype_classifier_logs_tf',\n",
    "    'instance_type': 'OBJECT',\n",
    "    'start_time': '2020-05-15T00:15:00',\n",
    "    'end_time': '2020-05-15T02:51:00',\n",
    "    'output_path': 'gs://mlops-dev-workspace/drift_monitor/output/tf',\n",
    "    'schema_file': 'gs://mlops-dev-workspace/drift_monitor/schema/schema.pbtxt',\n",
    "    'setup_file': './setup.py',\n",
    "\n",
    "}\n",
    "\n",
    "PARAMETERS = ','.join(['{}={}'.format(key,value) for key, value in PARAMETERS.items()])"
   ]
  },
  {
   "cell_type": "code",
   "execution_count": 17,
   "metadata": {},
   "outputs": [
    {
     "output_type": "stream",
     "name": "stdout",
     "text": "\u001b[1;33mWARNING:\u001b[0m `--region` not set; defaulting to 'us-central1'. In an upcoming release, users must specify a region explicitly. See https://cloud.google.com/dataflow/docs/concepts/regional-endpoints for additional details.\njob:\n  createTime: '2020-05-15T03:05:40.928537Z'\n  currentStateTime: '1970-01-01T00:00:00Z'\n  id: 2020-05-14_20_05_40-9719059282455536528\n  location: us-central1\n  name: data-drift-20200515-030536\n  projectId: mlops-dev-env\n  startTime: '2020-05-15T03:05:40.928537Z'\n"
    }
   ],
   "source": [
    "!gcloud beta dataflow flex-template run {JOB_NAME} \\\n",
    "--template-file-gcs-location {TEMPLATE_PATH} \\\n",
    "--parameters {PARAMETERS}"
   ]
  },
  {
   "cell_type": "code",
   "execution_count": null,
   "metadata": {},
   "outputs": [],
   "source": []
  }
 ],
 "metadata": {
  "environment": {
   "name": "tf2-gpu.2-1.m46",
   "type": "gcloud",
   "uri": "gcr.io/deeplearning-platform-release/tf2-gpu.2-1:m46"
  },
  "kernelspec": {
   "display_name": "Python 3",
   "language": "python",
   "name": "python3"
  },
  "language_info": {
   "codemirror_mode": {
    "name": "ipython",
    "version": 3
   },
   "file_extension": ".py",
   "mimetype": "text/x-python",
   "name": "python",
   "nbconvert_exporter": "python",
   "pygments_lexer": "ipython3",
   "version": "3.7.6-final"
  }
 },
 "nbformat": 4,
 "nbformat_minor": 4
}