{
 "cells": [
  {
   "cell_type": "markdown",
   "metadata": {},
   "source": [
    "##### Copyright 2020 Google Inc.\n",
    "\n",
    "Licensed under the Apache License, Version 2.0 (the \"License\").\n",
    "<!--\n",
    "    Licensed to the Apache Software Foundation (ASF) under one\n",
    "    or more contributor license agreements.  See the NOTICE file\n",
    "    distributed with this work for additional information\n",
    "    regarding copyright ownership.  The ASF licenses this file\n",
    "    to you under the Apache License, Version 2.0 (the\n",
    "    \"License\"); you may not use this file except in compliance\n",
    "    with the License.  You may obtain a copy of the License at\n",
    "\n",
    "      http://www.apache.org/licenses/LICENSE-2.0\n",
    "\n",
    "    Unless required by applicable law or agreed to in writing,\n",
    "    software distributed under the License is distributed on an\n",
    "    \"AS IS\" BASIS, WITHOUT WARRANTIES OR CONDITIONS OF ANY\n",
    "    KIND, either express or implied.  See the License for the\n",
    "    specific language governing permissions and limitations\n",
    "    under the License.\n",
    "-->\n"
   ]
  },
  {
   "cell_type": "markdown",
   "metadata": {},
   "source": [
    "# Analyzing AI Platform Prediction Request Response Log using TensorFlow Data Validation"
   ]
  },
  {
   "cell_type": "code",
   "execution_count": 39,
   "metadata": {},
   "outputs": [],
   "source": [
    "import json\n",
    "import os\n",
    "\n",
    "import pandas as pd\n",
    "import seaborn\n",
    "import tensorflow_data_validation as tfdv\n",
    "import tensorflow as tf\n",
    "\n",
    "from datetime import datetime\n",
    "from google.cloud import bigquery\n",
    "from jinja2 import Template\n",
    "from tensorflow_metadata.proto.v0 import statistics_pb2\n",
    "from tensorflow_data_validation.utils.stats_util import get_feature_stats\n",
    "from tensorflow_data_validation import FeaturePath"
   ]
  },
  {
   "cell_type": "markdown",
   "metadata": {},
   "source": [
    "## Configure environment settings"
   ]
  },
  {
   "cell_type": "code",
   "execution_count": 1,
   "metadata": {},
   "outputs": [],
   "source": [
    "project_id = 'mlops-dev-env'\n",
    "response_request_log_table = 'data_validation.covertype_classifier_logs_tf'"
   ]
  },
  {
   "cell_type": "markdown",
   "metadata": {},
   "source": [
    "## Retrieve records from AI Platform Prediction Request Response log"
   ]
  },
  {
   "cell_type": "markdown",
   "metadata": {},
   "source": [
    "### Prepare a query"
   ]
  },
  {
   "cell_type": "code",
   "execution_count": 10,
   "metadata": {},
   "outputs": [],
   "source": [
    "def generate_query(table_name, start_time, end_time):\n",
    "\n",
    "  sampling_query_template = \"\"\"\n",
    "       SELECT *\n",
    "       FROM \n",
    "           `{{ source_table }}`\n",
    "       WHERE time BETWEEN '{{ start_time }}' AND '{{ end_time }}'\n",
    "       \"\"\"\n",
    "  \n",
    "  query = Template(sampling_query_template).render(\n",
    "      source_table=table_name, start_time=start_time, end_time=end_time)\n",
    "\n",
    "  return query\n"
   ]
  },
  {
   "cell_type": "markdown",
   "metadata": {},
   "source": [
    "### Run a query"
   ]
  },
  {
   "cell_type": "code",
   "execution_count": 81,
   "metadata": {},
   "outputs": [],
   "source": [
    "start_time = '2020-05-15T00:00:00'\n",
    "end_time = '2020-05-19T00:00:00'\n",
    "\n",
    "query = generate_query(response_request_log_table, start_time, end_time)\n",
    "\n",
    "client = bigquery.Client()\n",
    "query_job = client.query(query)\n",
    "rows = query_job.result()"
   ]
  },
  {
   "cell_type": "markdown",
   "metadata": {},
   "source": [
    "### Convert the `raw_data` column into a pandas dataframe"
   ]
  },
  {
   "cell_type": "code",
   "execution_count": 82,
   "metadata": {
    "tags": [
     "outputPrepend",
     "outputPrepend",
     "outputPrepend",
     "outputPrepend",
     "outputPrepend",
     "outputPrepend",
     "outputPrepend",
     "outputPrepend",
     "outputPrepend",
     "outputPrepend",
     "outputPrepend",
     "outputPrepend",
     "outputPrepend",
     "outputPrepend",
     "outputPrepend",
     "outputPrepend",
     "outputPrepend",
     "outputPrepend",
     "outputPrepend",
     "outputPrepend",
     "outputPrepend",
     "outputPrepend",
     "outputPrepend",
     "outputPrepend",
     "outputPrepend",
     "outputPrepend",
     "outputPrepend",
     "outputPrepend",
     "outputPrepend",
     "outputPrepend",
     "outputPrepend",
     "outputPrepend",
     "outputPrepend",
     "outputPrepend",
     "outputPrepend",
     "outputPrepend",
     "outputPrepend",
     "outputPrepend",
     "outputPrepend",
     "outputPrepend",
     "outputPrepend",
     "outputPrepend",
     "outputPrepend",
     "outputPrepend",
     "outputPrepend",
     "outputPrepend",
     "outputPrepend",
     "outputPrepend",
     "outputPrepend",
     "outputPrepend",
     "outputPrepend",
     "outputPrepend",
     "outputPrepend",
     "outputPrepend",
     "outputPrepend",
     "outputPrepend",
     "outputPrepend",
     "outputPrepend",
     "outputPrepend",
     "outputPrepend",
     "outputPrepend",
     "outputPrepend",
     "outputPrepend",
     "outputPrepend",
     "outputPrepend",
     "outputPrepend",
     "outputPrepend",
     "outputPrepend",
     "outputPrepend",
     "outputPrepend",
     "outputPrepend",
     "outputPrepend",
     "outputPrepend",
     "outputPrepend",
     "outputPrepend",
     "outputPrepend",
     "outputPrepend",
     "outputPrepend",
     "outputPrepend",
     "outputPrepend",
     "outputPrepend",
     "outputPrepend",
     "outputPrepend",
     "outputPrepend",
     "outputPrepend",
     "outputPrepend",
     "outputPrepend",
     "outputPrepend",
     "outputPrepend",
     "outputPrepend",
     "outputPrepend",
     "outputPrepend",
     "outputPrepend",
     "outputPrepend",
     "outputPrepend",
     "outputPrepend",
     "outputPrepend",
     "outputPrepend",
     "outputPrepend",
     "outputPrepend",
     "outputPrepend",
     "outputPrepend",
     "outputPrepend",
     "outputPrepend",
     "outputPrepend",
     "outputPrepend",
     "outputPrepend",
     "outputPrepend",
     "outputPrepend",
     "outputPrepend",
     "outputPrepend",
     "outputPrepend",
     "outputPrepend",
     "outputPrepend",
     "outputPrepend",
     "outputPrepend",
     "outputPrepend",
     "outputPrepend",
     "outputPrepend",
     "outputPrepend",
     "outputPrepend",
     "outputPrepend",
     "outputPrepend",
     "outputPrepend",
     "outputPrepend",
     "outputPrepend",
     "outputPrepend",
     "outputPrepend",
     "outputPrepend",
     "outputPrepend",
     "outputPrepend",
     "outputPrepend",
     "outputPrepend",
     "outputPrepend",
     "outputPrepend",
     "outputPrepend",
     "outputPrepend",
     "outputPrepend",
     "outputPrepend",
     "outputPrepend",
     "outputPrepend",
     "outputPrepend",
     "outputPrepend",
     "outputPrepend",
     "outputPrepend",
     "outputPrepend",
     "outputPrepend",
     "outputPrepend",
     "outputPrepend",
     "outputPrepend",
     "outputPrepend",
     "outputPrepend",
     "outputPrepend",
     "outputPrepend",
     "outputPrepend",
     "outputPrepend",
     "outputPrepend",
     "outputPrepend",
     "outputPrepend",
     "outputPrepend",
     "outputPrepend",
     "outputPrepend",
     "outputPrepend",
     "outputPrepend",
     "outputPrepend",
     "outputPrepend",
     "outputPrepend",
     "outputPrepend",
     "outputPrepend",
     "outputPrepend",
     "outputPrepend",
     "outputPrepend",
     "outputPrepend",
     "outputPrepend",
     "outputPrepend",
     "outputPrepend",
     "outputPrepend",
     "outputPrepend",
     "outputPrepend",
     "outputPrepend",
     "outputPrepend",
     "outputPrepend",
     "outputPrepend",
     "outputPrepend",
     "outputPrepend",
     "outputPrepend",
     "outputPrepend",
     "outputPrepend",
     "outputPrepend",
     "outputPrepend",
     "outputPrepend",
     "outputPrepend",
     "outputPrepend",
     "outputPrepend",
     "outputPrepend",
     "outputPrepend",
     "outputPrepend",
     "outputPrepend",
     "outputPrepend",
     "outputPrepend"
    ]
   },
   "outputs": [
    {
     "output_type": "execute_result",
     "data": {
      "text/plain": "       Elevation  Aspect  Slope  Horizontal_Distance_To_Hydrology  \\\n0           2885     250     27                                60   \n1           2909     315     26                               150   \n2           2717      69     23                               153   \n3           2652      61     12                               376   \n4           3189     351     16                               365   \n...          ...     ...    ...                               ...   \n17233       3132      93     17                               424   \n17234       3007      55     34                               335   \n17235       2532     214     14                               285   \n17236       2744      53      9                               255   \n17237       2913     338      8                               108   \n\n       Vertical_Distance_To_Hydrology  Horizontal_Distance_To_Roadways  \\\n0                                  28                             2624   \n1                                  75                             5465   \n2                                  68                             1265   \n3                                  24                              400   \n4                                  83                             1065   \n...                               ...                              ...   \n17233                             -16                             6030   \n17234                              95                             2038   \n17235                             104                              541   \n17236                              79                             2697   \n17237                              13                             4510   \n\n       Hillshade_9am  Hillshade_Noon  Hillshade_3pm  \\\n0                153             247            225   \n1                141             208            202   \n2                237             187             69   \n3                230             215            117   \n4                191             212            158   \n...              ...             ...            ...   \n17233            245             212             90   \n17234            219             149             37   \n17235            205             253            181   \n17236            226             220            128   \n17237            202             228            165   \n\n       Horizontal_Distance_To_Fire_Points Wilderness_Area Soil_Type  \n0                                     972       Commanche      4758  \n1                                    4830           Rawah      7700  \n2                                     904       Commanche      4758  \n3                                    1812           Rawah      4744  \n4                                    2056       Commanche      7201  \n...                                   ...             ...       ...  \n17233                                1310           Rawah      7745  \n17234                                1812       Commanche      7757  \n17235                                 216           Cache      2717  \n17236                                1140       Commanche      2703  \n17237                                6007           Rawah      4744  \n\n[17238 rows x 12 columns]",
      "text/html": "<div>\n<style scoped>\n    .dataframe tbody tr th:only-of-type {\n        vertical-align: middle;\n    }\n\n    .dataframe tbody tr th {\n        vertical-align: top;\n    }\n\n    .dataframe thead th {\n        text-align: right;\n    }\n</style>\n<table border=\"1\" class=\"dataframe\">\n  <thead>\n    <tr style=\"text-align: right;\">\n      <th></th>\n      <th>Elevation</th>\n      <th>Aspect</th>\n      <th>Slope</th>\n      <th>Horizontal_Distance_To_Hydrology</th>\n      <th>Vertical_Distance_To_Hydrology</th>\n      <th>Horizontal_Distance_To_Roadways</th>\n      <th>Hillshade_9am</th>\n      <th>Hillshade_Noon</th>\n      <th>Hillshade_3pm</th>\n      <th>Horizontal_Distance_To_Fire_Points</th>\n      <th>Wilderness_Area</th>\n      <th>Soil_Type</th>\n    </tr>\n  </thead>\n  <tbody>\n    <tr>\n      <th>0</th>\n      <td>2885</td>\n      <td>250</td>\n      <td>27</td>\n      <td>60</td>\n      <td>28</td>\n      <td>2624</td>\n      <td>153</td>\n      <td>247</td>\n      <td>225</td>\n      <td>972</td>\n      <td>Commanche</td>\n      <td>4758</td>\n    </tr>\n    <tr>\n      <th>1</th>\n      <td>2909</td>\n      <td>315</td>\n      <td>26</td>\n      <td>150</td>\n      <td>75</td>\n      <td>5465</td>\n      <td>141</td>\n      <td>208</td>\n      <td>202</td>\n      <td>4830</td>\n      <td>Rawah</td>\n      <td>7700</td>\n    </tr>\n    <tr>\n      <th>2</th>\n      <td>2717</td>\n      <td>69</td>\n      <td>23</td>\n      <td>153</td>\n      <td>68</td>\n      <td>1265</td>\n      <td>237</td>\n      <td>187</td>\n      <td>69</td>\n      <td>904</td>\n      <td>Commanche</td>\n      <td>4758</td>\n    </tr>\n    <tr>\n      <th>3</th>\n      <td>2652</td>\n      <td>61</td>\n      <td>12</td>\n      <td>376</td>\n      <td>24</td>\n      <td>400</td>\n      <td>230</td>\n      <td>215</td>\n      <td>117</td>\n      <td>1812</td>\n      <td>Rawah</td>\n      <td>4744</td>\n    </tr>\n    <tr>\n      <th>4</th>\n      <td>3189</td>\n      <td>351</td>\n      <td>16</td>\n      <td>365</td>\n      <td>83</td>\n      <td>1065</td>\n      <td>191</td>\n      <td>212</td>\n      <td>158</td>\n      <td>2056</td>\n      <td>Commanche</td>\n      <td>7201</td>\n    </tr>\n    <tr>\n      <th>...</th>\n      <td>...</td>\n      <td>...</td>\n      <td>...</td>\n      <td>...</td>\n      <td>...</td>\n      <td>...</td>\n      <td>...</td>\n      <td>...</td>\n      <td>...</td>\n      <td>...</td>\n      <td>...</td>\n      <td>...</td>\n    </tr>\n    <tr>\n      <th>17233</th>\n      <td>3132</td>\n      <td>93</td>\n      <td>17</td>\n      <td>424</td>\n      <td>-16</td>\n      <td>6030</td>\n      <td>245</td>\n      <td>212</td>\n      <td>90</td>\n      <td>1310</td>\n      <td>Rawah</td>\n      <td>7745</td>\n    </tr>\n    <tr>\n      <th>17234</th>\n      <td>3007</td>\n      <td>55</td>\n      <td>34</td>\n      <td>335</td>\n      <td>95</td>\n      <td>2038</td>\n      <td>219</td>\n      <td>149</td>\n      <td>37</td>\n      <td>1812</td>\n      <td>Commanche</td>\n      <td>7757</td>\n    </tr>\n    <tr>\n      <th>17235</th>\n      <td>2532</td>\n      <td>214</td>\n      <td>14</td>\n      <td>285</td>\n      <td>104</td>\n      <td>541</td>\n      <td>205</td>\n      <td>253</td>\n      <td>181</td>\n      <td>216</td>\n      <td>Cache</td>\n      <td>2717</td>\n    </tr>\n    <tr>\n      <th>17236</th>\n      <td>2744</td>\n      <td>53</td>\n      <td>9</td>\n      <td>255</td>\n      <td>79</td>\n      <td>2697</td>\n      <td>226</td>\n      <td>220</td>\n      <td>128</td>\n      <td>1140</td>\n      <td>Commanche</td>\n      <td>2703</td>\n    </tr>\n    <tr>\n      <th>17237</th>\n      <td>2913</td>\n      <td>338</td>\n      <td>8</td>\n      <td>108</td>\n      <td>13</td>\n      <td>4510</td>\n      <td>202</td>\n      <td>228</td>\n      <td>165</td>\n      <td>6007</td>\n      <td>Rawah</td>\n      <td>4744</td>\n    </tr>\n  </tbody>\n</table>\n<p>17238 rows × 12 columns</p>\n</div>"
     },
     "metadata": {},
     "execution_count": 82
    }
   ],
   "source": [
    "instances = []\n",
    "for row in rows:\n",
    "    raw_data = json.loads(row['raw_data'])\n",
    "    for instance in raw_data['instances']:\n",
    "        instances.append({column_name: value[0] \n",
    "            for column_name, value in instance.items()})\n",
    "\n",
    "df = pd.DataFrame(instances)\n",
    "df"
   ]
  },
  {
   "cell_type": "code",
   "execution_count": 87,
   "metadata": {},
   "outputs": [],
   "source": [
    "stats = tfdv.generate_statistics_from_dataframe(\n",
    "    dataframe=df\n",
    ")"
   ]
  },
  {
   "cell_type": "code",
   "execution_count": 88,
   "metadata": {},
   "outputs": [
    {
     "output_type": "display_data",
     "data": {
      "text/plain": "<IPython.core.display.HTML object>",
      "text/html": "<iframe id='facets-iframe' width=\"100%\" height=\"500px\"></iframe>\n        <script>\n        facets_iframe = document.getElementById('facets-iframe');\n        facets_html = '<script src=\"https://cdnjs.cloudflare.com/ajax/libs/webcomponentsjs/1.3.3/webcomponents-lite.js\"><\\/script><link rel=\"import\" href=\"https://raw.githubusercontent.com/PAIR-code/facets/master/facets-dist/facets-jupyter.html\"><facets-overview proto-input=\"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\"></facets-overview>';\n        facets_iframe.srcdoc = facets_html;\n         facets_iframe.id = \"\";\n         setTimeout(() => {\n           facets_iframe.setAttribute('height', facets_iframe.contentWindow.document.body.offsetHeight + 'px')\n         }, 1500)\n         </script>"
     },
     "metadata": {}
    }
   ],
   "source": [
    "tfdv.visualize_statistics(stats)"
   ]
  },
  {
   "cell_type": "code",
   "execution_count": 43,
   "metadata": {},
   "outputs": [
    {
     "output_type": "execute_result",
     "data": {
      "text/plain": "dict_keys(['Elevation', 'Aspect', 'Slope', 'Horizontal_Distance_To_Hydrology', 'Vertical_Distance_To_Hydrology', 'Horizontal_Distance_To_Roadways', 'Hillshade_9am', 'Hillshade_Noon', 'Hillshade_3pm', 'Horizontal_Distance_To_Fire_Points', 'Wilderness_Area', 'Soil_Type'])"
     },
     "metadata": {},
     "execution_count": 43
    }
   ],
   "source": [
    "raw_data_dict = json.loads(raw_data[0])\n",
    "feature_dict = raw_data_dict['instances'][0]\n",
    "columns"
   ]
  },
  {
   "cell_type": "code",
   "execution_count": 21,
   "metadata": {},
   "outputs": [
    {
     "output_type": "execute_result",
     "data": {
      "text/plain": "                        model model_version                      time  \\\n0     covertype_classifier_tf            v2 2020-05-15 00:15:00+00:00   \n1     covertype_classifier_tf            v2 2020-05-15 00:16:00+00:00   \n2     covertype_classifier_tf            v2 2020-05-15 00:17:00+00:00   \n3     covertype_classifier_tf            v2 2020-05-15 00:18:00+00:00   \n4     covertype_classifier_tf            v2 2020-05-15 00:19:00+00:00   \n...                       ...           ...                       ...   \n5741  covertype_classifier_tf            v2 2020-05-16 23:55:00+00:00   \n5742  covertype_classifier_tf            v2 2020-05-16 23:56:00+00:00   \n5743  covertype_classifier_tf            v2 2020-05-16 23:57:00+00:00   \n5744  covertype_classifier_tf            v2 2020-05-16 23:58:00+00:00   \n5745  covertype_classifier_tf            v2 2020-05-16 23:59:00+00:00   \n\n                                               raw_data  \\\n0     {\"instances\": [{\"Elevation\": [2814], \"Aspect\":...   \n1     {\"instances\": [{\"Elevation\": [3305], \"Aspect\":...   \n2     {\"instances\": [{\"Elevation\": [3175], \"Aspect\":...   \n3     {\"instances\": [{\"Elevation\": [3195], \"Aspect\":...   \n4     {\"instances\": [{\"Elevation\": [2782], \"Aspect\":...   \n...                                                 ...   \n5741  {\"instances\": [{\"Elevation\": [2912], \"Aspect\":...   \n5742  {\"instances\": [{\"Elevation\": [2925], \"Aspect\":...   \n5743  {\"instances\": [{\"Elevation\": [3257], \"Aspect\":...   \n5744  {\"instances\": [{\"Elevation\": [3054], \"Aspect\":...   \n5745  {\"instances\": [{\"Elevation\": [2803], \"Aspect\":...   \n\n                                         raw_prediction groundtruth  \n0     {\\n    \"predictions\": [[0.467300355, 0.5288516...        None  \n1     {\\n    \"predictions\": [[0.0720900595, 3.621145...        None  \n2     {\\n    \"predictions\": [[0.995114565, 0.0048643...        None  \n3     {\\n    \"predictions\": [[0.795716882, 0.2021486...        None  \n4     {\\n    \"predictions\": [[0.008903821, 0.4464142...        None  \n...                                                 ...         ...  \n5741  {\\n    \"predictions\": [[0.398688287, 0.6005383...        None  \n5742  {\\n    \"predictions\": [[0.481690377, 0.4850754...        None  \n5743  {\\n    \"predictions\": [[0.38911131, 0.00070537...        None  \n5744  {\\n    \"predictions\": [[0.803099036, 0.1966052...        None  \n5745  {\\n    \"predictions\": [[0.0347076245, 0.890656...        None  \n\n[5746 rows x 6 columns]",
      "text/html": "<div>\n<style scoped>\n    .dataframe tbody tr th:only-of-type {\n        vertical-align: middle;\n    }\n\n    .dataframe tbody tr th {\n        vertical-align: top;\n    }\n\n    .dataframe thead th {\n        text-align: right;\n    }\n</style>\n<table border=\"1\" class=\"dataframe\">\n  <thead>\n    <tr style=\"text-align: right;\">\n      <th></th>\n      <th>model</th>\n      <th>model_version</th>\n      <th>time</th>\n      <th>raw_data</th>\n      <th>raw_prediction</th>\n      <th>groundtruth</th>\n    </tr>\n  </thead>\n  <tbody>\n    <tr>\n      <th>0</th>\n      <td>covertype_classifier_tf</td>\n      <td>v2</td>\n      <td>2020-05-15 00:15:00+00:00</td>\n      <td>{\"instances\": [{\"Elevation\": [2814], \"Aspect\":...</td>\n      <td>{\\n    \"predictions\": [[0.467300355, 0.5288516...</td>\n      <td>None</td>\n    </tr>\n    <tr>\n      <th>1</th>\n      <td>covertype_classifier_tf</td>\n      <td>v2</td>\n      <td>2020-05-15 00:16:00+00:00</td>\n      <td>{\"instances\": [{\"Elevation\": [3305], \"Aspect\":...</td>\n      <td>{\\n    \"predictions\": [[0.0720900595, 3.621145...</td>\n      <td>None</td>\n    </tr>\n    <tr>\n      <th>2</th>\n      <td>covertype_classifier_tf</td>\n      <td>v2</td>\n      <td>2020-05-15 00:17:00+00:00</td>\n      <td>{\"instances\": [{\"Elevation\": [3175], \"Aspect\":...</td>\n      <td>{\\n    \"predictions\": [[0.995114565, 0.0048643...</td>\n      <td>None</td>\n    </tr>\n    <tr>\n      <th>3</th>\n      <td>covertype_classifier_tf</td>\n      <td>v2</td>\n      <td>2020-05-15 00:18:00+00:00</td>\n      <td>{\"instances\": [{\"Elevation\": [3195], \"Aspect\":...</td>\n      <td>{\\n    \"predictions\": [[0.795716882, 0.2021486...</td>\n      <td>None</td>\n    </tr>\n    <tr>\n      <th>4</th>\n      <td>covertype_classifier_tf</td>\n      <td>v2</td>\n      <td>2020-05-15 00:19:00+00:00</td>\n      <td>{\"instances\": [{\"Elevation\": [2782], \"Aspect\":...</td>\n      <td>{\\n    \"predictions\": [[0.008903821, 0.4464142...</td>\n      <td>None</td>\n    </tr>\n    <tr>\n      <th>...</th>\n      <td>...</td>\n      <td>...</td>\n      <td>...</td>\n      <td>...</td>\n      <td>...</td>\n      <td>...</td>\n    </tr>\n    <tr>\n      <th>5741</th>\n      <td>covertype_classifier_tf</td>\n      <td>v2</td>\n      <td>2020-05-16 23:55:00+00:00</td>\n      <td>{\"instances\": [{\"Elevation\": [2912], \"Aspect\":...</td>\n      <td>{\\n    \"predictions\": [[0.398688287, 0.6005383...</td>\n      <td>None</td>\n    </tr>\n    <tr>\n      <th>5742</th>\n      <td>covertype_classifier_tf</td>\n      <td>v2</td>\n      <td>2020-05-16 23:56:00+00:00</td>\n      <td>{\"instances\": [{\"Elevation\": [2925], \"Aspect\":...</td>\n      <td>{\\n    \"predictions\": [[0.481690377, 0.4850754...</td>\n      <td>None</td>\n    </tr>\n    <tr>\n      <th>5743</th>\n      <td>covertype_classifier_tf</td>\n      <td>v2</td>\n      <td>2020-05-16 23:57:00+00:00</td>\n      <td>{\"instances\": [{\"Elevation\": [3257], \"Aspect\":...</td>\n      <td>{\\n    \"predictions\": [[0.38911131, 0.00070537...</td>\n      <td>None</td>\n    </tr>\n    <tr>\n      <th>5744</th>\n      <td>covertype_classifier_tf</td>\n      <td>v2</td>\n      <td>2020-05-16 23:58:00+00:00</td>\n      <td>{\"instances\": [{\"Elevation\": [3054], \"Aspect\":...</td>\n      <td>{\\n    \"predictions\": [[0.803099036, 0.1966052...</td>\n      <td>None</td>\n    </tr>\n    <tr>\n      <th>5745</th>\n      <td>covertype_classifier_tf</td>\n      <td>v2</td>\n      <td>2020-05-16 23:59:00+00:00</td>\n      <td>{\"instances\": [{\"Elevation\": [2803], \"Aspect\":...</td>\n      <td>{\\n    \"predictions\": [[0.0347076245, 0.890656...</td>\n      <td>None</td>\n    </tr>\n  </tbody>\n</table>\n<p>5746 rows × 6 columns</p>\n</div>"
     },
     "metadata": {},
     "execution_count": 21
    }
   ],
   "source": [
    "for row in df.iterrows():\n",
    "    "
   ]
  },
  {
   "cell_type": "code",
   "execution_count": 59,
   "metadata": {
    "tags": [
     "outputPrepend",
     "outputPrepend",
     "outputPrepend",
     "outputPrepend",
     "outputPrepend",
     "outputPrepend",
     "outputPrepend",
     "outputPrepend",
     "outputPrepend",
     "outputPrepend",
     "outputPrepend",
     "outputPrepend",
     "outputPrepend",
     "outputPrepend",
     "outputPrepend"
    ]
   },
   "outputs": [],
   "source": [
    "statistics_proto_list = statistics_pb2.DatasetFeatureStatisticsList()\n",
    "for folder in tf.io.gfile.listdir(drift_reports_path):\n",
    "    statistics_proto = tfdv.load_statistics(\n",
    "        '{}/{}{}'.format(drift_reports_path, folder, 'stats.pb'))\n",
    "    new_stats_proto = statistics_proto_list.datasets.add()\n",
    "    new_stats_proto.CopyFrom(statistics_proto.datasets[0])\n",
    "    new_stats_proto.name = folder[:-1]\n",
    "\n",
    "tfdv.write_stats_text(statistics_proto_list, aggregated_statistics_path)"
   ]
  },
  {
   "cell_type": "code",
   "execution_count": 111,
   "metadata": {},
   "outputs": [],
   "source": [
    "class StatsSeries():\n",
    "    def __init__(self, stats_proto_list):\n",
    "        self._stats_proto_list = stats_proto_list\n",
    "\n",
    "    def get_feature_means(self, feature_index):\n",
    "        list_of_means = {\n",
    "             dataset.name[0:16]: dataset.features[feature_index].num_stats.mean\n",
    "             for dataset in self._stats_proto_list.datasets}\n",
    "        \n",
    "        return list_of_means\n"
   ]
  },
  {
   "cell_type": "code",
   "execution_count": 112,
   "metadata": {},
   "outputs": [],
   "source": [
    "aggregated_statistics = tfdv.load_stats_text(aggregated_statistics_path)\n",
    "stats_series = StatsSeries(aggregated_statistics)"
   ]
  },
  {
   "cell_type": "code",
   "execution_count": 115,
   "metadata": {},
   "outputs": [
    {
     "output_type": "execute_result",
     "data": {
      "text/plain": "dict_keys(['2020-05-18T19:07', '2020-05-18T20:07', '2020-05-18T21:07', '2020-05-18T22:07', '2020-05-18T23:07', '2020-05-19T00:07', '2020-05-19T01:07', '2020-05-19T02:07', '2020-05-19T05:07', '2020-05-19T06:07', '2020-05-19T07:07', '2020-05-19T08:07', '2020-05-19T09:07', '2020-05-19T10:07', '2020-05-19T11:07', '2020-05-19T12:07', '2020-05-19T13:07', '2020-05-19T14:07', '2020-05-19T15:07'])"
     },
     "metadata": {},
     "execution_count": 115
    }
   ],
   "source": [
    "feature_mean_series = stats_series.get_feature_means(0)\n",
    "feature_mean_series.keys()"
   ]
  },
  {
   "cell_type": "raw",
   "metadata": {},
   "source": [
    "schema_path = 'schema.pbtxt'\n",
    "schema = tfdv.load_schema_text(schema_path)"
   ]
  },
  {
   "cell_type": "code",
   "execution_count": 116,
   "metadata": {},
   "outputs": [
    {
     "output_type": "execute_result",
     "data": {
      "text/plain": "<matplotlib.axes._subplots.AxesSubplot at 0x7f224c31b690>"
     },
     "metadata": {},
     "execution_count": 116
    },
    {
     "output_type": "display_data",
     "data": {
      "text/plain": "<Figure size 432x288 with 1 Axes>",
      "image/svg+xml": "<?xml version=\"1.0\" encoding=\"utf-8\" standalone=\"no\"?>\n<!DOCTYPE svg PUBLIC \"-//W3C//DTD SVG 1.1//EN\"\n  \"http://www.w3.org/Graphics/SVG/1.1/DTD/svg11.dtd\">\n<!-- Created with matplotlib (https://matplotlib.org/) -->\n<svg height=\"248.518125pt\" version=\"1.1\" viewBox=\"0 0 424.621135 248.518125\" width=\"424.621135pt\" xmlns=\"http://www.w3.org/2000/svg\" xmlns:xlink=\"http://www.w3.org/1999/xlink\">\n <defs>\n  <style type=\"text/css\">\n*{stroke-linecap:butt;stroke-linejoin:round;}\n  </style>\n </defs>\n <g id=\"figure_1\">\n  <g id=\"patch_1\">\n   <path d=\"M 0 248.518125 \nL 424.621135 248.518125 \nL 424.621135 0 \nL 0 0 \nz\n\" style=\"fill:none;\"/>\n  </g>\n  <g id=\"axes_1\">\n   <g id=\"patch_2\">\n    <path d=\"M 44.910567 224.64 \nL 379.710567 224.64 \nL 379.710567 7.2 \nL 44.910567 7.2 \nz\n\" style=\"fill:#ffffff;\"/>\n   </g>\n   <g id=\"patch_3\">\n    <path clip-path=\"url(#p8f131793df)\" d=\"M 46.672673 224.64 \nL 60.769515 224.64 \nL 60.769515 214.826092 \nL 46.672673 214.826092 \nz\n\" style=\"fill:#2020df;\"/>\n   </g>\n   <g id=\"patch_4\">\n    <path clip-path=\"url(#p8f131793df)\" d=\"M 64.293725 224.64 \nL 78.390567 224.64 \nL 78.390567 18.423781 \nL 64.293725 18.423781 \nz\n\" style=\"fill:#2020df;\"/>\n   </g>\n   <g id=\"patch_5\">\n    <path clip-path=\"url(#p8f131793df)\" d=\"M 81.914778 224.64 \nL 96.01162 224.64 \nL 96.01162 223.605975 \nL 81.914778 223.605975 \nz\n\" style=\"fill:#2020df;\"/>\n   </g>\n   <g id=\"patch_6\">\n    <path clip-path=\"url(#p8f131793df)\" d=\"M 99.535831 224.64 \nL 113.632673 224.64 \nL 113.632673 221.748157 \nL 99.535831 221.748157 \nz\n\" style=\"fill:#2020df;\"/>\n   </g>\n   <g id=\"patch_7\">\n    <path clip-path=\"url(#p8f131793df)\" d=\"M 117.156883 224.64 \nL 131.253725 224.64 \nL 131.253725 205.624221 \nL 117.156883 205.624221 \nz\n\" style=\"fill:#2020df;\"/>\n   </g>\n   <g id=\"patch_8\">\n    <path clip-path=\"url(#p8f131793df)\" d=\"M 134.777936 224.64 \nL 148.874778 224.64 \nL 148.874778 223.620828 \nL 134.777936 223.620828 \nz\n\" style=\"fill:#2020df;\"/>\n   </g>\n   <g id=\"patch_9\">\n    <path clip-path=\"url(#p8f131793df)\" d=\"M 152.398988 224.64 \nL 166.495831 224.64 \nL 166.495831 209.182181 \nL 152.398988 209.182181 \nz\n\" style=\"fill:#2020df;\"/>\n   </g>\n   <g id=\"patch_10\">\n    <path clip-path=\"url(#p8f131793df)\" d=\"M 170.020041 224.64 \nL 184.116883 224.64 \nL 184.116883 214.253284 \nL 170.020041 214.253284 \nz\n\" style=\"fill:#2020df;\"/>\n   </g>\n   <g id=\"patch_11\">\n    <path clip-path=\"url(#p8f131793df)\" d=\"M 187.641094 224.64 \nL 201.737936 224.64 \nL 201.737936 221.114793 \nL 187.641094 221.114793 \nz\n\" style=\"fill:#2020df;\"/>\n   </g>\n   <g id=\"patch_12\">\n    <path clip-path=\"url(#p8f131793df)\" d=\"M 205.262146 224.64 \nL 219.358988 224.64 \nL 219.358988 213.91356 \nL 205.262146 213.91356 \nz\n\" style=\"fill:#2020df;\"/>\n   </g>\n   <g id=\"patch_13\">\n    <path clip-path=\"url(#p8f131793df)\" d=\"M 222.883199 224.64 \nL 236.980041 224.64 \nL 236.980041 224.64 \nL 222.883199 224.64 \nz\n\" style=\"fill:#2020df;\"/>\n   </g>\n   <g id=\"patch_14\">\n    <path clip-path=\"url(#p8f131793df)\" d=\"M 240.504252 224.64 \nL 254.601094 224.64 \nL 254.601094 209.953797 \nL 240.504252 209.953797 \nz\n\" style=\"fill:#2020df;\"/>\n   </g>\n   <g id=\"patch_15\">\n    <path clip-path=\"url(#p8f131793df)\" d=\"M 258.125304 224.64 \nL 272.222146 224.64 \nL 272.222146 61.714204 \nL 258.125304 61.714204 \nz\n\" style=\"fill:#2020df;\"/>\n   </g>\n   <g id=\"patch_16\">\n    <path clip-path=\"url(#p8f131793df)\" d=\"M 275.746357 224.64 \nL 289.843199 224.64 \nL 289.843199 209.054975 \nL 275.746357 209.054975 \nz\n\" style=\"fill:#2020df;\"/>\n   </g>\n   <g id=\"patch_17\">\n    <path clip-path=\"url(#p8f131793df)\" d=\"M 293.36741 224.64 \nL 307.464252 224.64 \nL 307.464252 17.554286 \nL 293.36741 17.554286 \nz\n\" style=\"fill:#2020df;\"/>\n   </g>\n   <g id=\"patch_18\">\n    <path clip-path=\"url(#p8f131793df)\" d=\"M 310.988462 224.64 \nL 325.085304 224.64 \nL 325.085304 19.644045 \nL 310.988462 19.644045 \nz\n\" style=\"fill:#2020df;\"/>\n   </g>\n   <g id=\"patch_19\">\n    <path clip-path=\"url(#p8f131793df)\" d=\"M 328.609515 224.64 \nL 342.706357 224.64 \nL 342.706357 85.387476 \nL 328.609515 85.387476 \nz\n\" style=\"fill:#2020df;\"/>\n   </g>\n   <g id=\"patch_20\">\n    <path clip-path=\"url(#p8f131793df)\" d=\"M 346.230567 224.64 \nL 360.32741 224.64 \nL 360.32741 19.404105 \nL 346.230567 19.404105 \nz\n\" style=\"fill:#2020df;\"/>\n   </g>\n   <g id=\"patch_21\">\n    <path clip-path=\"url(#p8f131793df)\" d=\"M 363.85162 224.64 \nL 377.948462 224.64 \nL 377.948462 224.64 \nL 363.85162 224.64 \nz\n\" style=\"fill:#2020df;\"/>\n   </g>\n   <g id=\"matplotlib.axis_1\">\n    <g id=\"xtick_1\">\n     <g id=\"line2d_1\">\n      <defs>\n       <path d=\"M 0 0 \nL 0 3.5 \n\" id=\"m15f5c964fc\" style=\"stroke:#000000;stroke-width:0.8;\"/>\n      </defs>\n      <g>\n       <use style=\"stroke:#000000;stroke-width:0.8;\" x=\"53.721094\" xlink:href=\"#m15f5c964fc\" y=\"224.64\"/>\n      </g>\n     </g>\n     <g id=\"text_1\">\n      <!-- 2020-05-18T19:07 -->\n      <defs>\n       <path d=\"M 19.1875 8.296875 \nL 53.609375 8.296875 \nL 53.609375 0 \nL 7.328125 0 \nL 7.328125 8.296875 \nQ 12.9375 14.109375 22.625 23.890625 \nQ 32.328125 33.6875 34.8125 36.53125 \nQ 39.546875 41.84375 41.421875 45.53125 \nQ 43.3125 49.21875 43.3125 52.78125 \nQ 43.3125 58.59375 39.234375 62.25 \nQ 35.15625 65.921875 28.609375 65.921875 \nQ 23.96875 65.921875 18.8125 64.3125 \nQ 13.671875 62.703125 7.8125 59.421875 \nL 7.8125 69.390625 \nQ 13.765625 71.78125 18.9375 73 \nQ 24.125 74.21875 28.421875 74.21875 \nQ 39.75 74.21875 46.484375 68.546875 \nQ 53.21875 62.890625 53.21875 53.421875 \nQ 53.21875 48.921875 51.53125 44.890625 \nQ 49.859375 40.875 45.40625 35.40625 \nQ 44.1875 33.984375 37.640625 27.21875 \nQ 31.109375 20.453125 19.1875 8.296875 \nz\n\" id=\"DejaVuSans-50\"/>\n       <path d=\"M 31.78125 66.40625 \nQ 24.171875 66.40625 20.328125 58.90625 \nQ 16.5 51.421875 16.5 36.375 \nQ 16.5 21.390625 20.328125 13.890625 \nQ 24.171875 6.390625 31.78125 6.390625 \nQ 39.453125 6.390625 43.28125 13.890625 \nQ 47.125 21.390625 47.125 36.375 \nQ 47.125 51.421875 43.28125 58.90625 \nQ 39.453125 66.40625 31.78125 66.40625 \nz\nM 31.78125 74.21875 \nQ 44.046875 74.21875 50.515625 64.515625 \nQ 56.984375 54.828125 56.984375 36.375 \nQ 56.984375 17.96875 50.515625 8.265625 \nQ 44.046875 -1.421875 31.78125 -1.421875 \nQ 19.53125 -1.421875 13.0625 8.265625 \nQ 6.59375 17.96875 6.59375 36.375 \nQ 6.59375 54.828125 13.0625 64.515625 \nQ 19.53125 74.21875 31.78125 74.21875 \nz\n\" id=\"DejaVuSans-48\"/>\n       <path d=\"M 4.890625 31.390625 \nL 31.203125 31.390625 \nL 31.203125 23.390625 \nL 4.890625 23.390625 \nz\n\" id=\"DejaVuSans-45\"/>\n       <path d=\"M 10.796875 72.90625 \nL 49.515625 72.90625 \nL 49.515625 64.59375 \nL 19.828125 64.59375 \nL 19.828125 46.734375 \nQ 21.96875 47.46875 24.109375 47.828125 \nQ 26.265625 48.1875 28.421875 48.1875 \nQ 40.625 48.1875 47.75 41.5 \nQ 54.890625 34.8125 54.890625 23.390625 \nQ 54.890625 11.625 47.5625 5.09375 \nQ 40.234375 -1.421875 26.90625 -1.421875 \nQ 22.3125 -1.421875 17.546875 -0.640625 \nQ 12.796875 0.140625 7.71875 1.703125 \nL 7.71875 11.625 \nQ 12.109375 9.234375 16.796875 8.0625 \nQ 21.484375 6.890625 26.703125 6.890625 \nQ 35.15625 6.890625 40.078125 11.328125 \nQ 45.015625 15.765625 45.015625 23.390625 \nQ 45.015625 31 40.078125 35.4375 \nQ 35.15625 39.890625 26.703125 39.890625 \nQ 22.75 39.890625 18.8125 39.015625 \nQ 14.890625 38.140625 10.796875 36.28125 \nz\n\" id=\"DejaVuSans-53\"/>\n       <path d=\"M 12.40625 8.296875 \nL 28.515625 8.296875 \nL 28.515625 63.921875 \nL 10.984375 60.40625 \nL 10.984375 69.390625 \nL 28.421875 72.90625 \nL 38.28125 72.90625 \nL 38.28125 8.296875 \nL 54.390625 8.296875 \nL 54.390625 0 \nL 12.40625 0 \nz\n\" id=\"DejaVuSans-49\"/>\n       <path d=\"M 31.78125 34.625 \nQ 24.75 34.625 20.71875 30.859375 \nQ 16.703125 27.09375 16.703125 20.515625 \nQ 16.703125 13.921875 20.71875 10.15625 \nQ 24.75 6.390625 31.78125 6.390625 \nQ 38.8125 6.390625 42.859375 10.171875 \nQ 46.921875 13.96875 46.921875 20.515625 \nQ 46.921875 27.09375 42.890625 30.859375 \nQ 38.875 34.625 31.78125 34.625 \nz\nM 21.921875 38.8125 \nQ 15.578125 40.375 12.03125 44.71875 \nQ 8.5 49.078125 8.5 55.328125 \nQ 8.5 64.0625 14.71875 69.140625 \nQ 20.953125 74.21875 31.78125 74.21875 \nQ 42.671875 74.21875 48.875 69.140625 \nQ 55.078125 64.0625 55.078125 55.328125 \nQ 55.078125 49.078125 51.53125 44.71875 \nQ 48 40.375 41.703125 38.8125 \nQ 48.828125 37.15625 52.796875 32.3125 \nQ 56.78125 27.484375 56.78125 20.515625 \nQ 56.78125 9.90625 50.3125 4.234375 \nQ 43.84375 -1.421875 31.78125 -1.421875 \nQ 19.734375 -1.421875 13.25 4.234375 \nQ 6.78125 9.90625 6.78125 20.515625 \nQ 6.78125 27.484375 10.78125 32.3125 \nQ 14.796875 37.15625 21.921875 38.8125 \nz\nM 18.3125 54.390625 \nQ 18.3125 48.734375 21.84375 45.5625 \nQ 25.390625 42.390625 31.78125 42.390625 \nQ 38.140625 42.390625 41.71875 45.5625 \nQ 45.3125 48.734375 45.3125 54.390625 \nQ 45.3125 60.0625 41.71875 63.234375 \nQ 38.140625 66.40625 31.78125 66.40625 \nQ 25.390625 66.40625 21.84375 63.234375 \nQ 18.3125 60.0625 18.3125 54.390625 \nz\n\" id=\"DejaVuSans-56\"/>\n       <path d=\"M -0.296875 72.90625 \nL 61.375 72.90625 \nL 61.375 64.59375 \nL 35.5 64.59375 \nL 35.5 0 \nL 25.59375 0 \nL 25.59375 64.59375 \nL -0.296875 64.59375 \nz\n\" id=\"DejaVuSans-84\"/>\n       <path d=\"M 10.984375 1.515625 \nL 10.984375 10.5 \nQ 14.703125 8.734375 18.5 7.8125 \nQ 22.3125 6.890625 25.984375 6.890625 \nQ 35.75 6.890625 40.890625 13.453125 \nQ 46.046875 20.015625 46.78125 33.40625 \nQ 43.953125 29.203125 39.59375 26.953125 \nQ 35.25 24.703125 29.984375 24.703125 \nQ 19.046875 24.703125 12.671875 31.3125 \nQ 6.296875 37.9375 6.296875 49.421875 \nQ 6.296875 60.640625 12.9375 67.421875 \nQ 19.578125 74.21875 30.609375 74.21875 \nQ 43.265625 74.21875 49.921875 64.515625 \nQ 56.59375 54.828125 56.59375 36.375 \nQ 56.59375 19.140625 48.40625 8.859375 \nQ 40.234375 -1.421875 26.421875 -1.421875 \nQ 22.703125 -1.421875 18.890625 -0.6875 \nQ 15.09375 0.046875 10.984375 1.515625 \nz\nM 30.609375 32.421875 \nQ 37.25 32.421875 41.125 36.953125 \nQ 45.015625 41.5 45.015625 49.421875 \nQ 45.015625 57.28125 41.125 61.84375 \nQ 37.25 66.40625 30.609375 66.40625 \nQ 23.96875 66.40625 20.09375 61.84375 \nQ 16.21875 57.28125 16.21875 49.421875 \nQ 16.21875 41.5 20.09375 36.953125 \nQ 23.96875 32.421875 30.609375 32.421875 \nz\n\" id=\"DejaVuSans-57\"/>\n       <path d=\"M 11.71875 12.40625 \nL 22.015625 12.40625 \nL 22.015625 0 \nL 11.71875 0 \nz\nM 11.71875 51.703125 \nL 22.015625 51.703125 \nL 22.015625 39.3125 \nL 11.71875 39.3125 \nz\n\" id=\"DejaVuSans-58\"/>\n       <path d=\"M 8.203125 72.90625 \nL 55.078125 72.90625 \nL 55.078125 68.703125 \nL 28.609375 0 \nL 18.3125 0 \nL 43.21875 64.59375 \nL 8.203125 64.59375 \nz\n\" id=\"DejaVuSans-55\"/>\n      </defs>\n      <g transform=\"translate(7.2 239.238437)scale(0.1 -0.1)\">\n       <use xlink:href=\"#DejaVuSans-50\"/>\n       <use x=\"63.623047\" xlink:href=\"#DejaVuSans-48\"/>\n       <use x=\"127.246094\" xlink:href=\"#DejaVuSans-50\"/>\n       <use x=\"190.869141\" xlink:href=\"#DejaVuSans-48\"/>\n       <use x=\"254.492188\" xlink:href=\"#DejaVuSans-45\"/>\n       <use x=\"290.576172\" xlink:href=\"#DejaVuSans-48\"/>\n       <use x=\"354.199219\" xlink:href=\"#DejaVuSans-53\"/>\n       <use x=\"417.822266\" xlink:href=\"#DejaVuSans-45\"/>\n       <use x=\"453.90625\" xlink:href=\"#DejaVuSans-49\"/>\n       <use x=\"517.529297\" xlink:href=\"#DejaVuSans-56\"/>\n       <use x=\"581.152344\" xlink:href=\"#DejaVuSans-84\"/>\n       <use x=\"642.236328\" xlink:href=\"#DejaVuSans-49\"/>\n       <use x=\"705.859375\" xlink:href=\"#DejaVuSans-57\"/>\n       <use x=\"769.482422\" xlink:href=\"#DejaVuSans-58\"/>\n       <use x=\"803.173828\" xlink:href=\"#DejaVuSans-48\"/>\n       <use x=\"866.796875\" xlink:href=\"#DejaVuSans-55\"/>\n      </g>\n     </g>\n    </g>\n    <g id=\"xtick_2\">\n     <g id=\"line2d_2\">\n      <g>\n       <use style=\"stroke:#000000;stroke-width:0.8;\" x=\"71.342146\" xlink:href=\"#m15f5c964fc\" y=\"224.64\"/>\n      </g>\n     </g>\n     <g id=\"text_2\">\n      <!-- 2020-05-18T20:07 -->\n      <g transform=\"translate(24.821053 239.238437)scale(0.1 -0.1)\">\n       <use xlink:href=\"#DejaVuSans-50\"/>\n       <use x=\"63.623047\" xlink:href=\"#DejaVuSans-48\"/>\n       <use x=\"127.246094\" xlink:href=\"#DejaVuSans-50\"/>\n       <use x=\"190.869141\" xlink:href=\"#DejaVuSans-48\"/>\n       <use x=\"254.492188\" xlink:href=\"#DejaVuSans-45\"/>\n       <use x=\"290.576172\" xlink:href=\"#DejaVuSans-48\"/>\n       <use x=\"354.199219\" xlink:href=\"#DejaVuSans-53\"/>\n       <use x=\"417.822266\" xlink:href=\"#DejaVuSans-45\"/>\n       <use x=\"453.90625\" xlink:href=\"#DejaVuSans-49\"/>\n       <use x=\"517.529297\" xlink:href=\"#DejaVuSans-56\"/>\n       <use x=\"581.152344\" xlink:href=\"#DejaVuSans-84\"/>\n       <use x=\"642.236328\" xlink:href=\"#DejaVuSans-50\"/>\n       <use x=\"705.859375\" xlink:href=\"#DejaVuSans-48\"/>\n       <use x=\"769.482422\" xlink:href=\"#DejaVuSans-58\"/>\n       <use x=\"803.173828\" xlink:href=\"#DejaVuSans-48\"/>\n       <use x=\"866.796875\" xlink:href=\"#DejaVuSans-55\"/>\n      </g>\n     </g>\n    </g>\n    <g id=\"xtick_3\">\n     <g id=\"line2d_3\">\n      <g>\n       <use style=\"stroke:#000000;stroke-width:0.8;\" x=\"88.963199\" xlink:href=\"#m15f5c964fc\" y=\"224.64\"/>\n      </g>\n     </g>\n     <g id=\"text_3\">\n      <!-- 2020-05-18T21:07 -->\n      <g transform=\"translate(42.442105 239.238437)scale(0.1 -0.1)\">\n       <use xlink:href=\"#DejaVuSans-50\"/>\n       <use x=\"63.623047\" xlink:href=\"#DejaVuSans-48\"/>\n       <use x=\"127.246094\" xlink:href=\"#DejaVuSans-50\"/>\n       <use x=\"190.869141\" xlink:href=\"#DejaVuSans-48\"/>\n       <use x=\"254.492188\" xlink:href=\"#DejaVuSans-45\"/>\n       <use x=\"290.576172\" xlink:href=\"#DejaVuSans-48\"/>\n       <use x=\"354.199219\" xlink:href=\"#DejaVuSans-53\"/>\n       <use x=\"417.822266\" xlink:href=\"#DejaVuSans-45\"/>\n       <use x=\"453.90625\" xlink:href=\"#DejaVuSans-49\"/>\n       <use x=\"517.529297\" xlink:href=\"#DejaVuSans-56\"/>\n       <use x=\"581.152344\" xlink:href=\"#DejaVuSans-84\"/>\n       <use x=\"642.236328\" xlink:href=\"#DejaVuSans-50\"/>\n       <use x=\"705.859375\" xlink:href=\"#DejaVuSans-49\"/>\n       <use x=\"769.482422\" xlink:href=\"#DejaVuSans-58\"/>\n       <use x=\"803.173828\" xlink:href=\"#DejaVuSans-48\"/>\n       <use x=\"866.796875\" xlink:href=\"#DejaVuSans-55\"/>\n      </g>\n     </g>\n    </g>\n    <g id=\"xtick_4\">\n     <g id=\"line2d_4\">\n      <g>\n       <use style=\"stroke:#000000;stroke-width:0.8;\" x=\"106.584252\" xlink:href=\"#m15f5c964fc\" y=\"224.64\"/>\n      </g>\n     </g>\n     <g id=\"text_4\">\n      <!-- 2020-05-18T22:07 -->\n      <g transform=\"translate(60.063158 239.238437)scale(0.1 -0.1)\">\n       <use xlink:href=\"#DejaVuSans-50\"/>\n       <use x=\"63.623047\" xlink:href=\"#DejaVuSans-48\"/>\n       <use x=\"127.246094\" xlink:href=\"#DejaVuSans-50\"/>\n       <use x=\"190.869141\" xlink:href=\"#DejaVuSans-48\"/>\n       <use x=\"254.492188\" xlink:href=\"#DejaVuSans-45\"/>\n       <use x=\"290.576172\" xlink:href=\"#DejaVuSans-48\"/>\n       <use x=\"354.199219\" xlink:href=\"#DejaVuSans-53\"/>\n       <use x=\"417.822266\" xlink:href=\"#DejaVuSans-45\"/>\n       <use x=\"453.90625\" xlink:href=\"#DejaVuSans-49\"/>\n       <use x=\"517.529297\" xlink:href=\"#DejaVuSans-56\"/>\n       <use x=\"581.152344\" xlink:href=\"#DejaVuSans-84\"/>\n       <use x=\"642.236328\" xlink:href=\"#DejaVuSans-50\"/>\n       <use x=\"705.859375\" xlink:href=\"#DejaVuSans-50\"/>\n       <use x=\"769.482422\" xlink:href=\"#DejaVuSans-58\"/>\n       <use x=\"803.173828\" xlink:href=\"#DejaVuSans-48\"/>\n       <use x=\"866.796875\" xlink:href=\"#DejaVuSans-55\"/>\n      </g>\n     </g>\n    </g>\n    <g id=\"xtick_5\">\n     <g id=\"line2d_5\">\n      <g>\n       <use style=\"stroke:#000000;stroke-width:0.8;\" x=\"124.205304\" xlink:href=\"#m15f5c964fc\" y=\"224.64\"/>\n      </g>\n     </g>\n     <g id=\"text_5\">\n      <!-- 2020-05-18T23:07 -->\n      <defs>\n       <path d=\"M 40.578125 39.3125 \nQ 47.65625 37.796875 51.625 33 \nQ 55.609375 28.21875 55.609375 21.1875 \nQ 55.609375 10.40625 48.1875 4.484375 \nQ 40.765625 -1.421875 27.09375 -1.421875 \nQ 22.515625 -1.421875 17.65625 -0.515625 \nQ 12.796875 0.390625 7.625 2.203125 \nL 7.625 11.71875 \nQ 11.71875 9.328125 16.59375 8.109375 \nQ 21.484375 6.890625 26.8125 6.890625 \nQ 36.078125 6.890625 40.9375 10.546875 \nQ 45.796875 14.203125 45.796875 21.1875 \nQ 45.796875 27.640625 41.28125 31.265625 \nQ 36.765625 34.90625 28.71875 34.90625 \nL 20.21875 34.90625 \nL 20.21875 43.015625 \nL 29.109375 43.015625 \nQ 36.375 43.015625 40.234375 45.921875 \nQ 44.09375 48.828125 44.09375 54.296875 \nQ 44.09375 59.90625 40.109375 62.90625 \nQ 36.140625 65.921875 28.71875 65.921875 \nQ 24.65625 65.921875 20.015625 65.03125 \nQ 15.375 64.15625 9.8125 62.3125 \nL 9.8125 71.09375 \nQ 15.4375 72.65625 20.34375 73.4375 \nQ 25.25 74.21875 29.59375 74.21875 \nQ 40.828125 74.21875 47.359375 69.109375 \nQ 53.90625 64.015625 53.90625 55.328125 \nQ 53.90625 49.265625 50.4375 45.09375 \nQ 46.96875 40.921875 40.578125 39.3125 \nz\n\" id=\"DejaVuSans-51\"/>\n      </defs>\n      <g transform=\"translate(77.684211 239.238437)scale(0.1 -0.1)\">\n       <use xlink:href=\"#DejaVuSans-50\"/>\n       <use x=\"63.623047\" xlink:href=\"#DejaVuSans-48\"/>\n       <use x=\"127.246094\" xlink:href=\"#DejaVuSans-50\"/>\n       <use x=\"190.869141\" xlink:href=\"#DejaVuSans-48\"/>\n       <use x=\"254.492188\" xlink:href=\"#DejaVuSans-45\"/>\n       <use x=\"290.576172\" xlink:href=\"#DejaVuSans-48\"/>\n       <use x=\"354.199219\" xlink:href=\"#DejaVuSans-53\"/>\n       <use x=\"417.822266\" xlink:href=\"#DejaVuSans-45\"/>\n       <use x=\"453.90625\" xlink:href=\"#DejaVuSans-49\"/>\n       <use x=\"517.529297\" xlink:href=\"#DejaVuSans-56\"/>\n       <use x=\"581.152344\" xlink:href=\"#DejaVuSans-84\"/>\n       <use x=\"642.236328\" xlink:href=\"#DejaVuSans-50\"/>\n       <use x=\"705.859375\" xlink:href=\"#DejaVuSans-51\"/>\n       <use x=\"769.482422\" xlink:href=\"#DejaVuSans-58\"/>\n       <use x=\"803.173828\" xlink:href=\"#DejaVuSans-48\"/>\n       <use x=\"866.796875\" xlink:href=\"#DejaVuSans-55\"/>\n      </g>\n     </g>\n    </g>\n    <g id=\"xtick_6\">\n     <g id=\"line2d_6\">\n      <g>\n       <use style=\"stroke:#000000;stroke-width:0.8;\" x=\"141.826357\" xlink:href=\"#m15f5c964fc\" y=\"224.64\"/>\n      </g>\n     </g>\n     <g id=\"text_6\">\n      <!-- 2020-05-19T00:07 -->\n      <g transform=\"translate(95.305263 239.238437)scale(0.1 -0.1)\">\n       <use xlink:href=\"#DejaVuSans-50\"/>\n       <use x=\"63.623047\" xlink:href=\"#DejaVuSans-48\"/>\n       <use x=\"127.246094\" xlink:href=\"#DejaVuSans-50\"/>\n       <use x=\"190.869141\" xlink:href=\"#DejaVuSans-48\"/>\n       <use x=\"254.492188\" xlink:href=\"#DejaVuSans-45\"/>\n       <use x=\"290.576172\" xlink:href=\"#DejaVuSans-48\"/>\n       <use x=\"354.199219\" xlink:href=\"#DejaVuSans-53\"/>\n       <use x=\"417.822266\" xlink:href=\"#DejaVuSans-45\"/>\n       <use x=\"453.90625\" xlink:href=\"#DejaVuSans-49\"/>\n       <use x=\"517.529297\" xlink:href=\"#DejaVuSans-57\"/>\n       <use x=\"581.152344\" xlink:href=\"#DejaVuSans-84\"/>\n       <use x=\"642.236328\" xlink:href=\"#DejaVuSans-48\"/>\n       <use x=\"705.859375\" xlink:href=\"#DejaVuSans-48\"/>\n       <use x=\"769.482422\" xlink:href=\"#DejaVuSans-58\"/>\n       <use x=\"803.173828\" xlink:href=\"#DejaVuSans-48\"/>\n       <use x=\"866.796875\" xlink:href=\"#DejaVuSans-55\"/>\n      </g>\n     </g>\n    </g>\n    <g id=\"xtick_7\">\n     <g id=\"line2d_7\">\n      <g>\n       <use style=\"stroke:#000000;stroke-width:0.8;\" x=\"159.44741\" xlink:href=\"#m15f5c964fc\" y=\"224.64\"/>\n      </g>\n     </g>\n     <g id=\"text_7\">\n      <!-- 2020-05-19T01:07 -->\n      <g transform=\"translate(112.926316 239.238437)scale(0.1 -0.1)\">\n       <use xlink:href=\"#DejaVuSans-50\"/>\n       <use x=\"63.623047\" xlink:href=\"#DejaVuSans-48\"/>\n       <use x=\"127.246094\" xlink:href=\"#DejaVuSans-50\"/>\n       <use x=\"190.869141\" xlink:href=\"#DejaVuSans-48\"/>\n       <use x=\"254.492188\" xlink:href=\"#DejaVuSans-45\"/>\n       <use x=\"290.576172\" xlink:href=\"#DejaVuSans-48\"/>\n       <use x=\"354.199219\" xlink:href=\"#DejaVuSans-53\"/>\n       <use x=\"417.822266\" xlink:href=\"#DejaVuSans-45\"/>\n       <use x=\"453.90625\" xlink:href=\"#DejaVuSans-49\"/>\n       <use x=\"517.529297\" xlink:href=\"#DejaVuSans-57\"/>\n       <use x=\"581.152344\" xlink:href=\"#DejaVuSans-84\"/>\n       <use x=\"642.236328\" xlink:href=\"#DejaVuSans-48\"/>\n       <use x=\"705.859375\" xlink:href=\"#DejaVuSans-49\"/>\n       <use x=\"769.482422\" xlink:href=\"#DejaVuSans-58\"/>\n       <use x=\"803.173828\" xlink:href=\"#DejaVuSans-48\"/>\n       <use x=\"866.796875\" xlink:href=\"#DejaVuSans-55\"/>\n      </g>\n     </g>\n    </g>\n    <g id=\"xtick_8\">\n     <g id=\"line2d_8\">\n      <g>\n       <use style=\"stroke:#000000;stroke-width:0.8;\" x=\"177.068462\" xlink:href=\"#m15f5c964fc\" y=\"224.64\"/>\n      </g>\n     </g>\n     <g id=\"text_8\">\n      <!-- 2020-05-19T02:07 -->\n      <g transform=\"translate(130.547368 239.238437)scale(0.1 -0.1)\">\n       <use xlink:href=\"#DejaVuSans-50\"/>\n       <use x=\"63.623047\" xlink:href=\"#DejaVuSans-48\"/>\n       <use x=\"127.246094\" xlink:href=\"#DejaVuSans-50\"/>\n       <use x=\"190.869141\" xlink:href=\"#DejaVuSans-48\"/>\n       <use x=\"254.492188\" xlink:href=\"#DejaVuSans-45\"/>\n       <use x=\"290.576172\" xlink:href=\"#DejaVuSans-48\"/>\n       <use x=\"354.199219\" xlink:href=\"#DejaVuSans-53\"/>\n       <use x=\"417.822266\" xlink:href=\"#DejaVuSans-45\"/>\n       <use x=\"453.90625\" xlink:href=\"#DejaVuSans-49\"/>\n       <use x=\"517.529297\" xlink:href=\"#DejaVuSans-57\"/>\n       <use x=\"581.152344\" xlink:href=\"#DejaVuSans-84\"/>\n       <use x=\"642.236328\" xlink:href=\"#DejaVuSans-48\"/>\n       <use x=\"705.859375\" xlink:href=\"#DejaVuSans-50\"/>\n       <use x=\"769.482422\" xlink:href=\"#DejaVuSans-58\"/>\n       <use x=\"803.173828\" xlink:href=\"#DejaVuSans-48\"/>\n       <use x=\"866.796875\" xlink:href=\"#DejaVuSans-55\"/>\n      </g>\n     </g>\n    </g>\n    <g id=\"xtick_9\">\n     <g id=\"line2d_9\">\n      <g>\n       <use style=\"stroke:#000000;stroke-width:0.8;\" x=\"194.689515\" xlink:href=\"#m15f5c964fc\" y=\"224.64\"/>\n      </g>\n     </g>\n     <g id=\"text_9\">\n      <!-- 2020-05-19T05:07 -->\n      <g transform=\"translate(148.168421 239.238437)scale(0.1 -0.1)\">\n       <use xlink:href=\"#DejaVuSans-50\"/>\n       <use x=\"63.623047\" xlink:href=\"#DejaVuSans-48\"/>\n       <use x=\"127.246094\" xlink:href=\"#DejaVuSans-50\"/>\n       <use x=\"190.869141\" xlink:href=\"#DejaVuSans-48\"/>\n       <use x=\"254.492188\" xlink:href=\"#DejaVuSans-45\"/>\n       <use x=\"290.576172\" xlink:href=\"#DejaVuSans-48\"/>\n       <use x=\"354.199219\" xlink:href=\"#DejaVuSans-53\"/>\n       <use x=\"417.822266\" xlink:href=\"#DejaVuSans-45\"/>\n       <use x=\"453.90625\" xlink:href=\"#DejaVuSans-49\"/>\n       <use x=\"517.529297\" xlink:href=\"#DejaVuSans-57\"/>\n       <use x=\"581.152344\" xlink:href=\"#DejaVuSans-84\"/>\n       <use x=\"642.236328\" xlink:href=\"#DejaVuSans-48\"/>\n       <use x=\"705.859375\" xlink:href=\"#DejaVuSans-53\"/>\n       <use x=\"769.482422\" xlink:href=\"#DejaVuSans-58\"/>\n       <use x=\"803.173828\" xlink:href=\"#DejaVuSans-48\"/>\n       <use x=\"866.796875\" xlink:href=\"#DejaVuSans-55\"/>\n      </g>\n     </g>\n    </g>\n    <g id=\"xtick_10\">\n     <g id=\"line2d_10\">\n      <g>\n       <use style=\"stroke:#000000;stroke-width:0.8;\" x=\"212.310567\" xlink:href=\"#m15f5c964fc\" y=\"224.64\"/>\n      </g>\n     </g>\n     <g id=\"text_10\">\n      <!-- 2020-05-19T06:07 -->\n      <defs>\n       <path d=\"M 33.015625 40.375 \nQ 26.375 40.375 22.484375 35.828125 \nQ 18.609375 31.296875 18.609375 23.390625 \nQ 18.609375 15.53125 22.484375 10.953125 \nQ 26.375 6.390625 33.015625 6.390625 \nQ 39.65625 6.390625 43.53125 10.953125 \nQ 47.40625 15.53125 47.40625 23.390625 \nQ 47.40625 31.296875 43.53125 35.828125 \nQ 39.65625 40.375 33.015625 40.375 \nz\nM 52.59375 71.296875 \nL 52.59375 62.3125 \nQ 48.875 64.0625 45.09375 64.984375 \nQ 41.3125 65.921875 37.59375 65.921875 \nQ 27.828125 65.921875 22.671875 59.328125 \nQ 17.53125 52.734375 16.796875 39.40625 \nQ 19.671875 43.65625 24.015625 45.921875 \nQ 28.375 48.1875 33.59375 48.1875 \nQ 44.578125 48.1875 50.953125 41.515625 \nQ 57.328125 34.859375 57.328125 23.390625 \nQ 57.328125 12.15625 50.6875 5.359375 \nQ 44.046875 -1.421875 33.015625 -1.421875 \nQ 20.359375 -1.421875 13.671875 8.265625 \nQ 6.984375 17.96875 6.984375 36.375 \nQ 6.984375 53.65625 15.1875 63.9375 \nQ 23.390625 74.21875 37.203125 74.21875 \nQ 40.921875 74.21875 44.703125 73.484375 \nQ 48.484375 72.75 52.59375 71.296875 \nz\n\" id=\"DejaVuSans-54\"/>\n      </defs>\n      <g transform=\"translate(165.789474 239.238437)scale(0.1 -0.1)\">\n       <use xlink:href=\"#DejaVuSans-50\"/>\n       <use x=\"63.623047\" xlink:href=\"#DejaVuSans-48\"/>\n       <use x=\"127.246094\" xlink:href=\"#DejaVuSans-50\"/>\n       <use x=\"190.869141\" xlink:href=\"#DejaVuSans-48\"/>\n       <use x=\"254.492188\" xlink:href=\"#DejaVuSans-45\"/>\n       <use x=\"290.576172\" xlink:href=\"#DejaVuSans-48\"/>\n       <use x=\"354.199219\" xlink:href=\"#DejaVuSans-53\"/>\n       <use x=\"417.822266\" xlink:href=\"#DejaVuSans-45\"/>\n       <use x=\"453.90625\" xlink:href=\"#DejaVuSans-49\"/>\n       <use x=\"517.529297\" xlink:href=\"#DejaVuSans-57\"/>\n       <use x=\"581.152344\" xlink:href=\"#DejaVuSans-84\"/>\n       <use x=\"642.236328\" xlink:href=\"#DejaVuSans-48\"/>\n       <use x=\"705.859375\" xlink:href=\"#DejaVuSans-54\"/>\n       <use x=\"769.482422\" xlink:href=\"#DejaVuSans-58\"/>\n       <use x=\"803.173828\" xlink:href=\"#DejaVuSans-48\"/>\n       <use x=\"866.796875\" xlink:href=\"#DejaVuSans-55\"/>\n      </g>\n     </g>\n    </g>\n    <g id=\"xtick_11\">\n     <g id=\"line2d_11\">\n      <g>\n       <use style=\"stroke:#000000;stroke-width:0.8;\" x=\"229.93162\" xlink:href=\"#m15f5c964fc\" y=\"224.64\"/>\n      </g>\n     </g>\n     <g id=\"text_11\">\n      <!-- 2020-05-19T07:07 -->\n      <g transform=\"translate(183.410526 239.238437)scale(0.1 -0.1)\">\n       <use xlink:href=\"#DejaVuSans-50\"/>\n       <use x=\"63.623047\" xlink:href=\"#DejaVuSans-48\"/>\n       <use x=\"127.246094\" xlink:href=\"#DejaVuSans-50\"/>\n       <use x=\"190.869141\" xlink:href=\"#DejaVuSans-48\"/>\n       <use x=\"254.492188\" xlink:href=\"#DejaVuSans-45\"/>\n       <use x=\"290.576172\" xlink:href=\"#DejaVuSans-48\"/>\n       <use x=\"354.199219\" xlink:href=\"#DejaVuSans-53\"/>\n       <use x=\"417.822266\" xlink:href=\"#DejaVuSans-45\"/>\n       <use x=\"453.90625\" xlink:href=\"#DejaVuSans-49\"/>\n       <use x=\"517.529297\" xlink:href=\"#DejaVuSans-57\"/>\n       <use x=\"581.152344\" xlink:href=\"#DejaVuSans-84\"/>\n       <use x=\"642.236328\" xlink:href=\"#DejaVuSans-48\"/>\n       <use x=\"705.859375\" xlink:href=\"#DejaVuSans-55\"/>\n       <use x=\"769.482422\" xlink:href=\"#DejaVuSans-58\"/>\n       <use x=\"803.173828\" xlink:href=\"#DejaVuSans-48\"/>\n       <use x=\"866.796875\" xlink:href=\"#DejaVuSans-55\"/>\n      </g>\n     </g>\n    </g>\n    <g id=\"xtick_12\">\n     <g id=\"line2d_12\">\n      <g>\n       <use style=\"stroke:#000000;stroke-width:0.8;\" x=\"247.552673\" xlink:href=\"#m15f5c964fc\" y=\"224.64\"/>\n      </g>\n     </g>\n     <g id=\"text_12\">\n      <!-- 2020-05-19T08:07 -->\n      <g transform=\"translate(201.031579 239.238437)scale(0.1 -0.1)\">\n       <use xlink:href=\"#DejaVuSans-50\"/>\n       <use x=\"63.623047\" xlink:href=\"#DejaVuSans-48\"/>\n       <use x=\"127.246094\" xlink:href=\"#DejaVuSans-50\"/>\n       <use x=\"190.869141\" xlink:href=\"#DejaVuSans-48\"/>\n       <use x=\"254.492188\" xlink:href=\"#DejaVuSans-45\"/>\n       <use x=\"290.576172\" xlink:href=\"#DejaVuSans-48\"/>\n       <use x=\"354.199219\" xlink:href=\"#DejaVuSans-53\"/>\n       <use x=\"417.822266\" xlink:href=\"#DejaVuSans-45\"/>\n       <use x=\"453.90625\" xlink:href=\"#DejaVuSans-49\"/>\n       <use x=\"517.529297\" xlink:href=\"#DejaVuSans-57\"/>\n       <use x=\"581.152344\" xlink:href=\"#DejaVuSans-84\"/>\n       <use x=\"642.236328\" xlink:href=\"#DejaVuSans-48\"/>\n       <use x=\"705.859375\" xlink:href=\"#DejaVuSans-56\"/>\n       <use x=\"769.482422\" xlink:href=\"#DejaVuSans-58\"/>\n       <use x=\"803.173828\" xlink:href=\"#DejaVuSans-48\"/>\n       <use x=\"866.796875\" xlink:href=\"#DejaVuSans-55\"/>\n      </g>\n     </g>\n    </g>\n    <g id=\"xtick_13\">\n     <g id=\"line2d_13\">\n      <g>\n       <use style=\"stroke:#000000;stroke-width:0.8;\" x=\"265.173725\" xlink:href=\"#m15f5c964fc\" y=\"224.64\"/>\n      </g>\n     </g>\n     <g id=\"text_13\">\n      <!-- 2020-05-19T09:07 -->\n      <g transform=\"translate(218.652632 239.238437)scale(0.1 -0.1)\">\n       <use xlink:href=\"#DejaVuSans-50\"/>\n       <use x=\"63.623047\" xlink:href=\"#DejaVuSans-48\"/>\n       <use x=\"127.246094\" xlink:href=\"#DejaVuSans-50\"/>\n       <use x=\"190.869141\" xlink:href=\"#DejaVuSans-48\"/>\n       <use x=\"254.492188\" xlink:href=\"#DejaVuSans-45\"/>\n       <use x=\"290.576172\" xlink:href=\"#DejaVuSans-48\"/>\n       <use x=\"354.199219\" xlink:href=\"#DejaVuSans-53\"/>\n       <use x=\"417.822266\" xlink:href=\"#DejaVuSans-45\"/>\n       <use x=\"453.90625\" xlink:href=\"#DejaVuSans-49\"/>\n       <use x=\"517.529297\" xlink:href=\"#DejaVuSans-57\"/>\n       <use x=\"581.152344\" xlink:href=\"#DejaVuSans-84\"/>\n       <use x=\"642.236328\" xlink:href=\"#DejaVuSans-48\"/>\n       <use x=\"705.859375\" xlink:href=\"#DejaVuSans-57\"/>\n       <use x=\"769.482422\" xlink:href=\"#DejaVuSans-58\"/>\n       <use x=\"803.173828\" xlink:href=\"#DejaVuSans-48\"/>\n       <use x=\"866.796875\" xlink:href=\"#DejaVuSans-55\"/>\n      </g>\n     </g>\n    </g>\n    <g id=\"xtick_14\">\n     <g id=\"line2d_14\">\n      <g>\n       <use style=\"stroke:#000000;stroke-width:0.8;\" x=\"282.794778\" xlink:href=\"#m15f5c964fc\" y=\"224.64\"/>\n      </g>\n     </g>\n     <g id=\"text_14\">\n      <!-- 2020-05-19T10:07 -->\n      <g transform=\"translate(236.273684 239.238437)scale(0.1 -0.1)\">\n       <use xlink:href=\"#DejaVuSans-50\"/>\n       <use x=\"63.623047\" xlink:href=\"#DejaVuSans-48\"/>\n       <use x=\"127.246094\" xlink:href=\"#DejaVuSans-50\"/>\n       <use x=\"190.869141\" xlink:href=\"#DejaVuSans-48\"/>\n       <use x=\"254.492188\" xlink:href=\"#DejaVuSans-45\"/>\n       <use x=\"290.576172\" xlink:href=\"#DejaVuSans-48\"/>\n       <use x=\"354.199219\" xlink:href=\"#DejaVuSans-53\"/>\n       <use x=\"417.822266\" xlink:href=\"#DejaVuSans-45\"/>\n       <use x=\"453.90625\" xlink:href=\"#DejaVuSans-49\"/>\n       <use x=\"517.529297\" xlink:href=\"#DejaVuSans-57\"/>\n       <use x=\"581.152344\" xlink:href=\"#DejaVuSans-84\"/>\n       <use x=\"642.236328\" xlink:href=\"#DejaVuSans-49\"/>\n       <use x=\"705.859375\" xlink:href=\"#DejaVuSans-48\"/>\n       <use x=\"769.482422\" xlink:href=\"#DejaVuSans-58\"/>\n       <use x=\"803.173828\" xlink:href=\"#DejaVuSans-48\"/>\n       <use x=\"866.796875\" xlink:href=\"#DejaVuSans-55\"/>\n      </g>\n     </g>\n    </g>\n    <g id=\"xtick_15\">\n     <g id=\"line2d_15\">\n      <g>\n       <use style=\"stroke:#000000;stroke-width:0.8;\" x=\"300.415831\" xlink:href=\"#m15f5c964fc\" y=\"224.64\"/>\n      </g>\n     </g>\n     <g id=\"text_15\">\n      <!-- 2020-05-19T11:07 -->\n      <g transform=\"translate(253.894737 239.238437)scale(0.1 -0.1)\">\n       <use xlink:href=\"#DejaVuSans-50\"/>\n       <use x=\"63.623047\" xlink:href=\"#DejaVuSans-48\"/>\n       <use x=\"127.246094\" xlink:href=\"#DejaVuSans-50\"/>\n       <use x=\"190.869141\" xlink:href=\"#DejaVuSans-48\"/>\n       <use x=\"254.492188\" xlink:href=\"#DejaVuSans-45\"/>\n       <use x=\"290.576172\" xlink:href=\"#DejaVuSans-48\"/>\n       <use x=\"354.199219\" xlink:href=\"#DejaVuSans-53\"/>\n       <use x=\"417.822266\" xlink:href=\"#DejaVuSans-45\"/>\n       <use x=\"453.90625\" xlink:href=\"#DejaVuSans-49\"/>\n       <use x=\"517.529297\" xlink:href=\"#DejaVuSans-57\"/>\n       <use x=\"581.152344\" xlink:href=\"#DejaVuSans-84\"/>\n       <use x=\"642.236328\" xlink:href=\"#DejaVuSans-49\"/>\n       <use x=\"705.859375\" xlink:href=\"#DejaVuSans-49\"/>\n       <use x=\"769.482422\" xlink:href=\"#DejaVuSans-58\"/>\n       <use x=\"803.173828\" xlink:href=\"#DejaVuSans-48\"/>\n       <use x=\"866.796875\" xlink:href=\"#DejaVuSans-55\"/>\n      </g>\n     </g>\n    </g>\n    <g id=\"xtick_16\">\n     <g id=\"line2d_16\">\n      <g>\n       <use style=\"stroke:#000000;stroke-width:0.8;\" x=\"318.036883\" xlink:href=\"#m15f5c964fc\" y=\"224.64\"/>\n      </g>\n     </g>\n     <g id=\"text_16\">\n      <!-- 2020-05-19T12:07 -->\n      <g transform=\"translate(271.515789 239.238437)scale(0.1 -0.1)\">\n       <use xlink:href=\"#DejaVuSans-50\"/>\n       <use x=\"63.623047\" xlink:href=\"#DejaVuSans-48\"/>\n       <use x=\"127.246094\" xlink:href=\"#DejaVuSans-50\"/>\n       <use x=\"190.869141\" xlink:href=\"#DejaVuSans-48\"/>\n       <use x=\"254.492188\" xlink:href=\"#DejaVuSans-45\"/>\n       <use x=\"290.576172\" xlink:href=\"#DejaVuSans-48\"/>\n       <use x=\"354.199219\" xlink:href=\"#DejaVuSans-53\"/>\n       <use x=\"417.822266\" xlink:href=\"#DejaVuSans-45\"/>\n       <use x=\"453.90625\" xlink:href=\"#DejaVuSans-49\"/>\n       <use x=\"517.529297\" xlink:href=\"#DejaVuSans-57\"/>\n       <use x=\"581.152344\" xlink:href=\"#DejaVuSans-84\"/>\n       <use x=\"642.236328\" xlink:href=\"#DejaVuSans-49\"/>\n       <use x=\"705.859375\" xlink:href=\"#DejaVuSans-50\"/>\n       <use x=\"769.482422\" xlink:href=\"#DejaVuSans-58\"/>\n       <use x=\"803.173828\" xlink:href=\"#DejaVuSans-48\"/>\n       <use x=\"866.796875\" xlink:href=\"#DejaVuSans-55\"/>\n      </g>\n     </g>\n    </g>\n    <g id=\"xtick_17\">\n     <g id=\"line2d_17\">\n      <g>\n       <use style=\"stroke:#000000;stroke-width:0.8;\" x=\"335.657936\" xlink:href=\"#m15f5c964fc\" y=\"224.64\"/>\n      </g>\n     </g>\n     <g id=\"text_17\">\n      <!-- 2020-05-19T13:07 -->\n      <g transform=\"translate(289.136842 239.238437)scale(0.1 -0.1)\">\n       <use xlink:href=\"#DejaVuSans-50\"/>\n       <use x=\"63.623047\" xlink:href=\"#DejaVuSans-48\"/>\n       <use x=\"127.246094\" xlink:href=\"#DejaVuSans-50\"/>\n       <use x=\"190.869141\" xlink:href=\"#DejaVuSans-48\"/>\n       <use x=\"254.492188\" xlink:href=\"#DejaVuSans-45\"/>\n       <use x=\"290.576172\" xlink:href=\"#DejaVuSans-48\"/>\n       <use x=\"354.199219\" xlink:href=\"#DejaVuSans-53\"/>\n       <use x=\"417.822266\" xlink:href=\"#DejaVuSans-45\"/>\n       <use x=\"453.90625\" xlink:href=\"#DejaVuSans-49\"/>\n       <use x=\"517.529297\" xlink:href=\"#DejaVuSans-57\"/>\n       <use x=\"581.152344\" xlink:href=\"#DejaVuSans-84\"/>\n       <use x=\"642.236328\" xlink:href=\"#DejaVuSans-49\"/>\n       <use x=\"705.859375\" xlink:href=\"#DejaVuSans-51\"/>\n       <use x=\"769.482422\" xlink:href=\"#DejaVuSans-58\"/>\n       <use x=\"803.173828\" xlink:href=\"#DejaVuSans-48\"/>\n       <use x=\"866.796875\" xlink:href=\"#DejaVuSans-55\"/>\n      </g>\n     </g>\n    </g>\n    <g id=\"xtick_18\">\n     <g id=\"line2d_18\">\n      <g>\n       <use style=\"stroke:#000000;stroke-width:0.8;\" x=\"353.278988\" xlink:href=\"#m15f5c964fc\" y=\"224.64\"/>\n      </g>\n     </g>\n     <g id=\"text_18\">\n      <!-- 2020-05-19T14:07 -->\n      <defs>\n       <path d=\"M 37.796875 64.3125 \nL 12.890625 25.390625 \nL 37.796875 25.390625 \nz\nM 35.203125 72.90625 \nL 47.609375 72.90625 \nL 47.609375 25.390625 \nL 58.015625 25.390625 \nL 58.015625 17.1875 \nL 47.609375 17.1875 \nL 47.609375 0 \nL 37.796875 0 \nL 37.796875 17.1875 \nL 4.890625 17.1875 \nL 4.890625 26.703125 \nz\n\" id=\"DejaVuSans-52\"/>\n      </defs>\n      <g transform=\"translate(306.757895 239.238437)scale(0.1 -0.1)\">\n       <use xlink:href=\"#DejaVuSans-50\"/>\n       <use x=\"63.623047\" xlink:href=\"#DejaVuSans-48\"/>\n       <use x=\"127.246094\" xlink:href=\"#DejaVuSans-50\"/>\n       <use x=\"190.869141\" xlink:href=\"#DejaVuSans-48\"/>\n       <use x=\"254.492188\" xlink:href=\"#DejaVuSans-45\"/>\n       <use x=\"290.576172\" xlink:href=\"#DejaVuSans-48\"/>\n       <use x=\"354.199219\" xlink:href=\"#DejaVuSans-53\"/>\n       <use x=\"417.822266\" xlink:href=\"#DejaVuSans-45\"/>\n       <use x=\"453.90625\" xlink:href=\"#DejaVuSans-49\"/>\n       <use x=\"517.529297\" xlink:href=\"#DejaVuSans-57\"/>\n       <use x=\"581.152344\" xlink:href=\"#DejaVuSans-84\"/>\n       <use x=\"642.236328\" xlink:href=\"#DejaVuSans-49\"/>\n       <use x=\"705.859375\" xlink:href=\"#DejaVuSans-52\"/>\n       <use x=\"769.482422\" xlink:href=\"#DejaVuSans-58\"/>\n       <use x=\"803.173828\" xlink:href=\"#DejaVuSans-48\"/>\n       <use x=\"866.796875\" xlink:href=\"#DejaVuSans-55\"/>\n      </g>\n     </g>\n    </g>\n    <g id=\"xtick_19\">\n     <g id=\"line2d_19\">\n      <g>\n       <use style=\"stroke:#000000;stroke-width:0.8;\" x=\"370.900041\" xlink:href=\"#m15f5c964fc\" y=\"224.64\"/>\n      </g>\n     </g>\n     <g id=\"text_19\">\n      <!-- 2020-05-19T15:07 -->\n      <g transform=\"translate(324.378947 239.238437)scale(0.1 -0.1)\">\n       <use xlink:href=\"#DejaVuSans-50\"/>\n       <use x=\"63.623047\" xlink:href=\"#DejaVuSans-48\"/>\n       <use x=\"127.246094\" xlink:href=\"#DejaVuSans-50\"/>\n       <use x=\"190.869141\" xlink:href=\"#DejaVuSans-48\"/>\n       <use x=\"254.492188\" xlink:href=\"#DejaVuSans-45\"/>\n       <use x=\"290.576172\" xlink:href=\"#DejaVuSans-48\"/>\n       <use x=\"354.199219\" xlink:href=\"#DejaVuSans-53\"/>\n       <use x=\"417.822266\" xlink:href=\"#DejaVuSans-45\"/>\n       <use x=\"453.90625\" xlink:href=\"#DejaVuSans-49\"/>\n       <use x=\"517.529297\" xlink:href=\"#DejaVuSans-57\"/>\n       <use x=\"581.152344\" xlink:href=\"#DejaVuSans-84\"/>\n       <use x=\"642.236328\" xlink:href=\"#DejaVuSans-49\"/>\n       <use x=\"705.859375\" xlink:href=\"#DejaVuSans-53\"/>\n       <use x=\"769.482422\" xlink:href=\"#DejaVuSans-58\"/>\n       <use x=\"803.173828\" xlink:href=\"#DejaVuSans-48\"/>\n       <use x=\"866.796875\" xlink:href=\"#DejaVuSans-55\"/>\n      </g>\n     </g>\n    </g>\n   </g>\n   <g id=\"matplotlib.axis_2\">\n    <g id=\"ytick_1\">\n     <g id=\"line2d_20\">\n      <defs>\n       <path d=\"M 0 0 \nL -3.5 0 \n\" id=\"m2dbdc0ebf6\" style=\"stroke:#000000;stroke-width:0.8;\"/>\n      </defs>\n      <g>\n       <use style=\"stroke:#000000;stroke-width:0.8;\" x=\"44.910567\" xlink:href=\"#m2dbdc0ebf6\" y=\"224.64\"/>\n      </g>\n     </g>\n     <g id=\"text_20\">\n      <!-- 0 -->\n      <g transform=\"translate(31.548067 228.439219)scale(0.1 -0.1)\">\n       <use xlink:href=\"#DejaVuSans-48\"/>\n      </g>\n     </g>\n    </g>\n    <g id=\"ytick_2\">\n     <g id=\"line2d_21\">\n      <g>\n       <use style=\"stroke:#000000;stroke-width:0.8;\" x=\"44.910567\" xlink:href=\"#m2dbdc0ebf6\" y=\"189.79164\"/>\n      </g>\n     </g>\n     <g id=\"text_21\">\n      <!-- 500 -->\n      <g transform=\"translate(18.823067 193.590859)scale(0.1 -0.1)\">\n       <use xlink:href=\"#DejaVuSans-53\"/>\n       <use x=\"63.623047\" xlink:href=\"#DejaVuSans-48\"/>\n       <use x=\"127.246094\" xlink:href=\"#DejaVuSans-48\"/>\n      </g>\n     </g>\n    </g>\n    <g id=\"ytick_3\">\n     <g id=\"line2d_22\">\n      <g>\n       <use style=\"stroke:#000000;stroke-width:0.8;\" x=\"44.910567\" xlink:href=\"#m2dbdc0ebf6\" y=\"154.94328\"/>\n      </g>\n     </g>\n     <g id=\"text_22\">\n      <!-- 1000 -->\n      <g transform=\"translate(12.460567 158.742498)scale(0.1 -0.1)\">\n       <use xlink:href=\"#DejaVuSans-49\"/>\n       <use x=\"63.623047\" xlink:href=\"#DejaVuSans-48\"/>\n       <use x=\"127.246094\" xlink:href=\"#DejaVuSans-48\"/>\n       <use x=\"190.869141\" xlink:href=\"#DejaVuSans-48\"/>\n      </g>\n     </g>\n    </g>\n    <g id=\"ytick_4\">\n     <g id=\"line2d_23\">\n      <g>\n       <use style=\"stroke:#000000;stroke-width:0.8;\" x=\"44.910567\" xlink:href=\"#m2dbdc0ebf6\" y=\"120.094919\"/>\n      </g>\n     </g>\n     <g id=\"text_23\">\n      <!-- 1500 -->\n      <g transform=\"translate(12.460567 123.894138)scale(0.1 -0.1)\">\n       <use xlink:href=\"#DejaVuSans-49\"/>\n       <use x=\"63.623047\" xlink:href=\"#DejaVuSans-53\"/>\n       <use x=\"127.246094\" xlink:href=\"#DejaVuSans-48\"/>\n       <use x=\"190.869141\" xlink:href=\"#DejaVuSans-48\"/>\n      </g>\n     </g>\n    </g>\n    <g id=\"ytick_5\">\n     <g id=\"line2d_24\">\n      <g>\n       <use style=\"stroke:#000000;stroke-width:0.8;\" x=\"44.910567\" xlink:href=\"#m2dbdc0ebf6\" y=\"85.246559\"/>\n      </g>\n     </g>\n     <g id=\"text_24\">\n      <!-- 2000 -->\n      <g transform=\"translate(12.460567 89.045778)scale(0.1 -0.1)\">\n       <use xlink:href=\"#DejaVuSans-50\"/>\n       <use x=\"63.623047\" xlink:href=\"#DejaVuSans-48\"/>\n       <use x=\"127.246094\" xlink:href=\"#DejaVuSans-48\"/>\n       <use x=\"190.869141\" xlink:href=\"#DejaVuSans-48\"/>\n      </g>\n     </g>\n    </g>\n    <g id=\"ytick_6\">\n     <g id=\"line2d_25\">\n      <g>\n       <use style=\"stroke:#000000;stroke-width:0.8;\" x=\"44.910567\" xlink:href=\"#m2dbdc0ebf6\" y=\"50.398199\"/>\n      </g>\n     </g>\n     <g id=\"text_25\">\n      <!-- 2500 -->\n      <g transform=\"translate(12.460567 54.197418)scale(0.1 -0.1)\">\n       <use xlink:href=\"#DejaVuSans-50\"/>\n       <use x=\"63.623047\" xlink:href=\"#DejaVuSans-53\"/>\n       <use x=\"127.246094\" xlink:href=\"#DejaVuSans-48\"/>\n       <use x=\"190.869141\" xlink:href=\"#DejaVuSans-48\"/>\n      </g>\n     </g>\n    </g>\n    <g id=\"ytick_7\">\n     <g id=\"line2d_26\">\n      <g>\n       <use style=\"stroke:#000000;stroke-width:0.8;\" x=\"44.910567\" xlink:href=\"#m2dbdc0ebf6\" y=\"15.549839\"/>\n      </g>\n     </g>\n     <g id=\"text_26\">\n      <!-- 3000 -->\n      <g transform=\"translate(12.460567 19.349057)scale(0.1 -0.1)\">\n       <use xlink:href=\"#DejaVuSans-51\"/>\n       <use x=\"63.623047\" xlink:href=\"#DejaVuSans-48\"/>\n       <use x=\"127.246094\" xlink:href=\"#DejaVuSans-48\"/>\n       <use x=\"190.869141\" xlink:href=\"#DejaVuSans-48\"/>\n      </g>\n     </g>\n    </g>\n   </g>\n   <g id=\"line2d_27\">\n    <path clip-path=\"url(#p8f131793df)\" d=\"M 0 0 \n\" style=\"fill:none;stroke:#424242;stroke-linecap:square;stroke-width:2.7;\"/>\n   </g>\n   <g id=\"line2d_28\">\n    <path clip-path=\"url(#p8f131793df)\" d=\"M 0 0 \n\" style=\"fill:none;stroke:#424242;stroke-linecap:square;stroke-width:2.7;\"/>\n   </g>\n   <g id=\"line2d_29\">\n    <path clip-path=\"url(#p8f131793df)\" d=\"M 0 0 \n\" style=\"fill:none;stroke:#424242;stroke-linecap:square;stroke-width:2.7;\"/>\n   </g>\n   <g id=\"line2d_30\">\n    <path clip-path=\"url(#p8f131793df)\" d=\"M 0 0 \n\" style=\"fill:none;stroke:#424242;stroke-linecap:square;stroke-width:2.7;\"/>\n   </g>\n   <g id=\"line2d_31\">\n    <path clip-path=\"url(#p8f131793df)\" d=\"M 0 0 \n\" style=\"fill:none;stroke:#424242;stroke-linecap:square;stroke-width:2.7;\"/>\n   </g>\n   <g id=\"line2d_32\">\n    <path clip-path=\"url(#p8f131793df)\" d=\"M 0 0 \n\" style=\"fill:none;stroke:#424242;stroke-linecap:square;stroke-width:2.7;\"/>\n   </g>\n   <g id=\"line2d_33\">\n    <path clip-path=\"url(#p8f131793df)\" d=\"M 0 0 \n\" style=\"fill:none;stroke:#424242;stroke-linecap:square;stroke-width:2.7;\"/>\n   </g>\n   <g id=\"line2d_34\">\n    <path clip-path=\"url(#p8f131793df)\" d=\"M 0 0 \n\" style=\"fill:none;stroke:#424242;stroke-linecap:square;stroke-width:2.7;\"/>\n   </g>\n   <g id=\"line2d_35\">\n    <path clip-path=\"url(#p8f131793df)\" d=\"M 0 0 \n\" style=\"fill:none;stroke:#424242;stroke-linecap:square;stroke-width:2.7;\"/>\n   </g>\n   <g id=\"line2d_36\">\n    <path clip-path=\"url(#p8f131793df)\" d=\"M 0 0 \n\" style=\"fill:none;stroke:#424242;stroke-linecap:square;stroke-width:2.7;\"/>\n   </g>\n   <g id=\"line2d_37\">\n    <path clip-path=\"url(#p8f131793df)\" d=\"M 0 0 \n\" style=\"fill:none;stroke:#424242;stroke-linecap:square;stroke-width:2.7;\"/>\n   </g>\n   <g id=\"line2d_38\">\n    <path clip-path=\"url(#p8f131793df)\" d=\"M 0 0 \n\" style=\"fill:none;stroke:#424242;stroke-linecap:square;stroke-width:2.7;\"/>\n   </g>\n   <g id=\"line2d_39\">\n    <path clip-path=\"url(#p8f131793df)\" d=\"M 0 0 \n\" style=\"fill:none;stroke:#424242;stroke-linecap:square;stroke-width:2.7;\"/>\n   </g>\n   <g id=\"line2d_40\">\n    <path clip-path=\"url(#p8f131793df)\" d=\"M 0 0 \n\" style=\"fill:none;stroke:#424242;stroke-linecap:square;stroke-width:2.7;\"/>\n   </g>\n   <g id=\"line2d_41\">\n    <path clip-path=\"url(#p8f131793df)\" d=\"M 0 0 \n\" style=\"fill:none;stroke:#424242;stroke-linecap:square;stroke-width:2.7;\"/>\n   </g>\n   <g id=\"line2d_42\">\n    <path clip-path=\"url(#p8f131793df)\" d=\"M 0 0 \n\" style=\"fill:none;stroke:#424242;stroke-linecap:square;stroke-width:2.7;\"/>\n   </g>\n   <g id=\"line2d_43\">\n    <path clip-path=\"url(#p8f131793df)\" d=\"M 0 0 \n\" style=\"fill:none;stroke:#424242;stroke-linecap:square;stroke-width:2.7;\"/>\n   </g>\n   <g id=\"line2d_44\">\n    <path clip-path=\"url(#p8f131793df)\" d=\"M 0 0 \n\" style=\"fill:none;stroke:#424242;stroke-linecap:square;stroke-width:2.7;\"/>\n   </g>\n   <g id=\"line2d_45\">\n    <path clip-path=\"url(#p8f131793df)\" d=\"M 0 0 \n\" style=\"fill:none;stroke:#424242;stroke-linecap:square;stroke-width:2.7;\"/>\n   </g>\n   <g id=\"patch_22\">\n    <path d=\"M 44.910567 224.64 \nL 44.910567 7.2 \n\" style=\"fill:none;stroke:#000000;stroke-linecap:square;stroke-linejoin:miter;stroke-width:0.8;\"/>\n   </g>\n   <g id=\"patch_23\">\n    <path d=\"M 379.710567 224.64 \nL 379.710567 7.2 \n\" style=\"fill:none;stroke:#000000;stroke-linecap:square;stroke-linejoin:miter;stroke-width:0.8;\"/>\n   </g>\n   <g id=\"patch_24\">\n    <path d=\"M 44.910567 224.64 \nL 379.710567 224.64 \n\" style=\"fill:none;stroke:#000000;stroke-linecap:square;stroke-linejoin:miter;stroke-width:0.8;\"/>\n   </g>\n   <g id=\"patch_25\">\n    <path d=\"M 44.910567 7.2 \nL 379.710567 7.2 \n\" style=\"fill:none;stroke:#000000;stroke-linecap:square;stroke-linejoin:miter;stroke-width:0.8;\"/>\n   </g>\n  </g>\n </g>\n <defs>\n  <clipPath id=\"p8f131793df\">\n   <rect height=\"217.44\" width=\"334.8\" x=\"44.910567\" y=\"7.2\"/>\n  </clipPath>\n </defs>\n</svg>\n",
      "image/png": "[encoded data removed]"
     },
     "metadata": {
      "needs_background": "light"
     }
    }
   ],
   "source": [
    "seaborn.barplot(x=list(feature_mean_series.keys()), y=list(feature_mean_series.values()), color='blue')"
   ]
  },
  {
   "cell_type": "code",
   "execution_count": 2,
   "metadata": {},
   "outputs": [],
   "source": [
    "OUTPUT_PATH = 'gs://mlops-dev-workspace/drift_monitor/output/tf'\n",
    " \n",
    "_STATS_FILENAME='stats.pb'\n",
    "_ANOMALIES_FILENAME='anomalies.pbtxt'\n",
    "\n",
    "stats_output_path = os.path.join(OUTPUT_PATH, _STATS_FILENAME)\n",
    "anomalies_output_path = os.path.join(OUTPUT_PATH, _ANOMALIES_FILENAME)"
   ]
  },
  {
   "cell_type": "code",
   "execution_count": 3,
   "metadata": {},
   "outputs": [
    {
     "output_type": "stream",
     "name": "stdout",
     "text": "WARNING:tensorflow:From /opt/conda/lib/python3.7/site-packages/tensorflow_data_validation/utils/stats_util.py:227: tf_record_iterator (from tensorflow.python.lib.io.tf_record) is deprecated and will be removed in a future version.\nInstructions for updating:\nUse eager execution and: \n`tf.data.TFRecordDataset(path)`\n"
    }
   ],
   "source": [
    "stats = tfdv.load_statistics(stats_output_path)"
   ]
  },
  {
   "cell_type": "code",
   "execution_count": 4,
   "metadata": {},
   "outputs": [
    {
     "output_type": "display_data",
     "data": {
      "text/plain": "<IPython.core.display.HTML object>",
      "text/html": "<iframe id='facets-iframe' width=\"100%\" height=\"500px\"></iframe>\n        <script>\n        facets_iframe = document.getElementById('facets-iframe');\n        facets_html = '<script src=\"https://cdnjs.cloudflare.com/ajax/libs/webcomponentsjs/1.3.3/webcomponents-lite.js\"><\\/script><link rel=\"import\" href=\"https://raw.githubusercontent.com/PAIR-code/facets/master/facets-dist/facets-jupyter.html\"><facets-overview proto-input=\"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\"></facets-overview>';\n        facets_iframe.srcdoc = facets_html;\n         facets_iframe.id = \"\";\n         setTimeout(() => {\n           facets_iframe.setAttribute('height', facets_iframe.contentWindow.document.body.offsetHeight + 'px')\n         }, 1500)\n         </script>"
     },
     "metadata": {}
    }
   ],
   "source": [
    "tfdv.visualize_statistics(stats)"
   ]
  },
  {
   "cell_type": "code",
   "execution_count": 5,
   "metadata": {},
   "outputs": [],
   "source": [
    "anomalies = tfdv.load_anomalies_text(anomalies_output_path)"
   ]
  },
  {
   "cell_type": "code",
   "execution_count": 6,
   "metadata": {},
   "outputs": [
    {
     "output_type": "display_data",
     "data": {
      "text/plain": "             Anomaly short description  \\\nFeature name                             \n'Soil_Type'   Unexpected string values   \n'Cover_Type'  Column dropped             \n\n                                                                                                                                                                                                                                                                                                                                                                                                                                                                            Anomaly long description  \nFeature name                                                                                                                                                                                                                                                                                                                                                                                                                                                                                          \n'Soil_Type'   Examples contain values missing from the schema: 2702 (<1%), 2703 (~1%), 2704 (<1%), 2705 (~2%), 2706 (<1%), 2717 (~1%), 4201 (<1%), 4703 (~6%), 4704 (~2%), 4744 (~4%), 4758 (~2%), 5101 (<1%), 6101 (<1%), 6102 (<1%), 6731 (<1%), 7101 (<1%), 7102 (<1%), 7103 (<1%), 7201 (~5%), 7202 (~9%), 7700 (~2%), 7701 (<1%), 7702 (<1%), 7710 (<1%), 7745 (~22%), 7746 (~4%), 7755 (~4%), 7756 (~9%), 7757 (~7%), 7790 (<1%), 8703 (<1%), 8707 (<1%), 8771 (~3%), 8772 (~1%), 8776 (~1%).   \n'Cover_Type'  Column is completely missing                                                                                                                                                                                                                                                                                                                                                                                                                                                            ",
      "text/html": "<div>\n<style scoped>\n    .dataframe tbody tr th:only-of-type {\n        vertical-align: middle;\n    }\n\n    .dataframe tbody tr th {\n        vertical-align: top;\n    }\n\n    .dataframe thead th {\n        text-align: right;\n    }\n</style>\n<table border=\"1\" class=\"dataframe\">\n  <thead>\n    <tr style=\"text-align: right;\">\n      <th></th>\n      <th>Anomaly short description</th>\n      <th>Anomaly long description</th>\n    </tr>\n    <tr>\n      <th>Feature name</th>\n      <th></th>\n      <th></th>\n    </tr>\n  </thead>\n  <tbody>\n    <tr>\n      <th>'Soil_Type'</th>\n      <td>Unexpected string values</td>\n      <td>Examples contain values missing from the schema: 2702 (&lt;1%), 2703 (~1%), 2704 (&lt;1%), 2705 (~2%), 2706 (&lt;1%), 2717 (~1%), 4201 (&lt;1%), 4703 (~6%), 4704 (~2%), 4744 (~4%), 4758 (~2%), 5101 (&lt;1%), 6101 (&lt;1%), 6102 (&lt;1%), 6731 (&lt;1%), 7101 (&lt;1%), 7102 (&lt;1%), 7103 (&lt;1%), 7201 (~5%), 7202 (~9%), 7700 (~2%), 7701 (&lt;1%), 7702 (&lt;1%), 7710 (&lt;1%), 7745 (~22%), 7746 (~4%), 7755 (~4%), 7756 (~9%), 7757 (~7%), 7790 (&lt;1%), 8703 (&lt;1%), 8707 (&lt;1%), 8771 (~3%), 8772 (~1%), 8776 (~1%).</td>\n    </tr>\n    <tr>\n      <th>'Cover_Type'</th>\n      <td>Column dropped</td>\n      <td>Column is completely missing</td>\n    </tr>\n  </tbody>\n</table>\n</div>"
     },
     "metadata": {}
    }
   ],
   "source": [
    "tfdv.display_anomalies(anomalies)"
   ]
  },
  {
   "cell_type": "code",
   "execution_count": null,
   "metadata": {},
   "outputs": [],
   "source": []
  }
 ],
 "metadata": {
  "environment": {
   "name": "tf2-gpu.2-1.m46",
   "type": "gcloud",
   "uri": "gcr.io/deeplearning-platform-release/tf2-gpu.2-1:m46"
  },
  "kernelspec": {
   "display_name": "Python 3",
   "language": "python",
   "name": "python3"
  },
  "language_info": {
   "codemirror_mode": {
    "name": "ipython",
    "version": 3
   },
   "file_extension": ".py",
   "mimetype": "text/x-python",
   "name": "python",
   "nbconvert_exporter": "python",
   "pygments_lexer": "ipython3",
   "version": "3.7.6-final"
  }
 },
 "nbformat": 4,
 "nbformat_minor": 4
}