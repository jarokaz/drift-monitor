{
 "cells": [
  {
   "cell_type": "code",
   "execution_count": 1,
   "metadata": {},
   "outputs": [],
   "source": [
    "import tensorflow_data_validation as tfdv\n",
    "import pandas as pd\n",
    "import datetime\n",
    "\n",
    "from tensorflow_data_validation.utils import slicing_util\n",
    "from typing import List, Optional, Text, Union, Dict, Iterable, Mapping\n",
    "\n",
    "from tensorflow_metadata.proto.v0 import schema_pb2"
   ]
  },
  {
   "cell_type": "code",
   "execution_count": 2,
   "metadata": {},
   "outputs": [
    {
     "output_type": "execute_result",
     "data": {
      "text/plain": "'0.22.0'"
     },
     "metadata": {},
     "execution_count": 2
    }
   ],
   "source": [
    "tfdv.__version__"
   ]
  },
  {
   "cell_type": "code",
   "execution_count": 3,
   "metadata": {},
   "outputs": [],
   "source": [
    "schema_path = 'gs://mlops-dev-workspace/drift-monitor/schema/schema.pbtxt'\n",
    "\n",
    "baseline_stats_path = 'gs://mlops-dev-workspace/drift-monitor/baseline_stats/stats.pbtxt'\n",
    "\n",
    "stats_path = 'gs://mlops-dev-workspace/drift-monitor/output/test/stats.pb'"
   ]
  },
  {
   "cell_type": "code",
   "execution_count": 4,
   "metadata": {},
   "outputs": [],
   "source": [
    "schema = tfdv.load_schema_text(schema_path)"
   ]
  },
  {
   "cell_type": "code",
   "execution_count": 5,
   "metadata": {},
   "outputs": [
    {
     "output_type": "stream",
     "name": "stdout",
     "text": "Elevation\nAspect\nSlope\nHorizontal_Distance_To_Hydrology\nVertical_Distance_To_Hydrology\nHorizontal_Distance_To_Roadways\nHillshade_9am\nHillshade_Noon\nHillshade_3pm\nHorizontal_Distance_To_Fire_Points\nSoil_Type\nWilderness_Area\n"
    }
   ],
   "source": [
    "for feature in schema.feature:\n",
    "    print(feature.name)"
   ]
  },
  {
   "cell_type": "code",
   "execution_count": 18,
   "metadata": {},
   "outputs": [],
   "source": [
    "new_feature = schema.feature.add()\n",
    "new_feature.name = 'time_slice'\n",
    "new_feature.type = schema_pb2.FeatureType.BYTES"
   ]
  },
  {
   "cell_type": "code",
   "execution_count": 17,
   "metadata": {},
   "outputs": [
    {
     "output_type": "stream",
     "name": "stdout",
     "text": "Elevation 3\nAspect 3\nSlope 3\nHorizontal_Distance_To_Hydrology 3\nVertical_Distance_To_Hydrology 3\nHorizontal_Distance_To_Roadways 3\nHillshade_9am 3\nHillshade_Noon 3\nHillshade_3pm 3\nHorizontal_Distance_To_Fire_Points 3\nSoil_Type 1\nWilderness_Area 1\ntime_slice 1\n"
    }
   ],
   "source": [
    "for feature in schema.feature:\n",
    "    print(feature.name, feature.type)"
   ]
  },
  {
   "cell_type": "code",
   "execution_count": 13,
   "metadata": {},
   "outputs": [],
   "source": [
    "path = tfdv.FeaturePath(\"Wilderness_Area\")"
   ]
  },
  {
   "cell_type": "code",
   "execution_count": 14,
   "metadata": {},
   "outputs": [
    {
     "output_type": "execute_result",
     "data": {
      "text/plain": "<tensorflow_data_validation.types.FeaturePath at 0x7f50e52b1510>"
     },
     "metadata": {},
     "execution_count": 14
    }
   ],
   "source": [
    "tfdv"
   ]
  },
  {
   "cell_type": "code",
   "execution_count": 53,
   "metadata": {},
   "outputs": [
    {
     "output_type": "error",
     "ename": "ValueError",
     "evalue": "lhs_statistics proto contains multiple datasets. Only one dataset is currently supported.",
     "traceback": [
      "\u001b[0;31m---------------------------------------------------------------------------\u001b[0m",
      "\u001b[0;31mValueError\u001b[0m                                Traceback (most recent call last)",
      "\u001b[0;32m<ipython-input-53-8a1cf96d1b0b>\u001b[0m in \u001b[0;36m<module>\u001b[0;34m\u001b[0m\n\u001b[0;32m----> 1\u001b[0;31m \u001b[0mtfdv\u001b[0m\u001b[0;34m.\u001b[0m\u001b[0mvisualize_statistics\u001b[0m\u001b[0;34m(\u001b[0m\u001b[0mstats\u001b[0m\u001b[0;34m)\u001b[0m\u001b[0;34m\u001b[0m\u001b[0;34m\u001b[0m\u001b[0m\n\u001b[0m",
      "\u001b[0;32m/opt/conda/lib/python3.7/site-packages/tensorflow_data_validation/utils/display_util.py\u001b[0m in \u001b[0;36mvisualize_statistics\u001b[0;34m(lhs_statistics, rhs_statistics, lhs_name, rhs_name)\u001b[0m\n\u001b[1;32m    282\u001b[0m     \u001b[0mValueError\u001b[0m\u001b[0;34m:\u001b[0m \u001b[0mIf\u001b[0m \u001b[0mthe\u001b[0m \u001b[0minput\u001b[0m \u001b[0mstatistics\u001b[0m \u001b[0mprotos\u001b[0m \u001b[0mdoes\u001b[0m \u001b[0;32mnot\u001b[0m \u001b[0mhave\u001b[0m \u001b[0monly\u001b[0m \u001b[0mone\u001b[0m \u001b[0mdataset\u001b[0m\u001b[0;34m.\u001b[0m\u001b[0;34m\u001b[0m\u001b[0;34m\u001b[0m\u001b[0m\n\u001b[1;32m    283\u001b[0m   \"\"\"\n\u001b[0;32m--> 284\u001b[0;31m   \u001b[0mhtml\u001b[0m \u001b[0;34m=\u001b[0m \u001b[0mget_statistics_html\u001b[0m\u001b[0;34m(\u001b[0m\u001b[0mlhs_statistics\u001b[0m\u001b[0;34m,\u001b[0m \u001b[0mrhs_statistics\u001b[0m\u001b[0;34m,\u001b[0m \u001b[0mlhs_name\u001b[0m\u001b[0;34m,\u001b[0m \u001b[0mrhs_name\u001b[0m\u001b[0;34m)\u001b[0m\u001b[0;34m\u001b[0m\u001b[0;34m\u001b[0m\u001b[0m\n\u001b[0m\u001b[1;32m    285\u001b[0m   \u001b[0mdisplay\u001b[0m\u001b[0;34m(\u001b[0m\u001b[0mHTML\u001b[0m\u001b[0;34m(\u001b[0m\u001b[0mhtml\u001b[0m\u001b[0;34m)\u001b[0m\u001b[0;34m)\u001b[0m\u001b[0;34m\u001b[0m\u001b[0;34m\u001b[0m\u001b[0m\n\u001b[1;32m    286\u001b[0m \u001b[0;34m\u001b[0m\u001b[0m\n",
      "\u001b[0;32m/opt/conda/lib/python3.7/site-packages/tensorflow_data_validation/utils/display_util.py\u001b[0m in \u001b[0;36mget_statistics_html\u001b[0;34m(lhs_statistics, rhs_statistics, lhs_name, rhs_name)\u001b[0m\n\u001b[1;32m    200\u001b[0m \u001b[0;34m\u001b[0m\u001b[0m\n\u001b[1;32m    201\u001b[0m   \u001b[0;32mif\u001b[0m \u001b[0mlen\u001b[0m\u001b[0;34m(\u001b[0m\u001b[0mlhs_statistics\u001b[0m\u001b[0;34m.\u001b[0m\u001b[0mdatasets\u001b[0m\u001b[0;34m)\u001b[0m \u001b[0;34m!=\u001b[0m \u001b[0;36m1\u001b[0m\u001b[0;34m:\u001b[0m\u001b[0;34m\u001b[0m\u001b[0;34m\u001b[0m\u001b[0m\n\u001b[0;32m--> 202\u001b[0;31m     raise ValueError('lhs_statistics proto contains multiple datasets. Only '\n\u001b[0m\u001b[1;32m    203\u001b[0m                      'one dataset is currently supported.')\n\u001b[1;32m    204\u001b[0m \u001b[0;34m\u001b[0m\u001b[0m\n",
      "\u001b[0;31mValueError\u001b[0m: lhs_statistics proto contains multiple datasets. Only one dataset is currently supported."
     ]
    }
   ],
   "source": [
    "tfdv.visualize_statistics(stats)"
   ]
  },
  {
   "cell_type": "code",
   "execution_count": 58,
   "metadata": {
    "tags": [
     "outputPrepend"
    ]
   },
   "outputs": [
    {
     "output_type": "stream",
     "name": "stdout",
     "text": " low_value: 123.0\n        high_value: 147.60000000000002\n        sample_count: 2003.7656000000002\n      }\n      buckets {\n        low_value: 147.60000000000002\n        high_value: 172.20000000000002\n        sample_count: 1665.5455999999997\n      }\n      buckets {\n        low_value: 172.20000000000002\n        high_value: 196.8\n        sample_count: 1101.8456\n      }\n      buckets {\n        low_value: 196.8\n        high_value: 221.4\n        sample_count: 462.9856\n      }\n      buckets {\n        low_value: 221.4\n        high_value: 246.0\n        sample_count: 102.21759999999996\n      }\n    }\n    histograms {\n      buckets {\n        high_value: 94.0\n        sample_count: 751.6\n      }\n      buckets {\n        low_value: 94.0\n        high_value: 112.0\n        sample_count: 751.6\n      }\n      buckets {\n        low_value: 112.0\n        high_value: 124.0\n        sample_count: 751.6\n      }\n      buckets {\n        low_value: 124.0\n        high_value: 134.0\n        sample_count: 751.6\n      }\n      buckets {\n        low_value: 134.0\n        high_value: 143.0\n        sample_count: 751.6\n      }\n      buckets {\n        low_value: 143.0\n        high_value: 152.0\n        sample_count: 751.6\n      }\n      buckets {\n        low_value: 152.0\n        high_value: 162.0\n        sample_count: 751.6\n      }\n      buckets {\n        low_value: 162.0\n        high_value: 176.0\n        sample_count: 751.6\n      }\n      buckets {\n        low_value: 176.0\n        high_value: 191.0\n        sample_count: 751.6\n      }\n      buckets {\n        low_value: 191.0\n        high_value: 246.0\n        sample_count: 751.6\n      }\n      type: QUANTILES\n    }\n  }\n  path {\n    step: \"Hillshade_3pm\"\n  }\n}\nfeatures {\n  num_stats {\n    common_stats {\n      num_non_missing: 7516\n      min_num_values: 1\n      max_num_values: 1\n      avg_num_values: 1.0\n      num_values_histogram {\n        buckets {\n          low_value: 1.0\n          high_value: 1.0\n          sample_count: 751.6\n        }\n        buckets {\n          low_value: 1.0\n          high_value: 1.0\n          sample_count: 751.6\n        }\n        buckets {\n          low_value: 1.0\n          high_value: 1.0\n          sample_count: 751.6\n        }\n        buckets {\n          low_value: 1.0\n          high_value: 1.0\n          sample_count: 751.6\n        }\n        buckets {\n          low_value: 1.0\n          high_value: 1.0\n          sample_count: 751.6\n        }\n        buckets {\n          low_value: 1.0\n          high_value: 1.0\n          sample_count: 751.6\n        }\n        buckets {\n          low_value: 1.0\n          high_value: 1.0\n          sample_count: 751.6\n        }\n        buckets {\n          low_value: 1.0\n          high_value: 1.0\n          sample_count: 751.6\n        }\n        buckets {\n          low_value: 1.0\n          high_value: 1.0\n          sample_count: 751.6\n        }\n        buckets {\n          low_value: 1.0\n          high_value: 1.0\n          sample_count: 751.6\n        }\n        type: QUANTILES\n      }\n      tot_num_values: 7516\n    }\n    mean: 1965.6500798296966\n    std_dev: 1312.7912601489688\n    min: 30.0\n    median: 1706.0\n    max: 6968.0\n    histograms {\n      buckets {\n        low_value: 30.0\n        high_value: 723.8\n        sample_count: 1109.3616\n      }\n      buckets {\n        low_value: 723.8\n        high_value: 1417.6\n        sample_count: 1863.4669333333334\n      }\n      buckets {\n        low_value: 1417.6\n        high_value: 2111.3999999999996\n        sample_count: 1779.914066666666\n      }\n      buckets {\n        low_value: 2111.3999999999996\n        high_value: 2805.2\n        sample_count: 1343.8608000000004\n      }\n      buckets {\n        low_value: 2805.2\n        high_value: 3499.0\n        sample_count: 587.6259333333336\n      }\n      buckets {\n        low_value: 3499.0\n        high_value: 4192.799999999999\n        sample_count: 268.97258666666653\n      }\n      buckets {\n        low_value: 4192.799999999999\n        high_value: 4886.599999999999\n        sample_count: 169.54788869565215\n      }\n      buckets {\n        low_value: 4886.599999999999\n        high_value: 5580.4\n        sample_count: 197.94156273291932\n      }\n      buckets {\n        low_value: 5580.4\n        high_value: 6274.2\n        sample_count: 132.2554826254827\n      }\n      buckets {\n        low_value: 6274.2\n        high_value: 6968.0\n        sample_count: 63.05314594594597\n      }\n    }\n    histograms {\n      buckets {\n        low_value: 30.0\n        high_value: 579.0\n        sample_count: 751.6\n      }\n      buckets {\n        low_value: 579.0\n        high_value: 870.0\n        sample_count: 751.6\n      }\n      buckets {\n        low_value: 870.0\n        high_value: 1149.0\n        sample_count: 751.6\n      }\n      buckets {\n        low_value: 1149.0\n        high_value: 1425.0\n        sample_count: 751.6\n      }\n      buckets {\n        low_value: 1425.0\n        high_value: 1706.0\n        sample_count: 751.6\n      }\n      buckets {\n        low_value: 1706.0\n        high_value: 2014.0\n        sample_count: 751.6\n      }\n      buckets {\n        low_value: 2014.0\n        high_value: 2356.0\n        sample_count: 751.6\n      }\n      buckets {\n        low_value: 2356.0\n        high_value: 2764.0\n        sample_count: 751.6\n      }\n      buckets {\n        low_value: 2764.0\n        high_value: 3676.0\n        sample_count: 751.6\n      }\n      buckets {\n        low_value: 3676.0\n        high_value: 6968.0\n        sample_count: 751.6\n      }\n      type: QUANTILES\n    }\n  }\n  path {\n    step: \"Horizontal_Distance_To_Fire_Points\"\n  }\n}\nfeatures {\n  type: STRING\n  string_stats {\n    common_stats {\n      num_non_missing: 7516\n      min_num_values: 1\n      max_num_values: 1\n      avg_num_values: 1.0\n      num_values_histogram {\n        buckets {\n          low_value: 1.0\n          high_value: 1.0\n          sample_count: 751.6\n        }\n        buckets {\n          low_value: 1.0\n          high_value: 1.0\n          sample_count: 751.6\n        }\n        buckets {\n          low_value: 1.0\n          high_value: 1.0\n          sample_count: 751.6\n        }\n        buckets {\n          low_value: 1.0\n          high_value: 1.0\n          sample_count: 751.6\n        }\n        buckets {\n          low_value: 1.0\n          high_value: 1.0\n          sample_count: 751.6\n        }\n        buckets {\n          low_value: 1.0\n          high_value: 1.0\n          sample_count: 751.6\n        }\n        buckets {\n          low_value: 1.0\n          high_value: 1.0\n          sample_count: 751.6\n        }\n        buckets {\n          low_value: 1.0\n          high_value: 1.0\n          sample_count: 751.6\n        }\n        buckets {\n          low_value: 1.0\n          high_value: 1.0\n          sample_count: 751.6\n        }\n        buckets {\n          low_value: 1.0\n          high_value: 1.0\n          sample_count: 751.6\n        }\n        type: QUANTILES\n      }\n      tot_num_values: 7516\n    }\n    unique: 4\n    top_values {\n      value: \"Rawah\"\n      frequency: 3384.0\n    }\n    top_values {\n      value: \"Commanche\"\n      frequency: 3248.0\n    }\n    top_values {\n      value: \"Cache\"\n      frequency: 479.0\n    }\n    top_values {\n      value: \"Neota\"\n      frequency: 405.0\n    }\n    avg_length: 6.728579044342041\n    rank_histogram {\n      buckets {\n        label: \"Rawah\"\n        sample_count: 3384.0\n      }\n      buckets {\n        low_rank: 1\n        high_rank: 1\n        label: \"Commanche\"\n        sample_count: 3248.0\n      }\n      buckets {\n        low_rank: 2\n        high_rank: 2\n        label: \"Cache\"\n        sample_count: 479.0\n      }\n      buckets {\n        low_rank: 3\n        high_rank: 3\n        label: \"Neota\"\n        sample_count: 405.0\n      }\n    }\n  }\n  path {\n    step: \"Wilderness_Area\"\n  }\n}\nfeatures {\n  type: STRING\n  string_stats {\n    common_stats {\n      num_non_missing: 7516\n      min_num_values: 1\n      max_num_values: 1\n      avg_num_values: 1.0\n      num_values_histogram {\n        buckets {\n          low_value: 1.0\n          high_value: 1.0\n          sample_count: 751.6\n        }\n        buckets {\n          low_value: 1.0\n          high_value: 1.0\n          sample_count: 751.6\n        }\n        buckets {\n          low_value: 1.0\n          high_value: 1.0\n          sample_count: 751.6\n        }\n        buckets {\n          low_value: 1.0\n          high_value: 1.0\n          sample_count: 751.6\n        }\n        buckets {\n          low_value: 1.0\n          high_value: 1.0\n          sample_count: 751.6\n        }\n        buckets {\n          low_value: 1.0\n          high_value: 1.0\n          sample_count: 751.6\n        }\n        buckets {\n          low_value: 1.0\n          high_value: 1.0\n          sample_count: 751.6\n        }\n        buckets {\n          low_value: 1.0\n          high_value: 1.0\n          sample_count: 751.6\n        }\n        buckets {\n          low_value: 1.0\n          high_value: 1.0\n          sample_count: 751.6\n        }\n        buckets {\n          low_value: 1.0\n          high_value: 1.0\n          sample_count: 751.6\n        }\n        type: QUANTILES\n      }\n      tot_num_values: 7516\n    }\n    unique: 38\n    top_values {\n      value: \"C7745\"\n      frequency: 1535.0\n    }\n    top_values {\n      value: \"C7202\"\n      frequency: 707.0\n    }\n    top_values {\n      value: \"C7756\"\n      frequency: 668.0\n    }\n    top_values {\n      value: \"C7757\"\n      frequency: 580.0\n    }\n    top_values {\n      value: \"C7201\"\n      frequency: 442.0\n    }\n    top_values {\n      value: \"C4703\"\n      frequency: 438.0\n    }\n    top_values {\n      value: \"C7746\"\n      frequency: 390.0\n    }\n    top_values {\n      value: \"C4744\"\n      frequency: 371.0\n    }\n    top_values {\n      value: \"C7755\"\n      frequency: 321.0\n    }\n    top_values {\n      value: \"C7700\"\n      frequency: 279.0\n    }\n    top_values {\n      value: \"C4758\"\n      frequency: 237.0\n    }\n    top_values {\n      value: \"C8771\"\n      frequency: 195.0\n    }\n    top_values {\n      value: \"C8772\"\n      frequency: 184.0\n    }\n    top_values {\n      value: \"C4704\"\n      frequency: 157.0\n    }\n    top_values {\n      value: \"C2705\"\n      frequency: 151.0\n    }\n    top_values {\n      value: \"C7102\"\n      frequency: 137.0\n    }\n    top_values {\n      value: \"C8776\"\n      frequency: 113.0\n    }\n    top_values {\n      value: \"C2703\"\n      frequency: 98.0\n    }\n    top_values {\n      value: \"C2717\"\n      frequency: 84.0\n    }\n    top_values {\n      value: \"C2704\"\n      frequency: 68.0\n    }\n    avg_length: 5.0\n    rank_histogram {\n      buckets {\n        label: \"C7745\"\n        sample_count: 1535.0\n      }\n      buckets {\n        low_rank: 1\n        high_rank: 1\n        label: \"C7202\"\n        sample_count: 707.0\n      }\n      buckets {\n        low_rank: 2\n        high_rank: 2\n        label: \"C7756\"\n        sample_count: 668.0\n      }\n      buckets {\n        low_rank: 3\n        high_rank: 3\n        label: \"C7757\"\n        sample_count: 580.0\n      }\n      buckets {\n        low_rank: 4\n        high_rank: 4\n        label: \"C7201\"\n        sample_count: 442.0\n      }\n      buckets {\n        low_rank: 5\n        high_rank: 5\n        label: \"C4703\"\n        sample_count: 438.0\n      }\n      buckets {\n        low_rank: 6\n        high_rank: 6\n        label: \"C7746\"\n        sample_count: 390.0\n      }\n      buckets {\n        low_rank: 7\n        high_rank: 7\n        label: \"C4744\"\n        sample_count: 371.0\n      }\n      buckets {\n        low_rank: 8\n        high_rank: 8\n        label: \"C7755\"\n        sample_count: 321.0\n      }\n      buckets {\n        low_rank: 9\n        high_rank: 9\n        label: \"C7700\"\n        sample_count: 279.0\n      }\n      buckets {\n        low_rank: 10\n        high_rank: 10\n        label: \"C4758\"\n        sample_count: 237.0\n      }\n      buckets {\n        low_rank: 11\n        high_rank: 11\n        label: \"C8771\"\n        sample_count: 195.0\n      }\n      buckets {\n        low_rank: 12\n        high_rank: 12\n        label: \"C8772\"\n        sample_count: 184.0\n      }\n      buckets {\n        low_rank: 13\n        high_rank: 13\n        label: \"C4704\"\n        sample_count: 157.0\n      }\n      buckets {\n        low_rank: 14\n        high_rank: 14\n        label: \"C2705\"\n        sample_count: 151.0\n      }\n      buckets {\n        low_rank: 15\n        high_rank: 15\n        label: \"C7102\"\n        sample_count: 137.0\n      }\n      buckets {\n        low_rank: 16\n        high_rank: 16\n        label: \"C8776\"\n        sample_count: 113.0\n      }\n      buckets {\n        low_rank: 17\n        high_rank: 17\n        label: \"C2703\"\n        sample_count: 98.0\n      }\n      buckets {\n        low_rank: 18\n        high_rank: 18\n        label: \"C2717\"\n        sample_count: 84.0\n      }\n      buckets {\n        low_rank: 19\n        high_rank: 19\n        label: \"C2704\"\n        sample_count: 68.0\n      }\n      buckets {\n        low_rank: 20\n        high_rank: 20\n        label: \"C7101\"\n        sample_count: 56.0\n      }\n      buckets {\n        low_rank: 21\n        high_rank: 21\n        label: \"C6102\"\n        sample_count: 48.0\n      }\n      buckets {\n        low_rank: 22\n        high_rank: 22\n        label: \"C6101\"\n        sample_count: 35.0\n      }\n      buckets {\n        low_rank: 23\n        high_rank: 23\n        label: \"C7702\"\n        sample_count: 34.0\n      }\n      buckets {\n        low_rank: 24\n        high_rank: 24\n        label: \"C2702\"\n        sample_count: 30.0\n      }\n      buckets {\n        low_rank: 25\n        high_rank: 25\n        label: \"C6731\"\n        sample_count: 24.0\n      }\n      buckets {\n        low_rank: 26\n        high_rank: 26\n        label: \"C7790\"\n        sample_count: 23.0\n      }\n      buckets {\n        low_rank: 27\n        high_rank: 27\n        label: \"C8703\"\n        sample_count: 21.0\n      }\n      buckets {\n        low_rank: 28\n        high_rank: 28\n        label: \"C2706\"\n        sample_count: 19.0\n      }\n      buckets {\n        low_rank: 29\n        high_rank: 29\n        label: \"C7103\"\n        sample_count: 17.0\n      }\n      buckets {\n        low_rank: 30\n        high_rank: 30\n        label: \"C7709\"\n        sample_count: 12.0\n      }\n      buckets {\n        low_rank: 31\n        high_rank: 31\n        label: \"C4201\"\n        sample_count: 11.0\n      }\n      buckets {\n        low_rank: 32\n        high_rank: 32\n        label: \"C7701\"\n        sample_count: 8.0\n      }\n      buckets {\n        low_rank: 33\n        high_rank: 33\n        label: \"C5101\"\n        sample_count: 8.0\n      }\n      buckets {\n        low_rank: 34\n        high_rank: 34\n        label: \"C7710\"\n        sample_count: 7.0\n      }\n      buckets {\n        low_rank: 35\n        high_rank: 35\n        label: \"C8708\"\n        sample_count: 5.0\n      }\n      buckets {\n        low_rank: 36\n        high_rank: 36\n        label: \"C3502\"\n        sample_count: 2.0\n      }\n      buckets {\n        low_rank: 37\n        high_rank: 37\n        label: \"C3501\"\n        sample_count: 1.0\n      }\n    }\n  }\n  path {\n    step: \"Soil_Type\"\n  }\n}\nfeatures {\n  num_stats {\n    common_stats {\n      num_non_missing: 7516\n      min_num_values: 1\n      max_num_values: 1\n      avg_num_values: 1.0\n      num_values_histogram {\n        buckets {\n          low_value: 1.0\n          high_value: 1.0\n          sample_count: 751.6\n        }\n        buckets {\n          low_value: 1.0\n          high_value: 1.0\n          sample_count: 751.6\n        }\n        buckets {\n          low_value: 1.0\n          high_value: 1.0\n          sample_count: 751.6\n        }\n        buckets {\n          low_value: 1.0\n          high_value: 1.0\n          sample_count: 751.6\n        }\n        buckets {\n          low_value: 1.0\n          high_value: 1.0\n          sample_count: 751.6\n        }\n        buckets {\n          low_value: 1.0\n          high_value: 1.0\n          sample_count: 751.6\n        }\n        buckets {\n          low_value: 1.0\n          high_value: 1.0\n          sample_count: 751.6\n        }\n        buckets {\n          low_value: 1.0\n          high_value: 1.0\n          sample_count: 751.6\n        }\n        buckets {\n          low_value: 1.0\n          high_value: 1.0\n          sample_count: 751.6\n        }\n        buckets {\n          low_value: 1.0\n          high_value: 1.0\n          sample_count: 751.6\n        }\n        type: QUANTILES\n      }\n      tot_num_values: 7516\n    }\n    mean: 1.067456093666844\n    std_dev: 1.4041487869622207\n    num_zeros: 2678\n    median: 1.0\n    max: 6.0\n    histograms {\n      buckets {\n        high_value: 0.6\n        sample_count: 2680.2056\n      }\n      buckets {\n        low_value: 0.6\n        high_value: 1.2\n        sample_count: 3694.8656\n      }\n      buckets {\n        low_value: 1.2\n        high_value: 1.7999999999999998\n        sample_count: 4.509599999999999\n      }\n      buckets {\n        low_value: 1.7999999999999998\n        high_value: 2.4\n        sample_count: 478.01759999999996\n      }\n      buckets {\n        low_value: 2.4\n        high_value: 3.0\n        sample_count: 4.509600000000001\n      }\n      buckets {\n        low_value: 3.0\n        high_value: 3.5999999999999996\n        sample_count: 34.5736\n      }\n      buckets {\n        low_value: 3.5999999999999996\n        high_value: 4.2\n        sample_count: 124.7656\n      }\n      buckets {\n        low_value: 4.2\n        high_value: 4.8\n        sample_count: 4.509599999999997\n      }\n      buckets {\n        low_value: 4.8\n        high_value: 5.3999999999999995\n        sample_count: 207.4416\n      }\n      buckets {\n        low_value: 5.3999999999999995\n        high_value: 6.0\n        sample_count: 282.60159999999996\n      }\n    }\n    histograms {\n      buckets {\n        sample_count: 751.6\n      }\n      buckets {\n        sample_count: 751.6\n      }\n      buckets {\n        sample_count: 751.6\n      }\n      buckets {\n        high_value: 1.0\n        sample_count: 751.6\n      }\n      buckets {\n        low_value: 1.0\n        high_value: 1.0\n        sample_count: 751.6\n      }\n      buckets {\n        low_value: 1.0\n        high_value: 1.0\n        sample_count: 751.6\n      }\n      buckets {\n        low_value: 1.0\n        high_value: 1.0\n        sample_count: 751.6\n      }\n      buckets {\n        low_value: 1.0\n        high_value: 1.0\n        sample_count: 751.6\n      }\n      buckets {\n        low_value: 1.0\n        high_value: 2.0\n        sample_count: 751.6\n      }\n      buckets {\n        low_value: 2.0\n        high_value: 6.0\n        sample_count: 751.6\n      }\n      type: QUANTILES\n    }\n  }\n  path {\n    step: \"Cover_Type\"\n  }\n}\nfeatures {\n  type: STRING\n  string_stats {\n    common_stats {\n      num_non_missing: 7516\n      min_num_values: 1\n      max_num_values: 1\n      avg_num_values: 1.0\n      num_values_histogram {\n        buckets {\n          low_value: 1.0\n          high_value: 1.0\n          sample_count: 751.6\n        }\n        buckets {\n          low_value: 1.0\n          high_value: 1.0\n          sample_count: 751.6\n        }\n        buckets {\n          low_value: 1.0\n          high_value: 1.0\n          sample_count: 751.6\n        }\n        buckets {\n          low_value: 1.0\n          high_value: 1.0\n          sample_count: 751.6\n        }\n        buckets {\n          low_value: 1.0\n          high_value: 1.0\n          sample_count: 751.6\n        }\n        buckets {\n          low_value: 1.0\n          high_value: 1.0\n          sample_count: 751.6\n        }\n        buckets {\n          low_value: 1.0\n          high_value: 1.0\n          sample_count: 751.6\n        }\n        buckets {\n          low_value: 1.0\n          high_value: 1.0\n          sample_count: 751.6\n        }\n        buckets {\n          low_value: 1.0\n          high_value: 1.0\n          sample_count: 751.6\n        }\n        buckets {\n          low_value: 1.0\n          high_value: 1.0\n          sample_count: 751.6\n        }\n        type: QUANTILES\n      }\n      tot_num_values: 7516\n    }\n    unique: 1\n    top_values {\n      value: \"C21\"\n      frequency: 7516.0\n    }\n    avg_length: 3.0\n    rank_histogram {\n      buckets {\n        label: \"C21\"\n        sample_count: 7516.0\n      }\n    }\n  }\n  path {\n    step: \"time_window\"\n  }\n}\n\n"
    }
   ],
   "source": [
    "for dataset in stats.datasets:\n",
    "    print('************************')\n",
    "    print('************************')\n",
    "    print(dataset)"
   ]
  },
  {
   "cell_type": "code",
   "execution_count": 57,
   "metadata": {},
   "outputs": [
    {
     "output_type": "execute_result",
     "data": {
      "text/plain": " avg_num_values: 1.0\n        num_values_histogram {\n          buckets {\n            low_value: 1.0\n            high_value: 1.0\n            sample_count: 751.6\n          }\n          buckets {\n            low_value: 1.0\n            high_value: 1.0\n            sample_count: 751.6\n          }\n          buckets {\n            low_value: 1.0\n            high_value: 1.0\n            sample_count: 751.6\n          }\n          buckets {\n            low_value: 1.0\n            high_value: 1.0\n            sample_count: 751.6\n          }\n          buckets {\n            low_value: 1.0\n            high_value: 1.0\n            sample_count: 751.6\n          }\n          buckets {\n            low_value: 1.0\n            high_value: 1.0\n            sample_count: 751.6\n          }\n          buckets {\n            low_value: 1.0\n            high_value: 1.0\n            sample_count: 751.6\n          }\n          buckets {\n            low_value: 1.0\n            high_value: 1.0\n            sample_count: 751.6\n          }\n          buckets {\n            low_value: 1.0\n            high_value: 1.0\n            sample_count: 751.6\n          }\n          buckets {\n            low_value: 1.0\n            high_value: 1.0\n            sample_count: 751.6\n          }\n          type: QUANTILES\n        }\n        tot_num_values: 7516\n      }\n      mean: 1965.6500798296966\n      std_dev: 1312.7912601489688\n      min: 30.0\n      median: 1706.0\n      max: 6968.0\n      histograms {\n        buckets {\n          low_value: 30.0\n          high_value: 723.8\n          sample_count: 1109.3616\n        }\n        buckets {\n          low_value: 723.8\n          high_value: 1417.6\n          sample_count: 1863.4669333333334\n        }\n        buckets {\n          low_value: 1417.6\n          high_value: 2111.3999999999996\n          sample_count: 1779.914066666666\n        }\n        buckets {\n          low_value: 2111.3999999999996\n          high_value: 2805.2\n          sample_count: 1343.8608000000004\n        }\n        buckets {\n          low_value: 2805.2\n          high_value: 3499.0\n          sample_count: 587.6259333333336\n        }\n        buckets {\n          low_value: 3499.0\n          high_value: 4192.799999999999\n          sample_count: 268.97258666666653\n        }\n        buckets {\n          low_value: 4192.799999999999\n          high_value: 4886.599999999999\n          sample_count: 169.54788869565215\n        }\n        buckets {\n          low_value: 4886.599999999999\n          high_value: 5580.4\n          sample_count: 197.94156273291932\n        }\n        buckets {\n          low_value: 5580.4\n          high_value: 6274.2\n          sample_count: 132.2554826254827\n        }\n        buckets {\n          low_value: 6274.2\n          high_value: 6968.0\n          sample_count: 63.05314594594597\n        }\n      }\n      histograms {\n        buckets {\n          low_value: 30.0\n          high_value: 579.0\n          sample_count: 751.6\n        }\n        buckets {\n          low_value: 579.0\n          high_value: 870.0\n          sample_count: 751.6\n        }\n        buckets {\n          low_value: 870.0\n          high_value: 1149.0\n          sample_count: 751.6\n        }\n        buckets {\n          low_value: 1149.0\n          high_value: 1425.0\n          sample_count: 751.6\n        }\n        buckets {\n          low_value: 1425.0\n          high_value: 1706.0\n          sample_count: 751.6\n        }\n        buckets {\n          low_value: 1706.0\n          high_value: 2014.0\n          sample_count: 751.6\n        }\n        buckets {\n          low_value: 2014.0\n          high_value: 2356.0\n          sample_count: 751.6\n        }\n        buckets {\n          low_value: 2356.0\n          high_value: 2764.0\n          sample_count: 751.6\n        }\n        buckets {\n          low_value: 2764.0\n          high_value: 3676.0\n          sample_count: 751.6\n        }\n        buckets {\n          low_value: 3676.0\n          high_value: 6968.0\n          sample_count: 751.6\n        }\n        type: QUANTILES\n      }\n    }\n    path {\n      step: \"Horizontal_Distance_To_Fire_Points\"\n    }\n  }\n  features {\n    type: STRING\n    string_stats {\n      common_stats {\n        num_non_missing: 7516\n        min_num_values: 1\n        max_num_values: 1\n        avg_num_values: 1.0\n        num_values_histogram {\n          buckets {\n            low_value: 1.0\n            high_value: 1.0\n            sample_count: 751.6\n          }\n          buckets {\n            low_value: 1.0\n            high_value: 1.0\n            sample_count: 751.6\n          }\n          buckets {\n            low_value: 1.0\n            high_value: 1.0\n            sample_count: 751.6\n          }\n          buckets {\n            low_value: 1.0\n            high_value: 1.0\n            sample_count: 751.6\n          }\n          buckets {\n            low_value: 1.0\n            high_value: 1.0\n            sample_count: 751.6\n          }\n          buckets {\n            low_value: 1.0\n            high_value: 1.0\n            sample_count: 751.6\n          }\n          buckets {\n            low_value: 1.0\n            high_value: 1.0\n            sample_count: 751.6\n          }\n          buckets {\n            low_value: 1.0\n            high_value: 1.0\n            sample_count: 751.6\n          }\n          buckets {\n            low_value: 1.0\n            high_value: 1.0\n            sample_count: 751.6\n          }\n          buckets {\n            low_value: 1.0\n            high_value: 1.0\n            sample_count: 751.6\n          }\n          type: QUANTILES\n        }\n        tot_num_values: 7516\n      }\n      unique: 4\n      top_values {\n        value: \"Rawah\"\n        frequency: 3384.0\n      }\n      top_values {\n        value: \"Commanche\"\n        frequency: 3248.0\n      }\n      top_values {\n        value: \"Cache\"\n        frequency: 479.0\n      }\n      top_values {\n        value: \"Neota\"\n        frequency: 405.0\n      }\n      avg_length: 6.728579044342041\n      rank_histogram {\n        buckets {\n          label: \"Rawah\"\n          sample_count: 3384.0\n        }\n        buckets {\n          low_rank: 1\n          high_rank: 1\n          label: \"Commanche\"\n          sample_count: 3248.0\n        }\n        buckets {\n          low_rank: 2\n          high_rank: 2\n          label: \"Cache\"\n          sample_count: 479.0\n        }\n        buckets {\n          low_rank: 3\n          high_rank: 3\n          label: \"Neota\"\n          sample_count: 405.0\n        }\n      }\n    }\n    path {\n      step: \"Wilderness_Area\"\n    }\n  }\n  features {\n    type: STRING\n    string_stats {\n      common_stats {\n        num_non_missing: 7516\n        min_num_values: 1\n        max_num_values: 1\n        avg_num_values: 1.0\n        num_values_histogram {\n          buckets {\n            low_value: 1.0\n            high_value: 1.0\n            sample_count: 751.6\n          }\n          buckets {\n            low_value: 1.0\n            high_value: 1.0\n            sample_count: 751.6\n          }\n          buckets {\n            low_value: 1.0\n            high_value: 1.0\n            sample_count: 751.6\n          }\n          buckets {\n            low_value: 1.0\n            high_value: 1.0\n            sample_count: 751.6\n          }\n          buckets {\n            low_value: 1.0\n            high_value: 1.0\n            sample_count: 751.6\n          }\n          buckets {\n            low_value: 1.0\n            high_value: 1.0\n            sample_count: 751.6\n          }\n          buckets {\n            low_value: 1.0\n            high_value: 1.0\n            sample_count: 751.6\n          }\n          buckets {\n            low_value: 1.0\n            high_value: 1.0\n            sample_count: 751.6\n          }\n          buckets {\n            low_value: 1.0\n            high_value: 1.0\n            sample_count: 751.6\n          }\n          buckets {\n            low_value: 1.0\n            high_value: 1.0\n            sample_count: 751.6\n          }\n          type: QUANTILES\n        }\n        tot_num_values: 7516\n      }\n      unique: 38\n      top_values {\n        value: \"C7745\"\n        frequency: 1535.0\n      }\n      top_values {\n        value: \"C7202\"\n        frequency: 707.0\n      }\n      top_values {\n        value: \"C7756\"\n        frequency: 668.0\n      }\n      top_values {\n        value: \"C7757\"\n        frequency: 580.0\n      }\n      top_values {\n        value: \"C7201\"\n        frequency: 442.0\n      }\n      top_values {\n        value: \"C4703\"\n        frequency: 438.0\n      }\n      top_values {\n        value: \"C7746\"\n        frequency: 390.0\n      }\n      top_values {\n        value: \"C4744\"\n        frequency: 371.0\n      }\n      top_values {\n        value: \"C7755\"\n        frequency: 321.0\n      }\n      top_values {\n        value: \"C7700\"\n        frequency: 279.0\n      }\n      top_values {\n        value: \"C4758\"\n        frequency: 237.0\n      }\n      top_values {\n        value: \"C8771\"\n        frequency: 195.0\n      }\n      top_values {\n        value: \"C8772\"\n        frequency: 184.0\n      }\n      top_values {\n        value: \"C4704\"\n        frequency: 157.0\n      }\n      top_values {\n        value: \"C2705\"\n        frequency: 151.0\n      }\n      top_values {\n        value: \"C7102\"\n        frequency: 137.0\n      }\n      top_values {\n        value: \"C8776\"\n        frequency: 113.0\n      }\n      top_values {\n        value: \"C2703\"\n        frequency: 98.0\n      }\n      top_values {\n        value: \"C2717\"\n        frequency: 84.0\n      }\n      top_values {\n        value: \"C2704\"\n        frequency: 68.0\n      }\n      avg_length: 5.0\n      rank_histogram {\n        buckets {\n          label: \"C7745\"\n          sample_count: 1535.0\n        }\n        buckets {\n          low_rank: 1\n          high_rank: 1\n          label: \"C7202\"\n          sample_count: 707.0\n        }\n        buckets {\n          low_rank: 2\n          high_rank: 2\n          label: \"C7756\"\n          sample_count: 668.0\n        }\n        buckets {\n          low_rank: 3\n          high_rank: 3\n          label: \"C7757\"\n          sample_count: 580.0\n        }\n        buckets {\n          low_rank: 4\n          high_rank: 4\n          label: \"C7201\"\n          sample_count: 442.0\n        }\n        buckets {\n          low_rank: 5\n          high_rank: 5\n          label: \"C4703\"\n          sample_count: 438.0\n        }\n        buckets {\n          low_rank: 6\n          high_rank: 6\n          label: \"C7746\"\n          sample_count: 390.0\n        }\n        buckets {\n          low_rank: 7\n          high_rank: 7\n          label: \"C4744\"\n          sample_count: 371.0\n        }\n        buckets {\n          low_rank: 8\n          high_rank: 8\n          label: \"C7755\"\n          sample_count: 321.0\n        }\n        buckets {\n          low_rank: 9\n          high_rank: 9\n          label: \"C7700\"\n          sample_count: 279.0\n        }\n        buckets {\n          low_rank: 10\n          high_rank: 10\n          label: \"C4758\"\n          sample_count: 237.0\n        }\n        buckets {\n          low_rank: 11\n          high_rank: 11\n          label: \"C8771\"\n          sample_count: 195.0\n        }\n        buckets {\n          low_rank: 12\n          high_rank: 12\n          label: \"C8772\"\n          sample_count: 184.0\n        }\n        buckets {\n          low_rank: 13\n          high_rank: 13\n          label: \"C4704\"\n          sample_count: 157.0\n        }\n        buckets {\n          low_rank: 14\n          high_rank: 14\n          label: \"C2705\"\n          sample_count: 151.0\n        }\n        buckets {\n          low_rank: 15\n          high_rank: 15\n          label: \"C7102\"\n          sample_count: 137.0\n        }\n        buckets {\n          low_rank: 16\n          high_rank: 16\n          label: \"C8776\"\n          sample_count: 113.0\n        }\n        buckets {\n          low_rank: 17\n          high_rank: 17\n          label: \"C2703\"\n          sample_count: 98.0\n        }\n        buckets {\n          low_rank: 18\n          high_rank: 18\n          label: \"C2717\"\n          sample_count: 84.0\n        }\n        buckets {\n          low_rank: 19\n          high_rank: 19\n          label: \"C2704\"\n          sample_count: 68.0\n        }\n        buckets {\n          low_rank: 20\n          high_rank: 20\n          label: \"C7101\"\n          sample_count: 56.0\n        }\n        buckets {\n          low_rank: 21\n          high_rank: 21\n          label: \"C6102\"\n          sample_count: 48.0\n        }\n        buckets {\n          low_rank: 22\n          high_rank: 22\n          label: \"C6101\"\n          sample_count: 35.0\n        }\n        buckets {\n          low_rank: 23\n          high_rank: 23\n          label: \"C7702\"\n          sample_count: 34.0\n        }\n        buckets {\n          low_rank: 24\n          high_rank: 24\n          label: \"C2702\"\n          sample_count: 30.0\n        }\n        buckets {\n          low_rank: 25\n          high_rank: 25\n          label: \"C6731\"\n          sample_count: 24.0\n        }\n        buckets {\n          low_rank: 26\n          high_rank: 26\n          label: \"C7790\"\n          sample_count: 23.0\n        }\n        buckets {\n          low_rank: 27\n          high_rank: 27\n          label: \"C8703\"\n          sample_count: 21.0\n        }\n        buckets {\n          low_rank: 28\n          high_rank: 28\n          label: \"C2706\"\n          sample_count: 19.0\n        }\n        buckets {\n          low_rank: 29\n          high_rank: 29\n          label: \"C7103\"\n          sample_count: 17.0\n        }\n        buckets {\n          low_rank: 30\n          high_rank: 30\n          label: \"C7709\"\n          sample_count: 12.0\n        }\n        buckets {\n          low_rank: 31\n          high_rank: 31\n          label: \"C4201\"\n          sample_count: 11.0\n        }\n        buckets {\n          low_rank: 32\n          high_rank: 32\n          label: \"C7701\"\n          sample_count: 8.0\n        }\n        buckets {\n          low_rank: 33\n          high_rank: 33\n          label: \"C5101\"\n          sample_count: 8.0\n        }\n        buckets {\n          low_rank: 34\n          high_rank: 34\n          label: \"C7710\"\n          sample_count: 7.0\n        }\n        buckets {\n          low_rank: 35\n          high_rank: 35\n          label: \"C8708\"\n          sample_count: 5.0\n        }\n        buckets {\n          low_rank: 36\n          high_rank: 36\n          label: \"C3502\"\n          sample_count: 2.0\n        }\n        buckets {\n          low_rank: 37\n          high_rank: 37\n          label: \"C3501\"\n          sample_count: 1.0\n        }\n      }\n    }\n    path {\n      step: \"Soil_Type\"\n    }\n  }\n  features {\n    num_stats {\n      common_stats {\n        num_non_missing: 7516\n        min_num_values: 1\n        max_num_values: 1\n        avg_num_values: 1.0\n        num_values_histogram {\n          buckets {\n            low_value: 1.0\n            high_value: 1.0\n            sample_count: 751.6\n          }\n          buckets {\n            low_value: 1.0\n            high_value: 1.0\n            sample_count: 751.6\n          }\n          buckets {\n            low_value: 1.0\n            high_value: 1.0\n            sample_count: 751.6\n          }\n          buckets {\n            low_value: 1.0\n            high_value: 1.0\n            sample_count: 751.6\n          }\n          buckets {\n            low_value: 1.0\n            high_value: 1.0\n            sample_count: 751.6\n          }\n          buckets {\n            low_value: 1.0\n            high_value: 1.0\n            sample_count: 751.6\n          }\n          buckets {\n            low_value: 1.0\n            high_value: 1.0\n            sample_count: 751.6\n          }\n          buckets {\n            low_value: 1.0\n            high_value: 1.0\n            sample_count: 751.6\n          }\n          buckets {\n            low_value: 1.0\n            high_value: 1.0\n            sample_count: 751.6\n          }\n          buckets {\n            low_value: 1.0\n            high_value: 1.0\n            sample_count: 751.6\n          }\n          type: QUANTILES\n        }\n        tot_num_values: 7516\n      }\n      mean: 1.067456093666844\n      std_dev: 1.4041487869622207\n      num_zeros: 2678\n      median: 1.0\n      max: 6.0\n      histograms {\n        buckets {\n          high_value: 0.6\n          sample_count: 2680.2056\n        }\n        buckets {\n          low_value: 0.6\n          high_value: 1.2\n          sample_count: 3694.8656\n        }\n        buckets {\n          low_value: 1.2\n          high_value: 1.7999999999999998\n          sample_count: 4.509599999999999\n        }\n        buckets {\n          low_value: 1.7999999999999998\n          high_value: 2.4\n          sample_count: 478.01759999999996\n        }\n        buckets {\n          low_value: 2.4\n          high_value: 3.0\n          sample_count: 4.509600000000001\n        }\n        buckets {\n          low_value: 3.0\n          high_value: 3.5999999999999996\n          sample_count: 34.5736\n        }\n        buckets {\n          low_value: 3.5999999999999996\n          high_value: 4.2\n          sample_count: 124.7656\n        }\n        buckets {\n          low_value: 4.2\n          high_value: 4.8\n          sample_count: 4.509599999999997\n        }\n        buckets {\n          low_value: 4.8\n          high_value: 5.3999999999999995\n          sample_count: 207.4416\n        }\n        buckets {\n          low_value: 5.3999999999999995\n          high_value: 6.0\n          sample_count: 282.60159999999996\n        }\n      }\n      histograms {\n        buckets {\n          sample_count: 751.6\n        }\n        buckets {\n          sample_count: 751.6\n        }\n        buckets {\n          sample_count: 751.6\n        }\n        buckets {\n          high_value: 1.0\n          sample_count: 751.6\n        }\n        buckets {\n          low_value: 1.0\n          high_value: 1.0\n          sample_count: 751.6\n        }\n        buckets {\n          low_value: 1.0\n          high_value: 1.0\n          sample_count: 751.6\n        }\n        buckets {\n          low_value: 1.0\n          high_value: 1.0\n          sample_count: 751.6\n        }\n        buckets {\n          low_value: 1.0\n          high_value: 1.0\n          sample_count: 751.6\n        }\n        buckets {\n          low_value: 1.0\n          high_value: 2.0\n          sample_count: 751.6\n        }\n        buckets {\n          low_value: 2.0\n          high_value: 6.0\n          sample_count: 751.6\n        }\n        type: QUANTILES\n      }\n    }\n    path {\n      step: \"Cover_Type\"\n    }\n  }\n  features {\n    type: STRING\n    string_stats {\n      common_stats {\n        num_non_missing: 7516\n        min_num_values: 1\n        max_num_values: 1\n        avg_num_values: 1.0\n        num_values_histogram {\n          buckets {\n            low_value: 1.0\n            high_value: 1.0\n            sample_count: 751.6\n          }\n          buckets {\n            low_value: 1.0\n            high_value: 1.0\n            sample_count: 751.6\n          }\n          buckets {\n            low_value: 1.0\n            high_value: 1.0\n            sample_count: 751.6\n          }\n          buckets {\n            low_value: 1.0\n            high_value: 1.0\n            sample_count: 751.6\n          }\n          buckets {\n            low_value: 1.0\n            high_value: 1.0\n            sample_count: 751.6\n          }\n          buckets {\n            low_value: 1.0\n            high_value: 1.0\n            sample_count: 751.6\n          }\n          buckets {\n            low_value: 1.0\n            high_value: 1.0\n            sample_count: 751.6\n          }\n          buckets {\n            low_value: 1.0\n            high_value: 1.0\n            sample_count: 751.6\n          }\n          buckets {\n            low_value: 1.0\n            high_value: 1.0\n            sample_count: 751.6\n          }\n          buckets {\n            low_value: 1.0\n            high_value: 1.0\n            sample_count: 751.6\n          }\n          type: QUANTILES\n        }\n        tot_num_values: 7516\n      }\n      unique: 1\n      top_values {\n        value: \"C21\"\n        frequency: 7516.0\n      }\n      avg_length: 3.0\n      rank_histogram {\n        buckets {\n          label: \"C21\"\n          sample_count: 7516.0\n        }\n      }\n    }\n    path {\n      step: \"time_window\"\n    }\n  }\n}"
     },
     "metadata": {},
     "execution_count": 57
    }
   ],
   "source": [
    "stats"
   ]
  },
  {
   "cell_type": "markdown",
   "metadata": {},
   "source": [
    "## Run the job"
   ]
  },
  {
   "cell_type": "code",
   "execution_count": 6,
   "metadata": {},
   "outputs": [],
   "source": [
    "project = 'mlops-dev-env'\n",
    "log_table = 'data_validation.test1'\n",
    "model = 'covertype_tf'\n",
    "version = 'v3'\n",
    "start_time = '2020-05-25T16:01:10'\n",
    "end_time = '2020-05-25T22:50:30'\n",
    "output_path = 'gs://mlops-dev-workspace/drift-monitor/output/test'\n",
    "schema_file = 'gs://mlops-dev-workspace/drift-monitor/schema/schema.pbtxt'\n",
    "baseline_stats_file = 'gs://mlops-dev-workspace/drift-monitor/baseline_stats/stats.pbtxt'\n",
    "time_window = '60m'"
   ]
  },
  {
   "cell_type": "code",
   "execution_count": 8,
   "metadata": {},
   "outputs": [
    {
     "output_type": "stream",
     "name": "stdout",
     "text": "gs://mlops-dev-workspace/drift-monitor/schema/schema.pbtxt\n"
    }
   ],
   "source": [
    "!gsutil ls {schema_file}"
   ]
  },
  {
   "cell_type": "code",
   "execution_count": 9,
   "metadata": {},
   "outputs": [
    {
     "output_type": "stream",
     "name": "stdout",
     "text": "WARNING:tensorflow:From /opt/conda/lib/python3.7/site-packages/tensorflow_data_validation/utils/stats_util.py:227: tf_record_iterator (from tensorflow.python.lib.io.tf_record) is deprecated and will be removed in a future version.\nInstructions for updating:\nUse eager execution and: \n`tf.data.TFRecordDataset(path)`\nINFO:root:File gs://mlops-dev-workspace/drift-monitor/baseline_stats/stats.pbtxt did not look like a TFRecord. Try reading as a plain file.\nINFO:root:Starting the request-response log analysis pipeline...\nINFO:root:Missing pipeline option (runner). Executing pipeline using the default runner: DirectRunner.\nINFO:apache_beam.runners.direct.direct_runner:Running pipeline with DirectRunner.\nINFO:apache_beam.internal.gcp.auth:Setting socket default timeout to 60 seconds.\nINFO:apache_beam.internal.gcp.auth:socket default timeout is 60.0 seconds.\nINFO:oauth2client.transport:Attempting refresh to obtain initial access_token\nINFO:apache_beam.io.gcp.bigquery_tools:Using location 'US' from table <TableReference\n datasetId: 'data_validation'\n projectId: 'mlops-dev-env'\n tableId: 'test1'> referenced by query \n        SELECT FORMAT_TIMESTAMP(\"%G-%m-%d %T\", time) as time, raw_data\n        FROM \n            `data_validation.test1`\n        WHERE time BETWEEN '2020-05-25T16:01:00' AND '2020-05-25T22:50:00'\n                AND model='covertype_tf' AND model_version='v3'\n        \nWARNING:apache_beam.io.gcp.bigquery_tools:Dataset mlops-dev-env:temp_dataset_70eba024bc524e6d82d846ab9fd326df does not exist so we will create it as temporary with location=US\nINFO:numexpr.utils:NumExpr defaulting to 4 threads.\n2020-06-03 21:20:08.704136: W tensorflow/stream_executor/platform/default/dso_loader.cc:55] Could not load dynamic library 'libcuda.so.1'; dlerror: libcuda.so.1: cannot open shared object file: No such file or directory\n2020-06-03 21:20:08.704183: E tensorflow/stream_executor/cuda/cuda_driver.cc:313] failed call to cuInit: UNKNOWN ERROR (303)\n2020-06-03 21:20:08.704217: I tensorflow/stream_executor/cuda/cuda_diagnostics.cc:156] kernel driver does not appear to be running on this host (jk-drift): /proc/driver/nvidia/version does not exist\n2020-06-03 21:20:08.704750: I tensorflow/core/platform/cpu_feature_guard.cc:143] Your CPU supports instructions that this TensorFlow binary was not compiled to use: AVX2 FMA\n2020-06-03 21:20:08.714188: I tensorflow/core/platform/profile_utils/cpu_utils.cc:102] CPU Frequency: 2200000000 Hz\n2020-06-03 21:20:08.714662: I tensorflow/compiler/xla/service/service.cc:168] XLA service 0x7fbd10b09e30 initialized for platform Host (this does not guarantee that XLA will be used). Devices:\n2020-06-03 21:20:08.714700: I tensorflow/compiler/xla/service/service.cc:176]   StreamExecutor device (0): Host, Default Version\nWARNING:root:Multiple datasets found in statistics. Using the default slice dataset.\nWARNING:apache_beam.io.tfrecordio:Couldn't find python-snappy so the implementation of _TFRecordUtil._masked_crc32c is not as fast as it could be.\nWARNING:apache_beam.io.filebasedsink:Deleting 1 existing files in target path matching: \nWARNING:apache_beam.io.filebasedsink:Deleting 1 existing files in target path matching: \nINFO:apache_beam.io.gcp.gcsio:Starting the size estimation of the input\nINFO:apache_beam.io.gcp.gcsio:Finished listing 1 files in 0.08195114135742188 seconds.\nINFO:apache_beam.io.filebasedsink:Starting finalize_write threads with num_shards: 1 (skipped: 0), batches: 1, num_threads: 1\nINFO:apache_beam.io.filebasedsink:Renamed 1 shards in 0.50 seconds.\nINFO:apache_beam.io.gcp.gcsio:Starting the size estimation of the input\nINFO:apache_beam.io.gcp.gcsio:Finished listing 1 files in 0.07848644256591797 seconds.\nINFO:apache_beam.io.filebasedsink:Starting finalize_write threads with num_shards: 1 (skipped: 0), batches: 1, num_threads: 1\nINFO:apache_beam.io.filebasedsink:Renamed 1 shards in 0.50 seconds.\nINFO:root:The request-response log analysis pipeline completed.\n{'Wilderness_Area': description: \"Examples contain values missing from the schema: Others (~1%). \"\nseverity: ERROR\nshort_description: \"Unexpected string values\"\nreason {\n  type: ENUM_TYPE_UNEXPECTED_STRING_VALUES\n  short_description: \"Unexpected string values\"\n  description: \"Examples contain values missing from the schema: Others (~1%). \"\n}\npath {\n  step: \"Wilderness_Area\"\n}\n, 'Soil_Type': description: \"Examples contain values missing from the schema: 3501 (<1%), 3502 (<1%), 7710 (<1%), 8708 (<1%). \"\nseverity: ERROR\nshort_description: \"Unexpected string values\"\nreason {\n  type: ENUM_TYPE_UNEXPECTED_STRING_VALUES\n  short_description: \"Unexpected string values\"\n  description: \"Examples contain values missing from the schema: 3501 (<1%), 3502 (<1%), 7710 (<1%), 8708 (<1%). \"\n}\npath {\n  step: \"Soil_Type\"\n}\n}\n"
    }
   ],
   "source": [
    "!python ../run.py \\\n",
    "--project={project} \\\n",
    "--request_response_log_table={log_table} \\\n",
    "--model={model} \\\n",
    "--version={version}\\\n",
    "--start_time={start_time} \\\n",
    "--end_time={end_time} \\\n",
    "--output_path={output_path} \\\n",
    "--schema_file={schema_file} \\\n",
    "--baseline_stats_file={baseline_stats_file} \\\n",
    "--time_window={time_window}"
   ]
  },
  {
   "cell_type": "code",
   "execution_count": null,
   "metadata": {},
   "outputs": [],
   "source": []
  }
 ],
 "metadata": {
  "language_info": {
   "codemirror_mode": {
    "name": "ipython",
    "version": 3
   },
   "file_extension": ".py",
   "mimetype": "text/x-python",
   "name": "python",
   "nbconvert_exporter": "python",
   "pygments_lexer": "ipython3",
   "version": "3.7.6-final"
  },
  "orig_nbformat": 2,
  "kernelspec": {
   "name": "python3",
   "display_name": "Python 3"
  }
 },
 "nbformat": 4,
 "nbformat_minor": 2
}