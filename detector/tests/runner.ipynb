{
 "cells": [
  {
   "cell_type": "code",
   "execution_count": 58,
   "metadata": {},
   "outputs": [],
   "source": [
    "import tensorflow_data_validation as tfdv\n",
    "import pandas as pd\n",
    "import datetime\n",
    "\n",
    "from tensorflow_data_validation.utils import slicing_util\n",
    "from typing import List, Optional, Text, Union, Dict, Iterable, Mapping\n",
    "\n",
    "from tensorflow_metadata.proto.v0 import schema_pb2"
   ]
  },
  {
   "cell_type": "code",
   "execution_count": 59,
   "metadata": {},
   "outputs": [
    {
     "output_type": "execute_result",
     "data": {
      "text/plain": "'0.22.0'"
     },
     "metadata": {},
     "execution_count": 59
    }
   ],
   "source": [
    "tfdv.__version__"
   ]
  },
  {
   "cell_type": "markdown",
   "metadata": {},
   "source": [
    "## Configure environment settings"
   ]
  },
  {
   "cell_type": "code",
   "execution_count": 60,
   "metadata": {},
   "outputs": [],
   "source": [
    "base_schema_path = 'gs://mlops-dev-workspace/drift-monitor/templates/schema/schema.pbtxt'\n",
    "baseline_stats_path = 'gs://mlops-dev-workspace/drift-monitor/templates/baseline_stats/stats.pbtxt'\n",
    "schema_path = 'gs://mlops-dev-workspace/drift-monitor/schema/schema.pbtxt'"
   ]
  },
  {
   "cell_type": "code",
   "execution_count": 61,
   "metadata": {},
   "outputs": [
    {
     "output_type": "display_data",
     "data": {
      "text/plain": "                                        Type  Presence Valency  \\\nFeature name                                                     \n'Elevation'                           FLOAT   required           \n'Aspect'                              FLOAT   required           \n'Slope'                               FLOAT   required           \n'Horizontal_Distance_To_Hydrology'    FLOAT   required           \n'Vertical_Distance_To_Hydrology'      FLOAT   required           \n'Horizontal_Distance_To_Roadways'     FLOAT   required           \n'Hillshade_9am'                       FLOAT   required           \n'Hillshade_Noon'                      FLOAT   required           \n'Hillshade_3pm'                       FLOAT   required           \n'Horizontal_Distance_To_Fire_Points'  FLOAT   required           \n'Soil_Type'                           STRING  required           \n'Wilderness_Area'                     STRING  required           \n\n                                                 Domain  \nFeature name                                             \n'Elevation'                           -                  \n'Aspect'                              -                  \n'Slope'                               -                  \n'Horizontal_Distance_To_Hydrology'    -                  \n'Vertical_Distance_To_Hydrology'      -                  \n'Horizontal_Distance_To_Roadways'     -                  \n'Hillshade_9am'                       -                  \n'Hillshade_Noon'                      -                  \n'Hillshade_3pm'                       -                  \n'Horizontal_Distance_To_Fire_Points'  -                  \n'Soil_Type'                           'Soil_Type'        \n'Wilderness_Area'                     'Wilderness_Area'  ",
      "text/html": "<div>\n<style scoped>\n    .dataframe tbody tr th:only-of-type {\n        vertical-align: middle;\n    }\n\n    .dataframe tbody tr th {\n        vertical-align: top;\n    }\n\n    .dataframe thead th {\n        text-align: right;\n    }\n</style>\n<table border=\"1\" class=\"dataframe\">\n  <thead>\n    <tr style=\"text-align: right;\">\n      <th></th>\n      <th>Type</th>\n      <th>Presence</th>\n      <th>Valency</th>\n      <th>Domain</th>\n    </tr>\n    <tr>\n      <th>Feature name</th>\n      <th></th>\n      <th></th>\n      <th></th>\n      <th></th>\n    </tr>\n  </thead>\n  <tbody>\n    <tr>\n      <th>'Elevation'</th>\n      <td>FLOAT</td>\n      <td>required</td>\n      <td></td>\n      <td>-</td>\n    </tr>\n    <tr>\n      <th>'Aspect'</th>\n      <td>FLOAT</td>\n      <td>required</td>\n      <td></td>\n      <td>-</td>\n    </tr>\n    <tr>\n      <th>'Slope'</th>\n      <td>FLOAT</td>\n      <td>required</td>\n      <td></td>\n      <td>-</td>\n    </tr>\n    <tr>\n      <th>'Horizontal_Distance_To_Hydrology'</th>\n      <td>FLOAT</td>\n      <td>required</td>\n      <td></td>\n      <td>-</td>\n    </tr>\n    <tr>\n      <th>'Vertical_Distance_To_Hydrology'</th>\n      <td>FLOAT</td>\n      <td>required</td>\n      <td></td>\n      <td>-</td>\n    </tr>\n    <tr>\n      <th>'Horizontal_Distance_To_Roadways'</th>\n      <td>FLOAT</td>\n      <td>required</td>\n      <td></td>\n      <td>-</td>\n    </tr>\n    <tr>\n      <th>'Hillshade_9am'</th>\n      <td>FLOAT</td>\n      <td>required</td>\n      <td></td>\n      <td>-</td>\n    </tr>\n    <tr>\n      <th>'Hillshade_Noon'</th>\n      <td>FLOAT</td>\n      <td>required</td>\n      <td></td>\n      <td>-</td>\n    </tr>\n    <tr>\n      <th>'Hillshade_3pm'</th>\n      <td>FLOAT</td>\n      <td>required</td>\n      <td></td>\n      <td>-</td>\n    </tr>\n    <tr>\n      <th>'Horizontal_Distance_To_Fire_Points'</th>\n      <td>FLOAT</td>\n      <td>required</td>\n      <td></td>\n      <td>-</td>\n    </tr>\n    <tr>\n      <th>'Soil_Type'</th>\n      <td>STRING</td>\n      <td>required</td>\n      <td></td>\n      <td>'Soil_Type'</td>\n    </tr>\n    <tr>\n      <th>'Wilderness_Area'</th>\n      <td>STRING</td>\n      <td>required</td>\n      <td></td>\n      <td>'Wilderness_Area'</td>\n    </tr>\n  </tbody>\n</table>\n</div>"
     },
     "metadata": {}
    },
    {
     "output_type": "display_data",
     "data": {
      "text/plain": "                                                                                                                                                                                                                                                                                                   Values\nDomain                                                                                                                                                                                                                                                                                                   \n'Wilderness_Area'  'Cache', 'Commanche', 'Neota', 'Rawah'                                                                                                                                                                                                                                                \n'Soil_Type'        '7745', '7202', '7757', '7756', '7201', '4744', '4703', '7746', '7755', '7700', '8771', '4704', '4758', '8772', '2703', '2705', '7102', '8776', '2717', '6102', '2704', '8703', '7790', '7101', '2702', '6101', '7702', '7103', '6731', '8707', '7709', '7701', '5101', '4201', '2706'",
      "text/html": "<div>\n<style scoped>\n    .dataframe tbody tr th:only-of-type {\n        vertical-align: middle;\n    }\n\n    .dataframe tbody tr th {\n        vertical-align: top;\n    }\n\n    .dataframe thead th {\n        text-align: right;\n    }\n</style>\n<table border=\"1\" class=\"dataframe\">\n  <thead>\n    <tr style=\"text-align: right;\">\n      <th></th>\n      <th>Values</th>\n    </tr>\n    <tr>\n      <th>Domain</th>\n      <th></th>\n    </tr>\n  </thead>\n  <tbody>\n    <tr>\n      <th>'Wilderness_Area'</th>\n      <td>'Cache', 'Commanche', 'Neota', 'Rawah'</td>\n    </tr>\n    <tr>\n      <th>'Soil_Type'</th>\n      <td>'7745', '7202', '7757', '7756', '7201', '4744', '4703', '7746', '7755', '7700', '8771', '4704', '4758', '8772', '2703', '2705', '7102', '8776', '2717', '6102', '2704', '8703', '7790', '7101', '2702', '6101', '7702', '7103', '6731', '8707', '7709', '7701', '5101', '4201', '2706'</td>\n    </tr>\n  </tbody>\n</table>\n</div>"
     },
     "metadata": {}
    }
   ],
   "source": [
    "schema = tfdv.load_schema_text(base_schema_path)\n",
    "tfdv.display_schema(schema)"
   ]
  },
  {
   "cell_type": "markdown",
   "metadata": {},
   "source": [
    "### Fine tune the schema"
   ]
  },
  {
   "cell_type": "code",
   "execution_count": 43,
   "metadata": {},
   "outputs": [],
   "source": [
    "# Do your stuff\n",
    "#for feature in schema.feature:\n",
    "#    print(feature.name)\n",
    "#path = tfdv.FeaturePath(\"Wilderness_Area\")"
   ]
  },
  {
   "cell_type": "code",
   "execution_count": 44,
   "metadata": {},
   "outputs": [],
   "source": [
    "#tfdv.set_domain(schema, 'Elevation',  schema_pb2.FloatDomain(name='Elevation', min=1000, max=3000))"
   ]
  },
  {
   "cell_type": "code",
   "execution_count": 63,
   "metadata": {},
   "outputs": [
    {
     "output_type": "display_data",
     "data": {
      "text/plain": "                                        Type  Presence Valency  \\\nFeature name                                                     \n'Elevation'                           FLOAT   required           \n'Aspect'                              FLOAT   required           \n'Slope'                               FLOAT   required           \n'Horizontal_Distance_To_Hydrology'    FLOAT   required           \n'Vertical_Distance_To_Hydrology'      FLOAT   required           \n'Horizontal_Distance_To_Roadways'     FLOAT   required           \n'Hillshade_9am'                       FLOAT   required           \n'Hillshade_Noon'                      FLOAT   required           \n'Hillshade_3pm'                       FLOAT   required           \n'Horizontal_Distance_To_Fire_Points'  FLOAT   required           \n'Soil_Type'                           STRING  required           \n'Wilderness_Area'                     STRING  required           \n\n                                                 Domain  \nFeature name                                             \n'Elevation'                           -                  \n'Aspect'                              -                  \n'Slope'                               -                  \n'Horizontal_Distance_To_Hydrology'    -                  \n'Vertical_Distance_To_Hydrology'      -                  \n'Horizontal_Distance_To_Roadways'     -                  \n'Hillshade_9am'                       -                  \n'Hillshade_Noon'                      -                  \n'Hillshade_3pm'                       -                  \n'Horizontal_Distance_To_Fire_Points'  -                  \n'Soil_Type'                           'Soil_Type'        \n'Wilderness_Area'                     'Wilderness_Area'  ",
      "text/html": "<div>\n<style scoped>\n    .dataframe tbody tr th:only-of-type {\n        vertical-align: middle;\n    }\n\n    .dataframe tbody tr th {\n        vertical-align: top;\n    }\n\n    .dataframe thead th {\n        text-align: right;\n    }\n</style>\n<table border=\"1\" class=\"dataframe\">\n  <thead>\n    <tr style=\"text-align: right;\">\n      <th></th>\n      <th>Type</th>\n      <th>Presence</th>\n      <th>Valency</th>\n      <th>Domain</th>\n    </tr>\n    <tr>\n      <th>Feature name</th>\n      <th></th>\n      <th></th>\n      <th></th>\n      <th></th>\n    </tr>\n  </thead>\n  <tbody>\n    <tr>\n      <th>'Elevation'</th>\n      <td>FLOAT</td>\n      <td>required</td>\n      <td></td>\n      <td>-</td>\n    </tr>\n    <tr>\n      <th>'Aspect'</th>\n      <td>FLOAT</td>\n      <td>required</td>\n      <td></td>\n      <td>-</td>\n    </tr>\n    <tr>\n      <th>'Slope'</th>\n      <td>FLOAT</td>\n      <td>required</td>\n      <td></td>\n      <td>-</td>\n    </tr>\n    <tr>\n      <th>'Horizontal_Distance_To_Hydrology'</th>\n      <td>FLOAT</td>\n      <td>required</td>\n      <td></td>\n      <td>-</td>\n    </tr>\n    <tr>\n      <th>'Vertical_Distance_To_Hydrology'</th>\n      <td>FLOAT</td>\n      <td>required</td>\n      <td></td>\n      <td>-</td>\n    </tr>\n    <tr>\n      <th>'Horizontal_Distance_To_Roadways'</th>\n      <td>FLOAT</td>\n      <td>required</td>\n      <td></td>\n      <td>-</td>\n    </tr>\n    <tr>\n      <th>'Hillshade_9am'</th>\n      <td>FLOAT</td>\n      <td>required</td>\n      <td></td>\n      <td>-</td>\n    </tr>\n    <tr>\n      <th>'Hillshade_Noon'</th>\n      <td>FLOAT</td>\n      <td>required</td>\n      <td></td>\n      <td>-</td>\n    </tr>\n    <tr>\n      <th>'Hillshade_3pm'</th>\n      <td>FLOAT</td>\n      <td>required</td>\n      <td></td>\n      <td>-</td>\n    </tr>\n    <tr>\n      <th>'Horizontal_Distance_To_Fire_Points'</th>\n      <td>FLOAT</td>\n      <td>required</td>\n      <td></td>\n      <td>-</td>\n    </tr>\n    <tr>\n      <th>'Soil_Type'</th>\n      <td>STRING</td>\n      <td>required</td>\n      <td></td>\n      <td>'Soil_Type'</td>\n    </tr>\n    <tr>\n      <th>'Wilderness_Area'</th>\n      <td>STRING</td>\n      <td>required</td>\n      <td></td>\n      <td>'Wilderness_Area'</td>\n    </tr>\n  </tbody>\n</table>\n</div>"
     },
     "metadata": {}
    },
    {
     "output_type": "display_data",
     "data": {
      "text/plain": "                                                                                                                                                                                                                                                                                                   Values\nDomain                                                                                                                                                                                                                                                                                                   \n'Wilderness_Area'  'Cache', 'Commanche', 'Neota', 'Rawah'                                                                                                                                                                                                                                                \n'Soil_Type'        '7745', '7202', '7757', '7756', '7201', '4744', '4703', '7746', '7755', '7700', '8771', '4704', '4758', '8772', '2703', '2705', '7102', '8776', '2717', '6102', '2704', '8703', '7790', '7101', '2702', '6101', '7702', '7103', '6731', '8707', '7709', '7701', '5101', '4201', '2706'",
      "text/html": "<div>\n<style scoped>\n    .dataframe tbody tr th:only-of-type {\n        vertical-align: middle;\n    }\n\n    .dataframe tbody tr th {\n        vertical-align: top;\n    }\n\n    .dataframe thead th {\n        text-align: right;\n    }\n</style>\n<table border=\"1\" class=\"dataframe\">\n  <thead>\n    <tr style=\"text-align: right;\">\n      <th></th>\n      <th>Values</th>\n    </tr>\n    <tr>\n      <th>Domain</th>\n      <th></th>\n    </tr>\n  </thead>\n  <tbody>\n    <tr>\n      <th>'Wilderness_Area'</th>\n      <td>'Cache', 'Commanche', 'Neota', 'Rawah'</td>\n    </tr>\n    <tr>\n      <th>'Soil_Type'</th>\n      <td>'7745', '7202', '7757', '7756', '7201', '4744', '4703', '7746', '7755', '7700', '8771', '4704', '4758', '8772', '2703', '2705', '7102', '8776', '2717', '6102', '2704', '8703', '7790', '7101', '2702', '6101', '7702', '7103', '6731', '8707', '7709', '7701', '5101', '4201', '2706'</td>\n    </tr>\n  </tbody>\n</table>\n</div>"
     },
     "metadata": {}
    }
   ],
   "source": [
    "tfdv.display_schema(schema)"
   ]
  },
  {
   "cell_type": "markdown",
   "metadata": {},
   "source": [
    "### Save the updated schema"
   ]
  },
  {
   "cell_type": "code",
   "execution_count": 62,
   "metadata": {},
   "outputs": [],
   "source": [
    "#tfdv.get_feature(schema, 'Wilderness_Area').skew_comparator.infinity_norm.threshold = 0.001"
   ]
  },
  {
   "cell_type": "code",
   "execution_count": 64,
   "metadata": {},
   "outputs": [],
   "source": [
    "tfdv.write_schema_text(schema, schema_path)"
   ]
  },
  {
   "cell_type": "markdown",
   "metadata": {},
   "source": [
    "## Run the job"
   ]
  },
  {
   "cell_type": "code",
   "execution_count": 77,
   "metadata": {},
   "outputs": [],
   "source": [
    "project = 'mlops-dev-env'\n",
    "log_table = 'data_validation.test1'\n",
    "model = 'covertype_tf'\n",
    "version = 'v3'\n",
    "start_time = '2020-05-25T16:00:00'\n",
    "end_time = '2020-05-25T16:30:00'\n",
    "output_path = 'gs://mlops-dev-workspace/drift-monitor/output/test'\n",
    "baseline_stats_file = 'gs://mlops-dev-workspace/drift-monitor/baseline_stats/stats.pbtxt'\n",
    "time_window = '60m'"
   ]
  },
  {
   "cell_type": "code",
   "execution_count": 78,
   "metadata": {},
   "outputs": [
    {
     "output_type": "stream",
     "name": "stdout",
     "text": "WARNING:tensorflow:From /opt/conda/lib/python3.7/site-packages/tensorflow_data_validation/utils/stats_util.py:227: tf_record_iterator (from tensorflow.python.lib.io.tf_record) is deprecated and will be removed in a future version.\nInstructions for updating:\nUse eager execution and: \n`tf.data.TFRecordDataset(path)`\nINFO:root:File gs://mlops-dev-workspace/drift-monitor/baseline_stats/stats.pbtxt did not look like a TFRecord. Try reading as a plain file.\nINFO:root:Starting the request-response log analysis pipeline...\nINFO:root:Missing pipeline option (runner). Executing pipeline using the default runner: DirectRunner.\nINFO:apache_beam.runners.direct.direct_runner:Running pipeline with DirectRunner.\nINFO:apache_beam.internal.gcp.auth:Setting socket default timeout to 60 seconds.\nINFO:apache_beam.internal.gcp.auth:socket default timeout is 60.0 seconds.\nINFO:oauth2client.transport:Attempting refresh to obtain initial access_token\nINFO:apache_beam.io.gcp.bigquery_tools:Using location 'US' from table <TableReference\n datasetId: 'data_validation'\n projectId: 'mlops-dev-env'\n tableId: 'test1'> referenced by query \n        SELECT FORMAT_TIMESTAMP(\"%G-%m-%d %T\", time) as time, raw_data\n        FROM \n            `data_validation.test1`\n        WHERE time BETWEEN '2020-05-25T16:00:00' AND '2020-05-25T16:30:00'\n                AND model='covertype_tf' AND model_version='v3'\n        \nWARNING:apache_beam.io.gcp.bigquery_tools:Dataset mlops-dev-env:temp_dataset_f3cb6719adc7487dab033c51b493701a does not exist so we will create it as temporary with location=US\n2020-06-03 23:10:28.393288: W tensorflow/stream_executor/platform/default/dso_loader.cc:55] Could not load dynamic library 'libcuda.so.1'; dlerror: libcuda.so.1: cannot open shared object file: No such file or directory\n2020-06-03 23:10:28.393335: E tensorflow/stream_executor/cuda/cuda_driver.cc:313] failed call to cuInit: UNKNOWN ERROR (303)\n2020-06-03 23:10:28.393365: I tensorflow/stream_executor/cuda/cuda_diagnostics.cc:156] kernel driver does not appear to be running on this host (jk-drift): /proc/driver/nvidia/version does not exist\n2020-06-03 23:10:28.393787: I tensorflow/core/platform/cpu_feature_guard.cc:143] Your CPU supports instructions that this TensorFlow binary was not compiled to use: AVX2 FMA\n2020-06-03 23:10:28.403484: I tensorflow/core/platform/profile_utils/cpu_utils.cc:102] CPU Frequency: 2200000000 Hz\n2020-06-03 23:10:28.404137: I tensorflow/compiler/xla/service/service.cc:168] XLA service 0x7fac342f8140 initialized for platform Host (this does not guarantee that XLA will be used). Devices:\n2020-06-03 23:10:28.404182: I tensorflow/compiler/xla/service/service.cc:176]   StreamExecutor device (0): Host, Default Version\nWARNING:apache_beam.io.tfrecordio:Couldn't find python-snappy so the implementation of _TFRecordUtil._masked_crc32c is not as fast as it could be.\nWARNING:apache_beam.io.filebasedsink:Deleting 1 existing files in target path matching: \nWARNING:apache_beam.io.filebasedsink:Deleting 1 existing files in target path matching: \nINFO:apache_beam.io.gcp.gcsio:Starting the size estimation of the input\nINFO:apache_beam.io.gcp.gcsio:Finished listing 1 files in 0.0793449878692627 seconds.\nINFO:apache_beam.io.filebasedsink:Starting finalize_write threads with num_shards: 1 (skipped: 0), batches: 1, num_threads: 1\nINFO:apache_beam.io.filebasedsink:Renamed 1 shards in 0.50 seconds.\nINFO:apache_beam.io.gcp.gcsio:Starting the size estimation of the input\nINFO:apache_beam.io.gcp.gcsio:Finished listing 1 files in 0.07260680198669434 seconds.\nINFO:apache_beam.io.filebasedsink:Starting finalize_write threads with num_shards: 1 (skipped: 0), batches: 1, num_threads: 1\nINFO:apache_beam.io.filebasedsink:Renamed 1 shards in 0.50 seconds.\nINFO:root:The request-response log analysis pipeline completed.\n{}\n"
    }
   ],
   "source": [
    "!python ../run.py \\\n",
    "--project={project} \\\n",
    "--request_response_log_table={log_table} \\\n",
    "--model={model} \\\n",
    "--version={version}\\\n",
    "--start_time={start_time} \\\n",
    "--end_time={end_time} \\\n",
    "--output_path={output_path} \\\n",
    "--schema_file={schema_path} \\\n",
    "--baseline_stats_file={baseline_stats_file} \\\n",
    "--time_window={time_window}"
   ]
  },
  {
   "cell_type": "markdown",
   "metadata": {},
   "source": [
    "## Analyze results"
   ]
  },
  {
   "cell_type": "code",
   "execution_count": 80,
   "metadata": {},
   "outputs": [
    {
     "output_type": "stream",
     "name": "stdout",
     "text": "\n"
    }
   ],
   "source": [
    "stats = tfdv.load_statistics(stats_path)\n",
    "for dataset in stats.datasets:\n",
    "    print(dataset.name)"
   ]
  },
  {
   "cell_type": "code",
   "execution_count": 83,
   "metadata": {},
   "outputs": [
    {
     "output_type": "stream",
     "name": "stdout",
     "text": "gs://mlops-dev-workspace/drift-monitor/output/test/anomalies.pbtxt\n"
    }
   ],
   "source": [
    "anomalies_path = output_path + '/' + 'anomalies.pbtxt'\n",
    "!gsutil ls {anomalies_path}"
   ]
  },
  {
   "cell_type": "code",
   "execution_count": 79,
   "metadata": {},
   "outputs": [
    {
     "output_type": "stream",
     "name": "stdout",
     "text": "gs://mlops-dev-workspace/drift-monitor/output/test/stats.pb\n"
    }
   ],
   "source": [
    "stats_path = output_path + '/' + 'stats.pb'\n",
    "!gsutil ls {stats_path}"
   ]
  },
  {
   "cell_type": "code",
   "execution_count": 84,
   "metadata": {},
   "outputs": [
    {
     "output_type": "display_data",
     "data": {
      "text/plain": "<IPython.core.display.HTML object>",
      "text/html": "<h4 style=\"color:green;\">No anomalies found.</h4>"
     },
     "metadata": {}
    }
   ],
   "source": [
    "anomalies = tfdv.load_anomalies_text(anomalies_path)\n",
    "tfdv.display_anomalies(anomalies)"
   ]
  },
  {
   "cell_type": "code",
   "execution_count": 81,
   "metadata": {},
   "outputs": [
    {
     "output_type": "display_data",
     "data": {
      "text/plain": "<IPython.core.display.HTML object>",
      "text/html": "<iframe id='facets-iframe' width=\"100%\" height=\"500px\"></iframe>\n        <script>\n        facets_iframe = document.getElementById('facets-iframe');\n        facets_html = '<script src=\"https://cdnjs.cloudflare.com/ajax/libs/webcomponentsjs/1.3.3/webcomponents-lite.js\"><\\/script><link rel=\"import\" href=\"https://raw.githubusercontent.com/PAIR-code/facets/master/facets-dist/facets-jupyter.html\"><facets-overview proto-input=\"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\"></facets-overview>';\n        facets_iframe.srcdoc = facets_html;\n         facets_iframe.id = \"\";\n         setTimeout(() => {\n           facets_iframe.setAttribute('height', facets_iframe.contentWindow.document.body.offsetHeight + 'px')\n         }, 1500)\n         </script>"
     },
     "metadata": {}
    }
   ],
   "source": [
    "tfdv.visualize_statistics(stats)"
   ]
  },
  {
   "cell_type": "code",
   "execution_count": 82,
   "metadata": {},
   "outputs": [
    {
     "output_type": "error",
     "ename": "ValueError",
     "evalue": "Invalid slice key.",
     "traceback": [
      "\u001b[0;31m---------------------------------------------------------------------------\u001b[0m",
      "\u001b[0;31mValueError\u001b[0m                                Traceback (most recent call last)",
      "\u001b[0;32m<ipython-input-82-240451fbc01b>\u001b[0m in \u001b[0;36m<module>\u001b[0;34m\u001b[0m\n\u001b[0;32m----> 1\u001b[0;31m \u001b[0mall_examples_stats\u001b[0m \u001b[0;34m=\u001b[0m \u001b[0mtfdv\u001b[0m\u001b[0;34m.\u001b[0m\u001b[0mget_slice_stats\u001b[0m\u001b[0;34m(\u001b[0m\u001b[0mstats\u001b[0m\u001b[0;34m,\u001b[0m \u001b[0;34m\"All Examples\"\u001b[0m\u001b[0;34m)\u001b[0m\u001b[0;34m\u001b[0m\u001b[0;34m\u001b[0m\u001b[0m\n\u001b[0m\u001b[1;32m      2\u001b[0m \u001b[0mtfdv\u001b[0m\u001b[0;34m.\u001b[0m\u001b[0mvisualize_statistics\u001b[0m\u001b[0;34m(\u001b[0m\u001b[0mall_examples_stats\u001b[0m\u001b[0;34m)\u001b[0m\u001b[0;34m\u001b[0m\u001b[0;34m\u001b[0m\u001b[0m\n",
      "\u001b[0;32m/opt/conda/lib/python3.7/site-packages/tensorflow_data_validation/utils/stats_util.py\u001b[0m in \u001b[0;36mget_slice_stats\u001b[0;34m(statistics, slice_key)\u001b[0m\n\u001b[1;32m    313\u001b[0m       \u001b[0mresult\u001b[0m\u001b[0;34m.\u001b[0m\u001b[0mdatasets\u001b[0m\u001b[0;34m.\u001b[0m\u001b[0madd\u001b[0m\u001b[0;34m(\u001b[0m\u001b[0;34m)\u001b[0m\u001b[0;34m.\u001b[0m\u001b[0mCopyFrom\u001b[0m\u001b[0;34m(\u001b[0m\u001b[0mslice_stats\u001b[0m\u001b[0;34m)\u001b[0m\u001b[0;34m\u001b[0m\u001b[0;34m\u001b[0m\u001b[0m\n\u001b[1;32m    314\u001b[0m       \u001b[0;32mreturn\u001b[0m \u001b[0mresult\u001b[0m\u001b[0;34m\u001b[0m\u001b[0;34m\u001b[0m\u001b[0m\n\u001b[0;32m--> 315\u001b[0;31m   \u001b[0;32mraise\u001b[0m \u001b[0mValueError\u001b[0m\u001b[0;34m(\u001b[0m\u001b[0;34m'Invalid slice key.'\u001b[0m\u001b[0;34m)\u001b[0m\u001b[0;34m\u001b[0m\u001b[0;34m\u001b[0m\u001b[0m\n\u001b[0m\u001b[1;32m    316\u001b[0m \u001b[0;34m\u001b[0m\u001b[0m\n\u001b[1;32m    317\u001b[0m \u001b[0;34m\u001b[0m\u001b[0m\n",
      "\u001b[0;31mValueError\u001b[0m: Invalid slice key."
     ]
    }
   ],
   "source": [
    "all_examples_stats = tfdv.get_slice_stats(stats, \"All Examples\")\n",
    "tfdv.visualize_statistics(all_examples_stats)"
   ]
  },
  {
   "cell_type": "code",
   "execution_count": 87,
   "metadata": {},
   "outputs": [],
   "source": [
    "anomaly_list = list(anomalies.anomaly_info)"
   ]
  },
  {
   "cell_type": "code",
   "execution_count": 89,
   "metadata": {},
   "outputs": [
    {
     "output_type": "execute_result",
     "data": {
      "text/plain": "[]"
     },
     "metadata": {},
     "execution_count": 89
    }
   ],
   "source": [
    "anomaly_list"
   ]
  },
  {
   "cell_type": "code",
   "execution_count": null,
   "metadata": {},
   "outputs": [],
   "source": []
  }
 ],
 "metadata": {
  "language_info": {
   "codemirror_mode": {
    "name": "ipython",
    "version": 3
   },
   "file_extension": ".py",
   "mimetype": "text/x-python",
   "name": "python",
   "nbconvert_exporter": "python",
   "pygments_lexer": "ipython3",
   "version": "3.7.6-final"
  },
  "orig_nbformat": 2,
  "kernelspec": {
   "name": "python3",
   "display_name": "Python 3"
  }
 },
 "nbformat": 4,
 "nbformat_minor": 2
}