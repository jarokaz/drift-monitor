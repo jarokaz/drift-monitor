{
 "cells": [
  {
   "cell_type": "code",
   "execution_count": 2,
   "metadata": {},
   "outputs": [],
   "source": [
    "import tensorflow_data_validation as tfdv\n",
    "import pandas as pd\n",
    "import datetime\n",
    "\n",
    "from tensorflow_data_validation.utils import slicing_util\n",
    "from typing import List, Optional, Text, Union, Dict, Iterable, Mapping\n",
    "\n",
    "from tensorflow_metadata.proto.v0 import schema_pb2"
   ]
  },
  {
   "cell_type": "code",
   "execution_count": 3,
   "metadata": {},
   "outputs": [
    {
     "output_type": "execute_result",
     "data": {
      "text/plain": "'0.22.0'"
     },
     "metadata": {},
     "execution_count": 3
    }
   ],
   "source": [
    "tfdv.__version__"
   ]
  },
  {
   "cell_type": "markdown",
   "metadata": {},
   "source": [
    "## Configure environment settings"
   ]
  },
  {
   "cell_type": "code",
   "execution_count": 4,
   "metadata": {},
   "outputs": [],
   "source": [
    "base_schema_path = 'gs://mlops-dev-workspace/drift-monitor/templates/schema/schema.pbtxt'\n",
    "baseline_stats_path = 'gs://mlops-dev-workspace/drift-monitor/templates/baseline_stats/stats.pbtxt'\n",
    "schema_path = 'gs://mlops-dev-workspace/drift-monitor/schema/schema.pbtxt'"
   ]
  },
  {
   "cell_type": "code",
   "execution_count": 5,
   "metadata": {},
   "outputs": [],
   "source": [
    "schema = tfdv.load_schema_text(base_schema_path)"
   ]
  },
  {
   "cell_type": "markdown",
   "metadata": {},
   "source": [
    "### Fine tune the schema"
   ]
  },
  {
   "cell_type": "code",
   "execution_count": 6,
   "metadata": {},
   "outputs": [
    {
     "output_type": "stream",
     "name": "stdout",
     "text": "Elevation\nAspect\nSlope\nHorizontal_Distance_To_Hydrology\nVertical_Distance_To_Hydrology\nHorizontal_Distance_To_Roadways\nHillshade_9am\nHillshade_Noon\nHillshade_3pm\nHorizontal_Distance_To_Fire_Points\nSoil_Type\nWilderness_Area\n"
    }
   ],
   "source": [
    "# Do your stuff\n",
    "for feature in schema.feature:\n",
    "    print(feature.name)"
   ]
  },
  {
   "cell_type": "code",
   "execution_count": 7,
   "metadata": {},
   "outputs": [],
   "source": [
    "#new_feature = schema.feature.add()\n",
    "#new_feature.name = 'time_slice'\n",
    "#new_feature.type = schema_pb2.FeatureType.BYTES"
   ]
  },
  {
   "cell_type": "code",
   "execution_count": 8,
   "metadata": {},
   "outputs": [],
   "source": [
    "path = tfdv.FeaturePath(\"Wilderness_Area\")\n",
    "#"
   ]
  },
  {
   "cell_type": "markdown",
   "metadata": {},
   "source": [
    "### Save the updated schema"
   ]
  },
  {
   "cell_type": "code",
   "execution_count": 9,
   "metadata": {},
   "outputs": [],
   "source": [
    "tfdv.write_schema_text(schema, schema_path)"
   ]
  },
  {
   "cell_type": "markdown",
   "metadata": {},
   "source": [
    "## Run the job"
   ]
  },
  {
   "cell_type": "code",
   "execution_count": 10,
   "metadata": {},
   "outputs": [],
   "source": [
    "project = 'mlops-dev-env'\n",
    "log_table = 'data_validation.test1'\n",
    "model = 'covertype_tf'\n",
    "version = 'v3'\n",
    "start_time = '2020-05-25T16:01:10'\n",
    "end_time = '2020-05-25T22:50:30'\n",
    "output_path = 'gs://mlops-dev-workspace/drift-monitor/output/test'\n",
    "baseline_stats_file = 'gs://mlops-dev-workspace/drift-monitor/baseline_stats/stats.pbtxt'\n",
    "time_window = '60m'"
   ]
  },
  {
   "cell_type": "code",
   "execution_count": 11,
   "metadata": {},
   "outputs": [
    {
     "output_type": "stream",
     "name": "stdout",
     "text": "CommandException: \"ls\" command does not support \"file://\" URLs. Did you mean to use a gs:// URL?\n"
    }
   ],
   "source": [
    "!gsutil ls {schema_file}"
   ]
  },
  {
   "cell_type": "code",
   "execution_count": 12,
   "metadata": {},
   "outputs": [
    {
     "output_type": "stream",
     "name": "stdout",
     "text": "WARNING:tensorflow:From /opt/conda/lib/python3.7/site-packages/tensorflow_data_validation/utils/stats_util.py:227: tf_record_iterator (from tensorflow.python.lib.io.tf_record) is deprecated and will be removed in a future version.\nInstructions for updating:\nUse eager execution and: \n`tf.data.TFRecordDataset(path)`\nINFO:root:File gs://mlops-dev-workspace/drift-monitor/baseline_stats/stats.pbtxt did not look like a TFRecord. Try reading as a plain file.\nINFO:root:Starting the request-response log analysis pipeline...\nINFO:root:Missing pipeline option (runner). Executing pipeline using the default runner: DirectRunner.\nINFO:apache_beam.runners.direct.direct_runner:Running pipeline with DirectRunner.\nINFO:apache_beam.internal.gcp.auth:Setting socket default timeout to 60 seconds.\nINFO:apache_beam.internal.gcp.auth:socket default timeout is 60.0 seconds.\nINFO:oauth2client.transport:Attempting refresh to obtain initial access_token\nINFO:apache_beam.io.gcp.bigquery_tools:Using location 'US' from table <TableReference\n datasetId: 'data_validation'\n projectId: 'mlops-dev-env'\n tableId: 'test1'> referenced by query \n        SELECT FORMAT_TIMESTAMP(\"%G-%m-%d %T\", time) as time, raw_data\n        FROM \n            `data_validation.test1`\n        WHERE time BETWEEN '2020-05-25T16:01:00' AND '2020-05-25T22:50:00'\n                AND model='covertype_tf' AND model_version='v3'\n        \nWARNING:apache_beam.io.gcp.bigquery_tools:Dataset mlops-dev-env:temp_dataset_6b959c8016a4497c9d562a0d43e616df does not exist so we will create it as temporary with location=US\nINFO:numexpr.utils:NumExpr defaulting to 4 threads.\n2020-06-03 21:32:41.415695: W tensorflow/stream_executor/platform/default/dso_loader.cc:55] Could not load dynamic library 'libcuda.so.1'; dlerror: libcuda.so.1: cannot open shared object file: No such file or directory\n2020-06-03 21:32:41.415744: E tensorflow/stream_executor/cuda/cuda_driver.cc:313] failed call to cuInit: UNKNOWN ERROR (303)\n2020-06-03 21:32:41.415780: I tensorflow/stream_executor/cuda/cuda_diagnostics.cc:156] kernel driver does not appear to be running on this host (jk-drift): /proc/driver/nvidia/version does not exist\n2020-06-03 21:32:41.416306: I tensorflow/core/platform/cpu_feature_guard.cc:143] Your CPU supports instructions that this TensorFlow binary was not compiled to use: AVX2 FMA\n2020-06-03 21:32:41.426471: I tensorflow/core/platform/profile_utils/cpu_utils.cc:102] CPU Frequency: 2200000000 Hz\n2020-06-03 21:32:41.427016: I tensorflow/compiler/xla/service/service.cc:168] XLA service 0x7fb8d0bec7b0 initialized for platform Host (this does not guarantee that XLA will be used). Devices:\n2020-06-03 21:32:41.427104: I tensorflow/compiler/xla/service/service.cc:176]   StreamExecutor device (0): Host, Default Version\nWARNING:root:Multiple datasets found in statistics. Using the default slice dataset.\nWARNING:apache_beam.io.tfrecordio:Couldn't find python-snappy so the implementation of _TFRecordUtil._masked_crc32c is not as fast as it could be.\nWARNING:apache_beam.io.filebasedsink:Deleting 1 existing files in target path matching: \nWARNING:apache_beam.io.filebasedsink:Deleting 1 existing files in target path matching: \nINFO:apache_beam.io.gcp.gcsio:Starting the size estimation of the input\nINFO:apache_beam.io.gcp.gcsio:Finished listing 1 files in 0.08769941329956055 seconds.\nINFO:apache_beam.io.filebasedsink:Starting finalize_write threads with num_shards: 1 (skipped: 0), batches: 1, num_threads: 1\nINFO:apache_beam.io.filebasedsink:Renamed 1 shards in 0.60 seconds.\nINFO:apache_beam.io.gcp.gcsio:Starting the size estimation of the input\nINFO:apache_beam.io.gcp.gcsio:Finished listing 1 files in 0.07309532165527344 seconds.\nINFO:apache_beam.io.filebasedsink:Starting finalize_write threads with num_shards: 1 (skipped: 0), batches: 1, num_threads: 1\nINFO:apache_beam.io.filebasedsink:Renamed 1 shards in 0.40 seconds.\nINFO:root:The request-response log analysis pipeline completed.\n{'Wilderness_Area': description: \"Examples contain values missing from the schema: Others (~1%). \"\nseverity: ERROR\nshort_description: \"Unexpected string values\"\nreason {\n  type: ENUM_TYPE_UNEXPECTED_STRING_VALUES\n  short_description: \"Unexpected string values\"\n  description: \"Examples contain values missing from the schema: Others (~1%). \"\n}\npath {\n  step: \"Wilderness_Area\"\n}\n, 'Soil_Type': description: \"Examples contain values missing from the schema: 3501 (<1%), 3502 (<1%), 7710 (<1%), 8708 (<1%). \"\nseverity: ERROR\nshort_description: \"Unexpected string values\"\nreason {\n  type: ENUM_TYPE_UNEXPECTED_STRING_VALUES\n  short_description: \"Unexpected string values\"\n  description: \"Examples contain values missing from the schema: 3501 (<1%), 3502 (<1%), 7710 (<1%), 8708 (<1%). \"\n}\npath {\n  step: \"Soil_Type\"\n}\n}\n"
    }
   ],
   "source": [
    "!python ../run.py \\\n",
    "--project={project} \\\n",
    "--request_response_log_table={log_table} \\\n",
    "--model={model} \\\n",
    "--version={version}\\\n",
    "--start_time={start_time} \\\n",
    "--end_time={end_time} \\\n",
    "--output_path={output_path} \\\n",
    "--schema_file={schema_path} \\\n",
    "--baseline_stats_file={baseline_stats_file} \\\n",
    "--time_window={time_window}"
   ]
  },
  {
   "cell_type": "markdown",
   "metadata": {},
   "source": [
    "## Analyze results"
   ]
  },
  {
   "cell_type": "code",
   "execution_count": 19,
   "metadata": {},
   "outputs": [
    {
     "output_type": "display_data",
     "data": {
      "text/plain": "<IPython.core.display.HTML object>",
      "text/html": "<iframe id='facets-iframe' width=\"100%\" height=\"500px\"></iframe>\n        <script>\n        facets_iframe = document.getElementById('facets-iframe');\n        facets_html = '<script src=\"https://cdnjs.cloudflare.com/ajax/libs/webcomponentsjs/1.3.3/webcomponents-lite.js\"><\\/script><link rel=\"import\" href=\"https://raw.githubusercontent.com/PAIR-code/facets/master/facets-dist/facets-jupyter.html\"><facets-overview proto-input=\"CvpiCgxBbGwgRXhhbXBsZXMQ8C4awwsQAiKxCwq2AgjwLhgBIAEtAACAPzKkAhobCQAAAAAAAPA/EQAAAAAAAPA/IQAAAAAAwIJAGhsJAAAAAAAA8D8RAAAAAAAA8D8hAAAAAADAgkAaGwkAAAAAAADwPxEAAAAAAADwPyEAAAAAAMCCQBobCQAAAAAAAPA/EQAAAAAAAPA/IQAAAAAAwIJAGhsJAAAAAAAA8D8RAAAAAAAA8D8hAAAAAADAgkAaGwkAAAAAAADwPxEAAAAAAADwPyEAAAAAAMCCQBobCQAAAAAAAPA/EQAAAAAAAPA/IQAAAAAAwIJAGhsJAAAAAAAA8D8RAAAAAAAA8D8hAAAAAADAgkAaGwkAAAAAAADwPxEAAAAAAADwPyEAAAAAAMCCQBobCQAAAAAAAPA/EQAAAAAAAPA/IQAAAAAAwIJAIAFA8C4QJhoPEgQ3NzQ1GQAAAAAAqJJAGg8SBDcyMDIZAAAAAABog0AaDxIENzc1NhkAAAAAALCAQBoPEgQ3NzU3GQAAAAAAYH5AGg8SBDcyMDEZAAAAAADQdUAaDxIENDcwMxkAAAAAABB0QBoPEgQ0NzQ0GQAAAAAAwHNAGg8SBDc3NDYZAAAAAAAAc0AaDxIENzc1NRkAAAAAAEBvQBoPEgQ3NzAwGQAAAAAAwGlAGg8SBDQ3NTgZAAAAAADgZkAaDxIEODc3MRkAAAAAAEBmQBoPEgQ4NzcyGQAAAAAAoGJAGg8SBDI3MDUZAAAAAADAYEAaDxIENDcwNBkAAAAAAIBfQBoPEgQ4Nzc2GQAAAAAAAFlAGg8SBDcxMDIZAAAAAADAVEAaDxIEMjcwMxkAAAAAAABUQBoPEgQyNzE3GQAAAAAAAE1AGg8SBDI3MDQZAAAAAAAAS0AlAACAQCqaBgoPIgQ3NzQ1KQAAAAAAqJJAChMIARABIgQ3MjAyKQAAAAAAaINAChMIAhACIgQ3NzU2KQAAAAAAsIBAChMIAxADIgQ3NzU3KQAAAAAAYH5AChMIBBAEIgQ3MjAxKQAAAAAA0HVAChMIBRAFIgQ0NzAzKQAAAAAAEHRAChMIBhAGIgQ0NzQ0KQAAAAAAwHNAChMIBxAHIgQ3NzQ2KQAAAAAAAHNAChMICBAIIgQ3NzU1KQAAAAAAQG9AChMICRAJIgQ3NzAwKQAAAAAAwGlAChMIChAKIgQ0NzU4KQAAAAAA4GZAChMICxALIgQ4NzcxKQAAAAAAQGZAChMIDBAMIgQ4NzcyKQAAAAAAoGJAChMIDRANIgQyNzA1KQAAAAAAwGBAChMIDhAOIgQ0NzA0KQAAAAAAgF9AChMIDxAPIgQ4Nzc2KQAAAAAAAFlAChMIEBAQIgQ3MTAyKQAAAAAAwFRAChMIERARIgQyNzAzKQAAAAAAAFRAChMIEhASIgQyNzE3KQAAAAAAAE1AChMIExATIgQyNzA0KQAAAAAAAEtAChMIFBAUIgQ3MTAxKQAAAAAAgEZAChMIFRAVIgQ2MTAxKQAAAAAAAD9AChMIFhAWIgQ2MTAyKQAAAAAAAD1AChMIFxAXIgQyNzAyKQAAAAAAADxAChMIGBAYIgQ3NzAyKQAAAAAAADpAChMIGRAZIgQ2NzMxKQAAAAAAADhAChMIGhAaIgQ4NzAzKQAAAAAAADVAChMIGxAbIgQyNzA2KQAAAAAAADBAChMIHBAcIgQ3MTAzKQAAAAAAACJAChMIHRAdIgQ3NzkwKQAAAAAAACBAChMIHhAeIgQ3NzEwKQAAAAAAACBAChMIHxAfIgQ3NzAxKQAAAAAAABhAChMIIBAgIgQ0MjAxKQAAAAAAABhAChMIIRAhIgQ1MTAxKQAAAAAAABRAChMIIhAiIgQ4NzA4KQAAAAAAABBAChMIIxAjIgQ3NzA5KQAAAAAAABBAChMIJBAkIgQzNTAyKQAAAAAAAABAChMIJRAlIgQzNTAxKQAAAAAAAABAQgsKCVNvaWxfVHlwZRqoBBACIpAECrYCCPAuGAEgAS0AAIA/MqQCGhsJAAAAAAAA8D8RAAAAAAAA8D8hAAAAAADAgkAaGwkAAAAAAADwPxEAAAAAAADwPyEAAAAAAMCCQBobCQAAAAAAAPA/EQAAAAAAAPA/IQAAAAAAwIJAGhsJAAAAAAAA8D8RAAAAAAAA8D8hAAAAAADAgkAaGwkAAAAAAADwPxEAAAAAAADwPyEAAAAAAMCCQBobCQAAAAAAAPA/EQAAAAAAAPA/IQAAAAAAwIJAGhsJAAAAAAAA8D8RAAAAAAAA8D8hAAAAAADAgkAaGwkAAAAAAADwPxEAAAAAAADwPyEAAAAAAMCCQBobCQAAAAAAAPA/EQAAAAAAAPA/IQAAAAAAwIJAGhsJAAAAAAAA8D8RAAAAAAAA8D8hAAAAAADAgkAgAUDwLhAFGhASBVJhd2FoGQAAAAAANqNAGhQSCUNvbW1hbmNoZRkAAAAAAHSiQBoQEgVOZW90YRkAAAAAAFiHQBoQEgVDYWNoZRkAAAAAAOB0QBoREgZPdGhlcnMZAAAAAACAWEAleenSQCpvChAiBVJhd2FoKQAAAAAANqNAChgIARABIglDb21tYW5jaGUpAAAAAAB0okAKFAgCEAIiBU5lb3RhKQAAAAAAWIdAChQIAxADIgVDYWNoZSkAAAAAAOB0QAoVCAQQBCIGT3RoZXJzKQAAAAAAgFhAQhEKD1dpbGRlcm5lc3NfQXJlYRryBxACIt8HCrYCCPAuGAEgAS0AAIA/MqQCGhsJAAAAAAAA8D8RAAAAAAAA8D8hAAAAAADAgkAaGwkAAAAAAADwPxEAAAAAAADwPyEAAAAAAMCCQBobCQAAAAAAAPA/EQAAAAAAAPA/IQAAAAAAwIJAGhsJAAAAAAAA8D8RAAAAAAAA8D8hAAAAAADAgkAaGwkAAAAAAADwPxEAAAAAAADwPyEAAAAAAMCCQBobCQAAAAAAAPA/EQAAAAAAAPA/IQAAAAAAwIJAGhsJAAAAAAAA8D8RAAAAAAAA8D8hAAAAAADAgkAaGwkAAAAAAADwPxEAAAAAAADwPyEAAAAAAMCCQBobCQAAAAAAAPA/EQAAAAAAAPA/IQAAAAAAwIJAGhsJAAAAAAAA8D8RAAAAAAAA8D8hAAAAAADAgkAgAUDwLhAHGiwSITIwMjAtMDUtMjVUMjA6NTBfMjAyMC0wNS0yNVQyMTo1MBkAAAAAAECPQBosEiEyMDIwLTA1LTI1VDE5OjUwXzIwMjAtMDUtMjVUMjA6NTAZAAAAAABAj0AaLBIhMjAyMC0wNS0yNVQxODo1MF8yMDIwLTA1LTI1VDE5OjUwGQAAAAAAQI9AGiwSITIwMjAtMDUtMjVUMTc6NTBfMjAyMC0wNS0yNVQxODo1MBkAAAAAAECPQBosEiEyMDIwLTA1LTI1VDE2OjUwXzIwMjAtMDUtMjVUMTc6NTAZAAAAAABAj0AaLBIhMjAyMC0wNS0yNVQxNTo1MF8yMDIwLTA1LTI1VDE2OjUwGQAAAAAAIIxAGiwSITIwMjAtMDUtMjVUMjE6NTBfMjAyMC0wNS0yNVQyMjo1MBkAAAAAAABZQCUAAARCKtoCCiwiITIwMjAtMDUtMjVUMjA6NTBfMjAyMC0wNS0yNVQyMTo1MCkAAAAAAECPQAowCAEQASIhMjAyMC0wNS0yNVQxOTo1MF8yMDIwLTA1LTI1VDIwOjUwKQAAAAAAQI9ACjAIAhACIiEyMDIwLTA1LTI1VDE4OjUwXzIwMjAtMDUtMjVUMTk6NTApAAAAAABAj0AKMAgDEAMiITIwMjAtMDUtMjVUMTc6NTBfMjAyMC0wNS0yNVQxODo1MCkAAAAAAECPQAowCAQQBCIhMjAyMC0wNS0yNVQxNjo1MF8yMDIwLTA1LTI1VDE3OjUwKQAAAAAAQI9ACjAIBRAFIiEyMDIwLTA1LTI1VDE1OjUwXzIwMjAtMDUtMjVUMTY6NTApAAAAAAAgjEAKMAgGEAYiITIwMjAtMDUtMjVUMjE6NTBfMjAyMC0wNS0yNVQyMjo1MCkAAAAAAABZQEIMCgp0aW1lX3NsaWNlGqgHEAEamQcKtgII8C4YASABLQAAgD8ypAIaGwkAAAAAAADwPxEAAAAAAADwPyEAAAAAAMCCQBobCQAAAAAAAPA/EQAAAAAAAPA/IQAAAAAAwIJAGhsJAAAAAAAA8D8RAAAAAAAA8D8hAAAAAADAgkAaGwkAAAAAAADwPxEAAAAAAADwPyEAAAAAAMCCQBobCQAAAAAAAPA/EQAAAAAAAPA/IQAAAAAAwIJAGhsJAAAAAAAA8D8RAAAAAAAA8D8hAAAAAADAgkAaGwkAAAAAAADwPxEAAAAAAADwPyEAAAAAAMCCQBobCQAAAAAAAPA/EQAAAAAAAPA/IQAAAAAAwIJAGhsJAAAAAAAA8D8RAAAAAAAA8D8hAAAAAADAgkAaGwkAAAAAAADwPxEAAAAAAADwPyEAAAAAAMCCQCABQPAuEX6x5BdL/GJAGfErLDy0w1tAIDUxAAAAAAAAX0A5AAAAAABwdkBCmQIaEhEzMzMzM/NBQCEzMzMzMzuNQBobCTMzMzMz80FAETMzMzMz81FAITMzMzMzK45AGhsJMzMzMzPzUUARzMzMzMzsWkAhMzMzMzNLiUAaGwnMzMzMzOxaQBEzMzMzM/NhQCE0MzMzM6uDQBobCTMzMzMz82FAEQAAAAAAcGZAIWdmZmZmdnxAGhsJAAAAAABwZkARzMzMzMzsakAhZGZmZma2eEAaGwnMzMzMzOxqQBGZmZmZmWlvQCFnZmZmZtZzQBobCZmZmZmZaW9AETMzMzMz83FAIWdmZmZmtnVAGhsJMzMzMzPzcUARmZmZmZkxdEAhZGZmZmY2fUAaGwmZmZmZmTF0QBEAAAAAAHB2QCE1MzMzMyuFQEKbAhoSEQAAAAAAADdAIQAAAAAAwIJAGhsJAAAAAAAAN0ARAAAAAACARkAhAAAAAADAgkAaGwkAAAAAAIBGQBEAAAAAAMBQQCEAAAAAAMCCQBobCQAAAAAAwFBAEQAAAAAAAFdAIQAAAAAAwIJAGhsJAAAAAAAAV0ARAAAAAAAAX0AhAAAAAADAgkAaGwkAAAAAAABfQBEAAAAAAEBkQCEAAAAAAMCCQBobCQAAAAAAQGRAEQAAAAAAAGtAIQAAAAAAwIJAGhsJAAAAAAAAa0ARAAAAAACwcUAhAAAAAADAgkAaGwkAAAAAALBxQBEAAAAAAIB0QCEAAAAAAMCCQBobCQAAAAAAgHRAEQAAAAAAcHZAIQAAAAAAwIJAIAFCCAoGQXNwZWN0GsQHEAEasgcKtgII8C4YASABLQAAgD8ypAIaGwkAAAAAAADwPxEAAAAAAADwPyEAAAAAAMCCQBobCQAAAAAAAPA/EQAAAAAAAPA/IQAAAAAAwIJAGhsJAAAAAAAA8D8RAAAAAAAA8D8hAAAAAADAgkAaGwkAAAAAAADwPxEAAAAAAADwPyEAAAAAAMCCQBobCQAAAAAAAPA/EQAAAAAAAPA/IQAAAAAAwIJAGhsJAAAAAAAA8D8RAAAAAAAA8D8hAAAAAADAgkAaGwkAAAAAAADwPxEAAAAAAADwPyEAAAAAAMCCQBobCQAAAAAAAPA/EQAAAAAAAPA/IQAAAAAAwIJAGhsJAAAAAAAA8D8RAAAAAAAA8D8hAAAAAADAgkAaGwkAAAAAAADwPxEAAAAAAADwPyEAAAAAAMCCQCABQPAuEb2t1FRdU6NAGXHKTiGotZFAKQAAAODQIgBAMQAAAAAABKdAOQAAAAAAJK5AQqICGhsJAAAA4NAiAEARZmbGRNg5eEAhEsuNoZ8pj0AaGwlmZsZE2Dl4QBFmZuZztSmIQCH/ig0Ef1PzPxobCWZm5nO1KYhAEczMtGI/G5JAIf2KDQR/U/M/GhsJzMy0Yj8bkkARZmZ2C6QhmEAhAYsNBH9T8z8aGwlmZnYLpCGYQBEAADi0CCieQCG0au3YLSEFQBobCQAAOLQIKJ5AEczMfK42F6JAIcXJSUfxZmFAGhsJzMx8rjYXokARmZndAmkapUAh7vOjwnEXhEAaGwmZmd0CaRqlQBFmZj5Xmx2oQCFnZiL9loGiQBobCWZmPlebHahAETMzn6vNIKtAIQIAQTV2TpxAGhsJMzOfq80gq0ARAAAAAAAkrkAhODMT6bf8QEBCpAIaGwkAAADg0CIAQBEAAAAgsp0IQCEAAAAAAMCCQBobCQAAACCynQhAEQAAAAAAmqJAIQAAAAAAwIJAGhsJAAAAAACaokARAAAAAAAkpUAhAAAAAADAgkAaGwkAAAAAACSlQBEAAAAAAEamQCEAAAAAAMCCQBobCQAAAAAARqZAEQAAAAAABKdAIQAAAAAAwIJAGhsJAAAAAAAEp0ARAAAAAACUp0AhAAAAAADAgkAaGwkAAAAAAJSnQBEAAAAAACyoQCEAAAAAAMCCQBobCQAAAAAALKhAEQAAAAAAzqhAIQAAAAAAwIJAGhsJAAAAAADOqEARAAAAAABuqUAhAAAAAADAgkAaGwkAAAAAAG6pQBEAAAAAACSuQCEAAAAAAMCCQCABQgsKCUVsZXZhdGlvbhqvBxABGpkHCrYCCPAuGAEgAS0AAIA/MqQCGhsJAAAAAAAA8D8RAAAAAAAA8D8hAAAAAADAgkAaGwkAAAAAAADwPxEAAAAAAADwPyEAAAAAAMCCQBobCQAAAAAAAPA/EQAAAAAAAPA/IQAAAAAAwIJAGhsJAAAAAAAA8D8RAAAAAAAA8D8hAAAAAADAgkAaGwkAAAAAAADwPxEAAAAAAADwPyEAAAAAAMCCQBobCQAAAAAAAPA/EQAAAAAAAPA/IQAAAAAAwIJAGhsJAAAAAAAA8D8RAAAAAAAA8D8hAAAAAADAgkAaGwkAAAAAAADwPxEAAAAAAADwPyEAAAAAAMCCQBobCQAAAAAAAPA/EQAAAAAAAPA/IQAAAAAAwIJAGhsJAAAAAAAA8D8RAAAAAAAA8D8hAAAAAADAgkAgAUDwLhEdWmQ737lhQBn6jvKN9O1CQCAOMQAAAAAAwGFAOQAAAAAAgG5AQpkCGhIRZmZmZmZmOEAhrkfhehSuM0AaGwlmZmZmZmY4QBFmZmZmZmZIQCFbj8L1KFxLQBobCWZmZmZmZkhAEczMzMzMTFJAIZiZmZmZWWZAGhsJzMzMzMxMUkARZmZmZmZmWEAhZ2ZmZmbGekAaGwlmZmZmZmZYQBEAAAAAAIBeQCE0MzMzM5OPQBobCQAAAAAAgF5AEczMzMzMTGJAIZmZmZmZiZlAGhsJzMzMzMxMYkARmZmZmZlZZUAhmpmZmZnxlEAaGwmZmZmZmVllQBFmZmZmZmZoQCEzMzMzMxOLQBobCWZmZmZmZmhAETMzMzMzc2tAIWdmZmZmBndAGhsJMzMzMzNza0ARAAAAAACAbkAhnJmZmZmZWEBCmwIaEhEAAAAAAIBXQCEAAAAAAMCCQBobCQAAAAAAgFdAEQAAAAAAQFxAIQAAAAAAwIJAGhsJAAAAAABAXEARAAAAAAAAX0AhAAAAAADAgkAaGwkAAAAAAABfQBEAAAAAAMBgQCEAAAAAAMCCQBobCQAAAAAAwGBAEQAAAAAAwGFAIQAAAAAAwIJAGhsJAAAAAADAYUARAAAAAADAYkAhAAAAAADAgkAaGwkAAAAAAMBiQBEAAAAAACBkQCEAAAAAAMCCQBobCQAAAAAAIGRAEQAAAAAAwGVAIQAAAAAAwIJAGhsJAAAAAADAZUARAAAAAADgZ0AhAAAAAADAgkAaGwkAAAAAAOBnQBEAAAAAAIBuQCEAAAAAAMCCQCABQg8KDUhpbGxzaGFkZV8zcG0ayAcQARqyBwq2AgjwLhgBIAEtAACAPzKkAhobCQAAAAAAAPA/EQAAAAAAAPA/IQAAAAAAwIJAGhsJAAAAAAAA8D8RAAAAAAAA8D8hAAAAAADAgkAaGwkAAAAAAADwPxEAAAAAAADwPyEAAAAAAMCCQBobCQAAAAAAAPA/EQAAAAAAAPA/IQAAAAAAwIJAGhsJAAAAAAAA8D8RAAAAAAAA8D8hAAAAAADAgkAaGwkAAAAAAADwPxEAAAAAAADwPyEAAAAAAMCCQBobCQAAAAAAAPA/EQAAAAAAAPA/IQAAAAAAwIJAGhsJAAAAAAAA8D8RAAAAAAAA8D8hAAAAAADAgkAaGwkAAAAAAADwPxEAAAAAAADwPyEAAAAAAMCCQBobCQAAAAAAAPA/EQAAAAAAAPA/IQAAAAAAwIJAIAFA8C4RwjxR/0aUakAZFMG12GZCOkApAAAAAAAAS0AxAAAAAABAa0A5AAAAAADAb0BCogIaGwkAAAAAAABLQBEAAAAAAIBSQCGVNWVNWVMGQBobCQAAAAAAgFJAEQAAAAAAgFdAIZU1ZU1ZUwZAGhsJAAAAAACAV0ARAAAAAACAXEAhNmVNWVPWKEAaGwkAAAAAAIBcQBEAAAAAAMBgQCEAAAAAAABOQBobCQAAAAAAwGBAEQAAAAAAQGNAIQAAAAAAwGJAGhsJAAAAAABAY0ARAAAAAADAZUAhAAAAAABgckAaGwkAAAAAAMBlQBEAAAAAAEBoQCEAAAAAAACFQBobCQAAAAAAQGhAEQAAAAAAwGpAIQAAAAAAeJVAGhsJAAAAAADAakARAAAAAABAbUAhAAAAAAAEoUAaGwkAAAAAAEBtQBEAAAAAAMBvQCEAAAAAAJiTQEKkAhobCQAAAAAAAEtAEQAAAAAAIGZAIQAAAAAAwIJAGhsJAAAAAAAgZkARAAAAAABAaEAhAAAAAADAgkAaGwkAAAAAAEBoQBEAAAAAAIBpQCEAAAAAAMCCQBobCQAAAAAAgGlAEQAAAAAAgGpAIQAAAAAAwIJAGhsJAAAAAACAakARAAAAAABAa0AhAAAAAADAgkAaGwkAAAAAAEBrQBEAAAAAAABsQCEAAAAAAMCCQBobCQAAAAAAAGxAEQAAAAAAoGxAIQAAAAAAwIJAGhsJAAAAAACgbEARAAAAAABAbUAhAAAAAADAgkAaGwkAAAAAAEBtQBEAAAAAACBuQCEAAAAAAMCCQBobCQAAAAAAIG5AEQAAAAAAwG9AIQAAAAAAwIJAIAFCDwoNSGlsbHNoYWRlXzlhbRrJBxABGrIHCrYCCPAuGAEgAS0AAIA/MqQCGhsJAAAAAAAA8D8RAAAAAAAA8D8hAAAAAADAgkAaGwkAAAAAAADwPxEAAAAAAADwPyEAAAAAAMCCQBobCQAAAAAAAPA/EQAAAAAAAPA/IQAAAAAAwIJAGhsJAAAAAAAA8D8RAAAAAAAA8D8hAAAAAADAgkAaGwkAAAAAAADwPxEAAAAAAADwPyEAAAAAAMCCQBobCQAAAAAAAPA/EQAAAAAAAPA/IQAAAAAAwIJAGhsJAAAAAAAA8D8RAAAAAAAA8D8hAAAAAADAgkAaGwkAAAAAAADwPxEAAAAAAADwPyEAAAAAAMCCQBobCQAAAAAAAPA/EQAAAAAAAPA/IQAAAAAAwIJAGhsJAAAAAAAA8D8RAAAAAAAA8D8hAAAAAADAgkAgAUDwLhGlKRVnH+ZrQBlLFUypL64zQCkAAAAAAEBXQDEAAAAAAEBsQDkAAAAAAMBvQEKiAhobCQAAAAAAQFdAEWZmZmZmRltAIXV3d3d3dwVAGhsJZmZmZmZGW0ARzczMzMxMX0Ahe3d3d3d3BUAaGwnNzMzMzExfQBGamZmZmalhQCHteZ7neZ4XQBobCZqZmZmZqWFAEc3MzMzMrGNAId+2bdu27TxAGhsJzczMzMysY0ARAAAAAACwZUAhMjMzMzOzUUAaGwkAAAAAALBlQBE0MzMzM7NnQCGcmZmZmSlwQBobCTQzMzMzs2dAEWdmZmZmtmlAIczMzMzM9IJAGhsJZ2ZmZma2aUARmpmZmZm5a0AhZmZmZmYql0AaGwmamZmZmblrQBHNzMzMzLxtQCEzMzMzMy2gQBobCc3MzMzMvG1AEQAAAAAAwG9AIWZmZmZm+pZAQqQCGhsJAAAAAABAV0ARAAAAAADAaEAhAAAAAADAgkAaGwkAAAAAAMBoQBEAAAAAACBqQCEAAAAAAMCCQBobCQAAAAAAIGpAEQAAAAAAAGtAIQAAAAAAwIJAGhsJAAAAAAAAa0ARAAAAAACga0AhAAAAAADAgkAaGwkAAAAAAKBrQBEAAAAAAEBsQCEAAAAAAMCCQBobCQAAAAAAQGxAEQAAAAAAwGxAIQAAAAAAwIJAGhsJAAAAAADAbEARAAAAAABgbUAhAAAAAADAgkAaGwkAAAAAAGBtQBEAAAAAAABuQCEAAAAAAMCCQBobCQAAAAAAAG5AEQAAAAAA4G5AIQAAAAAAwIJAGhsJAAAAAADgbkARAAAAAADAb0AhAAAAAADAgkAgAUIQCg5IaWxsc2hhZGVfTm9vbhrEBxABGpkHCrYCCPAuGAEgAS0AAIA/MqQCGhsJAAAAAAAA8D8RAAAAAAAA8D8hAAAAAADAgkAaGwkAAAAAAADwPxEAAAAAAADwPyEAAAAAAMCCQBobCQAAAAAAAPA/EQAAAAAAAPA/IQAAAAAAwIJAGhsJAAAAAAAA8D8RAAAAAAAA8D8hAAAAAADAgkAaGwkAAAAAAADwPxEAAAAAAADwPyEAAAAAAMCCQBobCQAAAAAAAPA/EQAAAAAAAPA/IQAAAAAAwIJAGhsJAAAAAAAA8D8RAAAAAAAA8D8hAAAAAADAgkAaGwkAAAAAAADwPxEAAAAAAADwPyEAAAAAAMCCQBobCQAAAAAAAPA/EQAAAAAAAPA/IQAAAAAAwIJAGhsJAAAAAAAA8D8RAAAAAAAA8D8hAAAAAADAgkAgAUDwLhH4U+Olmy6fQBm/0JhjUPaUQCABMQAAAAAAoJpAOQAAAAAAZbtAQpkCGhIRZmZmZmbqhUAhR+F6FK7PiUAaGwlmZmZmZuqFQBFmZmZmZuqVQCGOwvUoXIuXQBobCWZmZmZm6pVAEczMzMzMb6BAIZaZmZmZ55VAGhsJzMzMzMxvoEARZmZmZmbqpUAhnJmZmZmnkEAaGwlmZmZmZuqlQBEAAAAAAGWrQCFLHdRBHbx9QBobCQAAAAAAZatAEczMzMzMb7BAIYJ7uId7SG5AGhsJzMzMzMxvsEARmZmZmRkts0Ahtz/IUNlJYkAaGwmZmZmZGS2zQBFmZmZmZuq1QCFUHOm1gudkQBobCWZmZmZm6rVAETMzMzOzp7hAIaXOcwhb5V1AGhsJMzMzM7OnuEARAAAAAABlu0AhpU0D2jQgSEBCmwIaEhEAAAAAADCCQCEAAAAAAMCCQBobCQAAAAAAMIJAEQAAAAAAsItAIQAAAAAAwIJAGhsJAAAAAACwi0ARAAAAAABAkkAhAAAAAADAgkAaGwkAAAAAAECSQBEAAAAAADiWQCEAAAAAAMCCQBobCQAAAAAAOJZAEQAAAAAAoJpAIQAAAAAAwIJAGhsJAAAAAACgmkARAAAAAACcn0AhAAAAAADAgkAaGwkAAAAAAJyfQBEAAAAAAKqiQCEAAAAAAMCCQBobCQAAAAAAqqJAEQAAAAAA6qVAIQAAAAAAwIJAGhsJAAAAAADqpUARAAAAAAA4rkAhAAAAAADAgkAaGwkAAAAAADiuQBEAAAAAAGW7QCEAAAAAAMCCQCABQiQKIkhvcml6b250YWxfRGlzdGFuY2VfVG9fRmlyZV9Qb2ludHMawwcQARqaBwq2AgjwLhgBIAEtAACAPzKkAhobCQAAAAAAAPA/EQAAAAAAAPA/IQAAAAAAwIJAGhsJAAAAAAAA8D8RAAAAAAAA8D8hAAAAAADAgkAaGwkAAAAAAADwPxEAAAAAAADwPyEAAAAAAMCCQBobCQAAAAAAAPA/EQAAAAAAAPA/IQAAAAAAwIJAGhsJAAAAAAAA8D8RAAAAAAAA8D8hAAAAAADAgkAaGwkAAAAAAADwPxEAAAAAAADwPyEAAAAAAMCCQBobCQAAAAAAAPA/EQAAAAAAAPA/IQAAAAAAwIJAGhsJAAAAAAAA8D8RAAAAAAAA8D8hAAAAAADAgkAaGwkAAAAAAADwPxEAAAAAAADwPyEAAAAAAMCCQBobCQAAAAAAAPA/EQAAAAAAAPA/IQAAAAAAwIJAIAFA8C4RmG4Sg8AHcUAZYof7o5cPa0Ag+wExAAAAAABAa0A5AAAAAADsk0BCmQIaEhEAAAAAAOBfQCHbtm3bthGdQBobCQAAAAAA4F9AEQAAAAAA4G9AISVJkiRJPpdAGhsJAAAAAADgb0ARAAAAAADod0AhAAAAAACOkUAaGwkAAAAAAOh3QBEAAAAAAOB/QCEAAAAAAPSEQBobCQAAAAAA4H9AEQAAAAAA7INAIQAAAAAA2HtAGhsJAAAAAADsg0ARAAAAAADoh0AhAAAAAADQaEAaGwkAAAAAAOiHQBEAAAAAAOSLQCEtLS0tLW1eQBobCQAAAAAA5ItAEQAAAAAA4I9AIaalpaWlRU1AGhsJAAAAAADgj0ARAAAAAADukUAhAAAAAAAgNkAaGwkAAAAAAO6RQBEAAAAAAOyTQCEAAAAAAEAnQEKbAhoSEQAAAAAAAEVAIQAAAAAAwIJAGhsJAAAAAAAARUARAAAAAABAVUAhAAAAAADAgkAaGwkAAAAAAEBVQBEAAAAAAMBfQCEAAAAAAMCCQBobCQAAAAAAwF9AEQAAAAAA4GVAIQAAAAAAwIJAGhsJAAAAAADgZUARAAAAAABAa0AhAAAAAADAgkAaGwkAAAAAAEBrQBEAAAAAAFBxQCEAAAAAAMCCQBobCQAAAAAAUHFAEQAAAAAA4HVAIQAAAAAAwIJAGhsJAAAAAADgdUARAAAAAACwe0AhAAAAAADAgkAaGwkAAAAAALB7QBEAAAAAAOiBQCEAAAAAAMCCQBobCQAAAAAA6IFAEQAAAAAA7JNAIQAAAAAAwIJAIAFCIgogSG9yaXpvbnRhbF9EaXN0YW5jZV9Ub19IeWRyb2xvZ3kawQcQARqZBwq2AgjwLhgBIAEtAACAPzKkAhobCQAAAAAAAPA/EQAAAAAAAPA/IQAAAAAAwIJAGhsJAAAAAAAA8D8RAAAAAAAA8D8hAAAAAADAgkAaGwkAAAAAAADwPxEAAAAAAADwPyEAAAAAAMCCQBobCQAAAAAAAPA/EQAAAAAAAPA/IQAAAAAAwIJAGhsJAAAAAAAA8D8RAAAAAAAA8D8hAAAAAADAgkAaGwkAAAAAAADwPxEAAAAAAADwPyEAAAAAAMCCQBobCQAAAAAAAPA/EQAAAAAAAPA/IQAAAAAAwIJAGhsJAAAAAAAA8D8RAAAAAAAA8D8hAAAAAADAgkAaGwkAAAAAAADwPxEAAAAAAADwPyEAAAAAAMCCQBobCQAAAAAAAPA/EQAAAAAAAPA/IQAAAAAAwIJAIAFA8C4RKOrfCOVzokAZvidMZutfmEAgATEAAAAAAHifQDkAAAAAAFS7QEKZAhoSEc3MzMzM3IVAITQzMzMz+4dAGhsJzczMzMzchUARzczMzMzclUAhMzMzMzMTlEAaGwnNzMzMzNyVQBGamZmZmWWgQCEBAAAAALqQQBobCZqZmZmZZaBAEc3MzMzM3KVAIfUNa9+wGopAGhsJzczMzMzcpUARAAAAAABUq0AhSg9pYmyNhEAaGwkAAAAAAFSrQBGamZmZmWWwQCG5+Iqv+Pp7QBobCZqZmZmZZbBAETMzMzMzIbNAIROF61G4jndAGhsJMzMzMzMhs0ARzczMzMzctUAht03ngBo0c0AaGwnNzMzMzNy1QBFnZmZmZpi4QCEZiQPXchFsQBobCWdmZmZmmLhAEQAAAAAAVLtAIZEjULTV4DtAQpsCGhIRAAAAAADYgkAhAAAAAADAgkAaGwkAAAAAANiCQBEAAAAAAJiNQCEAAAAAAMCCQBobCQAAAAAAmI1AEQAAAAAAuJNAIQAAAAAAwIJAGhsJAAAAAAC4k0ARAAAAAAAQmUAhAAAAAADAgkAaGwkAAAAAABCZQBEAAAAAAHifQCEAAAAAAMCCQBobCQAAAAAAeJ9AEQAAAAAAWqNAIQAAAAAAwIJAGhsJAAAAAABao0ARAAAAAACup0AhAAAAAADAgkAaGwkAAAAAAK6nQBEAAAAAAJatQCEAAAAAAMCCQBobCQAAAAAAlq1AEQAAAAAAt7JAIQAAAAAAwIJAGhsJAAAAAAC3skARAAAAAABUu0AhAAAAAADAgkAgAUIhCh9Ib3Jpem9udGFsX0Rpc3RhbmNlX1RvX1JvYWR3YXlzGqcHEAEamQcKtgII8C4YASABLQAAgD8ypAIaGwkAAAAAAADwPxEAAAAAAADwPyEAAAAAAMCCQBobCQAAAAAAAPA/EQAAAAAAAPA/IQAAAAAAwIJAGhsJAAAAAAAA8D8RAAAAAAAA8D8hAAAAAADAgkAaGwkAAAAAAADwPxEAAAAAAADwPyEAAAAAAMCCQBobCQAAAAAAAPA/EQAAAAAAAPA/IQAAAAAAwIJAGhsJAAAAAAAA8D8RAAAAAAAA8D8hAAAAAADAgkAaGwkAAAAAAADwPxEAAAAAAADwPyEAAAAAAMCCQBobCQAAAAAAAPA/EQAAAAAAAPA/IQAAAAAAwIJAGhsJAAAAAAAA8D8RAAAAAAAA8D8hAAAAAADAgkAaGwkAAAAAAADwPxEAAAAAAADwPyEAAAAAAMCCQCABQPAuEZMYBFYOTSxAGc+13m8tCh5AIAUxAAAAAAAAKkA5AAAAAAAATkBCmQIaEhEAAAAAAAAYQCEAAAAAABCEQBobCQAAAAAAABhAEQAAAAAAAChAIQAAAAAAsJxAGhsJAAAAAAAAKEARAAAAAAAAMkAhAAAAAAA4nEAaGwkAAAAAAAAyQBEAAAAAAAA4QCEAAAAAALCPQBobCQAAAAAAADhAEQAAAAAAAD5AIQAAAAAA4HxAGhsJAAAAAAAAPkARAAAAAAAAQkAhAAAAAAAAaEAaGwkAAAAAAABCQBEAAAAAAABFQCGamZmZmZlCQBobCQAAAAAAAEVAEQAAAAAAAEhAIQ7qoA7qoBZAGhsJAAAAAAAASEARAAAAAAAAS0AhJUmSJEmSBEAaGwkAAAAAAABLQBEAAAAAAABOQCElSZIkSZIEQEKbAhoSEQAAAAAAABRAIQAAAAAAwIJAGhsJAAAAAAAAFEARAAAAAAAAIEAhAAAAAADAgkAaGwkAAAAAAAAgQBEAAAAAAAAkQCEAAAAAAMCCQBobCQAAAAAAACRAEQAAAAAAACZAIQAAAAAAwIJAGhsJAAAAAAAAJkARAAAAAAAAKkAhAAAAAADAgkAaGwkAAAAAAAAqQBEAAAAAAAAuQCEAAAAAAMCCQBobCQAAAAAAAC5AEQAAAAAAADFAIQAAAAAAwIJAGhsJAAAAAAAAMUARAAAAAAAANEAhAAAAAADAgkAaGwkAAAAAAAA0QBEAAAAAAAA5QCEAAAAAAMCCQBobCQAAAAAAADlAEQAAAAAAAE5AIQAAAAAAwIJAIAFCBwoFU2xvcGUaygcQARqjBwq2AgjwLhgBIAEtAACAPzKkAhobCQAAAAAAAPA/EQAAAAAAAPA/IQAAAAAAwIJAGhsJAAAAAAAA8D8RAAAAAAAA8D8hAAAAAADAgkAaGwkAAAAAAADwPxEAAAAAAADwPyEAAAAAAMCCQBobCQAAAAAAAPA/EQAAAAAAAPA/IQAAAAAAwIJAGhsJAAAAAAAA8D8RAAAAAAAA8D8hAAAAAADAgkAaGwkAAAAAAADwPxEAAAAAAADwPyEAAAAAAMCCQBobCQAAAAAAAPA/EQAAAAAAAPA/IQAAAAAAwIJAGhsJAAAAAAAA8D8RAAAAAAAA8D8hAAAAAADAgkAaGwkAAAAAAADwPxEAAAAAAADwPyEAAAAAAMCCQBobCQAAAAAAAPA/EQAAAAAAAPA/IQAAAAAAwIJAIAFA8C4Ry1odEzxYR0AZHx7jphxITUAgnQMpAAAAAAAgY8AxAAAAAAAAPUA5AAAAAADwfkBCogIaGwkAAAAAACBjwBHNzMzMzAxWwCEi7ViBMNIiQBobCc3MzMzMDFbAEWhmZmZmZjfAIcBIO1YgDF5AGhsJaGZmZmZmN8ARMDMzMzOzREAhmpmZmZnBqkAaGwkwMzMzM7NEQBHMzMzMzIxaQCE0MzMzM9uZQBobCczMzMzMjFpAEQAAAAAAYGVAIc7MzMzMzH9AGhsJAAAAAABgZUARmJmZmZl5bUAhyMzMzMxsaUAaGwmYmZmZmXltQBGZmZmZmclyQCFY4XoUrsdLQBobCZmZmZmZyXJAEWZmZmZm1nZAIYbQNV9thjFAGhsJZmZmZmbWdkARMjMzMzPjekAhIRq4RUAPBkAaGwkyMzMzM+N6QBEAAAAAAPB+QCEsGrhFQA8GQEKSAhoSCQAAAAAAIGPAIQAAAAAAwIJAGhIRAAAAAAAACEAhAAAAAADAgkAaGwkAAAAAAAAIQBEAAAAAAAAkQCEAAAAAAMCCQBobCQAAAAAAACRAEQAAAAAAADNAIQAAAAAAwIJAGhsJAAAAAAAAM0ARAAAAAAAAPUAhAAAAAADAgkAaGwkAAAAAAAA9QBEAAAAAAIBFQCEAAAAAAMCCQBobCQAAAAAAgEVAEQAAAAAAgE1AIQAAAAAAwIJAGhsJAAAAAACATUARAAAAAACAVEAhAAAAAADAgkAaGwkAAAAAAIBUQBEAAAAAAABfQCEAAAAAAMCCQBobCQAAAAAAAF9AEQAAAAAA8H5AIQAAAAAAwIJAIAFCIAoeVmVydGljYWxfRGlzdGFuY2VfVG9fSHlkcm9sb2d5\"></facets-overview>';\n        facets_iframe.srcdoc = facets_html;\n         facets_iframe.id = \"\";\n         setTimeout(() => {\n           facets_iframe.setAttribute('height', facets_iframe.contentWindow.document.body.offsetHeight + 'px')\n         }, 1500)\n         </script>"
     },
     "metadata": {}
    }
   ],
   "source": [
    "stats = tfdv.load_statistics(stats_path)\n",
    "all_examples_stats = tfdv.get_slice_stats(stats, \"All Examples\")\n",
    "tfdv.visualize_statistics(all_examples_stats)"
   ]
  },
  {
   "cell_type": "code",
   "execution_count": 20,
   "metadata": {},
   "outputs": [
    {
     "output_type": "stream",
     "name": "stdout",
     "text": "gs://mlops-dev-workspace/drift-monitor/output/test/anomalies.pbtxt\n"
    }
   ],
   "source": [
    "anomalies_path = output_path + '/' + 'anomalies.pbtxt'\n",
    "!gsutil ls {anomalies_path}"
   ]
  },
  {
   "cell_type": "code",
   "execution_count": 16,
   "metadata": {},
   "outputs": [
    {
     "output_type": "stream",
     "name": "stdout",
     "text": "gs://mlops-dev-workspace/drift-monitor/output/test/stats.pb\n"
    }
   ],
   "source": [
    "stats_path = output_path + '/' + 'stats.pb'\n",
    "!gsutil ls {stats_path}"
   ]
  },
  {
   "cell_type": "code",
   "execution_count": 21,
   "metadata": {},
   "outputs": [
    {
     "output_type": "display_data",
     "data": {
      "text/plain": "                  Anomaly short description  \\\nFeature name                                  \n'Wilderness_Area'  Unexpected string values   \n'Soil_Type'        Unexpected string values   \n\n                                                                                            Anomaly long description  \nFeature name                                                                                                          \n'Wilderness_Area'  Examples contain values missing from the schema: Others (~1%).                                     \n'Soil_Type'        Examples contain values missing from the schema: 3501 (<1%), 3502 (<1%), 7710 (<1%), 8708 (<1%).   ",
      "text/html": "<div>\n<style scoped>\n    .dataframe tbody tr th:only-of-type {\n        vertical-align: middle;\n    }\n\n    .dataframe tbody tr th {\n        vertical-align: top;\n    }\n\n    .dataframe thead th {\n        text-align: right;\n    }\n</style>\n<table border=\"1\" class=\"dataframe\">\n  <thead>\n    <tr style=\"text-align: right;\">\n      <th></th>\n      <th>Anomaly short description</th>\n      <th>Anomaly long description</th>\n    </tr>\n    <tr>\n      <th>Feature name</th>\n      <th></th>\n      <th></th>\n    </tr>\n  </thead>\n  <tbody>\n    <tr>\n      <th>'Wilderness_Area'</th>\n      <td>Unexpected string values</td>\n      <td>Examples contain values missing from the schema: Others (~1%).</td>\n    </tr>\n    <tr>\n      <th>'Soil_Type'</th>\n      <td>Unexpected string values</td>\n      <td>Examples contain values missing from the schema: 3501 (&lt;1%), 3502 (&lt;1%), 7710 (&lt;1%), 8708 (&lt;1%).</td>\n    </tr>\n  </tbody>\n</table>\n</div>"
     },
     "metadata": {}
    }
   ],
   "source": [
    "anomalies = tfdv.load_anomalies_text(anomalies_path)\n",
    "tfdv.display_anomalies(anomalies)"
   ]
  },
  {
   "cell_type": "code",
   "execution_count": null,
   "metadata": {},
   "outputs": [],
   "source": []
  }
 ],
 "metadata": {
  "language_info": {
   "codemirror_mode": {
    "name": "ipython",
    "version": 3
   },
   "file_extension": ".py",
   "mimetype": "text/x-python",
   "name": "python",
   "nbconvert_exporter": "python",
   "pygments_lexer": "ipython3",
   "version": "3.7.6-final"
  },
  "orig_nbformat": 2,
  "kernelspec": {
   "name": "python3",
   "display_name": "Python 3"
  }
 },
 "nbformat": 4,
 "nbformat_minor": 2
}