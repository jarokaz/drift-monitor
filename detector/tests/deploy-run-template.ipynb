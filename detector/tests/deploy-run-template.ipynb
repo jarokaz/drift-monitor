{
 "cells": [
  {
   "cell_type": "markdown",
   "metadata": {},
   "source": [
    "# Deploying and invoking Drift Detector Dataflow Flex template"
   ]
  },
  {
   "cell_type": "code",
   "execution_count": 1,
   "metadata": {},
   "outputs": [
    {
     "output_type": "stream",
     "name": "stdout",
     "text": "/home/jarekk/repos/drift-monitor/detector\n"
    }
   ],
   "source": [
    "%cd .."
   ]
  },
  {
   "cell_type": "code",
   "execution_count": 2,
   "metadata": {},
   "outputs": [],
   "source": [
    "import json\n",
    "from datetime import datetime\n",
    "import time"
   ]
  },
  {
   "cell_type": "markdown",
   "metadata": {},
   "source": [
    "## Build the Flex template docker image"
   ]
  },
  {
   "cell_type": "code",
   "execution_count": 3,
   "metadata": {
    "tags": [
     "outputPrepend",
     "outputPrepend",
     "outputPrepend",
     "outputPrepend",
     "outputPrepend",
     "outputPrepend",
     "outputPrepend",
     "outputPrepend",
     "outputPrepend",
     "outputPrepend",
     "outputPrepend"
    ]
   },
   "outputs": [],
   "source": [
    "template_name = 'log-analyzer'\n",
    "\n",
    "project_id = !(gcloud config get-value core/project)\n",
    "project_id = project_id[0]\n",
    "template_image = 'gcr.io/{}/{}:latest'.format(project_id, template_name)\n",
    "location = 'us-central1'"
   ]
  },
  {
   "cell_type": "code",
   "execution_count": 4,
   "metadata": {
    "tags": [
     "outputPrepend",
     "outputPrepend",
     "outputPrepend",
     "outputPrepend",
     "outputPrepend",
     "outputPrepend",
     "outputPrepend",
     "outputPrepend",
     "outputPrepend",
     "outputPrepend",
     "outputPrepend",
     "outputPrepend",
     "outputPrepend",
     "outputPrepend"
    ]
   },
   "outputs": [
    {
     "output_type": "stream",
     "name": "stdout",
     "text": ".3 in /usr/local/lib/python3.5/site-packages (from tensorflow!=2.0.*,<3,>=1.15->tensorflow_data_validation[visualization]==0.22.0) (0.3.3)\nRequirement already satisfied, skipping upgrade: astunparse==1.6.3 in /usr/local/lib/python3.5/site-packages (from tensorflow!=2.0.*,<3,>=1.15->tensorflow_data_validation[visualization]==0.22.0) (1.6.3)\nRequirement already satisfied, skipping upgrade: python-dateutil>=2.6.1 in /usr/local/lib/python3.5/site-packages (from pandas<1,>=0.24->tensorflow_data_validation[visualization]==0.22.0) (2.8.1)\nRequirement already satisfied, skipping upgrade: pytz>=2017.2 in /usr/local/lib/python3.5/site-packages (from pandas<1,>=0.24->tensorflow_data_validation[visualization]==0.22.0) (2019.3)\nRequirement already satisfied, skipping upgrade: pydot<2,>=1.2.0 in /usr/local/lib/python3.5/site-packages (from apache-beam[gcp]<3,>=2.20->tensorflow_data_validation[visualization]==0.22.0) (1.4.1)\nRequirement already satisfied, skipping upgrade: future<1.0.0,>=0.16.0 in /usr/local/lib/python3.5/site-packages (from apache-beam[gcp]<3,>=2.20->tensorflow_data_validation[visualization]==0.22.0) (0.18.2)\nRequirement already satisfied, skipping upgrade: mock<3.0.0,>=1.0.1 in /usr/local/lib/python3.5/site-packages (from apache-beam[gcp]<3,>=2.20->tensorflow_data_validation[visualization]==0.22.0) (2.0.0)\nRequirement already satisfied, skipping upgrade: oauth2client<4,>=2.0.1 in /usr/local/lib/python3.5/site-packages (from apache-beam[gcp]<3,>=2.20->tensorflow_data_validation[visualization]==0.22.0) (3.0.0)\nRequirement already satisfied, skipping upgrade: dill<0.3.2,>=0.3.1.1 in /usr/local/lib/python3.5/site-packages (from apache-beam[gcp]<3,>=2.20->tensorflow_data_validation[visualization]==0.22.0) (0.3.1.1)\nRequirement already satisfied, skipping upgrade: avro-python3!=1.9.2,<1.10.0,>=1.8.1; python_version >= \"3.0\" in /usr/local/lib/python3.5/site-packages (from apache-beam[gcp]<3,>=2.20->tensorflow_data_validation[visualization]==0.22.0) (1.8.2)\nRequirement already satisfied, skipping upgrade: crcmod<2.0,>=1.7 in /usr/local/lib/python3.5/site-packages (from apache-beam[gcp]<3,>=2.20->tensorflow_data_validation[visualization]==0.22.0) (1.7)\nRequirement already satisfied, skipping upgrade: pymongo<4.0.0,>=3.8.0 in /usr/local/lib/python3.5/site-packages (from apache-beam[gcp]<3,>=2.20->tensorflow_data_validation[visualization]==0.22.0) (3.9.0)\nRequirement already satisfied, skipping upgrade: typing-extensions<3.8.0,>=3.7.0 in /usr/local/lib/python3.5/site-packages (from apache-beam[gcp]<3,>=2.20->tensorflow_data_validation[visualization]==0.22.0) (3.7.4.1)\nCollecting httplib2<=0.12.0,>=0.8\n  Downloading httplib2-0.12.0.tar.gz (218 kB)\nCollecting typing<3.8.0,>=3.7.0; python_version < \"3.5.3\"\n  Downloading typing-3.7.4.1-py3-none-any.whl (25 kB)\nCollecting fastavro<0.22,>=0.21.4\n  Downloading fastavro-0.21.24-cp35-cp35m-manylinux1_x86_64.whl (1.2 MB)\nRequirement already satisfied, skipping upgrade: hdfs<3.0.0,>=2.1.0 in /usr/local/lib/python3.5/site-packages (from apache-beam[gcp]<3,>=2.20->tensorflow_data_validation[visualization]==0.22.0) (2.5.8)\nRequirement already satisfied, skipping upgrade: google-cloud-datastore<1.8.0,>=1.7.1; extra == \"gcp\" in /usr/local/lib/python3.5/site-packages (from apache-beam[gcp]<3,>=2.20->tensorflow_data_validation[visualization]==0.22.0) (1.7.4)\nRequirement already satisfied, skipping upgrade: google-cloud-videointelligence<1.14.0,>=1.8.0; extra == \"gcp\" in /usr/local/lib/python3.5/site-packages (from apache-beam[gcp]<3,>=2.20->tensorflow_data_validation[visualization]==0.22.0) (1.13.0)\nRequirement already satisfied, skipping upgrade: google-apitools<0.5.29,>=0.5.28; extra == \"gcp\" in /usr/local/lib/python3.5/site-packages (from apache-beam[gcp]<3,>=2.20->tensorflow_data_validation[visualization]==0.22.0) (0.5.28)\nRequirement already satisfied, skipping upgrade: google-cloud-core<2,>=0.28.1; extra == \"gcp\" in /usr/local/lib/python3.5/site-packages (from apache-beam[gcp]<3,>=2.20->tensorflow_data_validation[visualization]==0.22.0) (1.1.0)\nRequirement already satisfied, skipping upgrade: google-cloud-pubsub<1.1.0,>=0.39.0; extra == \"gcp\" in /usr/local/lib/python3.5/site-packages (from apache-beam[gcp]<3,>=2.20->tensorflow_data_validation[visualization]==0.22.0) (1.0.2)\nRequirement already satisfied, skipping upgrade: google-cloud-spanner<1.14.0,>=1.13.0; extra == \"gcp\" in /usr/local/lib/python3.5/site-packages (from apache-beam[gcp]<3,>=2.20->tensorflow_data_validation[visualization]==0.22.0) (1.13.0)\nRequirement already satisfied, skipping upgrade: google-cloud-bigtable<1.1.0,>=0.31.1; extra == \"gcp\" in /usr/local/lib/python3.5/site-packages (from apache-beam[gcp]<3,>=2.20->tensorflow_data_validation[visualization]==0.22.0) (1.0.0)\nRequirement already satisfied, skipping upgrade: google-cloud-vision<0.43.0,>=0.38.0; extra == \"gcp\" in /usr/local/lib/python3.5/site-packages (from apache-beam[gcp]<3,>=2.20->tensorflow_data_validation[visualization]==0.22.0) (0.42.0)\nRequirement already satisfied, skipping upgrade: google-cloud-bigquery<=1.24.0,>=1.6.0; extra == \"gcp\" in /usr/local/lib/python3.5/site-packages (from apache-beam[gcp]<3,>=2.20->tensorflow_data_validation[visualization]==0.22.0) (1.24.0)\nRequirement already satisfied, skipping upgrade: grpcio-gcp<1,>=0.2.2; extra == \"gcp\" in /usr/local/lib/python3.5/site-packages (from apache-beam[gcp]<3,>=2.20->tensorflow_data_validation[visualization]==0.22.0) (0.2.2)\nRequirement already satisfied, skipping upgrade: google-cloud-language<2,>=1.3.0; extra == \"gcp\" in /usr/local/lib/python3.5/site-packages (from apache-beam[gcp]<3,>=2.20->tensorflow_data_validation[visualization]==0.22.0) (1.3.0)\nRequirement already satisfied, skipping upgrade: google-cloud-dlp<=0.13.0,>=0.12.0; extra == \"gcp\" in /usr/local/lib/python3.5/site-packages (from apache-beam[gcp]<3,>=2.20->tensorflow_data_validation[visualization]==0.22.0) (0.13.0)\nRequirement already satisfied, skipping upgrade: cachetools<4,>=3.1.0; extra == \"gcp\" in /usr/local/lib/python3.5/site-packages (from apache-beam[gcp]<3,>=2.20->tensorflow_data_validation[visualization]==0.22.0) (3.1.1)\nCollecting google-api-python-client<2,>=1.7.11\n  Downloading google_api_python_client-1.9.1-py3-none-any.whl (59 kB)\nCollecting tensorflow-serving-api<3,>=1.15\n  Downloading tensorflow_serving_api-2.2.0-py2.py3-none-any.whl (38 kB)\nCollecting jedi>=0.10\n  Downloading jedi-0.17.0-py2.py3-none-any.whl (1.1 MB)\nCollecting pexpect; sys_platform != \"win32\"\n  Downloading pexpect-4.8.0-py2.py3-none-any.whl (59 kB)\nCollecting decorator\n  Downloading decorator-4.4.2-py2.py3-none-any.whl (9.2 kB)\nCollecting traitlets>=4.2\n  Downloading traitlets-4.3.3-py2.py3-none-any.whl (75 kB)\nCollecting pygments\n  Downloading Pygments-2.6.1-py3-none-any.whl (914 kB)\nCollecting backcall\n  Downloading backcall-0.1.0.tar.gz (9.7 kB)\nCollecting prompt-toolkit<2.1.0,>=2.0.0\n  Downloading prompt_toolkit-2.0.10-py3-none-any.whl (340 kB)\nCollecting pickleshare\n  Downloading pickleshare-0.7.5-py2.py3-none-any.whl (6.9 kB)\nRequirement already satisfied, skipping upgrade: google-auth<2,>=1.6.3 in /usr/local/lib/python3.5/site-packages (from tensorboard<2.3.0,>=2.2.0->tensorflow!=2.0.*,<3,>=1.15->tensorflow_data_validation[visualization]==0.22.0) (1.14.3)\nRequirement already satisfied, skipping upgrade: werkzeug>=0.11.15 in /usr/local/lib/python3.5/site-packages (from tensorboard<2.3.0,>=2.2.0->tensorflow!=2.0.*,<3,>=1.15->tensorflow_data_validation[visualization]==0.22.0) (1.0.1)\nRequirement already satisfied, skipping upgrade: requests<3,>=2.21.0 in /usr/local/lib/python3.5/site-packages (from tensorboard<2.3.0,>=2.2.0->tensorflow!=2.0.*,<3,>=1.15->tensorflow_data_validation[visualization]==0.22.0) (2.23.0)\nRequirement already satisfied, skipping upgrade: google-auth-oauthlib<0.5,>=0.4.1 in /usr/local/lib/python3.5/site-packages (from tensorboard<2.3.0,>=2.2.0->tensorflow!=2.0.*,<3,>=1.15->tensorflow_data_validation[visualization]==0.22.0) (0.4.1)\nRequirement already satisfied, skipping upgrade: markdown>=2.6.8 in /usr/local/lib/python3.5/site-packages (from tensorboard<2.3.0,>=2.2.0->tensorflow!=2.0.*,<3,>=1.15->tensorflow_data_validation[visualization]==0.22.0) (3.2.2)\nRequirement already satisfied, skipping upgrade: tensorboard-plugin-wit>=1.6.0 in /usr/local/lib/python3.5/site-packages (from tensorboard<2.3.0,>=2.2.0->tensorflow!=2.0.*,<3,>=1.15->tensorflow_data_validation[visualization]==0.22.0) (1.6.0.post3)\nRequirement already satisfied, skipping upgrade: pyparsing>=2.1.4 in /usr/local/lib/python3.5/site-packages (from pydot<2,>=1.2.0->apache-beam[gcp]<3,>=2.20->tensorflow_data_validation[visualization]==0.22.0) (2.4.7)\nRequirement already satisfied, skipping upgrade: pbr>=0.11 in /usr/local/lib/python3.5/site-packages (from mock<3.0.0,>=1.0.1->apache-beam[gcp]<3,>=2.20->tensorflow_data_validation[visualization]==0.22.0) (5.4.5)\nRequirement already satisfied, skipping upgrade: pyasn1>=0.1.7 in /usr/local/lib/python3.5/site-packages (from oauth2client<4,>=2.0.1->apache-beam[gcp]<3,>=2.20->tensorflow_data_validation[visualization]==0.22.0) (0.4.8)\nRequirement already satisfied, skipping upgrade: rsa>=3.1.4 in /usr/local/lib/python3.5/site-packages (from oauth2client<4,>=2.0.1->apache-beam[gcp]<3,>=2.20->tensorflow_data_validation[visualization]==0.22.0) (4.0)\nRequirement already satisfied, skipping upgrade: pyasn1-modules>=0.0.5 in /usr/local/lib/python3.5/site-packages (from oauth2client<4,>=2.0.1->apache-beam[gcp]<3,>=2.20->tensorflow_data_validation[visualization]==0.22.0) (0.2.8)\nRequirement already satisfied, skipping upgrade: docopt in /usr/local/lib/python3.5/site-packages (from hdfs<3.0.0,>=2.1.0->apache-beam[gcp]<3,>=2.20->tensorflow_data_validation[visualization]==0.22.0) (0.6.2)\nRequirement already satisfied, skipping upgrade: google-api-core[grpc]<2.0.0dev,>=1.6.0 in /usr/local/lib/python3.5/site-packages (from google-cloud-datastore<1.8.0,>=1.7.1; extra == \"gcp\"->apache-beam[gcp]<3,>=2.20->tensorflow_data_validation[visualization]==0.22.0) (1.17.0)\nRequirement already satisfied, skipping upgrade: fasteners>=0.14 in /usr/local/lib/python3.5/site-packages (from google-apitools<0.5.29,>=0.5.28; extra == \"gcp\"->apache-beam[gcp]<3,>=2.20->tensorflow_data_validation[visualization]==0.22.0) (0.15)\nRequirement already satisfied, skipping upgrade: grpc-google-iam-v1<0.13dev,>=0.12.3 in /usr/local/lib/python3.5/site-packages (from google-cloud-pubsub<1.1.0,>=0.39.0; extra == \"gcp\"->apache-beam[gcp]<3,>=2.20->tensorflow_data_validation[visualization]==0.22.0) (0.12.3)\nRequirement already satisfied, skipping upgrade: google-resumable-media<0.6dev,>=0.5.0 in /usr/local/lib/python3.5/site-packages (from google-cloud-bigquery<=1.24.0,>=1.6.0; extra == \"gcp\"->apache-beam[gcp]<3,>=2.20->tensorflow_data_validation[visualization]==0.22.0) (0.5.0)\nCollecting google-auth-httplib2>=0.0.3\n  Downloading google_auth_httplib2-0.0.3-py2.py3-none-any.whl (6.3 kB)\nCollecting uritemplate<4dev,>=3.0.0\n  Downloading uritemplate-3.0.1-py2.py3-none-any.whl (15 kB)\nCollecting parso>=0.7.0\n  Downloading parso-0.7.0-py2.py3-none-any.whl (100 kB)\nCollecting ptyprocess>=0.5\n  Downloading ptyprocess-0.6.0-py2.py3-none-any.whl (39 kB)\nCollecting ipython-genutils\n  Downloading ipython_genutils-0.2.0-py2.py3-none-any.whl (26 kB)\nRequirement already satisfied, skipping upgrade: wcwidth in /usr/local/lib/python3.5/site-packages (from prompt-toolkit<2.1.0,>=2.0.0->ipython<8,>=7; python_version >= \"3\" and extra == \"visualization\"->tensorflow_data_validation[visualization]==0.22.0) (0.1.9)\nRequirement already satisfied, skipping upgrade: idna<3,>=2.5 in /usr/local/lib/python3.5/site-packages (from requests<3,>=2.21.0->tensorboard<2.3.0,>=2.2.0->tensorflow!=2.0.*,<3,>=1.15->tensorflow_data_validation[visualization]==0.22.0) (2.9)\nRequirement already satisfied, skipping upgrade: certifi>=2017.4.17 in /usr/local/lib/python3.5/site-packages (from requests<3,>=2.21.0->tensorboard<2.3.0,>=2.2.0->tensorflow!=2.0.*,<3,>=1.15->tensorflow_data_validation[visualization]==0.22.0) (2020.4.5.1)\nRequirement already satisfied, skipping upgrade: chardet<4,>=3.0.2 in /usr/local/lib/python3.5/site-packages (from requests<3,>=2.21.0->tensorboard<2.3.0,>=2.2.0->tensorflow!=2.0.*,<3,>=1.15->tensorflow_data_validation[visualization]==0.22.0) (3.0.4)\nRequirement already satisfied, skipping upgrade: urllib3!=1.25.0,!=1.25.1,<1.26,>=1.21.1 in /usr/local/lib/python3.5/site-packages (from requests<3,>=2.21.0->tensorboard<2.3.0,>=2.2.0->tensorflow!=2.0.*,<3,>=1.15->tensorflow_data_validation[visualization]==0.22.0) (1.25.9)\nRequirement already satisfied, skipping upgrade: requests-oauthlib>=0.7.0 in /usr/local/lib/python3.5/site-packages (from google-auth-oauthlib<0.5,>=0.4.1->tensorboard<2.3.0,>=2.2.0->tensorflow!=2.0.*,<3,>=1.15->tensorflow_data_validation[visualization]==0.22.0) (1.3.0)\nRequirement already satisfied, skipping upgrade: importlib-metadata; python_version < \"3.8\" in /usr/local/lib/python3.5/site-packages (from markdown>=2.6.8->tensorboard<2.3.0,>=2.2.0->tensorflow!=2.0.*,<3,>=1.15->tensorflow_data_validation[visualization]==0.22.0) (1.6.0)\nRequirement already satisfied, skipping upgrade: monotonic>=0.1 in /usr/local/lib/python3.5/site-packages (from fasteners>=0.14->google-apitools<0.5.29,>=0.5.28; extra == \"gcp\"->apache-beam[gcp]<3,>=2.20->tensorflow_data_validation[visualization]==0.22.0) (1.5)\nRequirement already satisfied, skipping upgrade: oauthlib>=3.0.0 in /usr/local/lib/python3.5/site-packages (from requests-oauthlib>=0.7.0->google-auth-oauthlib<0.5,>=0.4.1->tensorboard<2.3.0,>=2.2.0->tensorflow!=2.0.*,<3,>=1.15->tensorflow_data_validation[visualization]==0.22.0) (3.1.0)\nRequirement already satisfied, skipping upgrade: zipp>=0.5 in /usr/local/lib/python3.5/site-packages (from importlib-metadata; python_version < \"3.8\"->markdown>=2.6.8->tensorboard<2.3.0,>=2.2.0->tensorflow!=2.0.*,<3,>=1.15->tensorflow_data_validation[visualization]==0.22.0) (1.2.0)\nBuilding wheels for collected packages: absl-py, httplib2, backcall\n  Building wheel for absl-py (setup.py): started\n  Building wheel for absl-py (setup.py): finished with status 'done'\n  Created wheel for absl-py: filename=absl_py-0.8.1-py3-none-any.whl size=121165 sha256=31e70492e591d8d9d993dd0e22abbb91f040a42bc18ccd4c27138a87cbd17ad3\n  Stored in directory: /root/.cache/pip/wheels/0c/fa/af/c3217c654740d2cffc40ab4eca9da558be4bb94dd593ef0d74\n  Building wheel for httplib2 (setup.py): started\n  Building wheel for httplib2 (setup.py): finished with status 'done'\n  Created wheel for httplib2: filename=httplib2-0.12.0-py3-none-any.whl size=93464 sha256=db58cc0bfebde1ee02a346eb7b6fb2b2a5798f22ee8a419897d6854eacb2539e\n  Stored in directory: /root/.cache/pip/wheels/2f/d8/97/b0a618545428f3602f565ccc1309f7cdeb8b4916ad8ec43685\n  Building wheel for backcall (setup.py): started\n  Building wheel for backcall (setup.py): finished with status 'done'\n  Created wheel for backcall: filename=backcall-0.1.0-py3-none-any.whl size=10413 sha256=a104740365e8ec7f65f931445837a92a0215c8114b503e0159e1b6dd94707226\n  Stored in directory: /root/.cache/pip/wheels/cb/6f/5c/9b66a87adeb46fed2babb14407bae1271f5e41b6b34b642411\nSuccessfully built absl-py httplib2 backcall\n\u001b[91mERROR: google-api-python-client 1.9.1 has requirement google-auth>=1.16.0, but you'll have google-auth 1.14.3 which is incompatible.\n\u001b[0mInstalling collected packages: tensorflow-metadata, absl-py, pyarrow, httplib2, typing, fastavro, apache-beam, google-auth-httplib2, uritemplate, google-api-python-client, tensorflow-serving-api, tfx-bsl, tensorflow-transform, parso, jedi, ptyprocess, pexpect, decorator, ipython-genutils, traitlets, pygments, backcall, prompt-toolkit, pickleshare, ipython, tensorflow-data-validation, MarkupSafe, jinja2\n  Attempting uninstall: absl-py\n    Found existing installation: absl-py 0.9.0\n    Uninstalling absl-py-0.9.0:\n      Successfully uninstalled absl-py-0.9.0\n  Attempting uninstall: pyarrow\n    Found existing installation: pyarrow 0.15.1\n    Uninstalling pyarrow-0.15.1:\n      Successfully uninstalled pyarrow-0.15.1\n  Attempting uninstall: httplib2\n    Found existing installation: httplib2 0.15.0\n    Uninstalling httplib2-0.15.0:\n      Successfully uninstalled httplib2-0.15.0\n  Attempting uninstall: fastavro\n    Found existing installation: fastavro 0.23.2\n    Uninstalling fastavro-0.23.2:\n      Successfully uninstalled fastavro-0.23.2\nSuccessfully installed MarkupSafe-1.1.1 absl-py-0.8.1 apache-beam-2.21.0 backcall-0.1.0 decorator-4.4.2 fastavro-0.21.24 google-api-python-client-1.9.1 google-auth-httplib2-0.0.3 httplib2-0.12.0 ipython-7.9.0 ipython-genutils-0.2.0 jedi-0.17.0 jinja2-2.11.2 parso-0.7.0 pexpect-4.8.0 pickleshare-0.7.5 prompt-toolkit-2.0.10 ptyprocess-0.6.0 pyarrow-0.16.0 pygments-2.6.1 tensorflow-data-validation-0.22.0 tensorflow-metadata-0.22.1 tensorflow-serving-api-2.2.0 tensorflow-transform-0.22.0 tfx-bsl-0.22.0 traitlets-4.3.3 typing-3.7.4.1 uritemplate-3.0.1\n\u001b[91mWARNING: You are using pip version 20.1; however, version 20.1.1 is available.\nYou should consider upgrading via the '/usr/local/bin/python3 -m pip install --upgrade pip' command.\n\u001b[0mRemoving intermediate container 7949ceb7babf\n ---> f14ad025e4d9\nStep 9/9 : ENV FLEX_TEMPLATE_PYTHON_PY_FILE=\"${WORKDIR}/run.py\"\n ---> Running in ab18ee40ceb0\nRemoving intermediate container ab18ee40ceb0\n ---> 3600333b4cae\nSuccessfully built 3600333b4cae\nSuccessfully tagged gcr.io/mlops-dev-env/log-analyzer:latest\nPUSH\nPushing gcr.io/mlops-dev-env/log-analyzer:latest\n\n                   ***** NOTICE *****\n\nAlternative official `docker` images, including multiple versions across\nmultiple platforms, are maintained by the Docker Team. For details, please\nvisit https://hub.docker.com/_/docker.\n\n                ***** END OF NOTICE *****\n\nThe push refers to repository [gcr.io/mlops-dev-env/log-analyzer]\n5ff22b17a3a6: Preparing\n843b49152f8b: Preparing\n338f3f669ff3: Preparing\na953fe554641: Preparing\na9e62bb2a21e: Preparing\ne79f36699e73: Preparing\n6a12fa4d914e: Preparing\n1ce0040f863b: Preparing\n3675d66e7522: Preparing\nd3a113fccc59: Preparing\n2b86258e1b71: Preparing\nf452b5bc63df: Preparing\n068b225f752a: Preparing\n8cbfea2bb995: Preparing\n20e664294b6d: Preparing\n0f830ef5c7c8: Preparing\nbbc8022f845d: Preparing\n70ebc7c7332c: Preparing\n52149e55b0c5: Preparing\n3a7a156915f7: Preparing\ncde96efde55e: Preparing\ne79f36699e73: Waiting\n6a12fa4d914e: Waiting\n1ce0040f863b: Waiting\n3675d66e7522: Waiting\nd3a113fccc59: Waiting\n2b86258e1b71: Waiting\nf452b5bc63df: Waiting\n068b225f752a: Waiting\n8cbfea2bb995: Waiting\n20e664294b6d: Waiting\n0f830ef5c7c8: Waiting\nbbc8022f845d: Waiting\n70ebc7c7332c: Waiting\n52149e55b0c5: Waiting\n3a7a156915f7: Waiting\ncde96efde55e: Waiting\n338f3f669ff3: Pushed\n843b49152f8b: Pushed\na9e62bb2a21e: Pushed\na953fe554641: Pushed\ne79f36699e73: Layer already exists\n1ce0040f863b: Layer already exists\n6a12fa4d914e: Layer already exists\n3675d66e7522: Layer already exists\nd3a113fccc59: Layer already exists\nf452b5bc63df: Layer already exists\n2b86258e1b71: Layer already exists\n068b225f752a: Layer already exists\n8cbfea2bb995: Layer already exists\n20e664294b6d: Layer already exists\nbbc8022f845d: Layer already exists\n0f830ef5c7c8: Layer already exists\n70ebc7c7332c: Layer already exists\n52149e55b0c5: Layer already exists\ncde96efde55e: Layer already exists\n3a7a156915f7: Layer already exists\n5ff22b17a3a6: Pushed\nlatest: digest: sha256:b2bbc4d2c0140abd8fb2aa4a8fd46465fae2a4b42388015c43c953ed4a6bfe53 size: 4728\nDONE\n--------------------------------------------------------------------------------\n\nID                                    CREATE_TIME                DURATION  SOURCE                                                                                   IMAGES                                       STATUS\n8d720e3c-c416-428e-be1b-dbb32438c487  2020-06-03T23:49:07+00:00  2M33S     gs://mlops-dev-env_cloudbuild/source/1591228147.12-466adcbe8a284ed884733f44b04185ea.tgz  gcr.io/mlops-dev-env/log-analyzer (+1 more)  SUCCESS\n"
    }
   ],
   "source": [
    "!gcloud builds submit --tag {template_image} ."
   ]
  },
  {
   "cell_type": "markdown",
   "metadata": {},
   "source": [
    "## Deploy the Flex template using `gcloud`"
   ]
  },
  {
   "cell_type": "code",
   "execution_count": 5,
   "metadata": {},
   "outputs": [],
   "source": [
    "flex_templates_location = 'gs://mlops-dev-workspace/flex-templates'\n",
    "template_path = '{}/{}.json'.format(flex_templates_location, template_name)\n",
    "metadata_file = 'metadata.json'"
   ]
  },
  {
   "cell_type": "code",
   "execution_count": 6,
   "metadata": {},
   "outputs": [
    {
     "output_type": "stream",
     "name": "stdout",
     "text": "Successfully saved container spec in flex template file.\nTemplate File GCS Location: gs://mlops-dev-workspace/flex-templates/log-analyzer.json\nContainer Spec:\n\n{\n    \"image\": \"gcr.io/mlops-dev-env/log-analyzer:latest\",\n    \"metadata\": {\n        \"description\": \"Data drift detector Python flex template.\",\n        \"name\": \"Data drift detector Python flex template\",\n        \"parameters\": [\n            {\n                \"helpText\": \"A full name of the BQ request-response log table\",\n                \"label\": \"Request response log table.\",\n                \"name\": \"request_response_log_table\",\n                \"regexes\": [\n                    \"[-_.a-zA-Z0-9]+\"\n                ]\n            },\n            {\n                \"helpText\": \"A name of the AI Platform Prediction model.\",\n                \"label\": \"Model name.\",\n                \"name\": \"model\",\n                \"regexes\": [\n                    \"[-_a-zA-Z0-9]+\"\n                ]\n            },\n            {\n                \"helpText\": \"A version of the AI Platform Prediction model.\",\n                \"label\": \"Model version.\",\n                \"name\": \"version\",\n                \"regexes\": [\n                    \"[-_a-zA-Z0-9]+\"\n                ]\n            },\n            {\n                \"helpText\": \"A time window start time in YYYY-MM-DDTHH:MM:SS format.\",\n                \"label\": \"Start time.\",\n                \"name\": \"start_time\",\n                \"regexes\": [\n                    \"[-:T0-9]+\"\n                ]\n            },\n            {\n                \"helpText\": \"A time window end time in YYYY-MM-DDTHH:MM:SS format.\",\n                \"label\": \"End time.\",\n                \"name\": \"end_time\",\n                \"regexes\": [\n                    \"[-:T0-9]+\"\n                ]\n            },\n            {\n                \"helpText\": \"The output path for stats and anomalies protobufs.\",\n                \"label\": \"Output path.\",\n                \"name\": \"output_path\",\n                \"regexes\": [\n                    \"gs://[-:_./a-zA-Z0-9]+\"\n                ]\n            },\n            {\n                \"helpText\": \"Setup file.\",\n                \"label\": \"Setup file.\",\n                \"name\": \"setup_file\",\n                \"regexes\": [\n                    \"[-_./a-zA-Z0-9]+\"\n                ]\n            },\n            {\n                \"helpText\": \"A GCS path to schema file.\",\n                \"label\": \"Schema file.\",\n                \"name\": \"schema_file\",\n                \"regexes\": [\n                    \"gs://[-_./a-zA-Z0-9]+\"\n                ]\n            },\n            {\n                \"helpText\": \"A GCS path to a baseline statistics file.\",\n                \"is_optional\": true,\n                \"label\": \"Baseline stats file.\",\n                \"name\": \"baseline_stats_file\",\n                \"regexes\": [\n                    \"gs://[-_./a-zA-Z0-9]+\"\n                ]\n            },\n            {\n                \"helpText\": \"A time window to use for time slice calculations. You must use the m or h suffix to designate minutes or hours.\",\n                \"is_optional\": true,\n                \"label\": \"Time window.\",\n                \"name\": \"time_window\",\n                \"regexes\": [\n                    \"[0-9]+[hm]\"\n                ]\n            }\n        ]\n    },\n    \"sdkInfo\": {\n        \"language\": \"PYTHON\"\n    }\n}\n"
    }
   ],
   "source": [
    "!gcloud beta dataflow flex-template build {template_path} \\\n",
    "  --image {template_image} \\\n",
    "  --sdk-language \"PYTHON\" \\\n",
    "  --metadata-file {metadata_file} \\\n",
    "  --image {template_image} \\\n",
    "  --sdk-language \"PYTHON\" \\\n",
    "  --metadata-file {metadata_file}"
   ]
  },
  {
   "cell_type": "markdown",
   "metadata": {},
   "source": [
    "## Trigger a run of the template using REST API"
   ]
  },
  {
   "cell_type": "code",
   "execution_count": 7,
   "metadata": {},
   "outputs": [
    {
     "output_type": "execute_result",
     "data": {
      "text/plain": "{'job': {'id': '2020-06-03_17_25_08-11190091457466143526',\n  'projectId': 'mlops-dev-env',\n  'name': 'data-drift-20200604-002508',\n  'currentStateTime': '1970-01-01T00:00:00Z',\n  'createTime': '2020-06-04T00:25:09.197611Z',\n  'location': 'us-central1',\n  'startTime': '2020-06-04T00:25:09.197611Z'}}"
     },
     "metadata": {},
     "execution_count": 7
    }
   ],
   "source": [
    "import googleapiclient.discovery\n",
    "\n",
    "service = googleapiclient.discovery.build('dataflow', 'v1b3')\n",
    "\n",
    "parameters = {\n",
    "    'request_response_log_table': 'mlops-dev-env.data_validation.covertype_classifier_logs_tf',\n",
    "    'model': 'covertype_tf',\n",
    "    'version': 'v3',\n",
    "    'start_time': '2020-06-203T17:00:00',\n",
    "    'end_time': '2020-06-03T23:00:00',\n",
    "    'output_path': 'gs://mlops-dev-workspace/drift-monitor/output/covertype-tf/test',\n",
    "    'schema_file': 'gs://mlops-dev-workspace/drift-monitor/schema/schema.pbtxt',\n",
    "    'baseline_stats_file': 'gs://mlops-dev-workspace/drift-monitor/baseline_stats/stats.pbtxt', \n",
    "    'time_window': '60m',\n",
    "    'setup_file': './setup.py'\n",
    "}\n",
    "job_name = \"rr-log-analyzer-{}\".format(time.strftime(\"%Y%m%d-%H%M%S\"))\n",
    "body = {\n",
    "    'launch_parameter': \n",
    "         {\n",
    "             'jobName': job_name,\n",
    "             'parameters' : parameters,\n",
    "             'containerSpecGcsPath': template_path\n",
    "         }}\n",
    "\n",
    "request = service.projects().locations().flexTemplates().launch(\n",
    "    location=location,\n",
    "    projectId=project_id,\n",
    "    body=body)\n",
    "\n",
    "response = request.execute()\n",
    "response"
   ]
  },
  {
   "cell_type": "markdown",
   "metadata": {},
   "source": [
    "## Trigger a run of the template using REST API - Curl"
   ]
  },
  {
   "cell_type": "code",
   "execution_count": 7,
   "metadata": {},
   "outputs": [],
   "source": [
    "service_url = 'https://dataflow.googleapis.com/v1b3/projects/{}/locations/us-central1/flexTemplates:launch'.format(project_id)\n",
    "headers_content = 'Content-Type: application/json'\n",
    "access_token = !(gcloud auth print-access-token) \n",
    "headers_auth = 'Authorization: Bearer {}'.format(access_token[0])\n",
    "parameters = {\n",
    "    'request_response_log_table': 'mlops-dev-env.data_validation.covertype_classifier_logs_tf',\n",
    "    'start_time': '2020-05-15T00:15:00',\n",
    "    'end_time': '2020-05-15T05:51:00',\n",
    "    'output_path': 'gs://mlops-dev-workspace/drift_monitor/output/tf/test2',\n",
    "    'schema_file': 'gs://mlops-dev-workspace/drift_monitor/schema/schema.pbtxt',\n",
    "    'setup_file': './setup.py',\n",
    "\n",
    "}\n",
    "job_name = \"data-drift-{}\".format(time.strftime(\"%Y%m%d-%H%M%S\"))\n",
    "body = {\n",
    "    'launch_parameter': \n",
    "         {\n",
    "             'jobName': job_name,\n",
    "             'parameters' : parameters,\n",
    "             'containerSpecGcsPath': template_path\n",
    "         }}\n",
    "\n",
    "json_body = json.dumps(body)"
   ]
  },
  {
   "cell_type": "code",
   "execution_count": 8,
   "metadata": {},
   "outputs": [
    {
     "output_type": "stream",
     "name": "stdout",
     "text": "{\n  \"job\": {\n    \"id\": \"2020-05-25_10_02_12-10856269937757314054\",\n    \"projectId\": \"mlops-dev-env\",\n    \"name\": \"data-drift-20200525-170210\",\n    \"currentStateTime\": \"1970-01-01T00:00:00Z\",\n    \"createTime\": \"2020-05-25T17:02:13.459065Z\",\n    \"location\": \"us-central1\",\n    \"startTime\": \"2020-05-25T17:02:13.459065Z\"\n  }\n}\n"
    }
   ],
   "source": [
    "!curl -X POST \\\n",
    "  \"{service_url}\" \\\n",
    "  -H \"{headers_content}\" \\\n",
    "  -H \"{headers_auth}\" \\\n",
    "  -d '{json_body}'"
   ]
  },
  {
   "cell_type": "markdown",
   "metadata": {},
   "source": [
    "## Trigger a run of the template using `gcloud`"
   ]
  },
  {
   "cell_type": "code",
   "execution_count": null,
   "metadata": {},
   "outputs": [],
   "source": [
    "job_name = \"data-drift-{}\".format(time.strftime(\"%Y%m%d-%H%M%S\"))\n",
    "g_parameters = ','.join(['{}={}'.format(key,value) for key, value in parameters.items()])\n",
    "\n",
    "!gcloud beta dataflow flex-template run {job_name} \\\n",
    "--template-file-gcs-location {template_path} \\\n",
    "--parameters {g_parameters}"
   ]
  },
  {
   "cell_type": "code",
   "execution_count": null,
   "metadata": {},
   "outputs": [],
   "source": []
  }
 ],
 "metadata": {
  "environment": {
   "name": "common-cpu.m47",
   "type": "gcloud",
   "uri": "gcr.io/deeplearning-platform-release/base-cpu:m47"
  },
  "kernelspec": {
   "display_name": "Python 3",
   "language": "python",
   "name": "python3"
  },
  "language_info": {
   "codemirror_mode": {
    "name": "ipython",
    "version": 3
   },
   "file_extension": ".py",
   "mimetype": "text/x-python",
   "name": "python",
   "nbconvert_exporter": "python",
   "pygments_lexer": "ipython3",
   "version": "3.7.6-final"
  }
 },
 "nbformat": 4,
 "nbformat_minor": 4
}