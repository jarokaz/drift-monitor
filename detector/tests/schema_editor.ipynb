{
 "cells": [
  {
   "cell_type": "markdown",
   "metadata": {},
   "source": [
    "# Create Covertype schema"
   ]
  },
  {
   "cell_type": "code",
   "execution_count": 18,
   "metadata": {},
   "outputs": [],
   "source": [
    "import tensorflow_data_validation as tfdv\n",
    "from google.protobuf.json_format import MessageToDict, MessageToJson, ParseDict\n",
    "from tensorflow_metadata.proto.v0 import schema_pb2"
   ]
  },
  {
   "cell_type": "code",
   "execution_count": 36,
   "metadata": {},
   "outputs": [],
   "source": [
    "schema_dict = {\n",
    "    'feature': [\n",
    "        {'name': 'Soil_Type', 'type': 'BYTES', 'domain': 'Soil_Type'},\n",
    "        {'name': 'Wilderness_Area', 'type': 'BYTES', 'domain': 'Wilderness_Area'},\n",
    "        {'name': 'Aspect', 'type': 'INT'},\n",
    "        {'name': 'Cover_Type', 'type': 'INT'},\n",
    "        {'name': 'Elevation', 'type': 'INT'},\n",
    "        {'name': 'Hillshade_3pm', 'type': 'INT'},\n",
    "        {'name': 'Hillshade_9am', 'type': 'INT'},\n",
    "        {'name': 'Hillshade_Noon', 'type': 'INT'},\n",
    "        {'name': 'Horizontal_Distance_To_Fire_Points', 'type': 'INT'},\n",
    "        {'name': 'Horizontal_Distance_To_Hydrology', 'type': 'INT'},\n",
    "        {'name': 'Horizontal_Distance_To_Roadways', 'type': 'INT'},\n",
    "        {'name': 'Slope', 'type': 'INT'},\n",
    "        {'name': 'Vertical_Distance_To_Hydrology', 'type': 'INT'}],\n",
    "    'stringDomain': [\n",
    "        {'name': 'Soil_Type',\n",
    "        'value': ['C2702', 'C2703', 'C2704', 'C2705', 'C2706', 'C2717',\n",
    "                  'C3501', 'C3502', 'C4201', 'C4703', 'C4704', 'C4744',\n",
    "                  'C4758', 'C5101', 'C5151', 'C6101', 'C6102', 'C6731',\n",
    "                  'C7101', 'C7102', 'C7103', 'C7201', 'C7202', 'C7700',\n",
    "                  'C7701', 'C7702', 'C7709', 'C7710', 'C7745', 'C7746',\n",
    "                  'C7755', 'C7756', 'C7757', 'C7790', 'C8703', 'C8707',\n",
    "                  'C8708', 'C8771', 'C8772', 'C8776']},\n",
    "      {'name': 'Wilderness_Area',\n",
    "        'value': ['Cache', 'Commanche', 'Neota', 'Rawah']}]}"
   ]
  },
  {
   "cell_type": "code",
   "execution_count": 37,
   "metadata": {},
   "outputs": [
    {
     "output_type": "execute_result",
     "data": {
      "text/plain": "tensorflow_metadata.proto.v0.schema_pb2.Schema"
     },
     "metadata": {},
     "execution_count": 37
    }
   ],
   "source": [
    "schema_new = schema_pb2.Schema() \n",
    "ParseDict(schema_dict, schema_new)\n",
    "type(schema_new)"
   ]
  },
  {
   "cell_type": "code",
   "execution_count": 38,
   "metadata": {},
   "outputs": [
    {
     "output_type": "execute_result",
     "data": {
      "text/plain": "feature {\n  name: \"Soil_Type\"\n  type: BYTES\n  domain: \"Soil_Type\"\n}\nfeature {\n  name: \"Wilderness_Area\"\n  type: BYTES\n  domain: \"Wilderness_Area\"\n}\nfeature {\n  name: \"Aspect\"\n  type: INT\n}\nfeature {\n  name: \"Cover_Type\"\n  type: INT\n}\nfeature {\n  name: \"Elevation\"\n  type: INT\n}\nfeature {\n  name: \"Hillshade_3pm\"\n  type: INT\n}\nfeature {\n  name: \"Hillshade_9am\"\n  type: INT\n}\nfeature {\n  name: \"Hillshade_Noon\"\n  type: INT\n}\nfeature {\n  name: \"Horizontal_Distance_To_Fire_Points\"\n  type: INT\n}\nfeature {\n  name: \"Horizontal_Distance_To_Hydrology\"\n  type: INT\n}\nfeature {\n  name: \"Horizontal_Distance_To_Roadways\"\n  type: INT\n}\nfeature {\n  name: \"Slope\"\n  type: INT\n}\nfeature {\n  name: \"Vertical_Distance_To_Hydrology\"\n  type: INT\n}\nstring_domain {\n  name: \"Soil_Type\"\n  value: \"C2702\"\n  value: \"C2703\"\n  value: \"C2704\"\n  value: \"C2705\"\n  value: \"C2706\"\n  value: \"C2717\"\n  value: \"C3501\"\n  value: \"C3502\"\n  value: \"C4201\"\n  value: \"C4703\"\n  value: \"C4704\"\n  value: \"C4744\"\n  value: \"C4758\"\n  value: \"C5101\"\n  value: \"C5151\"\n  value: \"C6101\"\n  value: \"C6102\"\n  value: \"C6731\"\n  value: \"C7101\"\n  value: \"C7102\"\n  value: \"C7103\"\n  value: \"C7201\"\n  value: \"C7202\"\n  value: \"C7700\"\n  value: \"C7701\"\n  value: \"C7702\"\n  value: \"C7709\"\n  value: \"C7710\"\n  value: \"C7745\"\n  value: \"C7746\"\n  value: \"C7755\"\n  value: \"C7756\"\n  value: \"C7757\"\n  value: \"C7790\"\n  value: \"C8703\"\n  value: \"C8707\"\n  value: \"C8708\"\n  value: \"C8771\"\n  value: \"C8772\"\n  value: \"C8776\"\n}\nstring_domain {\n  name: \"Wilderness_Area\"\n  value: \"Cache\"\n  value: \"Commanche\"\n  value: \"Neota\"\n  value: \"Rawah\"\n}"
     },
     "metadata": {},
     "execution_count": 38
    }
   ],
   "source": [
    "schema_new"
   ]
  },
  {
   "cell_type": "code",
   "execution_count": null,
   "metadata": {},
   "outputs": [],
   "source": []
  }
 ],
 "metadata": {
  "language_info": {
   "codemirror_mode": {
    "name": "ipython",
    "version": 3
   },
   "file_extension": ".py",
   "mimetype": "text/x-python",
   "name": "python",
   "nbconvert_exporter": "python",
   "pygments_lexer": "ipython3",
   "version": "3.7.6-final"
  },
  "orig_nbformat": 2,
  "kernelspec": {
   "name": "python3",
   "display_name": "Python 3"
  }
 },
 "nbformat": 4,
 "nbformat_minor": 2
}