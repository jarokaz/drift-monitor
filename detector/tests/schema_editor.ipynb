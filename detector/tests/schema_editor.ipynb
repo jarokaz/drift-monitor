{
 "cells": [
  {
   "cell_type": "markdown",
   "metadata": {},
   "source": [
    "# Creating Covertype schema"
   ]
  },
  {
   "cell_type": "code",
   "execution_count": 1,
   "metadata": {},
   "outputs": [],
   "source": [
    "import tensorflow_data_validation as tfdv\n",
    "from google.protobuf.json_format import MessageToDict, MessageToJson, ParseDict\n",
    "from tensorflow_metadata.proto.v0 import schema_pb2"
   ]
  },
  {
   "cell_type": "markdown",
   "metadata": {},
   "source": [
    "### Define a schema as JSON dictionary"
   ]
  },
  {
   "cell_type": "code",
   "execution_count": 4,
   "metadata": {},
   "outputs": [],
   "source": [
    "schema_dict = {\n",
    "    'feature': [\n",
    "        {'name': 'Elevation', 'type': 'FLOAT'},\n",
    "        {'name': 'Aspect', 'type': 'FLOAT'},\n",
    "        {'name': 'Slope', 'type': 'FLOAT'},\n",
    "        {'name': 'Horizontal_Distance_To_Hydrology', 'type': 'FLOAT'},\n",
    "        {'name': 'Vertical_Distance_To_Hydrology', 'type': 'FLOAT'},\n",
    "        {'name': 'Horizontal_Distance_To_Roadways', 'type': 'FLOAT'},\n",
    "        {'name': 'Hillshade_9am', 'type': 'FLOAT'},\n",
    "        {'name': 'Hillshade_Noon', 'type': 'FLOAT'},\n",
    "        {'name': 'Hillshade_3pm', 'type': 'FLOAT'},\n",
    "        {'name': 'Horizontal_Distance_To_Fire_Points', 'type': 'FLOAT'},\n",
    "        {'name': 'Wilderness_Area', 'type': 'BYTES', 'domain': 'Wilderness_Area'},\n",
    "        {'name': 'Soil_Type', 'type': 'BYTES', 'domain': 'Soil_Type'}, ],\n",
    "    'stringDomain': [\n",
    "        {'name': 'Soil_Type',\n",
    "        'value': ['2702', '2703', '2704', '2705', '2706', '2717',\n",
    "                  '3501', '3502', '4201', '4703', '4704', '4744',\n",
    "                  '4758', '5101', '5151', '6101', '6102', '6731',\n",
    "                  '7101', '7102', '7103', '7201', '7202', '7700',\n",
    "                  '7701', '7702', '7709', '7710', '7745', '7746',\n",
    "                  '7755', '7756', '7757', '7790', '8703', '8707',\n",
    "                  '8708', '8771', '8772', '8776']},\n",
    "      {'name': 'Wilderness_Area',\n",
    "        'value': ['Cache', 'Commanche', 'Neota', 'Rawah']}]}"
   ]
  },
  {
   "cell_type": "markdown",
   "metadata": {},
   "source": [
    "### Convert the schema dictionary to a protocol buffer"
   ]
  },
  {
   "cell_type": "code",
   "execution_count": 5,
   "metadata": {},
   "outputs": [
    {
     "output_type": "execute_result",
     "data": {
      "text/plain": "feature {\n  name: \"Elevation\"\n  type: FLOAT\n}\nfeature {\n  name: \"Aspect\"\n  type: FLOAT\n}\nfeature {\n  name: \"Slope\"\n  type: FLOAT\n}\nfeature {\n  name: \"Horizontal_Distance_To_Hydrology\"\n  type: FLOAT\n}\nfeature {\n  name: \"Vertical_Distance_To_Hydrology\"\n  type: FLOAT\n}\nfeature {\n  name: \"Horizontal_Distance_To_Roadways\"\n  type: FLOAT\n}\nfeature {\n  name: \"Hillshade_9am\"\n  type: FLOAT\n}\nfeature {\n  name: \"Hillshade_Noon\"\n  type: FLOAT\n}\nfeature {\n  name: \"Hillshade_3pm\"\n  type: FLOAT\n}\nfeature {\n  name: \"Horizontal_Distance_To_Fire_Points\"\n  type: FLOAT\n}\nfeature {\n  name: \"Wilderness_Area\"\n  type: BYTES\n  domain: \"Wilderness_Area\"\n}\nfeature {\n  name: \"Soil_Type\"\n  type: BYTES\n  domain: \"Soil_Type\"\n}\nstring_domain {\n  name: \"Soil_Type\"\n  value: \"2702\"\n  value: \"2703\"\n  value: \"2704\"\n  value: \"2705\"\n  value: \"2706\"\n  value: \"2717\"\n  value: \"3501\"\n  value: \"3502\"\n  value: \"4201\"\n  value: \"4703\"\n  value: \"4704\"\n  value: \"4744\"\n  value: \"4758\"\n  value: \"5101\"\n  value: \"5151\"\n  value: \"6101\"\n  value: \"6102\"\n  value: \"6731\"\n  value: \"7101\"\n  value: \"7102\"\n  value: \"7103\"\n  value: \"7201\"\n  value: \"7202\"\n  value: \"7700\"\n  value: \"7701\"\n  value: \"7702\"\n  value: \"7709\"\n  value: \"7710\"\n  value: \"7745\"\n  value: \"7746\"\n  value: \"7755\"\n  value: \"7756\"\n  value: \"7757\"\n  value: \"7790\"\n  value: \"8703\"\n  value: \"8707\"\n  value: \"8708\"\n  value: \"8771\"\n  value: \"8772\"\n  value: \"8776\"\n}\nstring_domain {\n  name: \"Wilderness_Area\"\n  value: \"Cache\"\n  value: \"Commanche\"\n  value: \"Neota\"\n  value: \"Rawah\"\n}"
     },
     "metadata": {},
     "execution_count": 5
    }
   ],
   "source": [
    "schema = schema_pb2.Schema() \n",
    "ParseDict(schema_dict, schema)\n",
    "schema"
   ]
  },
  {
   "cell_type": "markdown",
   "metadata": {},
   "source": [
    "### Save the schema to a text protobuf"
   ]
  },
  {
   "cell_type": "code",
   "execution_count": 6,
   "metadata": {},
   "outputs": [],
   "source": [
    "schema_file = 'schema.pbtxt'\n",
    "tfdv.write_schema_text(schema, schema_file)"
   ]
  },
  {
   "cell_type": "markdown",
   "metadata": {},
   "source": [
    "### Upload the schema to GCS"
   ]
  },
  {
   "cell_type": "code",
   "execution_count": 7,
   "metadata": {},
   "outputs": [
    {
     "output_type": "stream",
     "name": "stdout",
     "text": "Copying file://schema.pbtxt [Content-Type=application/octet-stream]...\n\nOperation completed over 1 objects/1.5 KiB.                                      \n"
    }
   ],
   "source": [
    "gcs_location = 'gs://mlops-dev-workspace/drift_monitor/schema/'\n",
    "\n",
    "!gsutil cp {schema_file} {gcs_location}"
   ]
  },
  {
   "cell_type": "code",
   "execution_count": 8,
   "metadata": {},
   "outputs": [
    {
     "output_type": "stream",
     "name": "stdout",
     "text": "feature {\n  name: \"Elevation\"\n  type: FLOAT\n}\nfeature {\n  name: \"Aspect\"\n  type: FLOAT\n}\nfeature {\n  name: \"Slope\"\n  type: FLOAT\n}\nfeature {\n  name: \"Horizontal_Distance_To_Hydrology\"\n  type: FLOAT\n}\nfeature {\n  name: \"Vertical_Distance_To_Hydrology\"\n  type: FLOAT\n}\nfeature {\n  name: \"Horizontal_Distance_To_Roadways\"\n  type: FLOAT\n}\nfeature {\n  name: \"Hillshade_9am\"\n  type: FLOAT\n}\nfeature {\n  name: \"Hillshade_Noon\"\n  type: FLOAT\n}\nfeature {\n  name: \"Hillshade_3pm\"\n  type: FLOAT\n}\nfeature {\n  name: \"Horizontal_Distance_To_Fire_Points\"\n  type: FLOAT\n}\nfeature {\n  name: \"Wilderness_Area\"\n  type: BYTES\n  domain: \"Wilderness_Area\"\n}\nfeature {\n  name: \"Soil_Type\"\n  type: BYTES\n  domain: \"Soil_Type\"\n}\nstring_domain {\n  name: \"Soil_Type\"\n  value: \"2702\"\n  value: \"2703\"\n  value: \"2704\"\n  value: \"2705\"\n  value: \"2706\"\n  value: \"2717\"\n  value: \"3501\"\n  value: \"3502\"\n  value: \"4201\"\n  value: \"4703\"\n  value: \"4704\"\n  value: \"4744\"\n  value: \"4758\"\n  value: \"5101\"\n  value: \"5151\"\n  value: \"6101\"\n  value: \"6102\"\n  value: \"6731\"\n  value: \"7101\"\n  value: \"7102\"\n  value: \"7103\"\n  value: \"7201\"\n  value: \"7202\"\n  value: \"7700\"\n  value: \"7701\"\n  value: \"7702\"\n  value: \"7709\"\n  value: \"7710\"\n  value: \"7745\"\n  value: \"7746\"\n  value: \"7755\"\n  value: \"7756\"\n  value: \"7757\"\n  value: \"7790\"\n  value: \"8703\"\n  value: \"8707\"\n  value: \"8708\"\n  value: \"8771\"\n  value: \"8772\"\n  value: \"8776\"\n}\nstring_domain {\n  name: \"Wilderness_Area\"\n  value: \"Cache\"\n  value: \"Commanche\"\n  value: \"Neota\"\n  value: \"Rawah\"\n}\n"
    }
   ],
   "source": [
    "!gsutil cat {gcs_location}{schema_file}"
   ]
  },
  {
   "cell_type": "code",
   "execution_count": null,
   "metadata": {},
   "outputs": [],
   "source": []
  }
 ],
 "metadata": {
  "language_info": {
   "codemirror_mode": {
    "name": "ipython",
    "version": 3
   },
   "file_extension": ".py",
   "mimetype": "text/x-python",
   "name": "python",
   "nbconvert_exporter": "python",
   "pygments_lexer": "ipython3",
   "version": "3.7.6-final"
  },
  "orig_nbformat": 2,
  "kernelspec": {
   "name": "python3",
   "display_name": "Python 3"
  }
 },
 "nbformat": 4,
 "nbformat_minor": 2
}