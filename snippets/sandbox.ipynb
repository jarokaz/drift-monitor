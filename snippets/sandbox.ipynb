{
 "cells": [
  {
   "cell_type": "code",
   "execution_count": 7,
   "metadata": {},
   "outputs": [],
   "source": [
    "import googleapiclient.discovery\n",
    "import tensorflow as tf\n",
    "import pandas as pd\n",
    "import json"
   ]
  },
  {
   "cell_type": "code",
   "execution_count": 8,
   "metadata": {},
   "outputs": [],
   "source": [
    "PROJECT = 'mlops-dev-env'\n",
    "BUCKET =  'mlops-dev-workspace'\n",
    "GCS_DATA_LOCATION = 'gs://workshop-datasets/covertype/data_validation/evaluation/dataset.csv'\n",
    "REGION = 'us-central1'\n",
    "LOCAL_WORKSPACE = '/home/jarekk/workspace'\n",
    "LOCAL_DATA_DIR = os.path.join(LOCAL_WORKSPACE, 'data')\n",
    "CSV_DATA_FILE = '{}/data.csv'.format(LOCAL_DATA_DIR)\n",
    "JSON_DATA_FILE = '{}/json_instances'.format(LOCAL_DATA_DIR)\n",
    "BQ_DATASET_NAME = 'data_validation'\n",
    "BQ_TABLE_NAME = 'covertype_classifier_logs_tf'\n",
    "MODEL_NAME = 'covertype_classifier_tf'\n",
    "VERSION_NAME = 'v2'\n",
    "TRAINING_DIR = os.path.join(LOCAL_WORKSPACE, 'training')\n",
    "MODEL_DIR = os.path.join(TRAINING_DIR, 'exported_model')"
   ]
  },
  {
   "cell_type": "code",
   "execution_count": 14,
   "metadata": {},
   "outputs": [
    {
     "output_type": "stream",
     "name": "stdout",
     "text": "Removing previous workspace artifacts...\nCreating a new workspace...\n"
    }
   ],
   "source": [
    "if tf.io.gfile.exists(LOCAL_WORKSPACE):\n",
    "  print(\"Removing previous workspace artifacts...\")\n",
    "  tf.io.gfile.rmtree(LOCAL_WORKSPACE)\n",
    "\n",
    "print(\"Creating a new workspace...\")\n",
    "tf.io.gfile.makedirs(LOCAL_WORKSPACE)\n",
    "tf.io.gfile.makedirs(LOCAL_DATA_DIR)"
   ]
  },
  {
   "cell_type": "code",
   "execution_count": 15,
   "metadata": {},
   "outputs": [
    {
     "output_type": "stream",
     "name": "stdout",
     "text": "gs://workshop-datasets/covertype/data_validation/evaluation/dataset.csv\n"
    }
   ],
   "source": [
    "!gsutil ls {GCS_DATA_LOCATION}"
   ]
  },
  {
   "cell_type": "code",
   "execution_count": 16,
   "metadata": {},
   "outputs": [
    {
     "output_type": "stream",
     "name": "stdout",
     "text": "Copying gs://workshop-datasets/covertype/data_validation/evaluation/dataset.csv...\n\nOperation completed over 1 objects/3.9 MiB.                                      \n"
    }
   ],
   "source": [
    "!gsutil cp {GCS_DATA_LOCATION} {CSV_DATA_FILE}\n"
   ]
  },
  {
   "cell_type": "code",
   "execution_count": 9,
   "metadata": {},
   "outputs": [
    {
     "output_type": "stream",
     "name": "stdout",
     "text": "Elevation,Aspect,Slope,Horizontal_Distance_To_Hydrology,Vertical_Distance_To_Hydrology,Horizontal_Distance_To_Roadways,Hillshade_9am,Hillshade_Noon,Hillshade_3pm,Horizontal_Distance_To_Fire_Points,Wilderness_Area,Soil_Type,Cover_Type\n2814,55,17,30,8,2483,228,201,100,2727,Rawah,7202,1\n2903,149,4,108,7,5148,225,239,149,4713,Rawah,6101,1\n3338,236,10,300,27,1008,202,249,184,1620,Commanche,7756,0\n3305,153,20,60,9,2353,240,237,118,324,Commanche,8703,6\n2788,107,7,0,0,2533,233,232,131,3896,Rawah,7202,1\n2609,101,35,170,68,1050,252,172,17,624,Commanche,4758,2\n3175,38,10,210,38,1537,220,217,131,95,Rawah,7201,0\n2606,253,7,417,135,547,204,245,179,503,Commanche,2703,2\n2945,90,3,240,78,600,224,234,146,1803,Commanche,7756,0\n"
    }
   ],
   "source": [
    "!head {CSV_DATA_FILE}"
   ]
  },
  {
   "cell_type": "code",
   "execution_count": 11,
   "metadata": {},
   "outputs": [
    {
     "output_type": "execute_result",
     "data": {
      "text/plain": "       Elevation  Aspect  Slope  Horizontal_Distance_To_Hydrology  \\\n0           2814      55     17                                30   \n1           2903     149      4                               108   \n2           3338     236     10                               300   \n3           3305     153     20                                60   \n4           2788     107      7                                 0   \n...          ...     ...    ...                               ...   \n74995       3294     336     14                               268   \n74996       3372      74     31                               408   \n74997       3295     225     16                               319   \n74998       3125      84     10                               283   \n74999       3361     337     20                               514   \n\n       Vertical_Distance_To_Hydrology  Horizontal_Distance_To_Roadways  \\\n0                                   8                             2483   \n1                                   7                             5148   \n2                                  27                             1008   \n3                                   9                             2353   \n4                                   0                             2533   \n...                               ...                              ...   \n74995                             -37                             1460   \n74996                             138                             1860   \n74997                               1                             1739   \n74998                              43                             1980   \n74999                             158                             2285   \n\n       Hillshade_9am  Hillshade_Noon  Hillshade_3pm  \\\n0                228             201            100   \n1                225             239            149   \n2                202             249            184   \n3                240             237            118   \n4                233             232            131   \n...              ...             ...            ...   \n74995            187             220            171   \n74996            239             167             35   \n74997            196             253            190   \n74998            234             224            121   \n74999            172             208            173   \n\n       Horizontal_Distance_To_Fire_Points Wilderness_Area  Soil_Type  \\\n0                                    2727           Rawah       7202   \n1                                    4713           Rawah       6101   \n2                                    1620       Commanche       7756   \n3                                     324       Commanche       8703   \n4                                    3896           Rawah       7202   \n...                                   ...             ...        ...   \n74995                                1945           Neota       7202   \n74996                                2063           Rawah       8776   \n74997                                3997           Neota       7756   \n74998                                3264       Commanche       7700   \n74999                                 920       Commanche       8772   \n\n       Cover_Type  \n0               1  \n1               1  \n2               0  \n3               6  \n4               1  \n...           ...  \n74995           0  \n74996           0  \n74997           0  \n74998           0  \n74999           6  \n\n[75000 rows x 13 columns]",
      "text/html": "<div>\n<style scoped>\n    .dataframe tbody tr th:only-of-type {\n        vertical-align: middle;\n    }\n\n    .dataframe tbody tr th {\n        vertical-align: top;\n    }\n\n    .dataframe thead th {\n        text-align: right;\n    }\n</style>\n<table border=\"1\" class=\"dataframe\">\n  <thead>\n    <tr style=\"text-align: right;\">\n      <th></th>\n      <th>Elevation</th>\n      <th>Aspect</th>\n      <th>Slope</th>\n      <th>Horizontal_Distance_To_Hydrology</th>\n      <th>Vertical_Distance_To_Hydrology</th>\n      <th>Horizontal_Distance_To_Roadways</th>\n      <th>Hillshade_9am</th>\n      <th>Hillshade_Noon</th>\n      <th>Hillshade_3pm</th>\n      <th>Horizontal_Distance_To_Fire_Points</th>\n      <th>Wilderness_Area</th>\n      <th>Soil_Type</th>\n      <th>Cover_Type</th>\n    </tr>\n  </thead>\n  <tbody>\n    <tr>\n      <th>0</th>\n      <td>2814</td>\n      <td>55</td>\n      <td>17</td>\n      <td>30</td>\n      <td>8</td>\n      <td>2483</td>\n      <td>228</td>\n      <td>201</td>\n      <td>100</td>\n      <td>2727</td>\n      <td>Rawah</td>\n      <td>7202</td>\n      <td>1</td>\n    </tr>\n    <tr>\n      <th>1</th>\n      <td>2903</td>\n      <td>149</td>\n      <td>4</td>\n      <td>108</td>\n      <td>7</td>\n      <td>5148</td>\n      <td>225</td>\n      <td>239</td>\n      <td>149</td>\n      <td>4713</td>\n      <td>Rawah</td>\n      <td>6101</td>\n      <td>1</td>\n    </tr>\n    <tr>\n      <th>2</th>\n      <td>3338</td>\n      <td>236</td>\n      <td>10</td>\n      <td>300</td>\n      <td>27</td>\n      <td>1008</td>\n      <td>202</td>\n      <td>249</td>\n      <td>184</td>\n      <td>1620</td>\n      <td>Commanche</td>\n      <td>7756</td>\n      <td>0</td>\n    </tr>\n    <tr>\n      <th>3</th>\n      <td>3305</td>\n      <td>153</td>\n      <td>20</td>\n      <td>60</td>\n      <td>9</td>\n      <td>2353</td>\n      <td>240</td>\n      <td>237</td>\n      <td>118</td>\n      <td>324</td>\n      <td>Commanche</td>\n      <td>8703</td>\n      <td>6</td>\n    </tr>\n    <tr>\n      <th>4</th>\n      <td>2788</td>\n      <td>107</td>\n      <td>7</td>\n      <td>0</td>\n      <td>0</td>\n      <td>2533</td>\n      <td>233</td>\n      <td>232</td>\n      <td>131</td>\n      <td>3896</td>\n      <td>Rawah</td>\n      <td>7202</td>\n      <td>1</td>\n    </tr>\n    <tr>\n      <th>...</th>\n      <td>...</td>\n      <td>...</td>\n      <td>...</td>\n      <td>...</td>\n      <td>...</td>\n      <td>...</td>\n      <td>...</td>\n      <td>...</td>\n      <td>...</td>\n      <td>...</td>\n      <td>...</td>\n      <td>...</td>\n      <td>...</td>\n    </tr>\n    <tr>\n      <th>74995</th>\n      <td>3294</td>\n      <td>336</td>\n      <td>14</td>\n      <td>268</td>\n      <td>-37</td>\n      <td>1460</td>\n      <td>187</td>\n      <td>220</td>\n      <td>171</td>\n      <td>1945</td>\n      <td>Neota</td>\n      <td>7202</td>\n      <td>0</td>\n    </tr>\n    <tr>\n      <th>74996</th>\n      <td>3372</td>\n      <td>74</td>\n      <td>31</td>\n      <td>408</td>\n      <td>138</td>\n      <td>1860</td>\n      <td>239</td>\n      <td>167</td>\n      <td>35</td>\n      <td>2063</td>\n      <td>Rawah</td>\n      <td>8776</td>\n      <td>0</td>\n    </tr>\n    <tr>\n      <th>74997</th>\n      <td>3295</td>\n      <td>225</td>\n      <td>16</td>\n      <td>319</td>\n      <td>1</td>\n      <td>1739</td>\n      <td>196</td>\n      <td>253</td>\n      <td>190</td>\n      <td>3997</td>\n      <td>Neota</td>\n      <td>7756</td>\n      <td>0</td>\n    </tr>\n    <tr>\n      <th>74998</th>\n      <td>3125</td>\n      <td>84</td>\n      <td>10</td>\n      <td>283</td>\n      <td>43</td>\n      <td>1980</td>\n      <td>234</td>\n      <td>224</td>\n      <td>121</td>\n      <td>3264</td>\n      <td>Commanche</td>\n      <td>7700</td>\n      <td>0</td>\n    </tr>\n    <tr>\n      <th>74999</th>\n      <td>3361</td>\n      <td>337</td>\n      <td>20</td>\n      <td>514</td>\n      <td>158</td>\n      <td>2285</td>\n      <td>172</td>\n      <td>208</td>\n      <td>173</td>\n      <td>920</td>\n      <td>Commanche</td>\n      <td>8772</td>\n      <td>6</td>\n    </tr>\n  </tbody>\n</table>\n<p>75000 rows × 13 columns</p>\n</div>"
     },
     "metadata": {},
     "execution_count": 11
    }
   ],
   "source": [
    "df = pd.read_csv(CSV_DATA_FILE)\n",
    "df"
   ]
  },
  {
   "cell_type": "code",
   "execution_count": 14,
   "metadata": {},
   "outputs": [],
   "source": [
    "with open(JSON_DATA_FILE, 'w') as f:\n",
    "    for row in df.iterrows():\n",
    "        feature_dict = {key: [value] for key, value in row[1].to_dict().items()}\n",
    "        feature_dict['Soil_Type'] = [str(feature_dict['Soil_Type'][0])]\n",
    "        json_object = json.dumps(feature_dict)\n",
    "        f.write(json_object)\n",
    "        f.write('\\n')"
   ]
  },
  {
   "cell_type": "code",
   "execution_count": 15,
   "metadata": {
    "tags": [
     "outputPrepend",
     "outputPrepend",
     "outputPrepend",
     "outputPrepend",
     "outputPrepend",
     "outputPrepend",
     "outputPrepend",
     "outputPrepend",
     "outputPrepend",
     "outputPrepend",
     "outputPrepend",
     "outputPrepend",
     "outputPrepend",
     "outputPrepend",
     "outputPrepend",
     "outputPrepend",
     "outputPrepend",
     "outputPrepend",
     "outputPrepend",
     "outputPrepend",
     "outputPrepend",
     "outputPrepend",
     "outputPrepend",
     "outputPrepend",
     "outputPrepend",
     "outputPrepend",
     "outputPrepend",
     "outputPrepend",
     "outputPrepend",
     "outputPrepend",
     "outputPrepend",
     "outputPrepend",
     "outputPrepend",
     "outputPrepend",
     "outputPrepend",
     "outputPrepend",
     "outputPrepend",
     "outputPrepend",
     "outputPrepend",
     "outputPrepend",
     "outputPrepend",
     "outputPrepend",
     "outputPrepend",
     "outputPrepend",
     "outputPrepend",
     "outputPrepend",
     "outputPrepend",
     "outputPrepend",
     "outputPrepend",
     "outputPrepend",
     "outputPrepend",
     "outputPrepend",
     "outputPrepend",
     "outputPrepend",
     "outputPrepend",
     "outputPrepend",
     "outputPrepend",
     "outputPrepend",
     "outputPrepend",
     "outputPrepend",
     "outputPrepend",
     "outputPrepend",
     "outputPrepend",
     "outputPrepend",
     "outputPrepend",
     "outputPrepend",
     "outputPrepend",
     "outputPrepend",
     "outputPrepend",
     "outputPrepend",
     "outputPrepend",
     "outputPrepend",
     "outputPrepend",
     "outputPrepend",
     "outputPrepend",
     "outputPrepend",
     "outputPrepend",
     "outputPrepend",
     "outputPrepend",
     "outputPrepend",
     "outputPrepend",
     "outputPrepend",
     "outputPrepend",
     "outputPrepend"
    ]
   },
   "outputs": [
    {
     "output_type": "stream",
     "name": "stdout",
     "text": "{\"Elevation\": [2814], \"Aspect\": [55], \"Slope\": [17], \"Horizontal_Distance_To_Hydrology\": [30], \"Vertical_Distance_To_Hydrology\": [8], \"Horizontal_Distance_To_Roadways\": [2483], \"Hillshade_9am\": [228], \"Hillshade_Noon\": [201], \"Hillshade_3pm\": [100], \"Horizontal_Distance_To_Fire_Points\": [2727], \"Wilderness_Area\": [\"Rawah\"], \"Soil_Type\": [\"7202\"], \"Cover_Type\": [1]}\n{\"Elevation\": [2903], \"Aspect\": [149], \"Slope\": [4], \"Horizontal_Distance_To_Hydrology\": [108], \"Vertical_Distance_To_Hydrology\": [7], \"Horizontal_Distance_To_Roadways\": [5148], \"Hillshade_9am\": [225], \"Hillshade_Noon\": [239], \"Hillshade_3pm\": [149], \"Horizontal_Distance_To_Fire_Points\": [4713], \"Wilderness_Area\": [\"Rawah\"], \"Soil_Type\": [\"6101\"], \"Cover_Type\": [1]}\n{\"Elevation\": [3338], \"Aspect\": [236], \"Slope\": [10], \"Horizontal_Distance_To_Hydrology\": [300], \"Vertical_Distance_To_Hydrology\": [27], \"Horizontal_Distance_To_Roadways\": [1008], \"Hillshade_9am\": [202], \"Hillshade_Noon\": [249], \"Hillshade_3pm\": [184], \"Horizontal_Distance_To_Fire_Points\": [1620], \"Wilderness_Area\": [\"Commanche\"], \"Soil_Type\": [\"7756\"], \"Cover_Type\": [0]}\n{\"Elevation\": [3305], \"Aspect\": [153], \"Slope\": [20], \"Horizontal_Distance_To_Hydrology\": [60], \"Vertical_Distance_To_Hydrology\": [9], \"Horizontal_Distance_To_Roadways\": [2353], \"Hillshade_9am\": [240], \"Hillshade_Noon\": [237], \"Hillshade_3pm\": [118], \"Horizontal_Distance_To_Fire_Points\": [324], \"Wilderness_Area\": [\"Commanche\"], \"Soil_Type\": [\"8703\"], \"Cover_Type\": [6]}\n{\"Elevation\": [2788], \"Aspect\": [107], \"Slope\": [7], \"Horizontal_Distance_To_Hydrology\": [0], \"Vertical_Distance_To_Hydrology\": [0], \"Horizontal_Distance_To_Roadways\": [2533], \"Hillshade_9am\": [233], \"Hillshade_Noon\": [232], \"Hillshade_3pm\": [131], \"Horizontal_Distance_To_Fire_Points\": [3896], \"Wilderness_Area\": [\"Rawah\"], \"Soil_Type\": [\"7202\"], \"Cover_Type\": [1]}\n{\"Elevation\": [2609], \"Aspect\": [101], \"Slope\": [35], \"Horizontal_Distance_To_Hydrology\": [170], \"Vertical_Distance_To_Hydrology\": [68], \"Horizontal_Distance_To_Roadways\": [1050], \"Hillshade_9am\": [252], \"Hillshade_Noon\": [172], \"Hillshade_3pm\": [17], \"Horizontal_Distance_To_Fire_Points\": [624], \"Wilderness_Area\": [\"Commanche\"], \"Soil_Type\": [\"4758\"], \"Cover_Type\": [2]}\n{\"Elevation\": [3175], \"Aspect\": [38], \"Slope\": [10], \"Horizontal_Distance_To_Hydrology\": [210], \"Vertical_Distance_To_Hydrology\": [38], \"Horizontal_Distance_To_Roadways\": [1537], \"Hillshade_9am\": [220], \"Hillshade_Noon\": [217], \"Hillshade_3pm\": [131], \"Horizontal_Distance_To_Fire_Points\": [95], \"Wilderness_Area\": [\"Rawah\"], \"Soil_Type\": [\"7201\"], \"Cover_Type\": [0]}\n{\"Elevation\": [2606], \"Aspect\": [253], \"Slope\": [7], \"Horizontal_Distance_To_Hydrology\": [417], \"Vertical_Distance_To_Hydrology\": [135], \"Horizontal_Distance_To_Roadways\": [547], \"Hillshade_9am\": [204], \"Hillshade_Noon\": [245], \"Hillshade_3pm\": [179], \"Horizontal_Distance_To_Fire_Points\": [503], \"Wilderness_Area\": [\"Commanche\"], \"Soil_Type\": [\"2703\"], \"Cover_Type\": [2]}\n{\"Elevation\": [2945], \"Aspect\": [90], \"Slope\": [3], \"Horizontal_Distance_To_Hydrology\": [240], \"Vertical_Distance_To_Hydrology\": [78], \"Horizontal_Distance_To_Roadways\": [600], \"Hillshade_9am\": [224], \"Hillshade_Noon\": [234], \"Hillshade_3pm\": [146], \"Horizontal_Distance_To_Fire_Points\": [1803], \"Wilderness_Area\": [\"Commanche\"], \"Soil_Type\": [\"7756\"], \"Cover_Type\": [0]}\n{\"Elevation\": [3195], \"Aspect\": [119], \"Slope\": [14], \"Horizontal_Distance_To_Hydrology\": [339], \"Vertical_Distance_To_Hydrology\": [10], \"Horizontal_Distance_To_Roadways\": [658], \"Hillshade_9am\": [244], \"Hillshade_Noon\": [227], \"Hillshade_3pm\": [108], \"Horizontal_Distance_To_Fire_Points\": [942], \"Wilderness_Area\": [\"Neota\"], \"Soil_Type\": [\"7756\"], \"Cover_Type\": [1]}\n"
    }
   ],
   "source": [
    "!head {JSON_DATA_FILE}"
   ]
  },
  {
   "cell_type": "code",
   "execution_count": 34,
   "metadata": {},
   "outputs": [
    {
     "output_type": "stream",
     "name": "stdout",
     "text": "75000\n"
    }
   ],
   "source": [
    "!cat {JSON_DATA_FILE} | wc -l"
   ]
  },
  {
   "cell_type": "code",
   "execution_count": 35,
   "metadata": {},
   "outputs": [
    {
     "output_type": "execute_result",
     "data": {
      "text/plain": "75000"
     },
     "metadata": {},
     "execution_count": 35
    }
   ],
   "source": [
    "len(df)"
   ]
  },
  {
   "cell_type": "code",
   "execution_count": 2,
   "metadata": {},
   "outputs": [],
   "source": [
    "def my_iterator(l1):\n",
    "    for item in l1:\n",
    "        yield item"
   ]
  },
  {
   "cell_type": "code",
   "execution_count": null,
   "metadata": {},
   "outputs": [],
   "source": []
  },
  {
   "cell_type": "code",
   "execution_count": 18,
   "metadata": {},
   "outputs": [],
   "source": [
    "l1 = [1, 2, 3]"
   ]
  },
  {
   "cell_type": "code",
   "execution_count": 19,
   "metadata": {},
   "outputs": [],
   "source": [
    "iter1 = my_iterator(l1)"
   ]
  },
  {
   "cell_type": "code",
   "execution_count": 20,
   "metadata": {},
   "outputs": [
    {
     "output_type": "execute_result",
     "data": {
      "text/plain": "generator"
     },
     "metadata": {},
     "execution_count": 20
    }
   ],
   "source": [
    "type(iter1)"
   ]
  },
  {
   "cell_type": "code",
   "execution_count": 22,
   "metadata": {},
   "outputs": [
    {
     "output_type": "execute_result",
     "data": {
      "text/plain": "2"
     },
     "metadata": {},
     "execution_count": 22
    }
   ],
   "source": [
    "next(iter1)"
   ]
  },
  {
   "cell_type": "code",
   "execution_count": 16,
   "metadata": {},
   "outputs": [
    {
     "output_type": "error",
     "ename": "AttributeError",
     "evalue": "'generator' object has no attribute 'next'",
     "traceback": [
      "\u001b[0;31m---------------------------------------------------------------------------\u001b[0m",
      "\u001b[0;31mAttributeError\u001b[0m                            Traceback (most recent call last)",
      "\u001b[0;32m<ipython-input-16-e97a0f4742ad>\u001b[0m in \u001b[0;36m<module>\u001b[0;34m\u001b[0m\n\u001b[0;32m----> 1\u001b[0;31m \u001b[0mm\u001b[0m\u001b[0;34m.\u001b[0m\u001b[0mnext\u001b[0m\u001b[0;34m(\u001b[0m\u001b[0;34m)\u001b[0m\u001b[0;34m\u001b[0m\u001b[0;34m\u001b[0m\u001b[0m\n\u001b[0m",
      "\u001b[0;31mAttributeError\u001b[0m: 'generator' object has no attribute 'next'"
     ]
    }
   ],
   "source": [
    "m.next()"
   ]
  },
  {
   "cell_type": "code",
   "execution_count": 1,
   "metadata": {},
   "outputs": [],
   "source": [
    "import tensorflow_data_validation as tfdv"
   ]
  },
  {
   "cell_type": "code",
   "execution_count": 2,
   "metadata": {},
   "outputs": [
    {
     "output_type": "execute_result",
     "data": {
      "text/plain": "'0.22.0'"
     },
     "metadata": {},
     "execution_count": 2
    }
   ],
   "source": [
    "tfdv.__version__"
   ]
  },
  {
   "cell_type": "code",
   "execution_count": 6,
   "metadata": {},
   "outputs": [],
   "source": [
    "file = '/home/jarekk/ttt/test.tfrecords'"
   ]
  },
  {
   "cell_type": "code",
   "execution_count": 7,
   "metadata": {},
   "outputs": [
    {
     "output_type": "stream",
     "name": "stdout",
     "text": "/home/jarekk/ttt/test.tfrecords\n"
    }
   ],
   "source": [
    "!ls {file}"
   ]
  },
  {
   "cell_type": "code",
   "execution_count": 8,
   "metadata": {},
   "outputs": [
    {
     "output_type": "stream",
     "name": "stderr",
     "text": "WARNING:apache_beam.runners.interactive.interactive_environment:Dependencies required for Interactive Beam PCollection visualization are not available, please use: `pip install apache-beam[interactive]` to install necessary dependencies to enable all data visualization features.\nWARNING:apache_beam.io.tfrecordio:Couldn't find python-snappy so the implementation of _TFRecordUtil._masked_crc32c is not as fast as it could be.\nWARNING:tensorflow:From /opt/conda/lib/python3.7/site-packages/tensorflow_data_validation/utils/stats_util.py:227: tf_record_iterator (from tensorflow.python.lib.io.tf_record) is deprecated and will be removed in a future version.\nInstructions for updating:\nUse eager execution and: \n`tf.data.TFRecordDataset(path)`\nWARNING:tensorflow:From /opt/conda/lib/python3.7/site-packages/tensorflow_data_validation/utils/stats_util.py:227: tf_record_iterator (from tensorflow.python.lib.io.tf_record) is deprecated and will be removed in a future version.\nInstructions for updating:\nUse eager execution and: \n`tf.data.TFRecordDataset(path)`\n"
    }
   ],
   "source": [
    "stats = tfdv.generate_statistics_from_tfrecord(\n",
    "    data_location=file) "
   ]
  },
  {
   "cell_type": "code",
   "execution_count": 9,
   "metadata": {},
   "outputs": [
    {
     "output_type": "execute_result",
     "data": {
      "text/plain": " high_value: 3328.0\n          sample_count: 106.54709217391301\n        }\n        buckets {\n          low_value: 3328.0\n          high_value: 3987.6000000000004\n          sample_count: 68.24806782608697\n        }\n        buckets {\n          low_value: 3987.6000000000004\n          high_value: 4647.2\n          sample_count: 64.71106095238092\n        }\n        buckets {\n          low_value: 4647.2\n          high_value: 5306.8\n          sample_count: 61.25463722943723\n        }\n        buckets {\n          low_value: 5306.8\n          high_value: 5966.400000000001\n          sample_count: 45.49570312965722\n        }\n        buckets {\n          low_value: 5966.400000000001\n          high_value: 6626.0\n          sample_count: 17.74387868852458\n        }\n      }\n      histograms {\n        buckets {\n          low_value: 30.0\n          high_value: 576.0\n          sample_count: 101.1\n        }\n        buckets {\n          low_value: 576.0\n          high_value: 938.0\n          sample_count: 101.1\n        }\n        buckets {\n          low_value: 938.0\n          high_value: 1253.0\n          sample_count: 101.1\n        }\n        buckets {\n          low_value: 1253.0\n          high_value: 1593.0\n          sample_count: 101.1\n        }\n        buckets {\n          low_value: 1593.0\n          high_value: 2068.0\n          sample_count: 101.1\n        }\n        buckets {\n          low_value: 2068.0\n          high_value: 2518.0\n          sample_count: 101.1\n        }\n        buckets {\n          low_value: 2518.0\n          high_value: 3019.0\n          sample_count: 101.1\n        }\n        buckets {\n          low_value: 3019.0\n          high_value: 3810.0\n          sample_count: 101.1\n        }\n        buckets {\n          low_value: 3810.0\n          high_value: 4883.0\n          sample_count: 101.1\n        }\n        buckets {\n          low_value: 4883.0\n          high_value: 6626.0\n          sample_count: 101.1\n        }\n        type: QUANTILES\n      }\n    }\n    path {\n      step: \"Horizontal_Distance_To_Roadways\"\n    }\n  }\n  features {\n    num_stats {\n      common_stats {\n        num_non_missing: 1011\n        min_num_values: 1\n        max_num_values: 1\n        avg_num_values: 1.0\n        num_values_histogram {\n          buckets {\n            low_value: 1.0\n            high_value: 1.0\n            sample_count: 101.1\n          }\n          buckets {\n            low_value: 1.0\n            high_value: 1.0\n            sample_count: 101.1\n          }\n          buckets {\n            low_value: 1.0\n            high_value: 1.0\n            sample_count: 101.1\n          }\n          buckets {\n            low_value: 1.0\n            high_value: 1.0\n            sample_count: 101.1\n          }\n          buckets {\n            low_value: 1.0\n            high_value: 1.0\n            sample_count: 101.1\n          }\n          buckets {\n            low_value: 1.0\n            high_value: 1.0\n            sample_count: 101.1\n          }\n          buckets {\n            low_value: 1.0\n            high_value: 1.0\n            sample_count: 101.1\n          }\n          buckets {\n            low_value: 1.0\n            high_value: 1.0\n            sample_count: 101.1\n          }\n          buckets {\n            low_value: 1.0\n            high_value: 1.0\n            sample_count: 101.1\n          }\n          buckets {\n            low_value: 1.0\n            high_value: 1.0\n            sample_count: 101.1\n          }\n          type: QUANTILES\n        }\n        tot_num_values: 1011\n      }\n      mean: 14.02868447082097\n      std_dev: 7.572280658576478\n      min: 1.0\n      median: 13.0\n      max: 46.0\n      histograms {\n        buckets {\n          low_value: 1.0\n          high_value: 5.5\n          sample_count: 108.68249999999999\n        }\n        buckets {\n          low_value: 5.5\n          high_value: 10.0\n          sample_count: 209.7825\n        }\n        buckets {\n          low_value: 10.0\n          high_value: 14.5\n          sample_count: 274.4865\n        }\n        buckets {\n          low_value: 14.5\n          high_value: 19.0\n          sample_count: 176.4195\n        }\n        buckets {\n          low_value: 19.0\n          high_value: 23.5\n          sample_count: 122.83649999999999\n        }\n        buckets {\n          low_value: 23.5\n          high_value: 28.0\n          sample_count: 53.07749999999999\n        }\n        buckets {\n          low_value: 28.0\n          high_value: 32.5\n          sample_count: 41.95649999999999\n        }\n        buckets {\n          low_value: 32.5\n          high_value: 37.0\n          sample_count: 17.6925\n        }\n        buckets {\n          low_value: 37.0\n          high_value: 41.5\n          sample_count: 5.3077499999999995\n        }\n        buckets {\n          low_value: 41.5\n          high_value: 46.0\n          sample_count: 0.7582499999999999\n        }\n      }\n      histograms {\n        buckets {\n          low_value: 1.0\n          high_value: 5.0\n          sample_count: 101.1\n        }\n        buckets {\n          low_value: 5.0\n          high_value: 8.0\n          sample_count: 101.1\n        }\n        buckets {\n          low_value: 8.0\n          high_value: 9.0\n          sample_count: 101.1\n        }\n        buckets {\n          low_value: 9.0\n          high_value: 11.0\n          sample_count: 101.1\n        }\n        buckets {\n          low_value: 11.0\n          high_value: 13.0\n          sample_count: 101.1\n        }\n        buckets {\n          low_value: 13.0\n          high_value: 15.0\n          sample_count: 101.1\n        }\n        buckets {\n          low_value: 15.0\n          high_value: 17.0\n          sample_count: 101.1\n        }\n        buckets {\n          low_value: 17.0\n          high_value: 20.0\n          sample_count: 101.1\n        }\n        buckets {\n          low_value: 20.0\n          high_value: 25.0\n          sample_count: 101.1\n        }\n        buckets {\n          low_value: 25.0\n          high_value: 46.0\n          sample_count: 101.1\n        }\n        type: QUANTILES\n      }\n    }\n    path {\n      step: \"Slope\"\n    }\n  }\n  features {\n    type: STRING\n    string_stats {\n      common_stats {\n        num_non_missing: 1011\n        min_num_values: 1\n        max_num_values: 1\n        avg_num_values: 1.0\n        num_values_histogram {\n          buckets {\n            low_value: 1.0\n            high_value: 1.0\n            sample_count: 101.1\n          }\n          buckets {\n            low_value: 1.0\n            high_value: 1.0\n            sample_count: 101.1\n          }\n          buckets {\n            low_value: 1.0\n            high_value: 1.0\n            sample_count: 101.1\n          }\n          buckets {\n            low_value: 1.0\n            high_value: 1.0\n            sample_count: 101.1\n          }\n          buckets {\n            low_value: 1.0\n            high_value: 1.0\n            sample_count: 101.1\n          }\n          buckets {\n            low_value: 1.0\n            high_value: 1.0\n            sample_count: 101.1\n          }\n          buckets {\n            low_value: 1.0\n            high_value: 1.0\n            sample_count: 101.1\n          }\n          buckets {\n            low_value: 1.0\n            high_value: 1.0\n            sample_count: 101.1\n          }\n          buckets {\n            low_value: 1.0\n            high_value: 1.0\n            sample_count: 101.1\n          }\n          buckets {\n            low_value: 1.0\n            high_value: 1.0\n            sample_count: 101.1\n          }\n          type: QUANTILES\n        }\n        tot_num_values: 1011\n      }\n      unique: 35\n      top_values {\n        value: \"7745\"\n        frequency: 225.0\n      }\n      top_values {\n        value: \"7202\"\n        frequency: 98.0\n      }\n      top_values {\n        value: \"7756\"\n        frequency: 93.0\n      }\n      top_values {\n        value: \"7757\"\n        frequency: 73.0\n      }\n      top_values {\n        value: \"4703\"\n        frequency: 62.0\n      }\n      top_values {\n        value: \"7201\"\n        frequency: 60.0\n      }\n      top_values {\n        value: \"4744\"\n        frequency: 50.0\n      }\n      top_values {\n        value: \"7746\"\n        frequency: 49.0\n      }\n      top_values {\n        value: \"7755\"\n        frequency: 46.0\n      }\n      top_values {\n        value: \"8771\"\n        frequency: 31.0\n      }\n      top_values {\n        value: \"4758\"\n        frequency: 29.0\n      }\n      top_values {\n        value: \"7700\"\n        frequency: 26.0\n      }\n      top_values {\n        value: \"4704\"\n        frequency: 23.0\n      }\n      top_values {\n        value: \"2705\"\n        frequency: 21.0\n      }\n      top_values {\n        value: \"8772\"\n        frequency: 19.0\n      }\n      top_values {\n        value: \"2703\"\n        frequency: 14.0\n      }\n      top_values {\n        value: \"2717\"\n        frequency: 12.0\n      }\n      top_values {\n        value: \"8776\"\n        frequency: 11.0\n      }\n      top_values {\n        value: \"7102\"\n        frequency: 10.0\n      }\n      top_values {\n        value: \"6101\"\n        frequency: 9.0\n      }\n      avg_length: 4.0\n      rank_histogram {\n        buckets {\n          label: \"7745\"\n          sample_count: 225.0\n        }\n        buckets {\n          low_rank: 1\n          high_rank: 1\n          label: \"7202\"\n          sample_count: 98.0\n        }\n        buckets {\n          low_rank: 2\n          high_rank: 2\n          label: \"7756\"\n          sample_count: 93.0\n        }\n        buckets {\n          low_rank: 3\n          high_rank: 3\n          label: \"7757\"\n          sample_count: 73.0\n        }\n        buckets {\n          low_rank: 4\n          high_rank: 4\n          label: \"4703\"\n          sample_count: 62.0\n        }\n        buckets {\n          low_rank: 5\n          high_rank: 5\n          label: \"7201\"\n          sample_count: 60.0\n        }\n        buckets {\n          low_rank: 6\n          high_rank: 6\n          label: \"4744\"\n          sample_count: 50.0\n        }\n        buckets {\n          low_rank: 7\n          high_rank: 7\n          label: \"7746\"\n          sample_count: 49.0\n        }\n        buckets {\n          low_rank: 8\n          high_rank: 8\n          label: \"7755\"\n          sample_count: 46.0\n        }\n        buckets {\n          low_rank: 9\n          high_rank: 9\n          label: \"8771\"\n          sample_count: 31.0\n        }\n        buckets {\n          low_rank: 10\n          high_rank: 10\n          label: \"4758\"\n          sample_count: 29.0\n        }\n        buckets {\n          low_rank: 11\n          high_rank: 11\n          label: \"7700\"\n          sample_count: 26.0\n        }\n        buckets {\n          low_rank: 12\n          high_rank: 12\n          label: \"4704\"\n          sample_count: 23.0\n        }\n        buckets {\n          low_rank: 13\n          high_rank: 13\n          label: \"2705\"\n          sample_count: 21.0\n        }\n        buckets {\n          low_rank: 14\n          high_rank: 14\n          label: \"8772\"\n          sample_count: 19.0\n        }\n        buckets {\n          low_rank: 15\n          high_rank: 15\n          label: \"2703\"\n          sample_count: 14.0\n        }\n        buckets {\n          low_rank: 16\n          high_rank: 16\n          label: \"2717\"\n          sample_count: 12.0\n        }\n        buckets {\n          low_rank: 17\n          high_rank: 17\n          label: \"8776\"\n          sample_count: 11.0\n        }\n        buckets {\n          low_rank: 18\n          high_rank: 18\n          label: \"7102\"\n          sample_count: 10.0\n        }\n        buckets {\n          low_rank: 19\n          high_rank: 19\n          label: \"6101\"\n          sample_count: 9.0\n        }\n        buckets {\n          low_rank: 20\n          high_rank: 20\n          label: \"6102\"\n          sample_count: 6.0\n        }\n        buckets {\n          low_rank: 21\n          high_rank: 21\n          label: \"8703\"\n          sample_count: 5.0\n        }\n        buckets {\n          low_rank: 22\n          high_rank: 22\n          label: \"2704\"\n          sample_count: 5.0\n        }\n        buckets {\n          low_rank: 23\n          high_rank: 23\n          label: \"2702\"\n          sample_count: 5.0\n        }\n        buckets {\n          low_rank: 24\n          high_rank: 24\n          label: \"7702\"\n          sample_count: 4.0\n        }\n        buckets {\n          low_rank: 25\n          high_rank: 25\n          label: \"7101\"\n          sample_count: 4.0\n        }\n        buckets {\n          low_rank: 26\n          high_rank: 26\n          label: \"6731\"\n          sample_count: 4.0\n        }\n        buckets {\n          low_rank: 27\n          high_rank: 27\n          label: \"4201\"\n          sample_count: 4.0\n        }\n        buckets {\n          low_rank: 28\n          high_rank: 28\n          label: \"8707\"\n          sample_count: 2.0\n        }\n        buckets {\n          low_rank: 29\n          high_rank: 29\n          label: \"7790\"\n          sample_count: 2.0\n        }\n        buckets {\n          low_rank: 30\n          high_rank: 30\n          label: \"7710\"\n          sample_count: 2.0\n        }\n        buckets {\n          low_rank: 31\n          high_rank: 31\n          label: \"7103\"\n          sample_count: 2.0\n        }\n        buckets {\n          low_rank: 32\n          high_rank: 32\n          label: \"5101\"\n          sample_count: 2.0\n        }\n        buckets {\n          low_rank: 33\n          high_rank: 33\n          label: \"2706\"\n          sample_count: 2.0\n        }\n        buckets {\n          low_rank: 34\n          high_rank: 34\n          label: \"7701\"\n          sample_count: 1.0\n        }\n      }\n    }\n    path {\n      step: \"Soil_Type\"\n    }\n  }\n  features {\n    num_stats {\n      common_stats {\n        num_non_missing: 1011\n        min_num_values: 1\n        max_num_values: 1\n        avg_num_values: 1.0\n        num_values_histogram {\n          buckets {\n            low_value: 1.0\n            high_value: 1.0\n            sample_count: 101.1\n          }\n          buckets {\n            low_value: 1.0\n            high_value: 1.0\n            sample_count: 101.1\n          }\n          buckets {\n            low_value: 1.0\n            high_value: 1.0\n            sample_count: 101.1\n          }\n          buckets {\n            low_value: 1.0\n            high_value: 1.0\n            sample_count: 101.1\n          }\n          buckets {\n            low_value: 1.0\n            high_value: 1.0\n            sample_count: 101.1\n          }\n          buckets {\n            low_value: 1.0\n            high_value: 1.0\n            sample_count: 101.1\n          }\n          buckets {\n            low_value: 1.0\n            high_value: 1.0\n            sample_count: 101.1\n          }\n          buckets {\n            low_value: 1.0\n            high_value: 1.0\n            sample_count: 101.1\n          }\n          buckets {\n            low_value: 1.0\n            high_value: 1.0\n            sample_count: 101.1\n          }\n          buckets {\n            low_value: 1.0\n            high_value: 1.0\n            sample_count: 101.1\n          }\n          type: QUANTILES\n        }\n        tot_num_values: 1011\n      }\n      mean: 46.83086053412463\n      std_dev: 59.002909257443164\n      num_zeros: 56\n      min: -82.0\n      median: 30.0\n      max: 414.0\n      histograms {\n        buckets {\n          low_value: -82.0\n          high_value: -32.4\n          sample_count: 15.097599999999998\n        }\n        buckets {\n          low_value: -32.4\n          high_value: 17.200000000000003\n          sample_count: 352.09759999999994\n        }\n        buckets {\n          low_value: 17.200000000000003\n          high_value: 66.80000000000001\n          sample_count: 387.8196\n        }\n        buckets {\n          low_value: 66.80000000000001\n          high_value: 116.4\n          sample_count: 147.20159999999998\n        }\n        buckets {\n          low_value: 116.4\n          high_value: 166.0\n          sample_count: 53.68409999999998\n        }\n        buckets {\n          low_value: 166.0\n          high_value: 215.60000000000002\n          sample_count: 35.44566\n        }\n        buckets {\n          low_value: 215.60000000000002\n          high_value: 265.2\n          sample_count: 11.994028235294113\n        }\n        buckets {\n          low_value: 265.2\n          high_value: 314.8\n          sample_count: 2.3813275541795678\n        }\n        buckets {\n          low_value: 314.8\n          high_value: 364.40000000000003\n          sample_count: 4.275572210526316\n        }\n        buckets {\n          low_value: 364.40000000000003\n          high_value: 414.0\n          sample_count: 1.0029119999999991\n        }\n      }\n      histograms {\n        buckets {\n          low_value: -82.0\n          sample_count: 101.1\n        }\n        buckets {\n          high_value: 5.0\n          sample_count: 101.1\n        }\n        buckets {\n          low_value: 5.0\n          high_value: 12.0\n          sample_count: 101.1\n        }\n        buckets {\n          low_value: 12.0\n          high_value: 21.0\n          sample_count: 101.1\n        }\n        buckets {\n          low_value: 21.0\n          high_value: 30.0\n          sample_count: 101.1\n        }\n        buckets {\n          low_value: 30.0\n          high_value: 41.0\n          sample_count: 101.1\n        }\n        buckets {\n          low_value: 41.0\n          high_value: 57.0\n          sample_count: 101.1\n        }\n        buckets {\n          low_value: 57.0\n          high_value: 80.0\n          sample_count: 101.1\n        }\n        buckets {\n          low_value: 80.0\n          high_value: 120.0\n          sample_count: 101.1\n        }\n        buckets {\n          low_value: 120.0\n          high_value: 414.0\n          sample_count: 101.1\n        }\n        type: QUANTILES\n      }\n    }\n    path {\n      step: \"Vertical_Distance_To_Hydrology\"\n    }\n  }\n  features {\n    type: STRING\n    string_stats {\n      common_stats {\n        num_non_missing: 1011\n        min_num_values: 1\n        max_num_values: 1\n        avg_num_values: 1.0\n        num_values_histogram {\n          buckets {\n            low_value: 1.0\n            high_value: 1.0\n            sample_count: 101.1\n          }\n          buckets {\n            low_value: 1.0\n            high_value: 1.0\n            sample_count: 101.1\n          }\n          buckets {\n            low_value: 1.0\n            high_value: 1.0\n            sample_count: 101.1\n          }\n          buckets {\n            low_value: 1.0\n            high_value: 1.0\n            sample_count: 101.1\n          }\n          buckets {\n            low_value: 1.0\n            high_value: 1.0\n            sample_count: 101.1\n          }\n          buckets {\n            low_value: 1.0\n            high_value: 1.0\n            sample_count: 101.1\n          }\n          buckets {\n            low_value: 1.0\n            high_value: 1.0\n            sample_count: 101.1\n          }\n          buckets {\n            low_value: 1.0\n            high_value: 1.0\n            sample_count: 101.1\n          }\n          buckets {\n            low_value: 1.0\n            high_value: 1.0\n            sample_count: 101.1\n          }\n          buckets {\n            low_value: 1.0\n            high_value: 1.0\n            sample_count: 101.1\n          }\n          type: QUANTILES\n        }\n        tot_num_values: 1011\n      }\n      unique: 4\n      top_values {\n        value: \"Rawah\"\n        frequency: 462.0\n      }\n      top_values {\n        value: \"Commanche\"\n        frequency: 440.0\n      }\n      top_values {\n        value: \"Cache\"\n        frequency: 62.0\n      }\n      top_values {\n        value: \"Neota\"\n        frequency: 47.0\n      }\n      avg_length: 6.740850448608398\n      rank_histogram {\n        buckets {\n          label: \"Rawah\"\n          sample_count: 462.0\n        }\n        buckets {\n          low_rank: 1\n          high_rank: 1\n          label: \"Commanche\"\n          sample_count: 440.0\n        }\n        buckets {\n          low_rank: 2\n          high_rank: 2\n          label: \"Cache\"\n          sample_count: 62.0\n        }\n        buckets {\n          low_rank: 3\n          high_rank: 3\n          label: \"Neota\"\n          sample_count: 47.0\n        }\n      }\n    }\n    path {\n      step: \"Wilderness_Area\"\n    }\n  }\n}"
     },
     "metadata": {},
     "execution_count": 9
    }
   ],
   "source": [
    "stats"
   ]
  },
  {
   "cell_type": "code",
   "execution_count": null,
   "metadata": {},
   "outputs": [],
   "source": []
  }
 ],
 "metadata": {
  "language_info": {
   "codemirror_mode": {
    "name": "ipython",
    "version": 3
   },
   "file_extension": ".py",
   "mimetype": "text/x-python",
   "name": "python",
   "nbconvert_exporter": "python",
   "pygments_lexer": "ipython3",
   "version": "3.7.6-final"
  },
  "orig_nbformat": 2,
  "kernelspec": {
   "name": "python3",
   "display_name": "Python 3"
  }
 },
 "nbformat": 4,
 "nbformat_minor": 2
}